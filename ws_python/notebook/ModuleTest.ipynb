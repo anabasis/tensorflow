{
 "cells": [
  {
   "cell_type": "code",
   "execution_count": 1,
   "metadata": {},
   "outputs": [
    {
     "name": "stdout",
     "output_type": "stream",
     "text": [
      "Once deleted, variables cannot be recovered. Proceed (y/[n])? y\n"
     ]
    }
   ],
   "source": [
    "%reset\n",
    "# 변수 삭제\n",
    "# 메모리에 loading된 라이브러리(module,python file)의 삭제는 Kernel restart"
   ]
  },
  {
   "cell_type": "code",
   "execution_count": 2,
   "metadata": {},
   "outputs": [],
   "source": [
    "import time"
   ]
  },
  {
   "cell_type": "code",
   "execution_count": 3,
   "metadata": {},
   "outputs": [
    {
     "name": "stdout",
     "output_type": "stream",
     "text": [
      "계속실행\n"
     ]
    }
   ],
   "source": [
    "time.sleep(5) # 5초\n",
    "print('계속실행')"
   ]
  },
  {
   "cell_type": "code",
   "execution_count": 4,
   "metadata": {},
   "outputs": [
    {
     "name": "stdout",
     "output_type": "stream",
     "text": [
      "10000\n"
     ]
    }
   ],
   "source": [
    "import module.Lib # 패키지와 모듈명의 선언\n",
    "print(module.Lib.absolute(-10000))"
   ]
  },
  {
   "cell_type": "code",
   "execution_count": 5,
   "metadata": {},
   "outputs": [
    {
     "name": "stdout",
     "output_type": "stream",
     "text": [
      "10000\n"
     ]
    }
   ],
   "source": [
    "import module.Lib as lib # 패키지와 모듈명의 선언\n",
    "print(lib.absolute(-10000))"
   ]
  },
  {
   "cell_type": "code",
   "execution_count": 6,
   "metadata": {},
   "outputs": [
    {
     "name": "stdout",
     "output_type": "stream",
     "text": [
      "100\n"
     ]
    }
   ],
   "source": [
    "from module.Lib import * # 패키지.모듈명의 모든 함수 import\n",
    "print(absolute(-100))"
   ]
  },
  {
   "cell_type": "code",
   "execution_count": 7,
   "metadata": {},
   "outputs": [
    {
     "name": "stdout",
     "output_type": "stream",
     "text": [
      "100\n"
     ]
    }
   ],
   "source": [
    "from module.Lib import absolute # 패키지.모듈명의 특정 함수만 import\n",
    "print(absolute(-100))"
   ]
  },
  {
   "cell_type": "code",
   "execution_count": 8,
   "metadata": {},
   "outputs": [],
   "source": [
    "from module.tool.Math import *"
   ]
  },
  {
   "cell_type": "code",
   "execution_count": 9,
   "metadata": {},
   "outputs": [
    {
     "name": "stdout",
     "output_type": "stream",
     "text": [
      "11\n",
      "60\n"
     ]
    }
   ],
   "source": [
    "print(roundsu(10.5))\n",
    "print(tot(10,20,30))"
   ]
  },
  {
   "cell_type": "code",
   "execution_count": 10,
   "metadata": {},
   "outputs": [],
   "source": [
    "import module.tool.Tool"
   ]
  },
  {
   "cell_type": "code",
   "execution_count": 11,
   "metadata": {},
   "outputs": [
    {
     "name": "stdout",
     "output_type": "stream",
     "text": [
      "200\n",
      "100\n"
     ]
    }
   ],
   "source": [
    "print(module.tool.Tool.maxsu(100,200))\n",
    "print(module.tool.Tool.minsu(100,200))"
   ]
  },
  {
   "cell_type": "code",
   "execution_count": 12,
   "metadata": {},
   "outputs": [
    {
     "name": "stdout",
     "output_type": "stream",
     "text": [
      "1000 2000\n",
      "2000 1000\n"
     ]
    }
   ],
   "source": [
    "su1 = 1000\n",
    "su2 = 2000\n",
    "print(\"{0} {1}\".format(su1,su2))\n",
    "su1 , su2 = module.tool.Tool.swap(su1,su2)\n",
    "print(\"{0} {1}\".format(su1,su2))"
   ]
  },
  {
   "cell_type": "code",
   "execution_count": 35,
   "metadata": {},
   "outputs": [],
   "source": [
    "import module.tool.Tool as tool"
   ]
  },
  {
   "cell_type": "code",
   "execution_count": 37,
   "metadata": {},
   "outputs": [
    {
     "name": "stdout",
     "output_type": "stream",
     "text": [
      "200\n",
      "100\n",
      "1000 2000\n",
      "2000 1000\n"
     ]
    }
   ],
   "source": [
    "print(tool.maxsu(100,200))\n",
    "print(tool.minsu(100,200))\n",
    "su1 = 1000\n",
    "su2 = 2000\n",
    "print(\"{0} {1}\".format(su1,su2))\n",
    "su1 , su2 = tool.swap(su1,su2)\n",
    "print(\"{0} {1}\".format(su1,su2))"
   ]
  },
  {
   "cell_type": "code",
   "execution_count": 38,
   "metadata": {},
   "outputs": [],
   "source": [
    "from module.tool.Tool import *"
   ]
  },
  {
   "cell_type": "code",
   "execution_count": 39,
   "metadata": {},
   "outputs": [
    {
     "name": "stdout",
     "output_type": "stream",
     "text": [
      "200\n",
      "100\n",
      "1000 2000\n",
      "2000 1000\n"
     ]
    }
   ],
   "source": [
    "print(maxsu(100,200))\n",
    "print(minsu(100,200))\n",
    "su1 = 1000\n",
    "su2 = 2000\n",
    "print(\"{0} {1}\".format(su1,su2))\n",
    "su1 , su2 = swap(su1,su2)\n",
    "print(\"{0} {1}\".format(su1,su2))"
   ]
  },
  {
   "cell_type": "code",
   "execution_count": 40,
   "metadata": {},
   "outputs": [],
   "source": [
    "from module.tool.Tool import maxsu, minsu, swap"
   ]
  },
  {
   "cell_type": "code",
   "execution_count": 41,
   "metadata": {},
   "outputs": [
    {
     "name": "stdout",
     "output_type": "stream",
     "text": [
      "200\n",
      "100\n",
      "1000 2000\n",
      "2000 1000\n"
     ]
    }
   ],
   "source": [
    "print(maxsu(100,200))\n",
    "print(minsu(100,200))\n",
    "su1 = 1000\n",
    "su2 = 2000\n",
    "print(\"{0} {1}\".format(su1,su2))\n",
    "su1 , su2 = swap(su1,su2)\n",
    "print(\"{0} {1}\".format(su1,su2))"
   ]
  },
  {
   "cell_type": "code",
   "execution_count": null,
   "metadata": {},
   "outputs": [],
   "source": []
  }
 ],
 "metadata": {
  "kernelspec": {
   "display_name": "machine",
   "language": "python",
   "name": "machine"
  },
  "language_info": {
   "codemirror_mode": {
    "name": "ipython",
    "version": 3
   },
   "file_extension": ".py",
   "mimetype": "text/x-python",
   "name": "python",
   "nbconvert_exporter": "python",
   "pygments_lexer": "ipython3",
   "version": "3.6.9"
  }
 },
 "nbformat": 4,
 "nbformat_minor": 2
}
