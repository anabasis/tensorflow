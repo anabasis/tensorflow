{
 "cells": [
  {
   "cell_type": "code",
   "execution_count": 22,
   "metadata": {},
   "outputs": [],
   "source": [
    "def movie1(name):  # name 인수\n",
    "    print('영화명:' + name)"
   ]
  },
  {
   "cell_type": "code",
   "execution_count": 23,
   "metadata": {},
   "outputs": [
    {
     "name": "stdout",
     "output_type": "stream",
     "text": [
      "영화명:검은사제들\n"
     ]
    }
   ],
   "source": [
    "movie1('검은사제들')"
   ]
  },
  {
   "cell_type": "code",
   "execution_count": 24,
   "metadata": {},
   "outputs": [],
   "source": [
    "def movie2(name, genre):  # 인수 여러개 사용 가능\n",
    "    print('영화명:' + name)\n",
    "    print('장  르:' + genre)"
   ]
  },
  {
   "cell_type": "code",
   "execution_count": 25,
   "metadata": {},
   "outputs": [
    {
     "name": "stdout",
     "output_type": "stream",
     "text": [
      "영화명:사바하\n",
      "장  르:퇴마\n"
     ]
    }
   ],
   "source": [
    "movie2('사바하','퇴마')"
   ]
  },
  {
   "cell_type": "code",
   "execution_count": 26,
   "metadata": {},
   "outputs": [],
   "source": [
    "def movie3(name, genre, score=5.0):  # 기본값 사용\n",
    "    print('영화명:' + name)\n",
    "    print('장  르:' + genre)  \n",
    "    print('평  점:' + str(score))"
   ]
  },
  {
   "cell_type": "code",
   "execution_count": 27,
   "metadata": {},
   "outputs": [
    {
     "name": "stdout",
     "output_type": "stream",
     "text": [
      "영화명:컨저링\n",
      "장  르:퇴마\n",
      "평  점:5.0\n",
      "영화명:컨저링\n",
      "장  르:퇴마\n",
      "평  점:4.5\n"
     ]
    }
   ],
   "source": [
    "movie3('컨저링','퇴마')\n",
    "movie3('컨저링','퇴마',4.5)"
   ]
  },
  {
   "cell_type": "code",
   "execution_count": 28,
   "metadata": {},
   "outputs": [],
   "source": [
    "def movie4(time, name, genre): \n",
    "    print('영화명:' + name)\n",
    "    print('시간:' + str(time))\n",
    "    print('장  르:' + genre)  "
   ]
  },
  {
   "cell_type": "code",
   "execution_count": 29,
   "metadata": {
    "scrolled": true
   },
   "outputs": [
    {
     "name": "stdout",
     "output_type": "stream",
     "text": [
      "영화명:안시성\n",
      "시간:120\n",
      "장  르:역사\n",
      "영화명:택시운전사\n",
      "시간:130\n",
      "장  르:다라마\n"
     ]
    }
   ],
   "source": [
    "movie4(120,'안시성','역사')\n",
    "movie4(name='택시운전사',time=130,genre='다라마') ## 변수명을 명시했을 때 파라메터 순서의 변경, "
   ]
  },
  {
   "cell_type": "code",
   "execution_count": 32,
   "metadata": {},
   "outputs": [],
   "source": [
    "def movie5(*actors):  # tupe, 가변인자 처리\n",
    "    print(type(actors))\n",
    "    print(actors)"
   ]
  },
  {
   "cell_type": "code",
   "execution_count": 33,
   "metadata": {},
   "outputs": [
    {
     "name": "stdout",
     "output_type": "stream",
     "text": [
      "<class 'tuple'>\n",
      "('조인성', '김태리')\n",
      "<class 'tuple'>\n",
      "('피어스브로스넌', '메릴스트립', '아만다 사이프리드')\n"
     ]
    }
   ],
   "source": [
    "movie5('조인성','김태리')\n",
    "movie5('피어스브로스넌','메릴스트립','아만다 사이프리드')"
   ]
  },
  {
   "cell_type": "code",
   "execution_count": 38,
   "metadata": {},
   "outputs": [],
   "source": [
    "def movie51(name,*actors):  # tupe, 가변인자 처리\n",
    "    print(type(actors))\n",
    "    print(name)\n",
    "    print(actors)"
   ]
  },
  {
   "cell_type": "code",
   "execution_count": 39,
   "metadata": {},
   "outputs": [
    {
     "name": "stdout",
     "output_type": "stream",
     "text": [
      "<class 'tuple'>\n",
      "조인성\n",
      "('김태리', '김태리')\n"
     ]
    }
   ],
   "source": [
    "movie51('조인성','김태리','김태리')"
   ]
  },
  {
   "cell_type": "code",
   "execution_count": 41,
   "metadata": {},
   "outputs": [],
   "source": [
    "def movie6(movie, **actors):  # 고정과 가변인자 병합 처리\n",
    "    print(type(actors))\n",
    "    print(movie)\n",
    "    print(actors)  # Dictionary"
   ]
  },
  {
   "cell_type": "code",
   "execution_count": 44,
   "metadata": {},
   "outputs": [
    {
     "name": "stdout",
     "output_type": "stream",
     "text": [
      "<class 'dict'>\n",
      "인터스텔라\n",
      "{'actor1': '맥커너리', 'actor2': '맥커너리', 'actor3': '맥커너리'}\n"
     ]
    }
   ],
   "source": [
    "movie6('인터스텔라',actor1='맥커너리',actor2='맥커너리',actor3='맥커너리')"
   ]
  },
  {
   "cell_type": "code",
   "execution_count": 49,
   "metadata": {},
   "outputs": [],
   "source": [
    "param=10\n",
    "str1='전역 변수'\n",
    "\n",
    "def fun1():\n",
    "    str1 = '지역 변수'\n",
    "    print(str1)"
   ]
  },
  {
   "cell_type": "code",
   "execution_count": 53,
   "metadata": {},
   "outputs": [
    {
     "name": "stdout",
     "output_type": "stream",
     "text": [
      "지역 변수\n",
      "str1: 전역 변수\n"
     ]
    }
   ],
   "source": [
    "fun1() # 함수의 지역변수 호출\n",
    "print('str1:',str1) # 전역변수 호출"
   ]
  },
  {
   "cell_type": "code",
   "execution_count": 54,
   "metadata": {},
   "outputs": [],
   "source": [
    "def fun2():\n",
    "    global str1# 전역변수로 사용\n",
    "    str1 = '지역 변수'\n",
    "    print(str1)\n",
    "    "
   ]
  },
  {
   "cell_type": "code",
   "execution_count": 58,
   "metadata": {},
   "outputs": [
    {
     "name": "stdout",
     "output_type": "stream",
     "text": [
      "지역 변수\n",
      "str1: 지역 변수\n"
     ]
    }
   ],
   "source": [
    "fun2()\n",
    "print('str1:',str1) # 전역변수 호출"
   ]
  },
  {
   "cell_type": "code",
   "execution_count": 61,
   "metadata": {},
   "outputs": [],
   "source": [
    "def maxno(x,y):\n",
    "    if x > y:\n",
    "        x\n",
    "    else:\n",
    "        y\n",
    "    print(x)"
   ]
  },
  {
   "cell_type": "code",
   "execution_count": 62,
   "metadata": {},
   "outputs": [
    {
     "name": "stdout",
     "output_type": "stream",
     "text": [
      "8\n"
     ]
    }
   ],
   "source": [
    "maxno(8,4)"
   ]
  },
  {
   "cell_type": "code",
   "execution_count": 63,
   "metadata": {},
   "outputs": [],
   "source": [
    "def season(month):\n",
    "    season=''\n",
    "    if month == 1:\n",
    "        season='January'\n",
    "    elif month == 2:\n",
    "        season='February'\n",
    "    elif month == 3:\n",
    "        season=\"March\"\n",
    "    else:\n",
    "        season=\"Only input 1 ~ 3\"\n",
    "    \n",
    "    return season"
   ]
  },
  {
   "cell_type": "code",
   "execution_count": 64,
   "metadata": {},
   "outputs": [
    {
     "name": "stdout",
     "output_type": "stream",
     "text": [
      "March\n"
     ]
    }
   ],
   "source": [
    "print(season(3))"
   ]
  },
  {
   "cell_type": "code",
   "execution_count": 65,
   "metadata": {},
   "outputs": [],
   "source": [
    "def reverse(x,y,z):\n",
    "    return z,y,x # tuple 리턴"
   ]
  },
  {
   "cell_type": "code",
   "execution_count": 69,
   "metadata": {},
   "outputs": [
    {
     "name": "stdout",
     "output_type": "stream",
     "text": [
      "(30, 20, 10)\n"
     ]
    }
   ],
   "source": [
    "ret = reverse(10,20,30) ## 2개 이상의 변수는 tuple 리턴\n",
    "print(ret)"
   ]
  },
  {
   "cell_type": "code",
   "execution_count": 70,
   "metadata": {},
   "outputs": [
    {
     "name": "stdout",
     "output_type": "stream",
     "text": [
      "30 20 10\n"
     ]
    }
   ],
   "source": [
    "r1, r2, r3 = reverse(10,20,30)  # 정수로 리턴 받음\n",
    "print(r1,r2,r3)"
   ]
  },
  {
   "cell_type": "code",
   "execution_count": 85,
   "metadata": {},
   "outputs": [],
   "source": [
    "def data():\n",
    "    return (1,2),'A','B'"
   ]
  },
  {
   "cell_type": "code",
   "execution_count": 86,
   "metadata": {},
   "outputs": [
    {
     "data": {
      "text/plain": [
       "((1, 2), 'A', 'B')"
      ]
     },
     "execution_count": 86,
     "metadata": {},
     "output_type": "execute_result"
    }
   ],
   "source": [
    "data()"
   ]
  },
  {
   "cell_type": "code",
   "execution_count": 87,
   "metadata": {},
   "outputs": [],
   "source": [
    "def data():\n",
    "    return (1,2),('A','B')"
   ]
  },
  {
   "cell_type": "code",
   "execution_count": 88,
   "metadata": {},
   "outputs": [
    {
     "data": {
      "text/plain": [
       "((1, 2), ('A', 'B'))"
      ]
     },
     "execution_count": 88,
     "metadata": {},
     "output_type": "execute_result"
    }
   ],
   "source": [
    "data()"
   ]
  },
  {
   "cell_type": "code",
   "execution_count": 89,
   "metadata": {},
   "outputs": [
    {
     "name": "stdout",
     "output_type": "stream",
     "text": [
      "((1, 2), ('A', 'B'))\n"
     ]
    }
   ],
   "source": [
    "#a,b,c,d = data()  # ERROR\n",
    "ret = data()\n",
    "print(ret)"
   ]
  },
  {
   "cell_type": "code",
   "execution_count": 90,
   "metadata": {},
   "outputs": [
    {
     "name": "stdout",
     "output_type": "stream",
     "text": [
      "1 2 A B\n"
     ]
    }
   ],
   "source": [
    "(a,b),(c,d) = data() # 리턴값의 형태를 지정해야 함\n",
    "print(a,b,c,d)"
   ]
  },
  {
   "cell_type": "code",
   "execution_count": 91,
   "metadata": {},
   "outputs": [
    {
     "name": "stdout",
     "output_type": "stream",
     "text": [
      "<class 'list'>\n",
      "[1, 2, 3]\n"
     ]
    }
   ],
   "source": [
    "def data():\n",
    "    return [1,2,3]\n",
    "\n",
    "ret = data()\n",
    "print(type(ret))\n",
    "print(ret)"
   ]
  },
  {
   "cell_type": "code",
   "execution_count": 92,
   "metadata": {},
   "outputs": [
    {
     "name": "stdout",
     "output_type": "stream",
     "text": [
      "<class 'tuple'>\n",
      "([1, 2, 3], [4, 5, 6])\n",
      "[1, 2, 3]\n",
      "[4, 5, 6]\n"
     ]
    }
   ],
   "source": [
    "def data():\n",
    "    return [1,2,3],[4,5,6]\n",
    "\n",
    "ret = data()\n",
    "print(type(ret))\n",
    "print(ret)\n",
    "print(ret[0])\n",
    "print(ret[1])"
   ]
  },
  {
   "cell_type": "code",
   "execution_count": 93,
   "metadata": {},
   "outputs": [
    {
     "name": "stdout",
     "output_type": "stream",
     "text": [
      "<class 'list'>\n",
      "[1, 2, 3]\n",
      "<class 'list'>\n",
      "[4, 5, 6]\n"
     ]
    }
   ],
   "source": [
    "def data():\n",
    "    return [1,2,3],[4,5,6]\n",
    "\n",
    "ret1,ret2 = data()\n",
    "print(type(ret1))\n",
    "print(ret1)\n",
    "print(type(ret2))\n",
    "print(ret2)\n"
   ]
  },
  {
   "cell_type": "code",
   "execution_count": null,
   "metadata": {},
   "outputs": [],
   "source": []
  }
 ],
 "metadata": {
  "kernelspec": {
   "display_name": "machine",
   "language": "python",
   "name": "machine"
  },
  "language_info": {
   "codemirror_mode": {
    "name": "ipython",
    "version": 3
   },
   "file_extension": ".py",
   "mimetype": "text/x-python",
   "name": "python",
   "nbconvert_exporter": "python",
   "pygments_lexer": "ipython3",
   "version": "3.6.9"
  }
 },
 "nbformat": 4,
 "nbformat_minor": 2
}
