{
 "cells": [
  {
   "cell_type": "markdown",
   "metadata": {},
   "source": [
    "## while"
   ]
  },
  {
   "cell_type": "code",
   "execution_count": 2,
   "metadata": {},
   "outputs": [
    {
     "name": "stdout",
     "output_type": "stream",
     "text": [
      "1\n",
      "2\n",
      "3\n",
      "4\n",
      "5\n"
     ]
    }
   ],
   "source": [
    "su = 0\n",
    "while True:\n",
    "    su = su + 1\n",
    "    print(su)\n",
    "    \n",
    "    if su == 5:\n",
    "        break"
   ]
  },
  {
   "cell_type": "code",
   "execution_count": 3,
   "metadata": {},
   "outputs": [
    {
     "name": "stdout",
     "output_type": "stream",
     "text": [
      "5\n",
      "4\n",
      "3\n",
      "2\n",
      "1\n"
     ]
    }
   ],
   "source": [
    "su = 6\n",
    "while 1:  # 0이외의 값은 모두 참처리\n",
    "    su = su -1\n",
    "    print(su)\n",
    "    \n",
    "    if su == 1:\n",
    "        break"
   ]
  },
  {
   "cell_type": "code",
   "execution_count": 5,
   "metadata": {},
   "outputs": [
    {
     "name": "stdout",
     "output_type": "stream",
     "text": [
      "1\n",
      "2\n",
      "3\n",
      "4\n",
      "5\n"
     ]
    }
   ],
   "source": [
    "su = 0\n",
    "while su <= 4: # 조건을 확인할것.\n",
    "    su += 1\n",
    "    print(su)"
   ]
  },
  {
   "cell_type": "code",
   "execution_count": 6,
   "metadata": {},
   "outputs": [
    {
     "name": "stdout",
     "output_type": "stream",
     "text": [
      "12\n"
     ]
    }
   ],
   "source": [
    "# 2,3,4의 배수 발생시 종료\n",
    "su = 0\n",
    "while True:\n",
    "    su = su + 1\n",
    "    if su % 2 == 0 and su % 3 == 0 and su % 4 == 0:\n",
    "        print(su)\n",
    "        break\n",
    "        "
   ]
  },
  {
   "cell_type": "markdown",
   "metadata": {},
   "source": [
    "## for"
   ]
  },
  {
   "cell_type": "code",
   "execution_count": 7,
   "metadata": {
    "scrolled": true
   },
   "outputs": [
    {
     "name": "stdout",
     "output_type": "stream",
     "text": [
      "A\n",
      "B\n",
      "C\n",
      "가\n",
      "나\n",
      "다\n",
      "1\n",
      "2\n",
      "3\n"
     ]
    }
   ],
   "source": [
    "str1 = 'ABC가나다123'\n",
    "for c in str1:\n",
    "    print(c)"
   ]
  },
  {
   "cell_type": "code",
   "execution_count": 16,
   "metadata": {},
   "outputs": [
    {
     "name": "stdout",
     "output_type": "stream",
     "text": [
      "01234\n",
      "1234\n",
      "246810\n",
      "5432"
     ]
    }
   ],
   "source": [
    "for i in range(5):   # 0 ~ 4\n",
    "    print(i, end='')  # 라인 변경 방지: end=''\n",
    "\n",
    "print()   # 라인 변경\n",
    "for i in range(1, 5):   # 1 ~ 4\n",
    "    print(i, end='') \n",
    "\n",
    "print()   # 라인 변경\n",
    "for i in range(2, 12, 2):   # 2 ~ 10, 간격 2\n",
    "    print(i, end='') \n",
    "\n",
    "print()   # 라인 변경\n",
    "for i in range(5, 1, -1):   # 5 ~ 2\n",
    "    print(i, end='') "
   ]
  },
  {
   "cell_type": "code",
   "execution_count": 20,
   "metadata": {},
   "outputs": [
    {
     "name": "stdout",
     "output_type": "stream",
     "text": [
      "60\n",
      "-------\n",
      "100\n"
     ]
    }
   ],
   "source": [
    "# 1 ~ 100까지 1씩 증가하면서 2,3,4,5의 배수를 출력하는 스크립트 제작\n",
    "for i in range(1, 101, 1):\n",
    "    if (i % 2 == 0 and i % 3 == 0 and i % 4 == 0 and i % 5 ==0):\n",
    "        print(i)\n",
    "print('-------')        \n",
    "print(i)        "
   ]
  },
  {
   "cell_type": "code",
   "execution_count": 23,
   "metadata": {},
   "outputs": [
    {
     "name": "stdout",
     "output_type": "stream",
     "text": [
      "2 X 1 = 2\n",
      "2 X 2 = 4\n",
      "2 X 3 = 6\n",
      "2 X 4 = 8\n",
      "2 X 5 = 10\n",
      "2 X 6 = 12\n",
      "2 X 7 = 14\n",
      "2 X 8 = 16\n",
      "2 X 9 = 18\n"
     ]
    }
   ],
   "source": [
    "# 구구단 2단의 출력\n",
    "for i in range(1, 10):\n",
    "    # print('2 X %d = %d' % (i,  2 * i))\n",
    "    print('2 X {0} = {1}'.format(i,  2 * i))"
   ]
  },
  {
   "cell_type": "code",
   "execution_count": 31,
   "metadata": {},
   "outputs": [],
   "source": [
    "for i in range(0):  # 0이면 for문으로 진입을 안함.\n",
    "    print(i)"
   ]
  },
  {
   "cell_type": "code",
   "execution_count": 32,
   "metadata": {},
   "outputs": [
    {
     "name": "stdout",
     "output_type": "stream",
     "text": [
      "\n",
      "0\n",
      "01\n",
      "012\n",
      "0123\n"
     ]
    }
   ],
   "source": [
    "for i in range(5): # 0 ~ 4\n",
    "    for j in range(i): # 0 ~ i-1\n",
    "        print(j, end='')\n",
    "    print()       "
   ]
  },
  {
   "cell_type": "code",
   "execution_count": 34,
   "metadata": {},
   "outputs": [
    {
     "name": "stdout",
     "output_type": "stream",
     "text": [
      "1\n",
      "2\n",
      "3\n"
     ]
    }
   ],
   "source": [
    "list1 = [1, 2, 3]\n",
    "for su in list1:\n",
    "    print(su)"
   ]
  },
  {
   "cell_type": "code",
   "execution_count": 37,
   "metadata": {},
   "outputs": [
    {
     "name": "stdout",
     "output_type": "stream",
     "text": [
      "[1, 2, 3, 4, 5]\n"
     ]
    }
   ],
   "source": [
    "data = []\n",
    "for i in range(5):\n",
    "    data.append(i+1)\n",
    "print(data)    "
   ]
  },
  {
   "cell_type": "code",
   "execution_count": 40,
   "metadata": {},
   "outputs": [
    {
     "name": "stdout",
     "output_type": "stream",
     "text": [
      "데이터 입력: 100\n",
      "데이터 입력: 200\n",
      "데이터 입력: 300\n",
      "[100, 200, 300]\n"
     ]
    }
   ],
   "source": [
    "data = []\n",
    "for i in range(3):\n",
    "    ind = int(input(\"데이터 입력: \"))\n",
    "    data.append(ind)\n",
    "print(data)    "
   ]
  },
  {
   "cell_type": "code",
   "execution_count": 41,
   "metadata": {},
   "outputs": [
    {
     "name": "stdout",
     "output_type": "stream",
     "text": [
      "300\n",
      "200\n",
      "100\n"
     ]
    }
   ],
   "source": [
    "for i in range(len(data)):\n",
    "    print(data.pop()) # 원본 데이터 삭제됨."
   ]
  },
  {
   "cell_type": "code",
   "execution_count": 46,
   "metadata": {},
   "outputs": [
    {
     "name": "stdout",
     "output_type": "stream",
     "text": [
      "100\n",
      "200\n",
      "300\n"
     ]
    }
   ],
   "source": [
    "data=[100,200,300]\n",
    "for i in range(len(data)):\n",
    "    print(data[i])"
   ]
  },
  {
   "cell_type": "code",
   "execution_count": 50,
   "metadata": {},
   "outputs": [
    {
     "name": "stdout",
     "output_type": "stream",
     "text": [
      "[0, 0, 0]\n"
     ]
    }
   ],
   "source": [
    "data = [0 for i in range(3)] # 0 ~ 2\n",
    "print(data)"
   ]
  },
  {
   "cell_type": "code",
   "execution_count": 51,
   "metadata": {},
   "outputs": [
    {
     "name": "stdout",
     "output_type": "stream",
     "text": [
      "[100, 101, 102]\n"
     ]
    }
   ],
   "source": [
    "data = [i + 100 for i in range(3)] # 0 ~ 2\n",
    "print(data)"
   ]
  },
  {
   "cell_type": "code",
   "execution_count": 55,
   "metadata": {},
   "outputs": [
    {
     "name": "stdout",
     "output_type": "stream",
     "text": [
      "[[0, 0, 0], [0, 0, 0], [0, 0, 0]]\n",
      "[[0, 1, 2], [1, 2, 3], [2, 3, 4]]\n"
     ]
    }
   ],
   "source": [
    "data = [[0 for i in range(3)] for j in range(3)]\n",
    "print(data)\n",
    "for i in range(3):      # 0, 1, 2\n",
    "    for j in range(3):  # 0, 1, 2\n",
    "        data[i][j] = i + j\n",
    "print(data)        "
   ]
  },
  {
   "cell_type": "code",
   "execution_count": 56,
   "metadata": {},
   "outputs": [
    {
     "name": "stdout",
     "output_type": "stream",
     "text": [
      "[[0, 1, 2, 3, 4], [0, 3, 6, 9, 12]]\n"
     ]
    }
   ],
   "source": [
    "data = [[],[]]\n",
    "for i in range(5):\n",
    "    data[0].append(i)\n",
    "    data[1].append(i*3)\n",
    "print(data)    "
   ]
  },
  {
   "cell_type": "code",
   "execution_count": 58,
   "metadata": {},
   "outputs": [
    {
     "name": "stdout",
     "output_type": "stream",
     "text": [
      "10\n",
      "20\n",
      "30\n"
     ]
    }
   ],
   "source": [
    "data = (10, 20, 30)\n",
    "for i in data:\n",
    "    print(i)"
   ]
  },
  {
   "cell_type": "code",
   "execution_count": 59,
   "metadata": {},
   "outputs": [
    {
     "name": "stdout",
     "output_type": "stream",
     "text": [
      "10\n",
      "20\n",
      "30\n"
     ]
    }
   ],
   "source": [
    "data = (10, 20, 30)\n",
    "for i in range(len(data)):\n",
    "    print(data[i])"
   ]
  },
  {
   "cell_type": "code",
   "execution_count": 64,
   "metadata": {},
   "outputs": [
    {
     "name": "stdout",
     "output_type": "stream",
     "text": [
      "{1: 'Jaunuary', 2: 'February', 3: 'March'}\n",
      "1\n",
      "Jaunuary\n",
      "2\n",
      "February\n",
      "3\n",
      "March\n"
     ]
    }
   ],
   "source": [
    "months = {1: 'Jaunuary', 2: 'February', 3: 'March'}\n",
    "print(months)\n",
    "for item in months:\n",
    "    print(item)\n",
    "    print(months[item])"
   ]
  },
  {
   "cell_type": "code",
   "execution_count": 65,
   "metadata": {},
   "outputs": [
    {
     "name": "stdout",
     "output_type": "stream",
     "text": [
      "1\n",
      "2\n",
      "3\n"
     ]
    }
   ],
   "source": [
    "keys = months.keys()\n",
    "for k in keys:\n",
    "    print(k)"
   ]
  },
  {
   "cell_type": "code",
   "execution_count": 66,
   "metadata": {},
   "outputs": [
    {
     "name": "stdout",
     "output_type": "stream",
     "text": [
      "Jaunuary\n",
      "February\n",
      "March\n"
     ]
    }
   ],
   "source": [
    "values = months.values()\n",
    "for v in values:\n",
    "    print(v)"
   ]
  },
  {
   "cell_type": "code",
   "execution_count": null,
   "metadata": {},
   "outputs": [],
   "source": []
  },
  {
   "cell_type": "code",
   "execution_count": null,
   "metadata": {},
   "outputs": [],
   "source": []
  }
 ],
 "metadata": {
  "kernelspec": {
   "display_name": "ai",
   "language": "python",
   "name": "ai"
  },
  "language_info": {
   "codemirror_mode": {
    "name": "ipython",
    "version": 3
   },
   "file_extension": ".py",
   "mimetype": "text/x-python",
   "name": "python",
   "nbconvert_exporter": "python",
   "pygments_lexer": "ipython3",
   "version": "3.6.8"
  }
 },
 "nbformat": 4,
 "nbformat_minor": 2
}
