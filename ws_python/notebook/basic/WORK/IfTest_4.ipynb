{
 "cells": [
  {
   "cell_type": "code",
   "execution_count": 1,
   "metadata": {},
   "outputs": [
    {
     "name": "stdout",
     "output_type": "stream",
     "text": [
      "투표 가능\n"
     ]
    }
   ],
   "source": [
    "age = 19\n",
    "# True 조건 False\n",
    "vote = '투표 가능' if age >= 19 else '투표 불가능'\n",
    "print(vote)"
   ]
  },
  {
   "cell_type": "code",
   "execution_count": 3,
   "metadata": {},
   "outputs": [
    {
     "name": "stdout",
     "output_type": "stream",
     "text": [
      "합격\n",
      "노트북 지급\n"
     ]
    }
   ],
   "source": [
    "tot = 80\n",
    "if (tot >= 80):  # 블록의 시작, 들여쓰기가 구분이됨.\n",
    "    print('합격')\n",
    "    print('노트북 지급')"
   ]
  },
  {
   "cell_type": "code",
   "execution_count": 12,
   "metadata": {},
   "outputs": [
    {
     "name": "stdout",
     "output_type": "stream",
     "text": [
      "합격\n",
      "노트북 지급\n",
      "분석 투입\n"
     ]
    }
   ],
   "source": [
    "if (tot >= 80):  # 블록의 시작, 들여쓰기가 구분이됨.\n",
    "    print('합격')\n",
    "    print('노트북 지급')\n",
    "print('분석 투입')    "
   ]
  },
  {
   "cell_type": "code",
   "execution_count": 13,
   "metadata": {},
   "outputs": [
    {
     "name": "stdout",
     "output_type": "stream",
     "text": [
      "짝수\n"
     ]
    }
   ],
   "source": [
    "su = 10\n",
    "if su % 2 == 0:\n",
    "    print('짝수')\n",
    "else:\n",
    "    print('홀수')"
   ]
  },
  {
   "cell_type": "code",
   "execution_count": 15,
   "metadata": {},
   "outputs": [
    {
     "name": "stdout",
     "output_type": "stream",
     "text": [
      "January\n"
     ]
    }
   ],
   "source": [
    "su = 1\n",
    "if su == 1:\n",
    "    print('January')\n",
    "elif su == 2:\n",
    "    print(\"February\")\n",
    "elif su == 3:\n",
    "    print(\"March\")\n",
    "elif su == 4:\n",
    "    print('April')\n",
    "else:\n",
    "    print('1~4를 입력하세요.')"
   ]
  },
  {
   "cell_type": "code",
   "execution_count": 21,
   "metadata": {},
   "outputs": [
    {
     "name": "stdout",
     "output_type": "stream",
     "text": [
      "채용 합격입니다.\n",
      "-> 프로젝트 참여\n"
     ]
    }
   ],
   "source": [
    "test = 85\n",
    "if test >= 60:\n",
    "    print('채용 합격입니다.')\n",
    "    \n",
    "    if test >= 85:\n",
    "        print('-> 프로젝트 참여') # 85 ~\n",
    "    else:\n",
    "        print('-> 추가교육 1개월 참여') # 60 ~ 84\n",
    "else:\n",
    "    print('다음 기회에 재시도해주세요.')"
   ]
  },
  {
   "cell_type": "code",
   "execution_count": 22,
   "metadata": {},
   "outputs": [
    {
     "name": "stdout",
     "output_type": "stream",
     "text": [
      "등급: C\n"
     ]
    }
   ],
   "source": [
    "score = 70\n",
    "str1=''\n",
    "if score >= 90:\n",
    "    str1 = 'A'\n",
    "elif score >= 80 and score <= 89:  # 범위\n",
    "    str1 = 'B'\n",
    "elif score >= 70 and score <= 79:\n",
    "    str1 = 'C'\n",
    "elif score >= 60 and score <= 69:\n",
    "    str1 = 'D'    \n",
    "else:\n",
    "    str1 = 'F'  # ~ 59\n",
    "\n",
    "print('등급: ' + str1)    "
   ]
  },
  {
   "cell_type": "code",
   "execution_count": 24,
   "metadata": {},
   "outputs": [
    {
     "name": "stdout",
     "output_type": "stream",
     "text": [
      "겨울입니다.\n",
      "만항재 드라이브\n"
     ]
    }
   ],
   "source": [
    "month = 12\n",
    "if (month == 12 or month == 1 or month == 2):\n",
    "    print('겨울입니다.')\n",
    "    print('만항재 드라이브')"
   ]
  },
  {
   "cell_type": "code",
   "execution_count": 25,
   "metadata": {},
   "outputs": [
    {
     "name": "stdout",
     "output_type": "stream",
     "text": [
      "파일명: C:\\ProgramData\\Anaconda3\\envs\\ai\\lib\\site-packages\\ipykernel_launcher.py\n",
      "입력수: -f\n"
     ]
    }
   ],
   "source": [
    "# console에서의 입력\n",
    "import sys\n",
    "filename = sys.argv[0]\n",
    "su = sys.argv[1]\n",
    "\n",
    "print('파일명:', filename)\n",
    "print('입력수:', su)\n",
    "# C:\\ai4\\ws_python\\notebook\\basic>python IfTest.ipynb 실행 불가능"
   ]
  },
  {
   "cell_type": "code",
   "execution_count": null,
   "metadata": {},
   "outputs": [],
   "source": []
  },
  {
   "cell_type": "code",
   "execution_count": null,
   "metadata": {},
   "outputs": [],
   "source": []
  },
  {
   "cell_type": "code",
   "execution_count": null,
   "metadata": {},
   "outputs": [],
   "source": []
  },
  {
   "cell_type": "code",
   "execution_count": null,
   "metadata": {},
   "outputs": [],
   "source": []
  },
  {
   "cell_type": "code",
   "execution_count": null,
   "metadata": {},
   "outputs": [],
   "source": []
  },
  {
   "cell_type": "code",
   "execution_count": null,
   "metadata": {},
   "outputs": [],
   "source": []
  },
  {
   "cell_type": "code",
   "execution_count": null,
   "metadata": {},
   "outputs": [],
   "source": []
  }
 ],
 "metadata": {
  "kernelspec": {
   "display_name": "ai",
   "language": "python",
   "name": "ai"
  },
  "language_info": {
   "codemirror_mode": {
    "name": "ipython",
    "version": 3
   },
   "file_extension": ".py",
   "mimetype": "text/x-python",
   "name": "python",
   "nbconvert_exporter": "python",
   "pygments_lexer": "ipython3",
   "version": "3.6.8"
  }
 },
 "nbformat": 4,
 "nbformat_minor": 2
}
