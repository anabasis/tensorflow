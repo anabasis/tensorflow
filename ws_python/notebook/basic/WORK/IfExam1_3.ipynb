{
 "cells": [
  {
   "cell_type": "markdown",
   "metadata": {},
   "source": [
    "[실습 1] 하나의 수를 정의하고 2, 3, 4의 배수인지\n",
    "          판단하는 프로그램을 제작하세요. \n",
    "C:\\ai4\\ws_python\\notebook\\basic>python IfExam1.py 100\n",
    "\n",
    "파일명: IfExam1.py\n",
    "\n",
    "입력수: 100"
   ]
  },
  {
   "cell_type": "code",
   "execution_count": null,
   "metadata": {},
   "outputs": [],
   "source": [
    "# console에서의 입력\n",
    "import sys\n",
    "filename = sys.argv[0]\n",
    "su = int(sys.argv[1])\n",
    "str1 = ''\n",
    "\n",
    "print('파일명:', filename)\n",
    "print('입력수:', su)\n",
    "\n",
    "if (su % 2 == 0 and su % 3 == 0 and su % 4 == 0):\n",
    "    str1 = '2,3,4의 배수입니다.'\n",
    "else:\n",
    "    str1 = '2,3,4의 배수가 아닙니다.'\n",
    "\n",
    "print(str1)    "
   ]
  },
  {
   "cell_type": "code",
   "execution_count": null,
   "metadata": {},
   "outputs": [],
   "source": []
  },
  {
   "cell_type": "code",
   "execution_count": null,
   "metadata": {},
   "outputs": [],
   "source": []
  },
  {
   "cell_type": "code",
   "execution_count": null,
   "metadata": {},
   "outputs": [],
   "source": []
  },
  {
   "cell_type": "code",
   "execution_count": null,
   "metadata": {},
   "outputs": [],
   "source": []
  },
  {
   "cell_type": "code",
   "execution_count": null,
   "metadata": {},
   "outputs": [],
   "source": []
  }
 ],
 "metadata": {
  "kernelspec": {
   "display_name": "ai",
   "language": "python",
   "name": "ai"
  },
  "language_info": {
   "codemirror_mode": {
    "name": "ipython",
    "version": 3
   },
   "file_extension": ".py",
   "mimetype": "text/x-python",
   "name": "python",
   "nbconvert_exporter": "python",
   "pygments_lexer": "ipython3",
   "version": "3.6.8"
  }
 },
 "nbformat": 4,
 "nbformat_minor": 2
}
