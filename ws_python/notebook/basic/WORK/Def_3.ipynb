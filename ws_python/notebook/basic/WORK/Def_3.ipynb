{
 "cells": [
  {
   "cell_type": "code",
   "execution_count": 9,
   "metadata": {},
   "outputs": [],
   "source": [
    "def movie1(name):  # name 인수\n",
    "    print('영화명: ' + name)    \n",
    "\n",
    "def movie2(name, genre):  # 인수 여러개 사용 가능\n",
    "    print('영화명: ' + name)        \n",
    "    print('장  르: ' + genre)\n",
    "    "
   ]
  },
  {
   "cell_type": "code",
   "execution_count": 10,
   "metadata": {},
   "outputs": [
    {
     "name": "stdout",
     "output_type": "stream",
     "text": [
      "영화명: 검은 사제들\n",
      "영화명: 사바하\n",
      "장  르: 퇴마\n"
     ]
    }
   ],
   "source": [
    "movie1('검은 사제들')\n",
    "movie2('사바하', '퇴마')"
   ]
  },
  {
   "cell_type": "code",
   "execution_count": 11,
   "metadata": {},
   "outputs": [],
   "source": [
    "def movie3(name, genre, score=5.0):  # 기본값 사용\n",
    "    print('영화명: ' + name)        \n",
    "    print('장  르: ' + genre)  \n",
    "    print('평  점: ' + str(score))"
   ]
  },
  {
   "cell_type": "code",
   "execution_count": 13,
   "metadata": {},
   "outputs": [
    {
     "name": "stdout",
     "output_type": "stream",
     "text": [
      "영화명: 컨저링\n",
      "장  르: 퇴마\n",
      "평  점: 5.0\n",
      "영화명: 더라이트\n",
      "장  르: 퇴마\n",
      "평  점: 4.5\n"
     ]
    }
   ],
   "source": [
    "movie3('컨저링', '퇴마')\n",
    "movie3('더라이트', '퇴마', 4.5)"
   ]
  },
  {
   "cell_type": "code",
   "execution_count": 15,
   "metadata": {},
   "outputs": [],
   "source": [
    "def movie4(time, name, genre): \n",
    "    print('영화명: ' + name)        \n",
    "    print('시   간: ' + str(time))\n",
    "    print('장  르: ' + genre)  "
   ]
  },
  {
   "cell_type": "code",
   "execution_count": 17,
   "metadata": {},
   "outputs": [
    {
     "name": "stdout",
     "output_type": "stream",
     "text": [
      "영화명: 안시성\n",
      "시   간: 120\n",
      "장  르: 역사\n",
      "영화명: 택시 운전사\n",
      "시   간: 130\n",
      "장  르: 다라마\n"
     ]
    }
   ],
   "source": [
    "movie4(120, '안시성', '역사')\n",
    "movie4(name='택시 운전사', time=130, genre='다라마') # 파라미터 순서의 변경"
   ]
  },
  {
   "cell_type": "code",
   "execution_count": 26,
   "metadata": {},
   "outputs": [],
   "source": [
    "def movie5(name, *actors):  # tupe, 가변인자 처리\n",
    "    print(type(actors))\n",
    "    print(name)\n",
    "    print(actors)"
   ]
  },
  {
   "cell_type": "code",
   "execution_count": 27,
   "metadata": {},
   "outputs": [
    {
     "name": "stdout",
     "output_type": "stream",
     "text": [
      "<class 'tuple'>\n",
      "안시성\n",
      "('조인성', '김태리')\n",
      "<class 'tuple'>\n",
      "맘마미아\n",
      "('피어스브로스넌', '메릴 스트립', '아만다 사이프리드')\n"
     ]
    }
   ],
   "source": [
    "movie5('안시성','조인성', '김태리')\n",
    "movie5('맘마미아', '피어스브로스넌', '메릴 스트립', '아만다 사이프리드')"
   ]
  },
  {
   "cell_type": "code",
   "execution_count": 22,
   "metadata": {},
   "outputs": [],
   "source": [
    "def movie6(movie, **actors):  # 고정과 가변인자 병합 처리\n",
    "    print(type(actors))\n",
    "    print(movie)\n",
    "    print(actors)  # Dictionary    "
   ]
  },
  {
   "cell_type": "code",
   "execution_count": 23,
   "metadata": {
    "scrolled": true
   },
   "outputs": [
    {
     "name": "stdout",
     "output_type": "stream",
     "text": [
      "<class 'dict'>\n",
      "인터스텔라\n",
      "{'actor1': '맥커너희', 'actor2': '앤 헤서웨이', 'actor3': '마이클 케인'}\n"
     ]
    }
   ],
   "source": [
    "movie6('인터스텔라', actor1='맥커너희', actor2='앤 헤서웨이', actor3='마이클 케인')"
   ]
  },
  {
   "cell_type": "code",
   "execution_count": 33,
   "metadata": {},
   "outputs": [],
   "source": [
    "param = 10\n",
    "str1 = '전역 변수'\n",
    "\n",
    "def fun1():\n",
    "    str1 = '지역 변수'\n",
    "    print(str1)"
   ]
  },
  {
   "cell_type": "code",
   "execution_count": 34,
   "metadata": {},
   "outputs": [
    {
     "name": "stdout",
     "output_type": "stream",
     "text": [
      "지역 변수\n",
      "str1:  전역 변수\n"
     ]
    }
   ],
   "source": [
    "fun1()\n",
    "print('str1: ', str1)"
   ]
  },
  {
   "cell_type": "code",
   "execution_count": 38,
   "metadata": {},
   "outputs": [],
   "source": [
    "def fun2():\n",
    "    global str1\n",
    "    str1='지역 변수 값 적용'\n",
    "    print(str1)"
   ]
  },
  {
   "cell_type": "code",
   "execution_count": 39,
   "metadata": {},
   "outputs": [
    {
     "name": "stdout",
     "output_type": "stream",
     "text": [
      "지역 변수 값 적용\n",
      "str1:  지역 변수 값 적용\n"
     ]
    }
   ],
   "source": [
    "fun2()\n",
    "print('str1: ', str1)"
   ]
  },
  {
   "cell_type": "code",
   "execution_count": 40,
   "metadata": {},
   "outputs": [],
   "source": [
    "def maxno(x, y):\n",
    "    if x > y:\n",
    "        return x\n",
    "    else:\n",
    "        return y"
   ]
  },
  {
   "cell_type": "code",
   "execution_count": 41,
   "metadata": {},
   "outputs": [
    {
     "name": "stdout",
     "output_type": "stream",
     "text": [
      "200\n"
     ]
    }
   ],
   "source": [
    "print(maxno(100, 200))"
   ]
  },
  {
   "cell_type": "code",
   "execution_count": 42,
   "metadata": {},
   "outputs": [],
   "source": [
    "def season(month):\n",
    "    season=''\n",
    "    if month == 1:\n",
    "        season='January'\n",
    "    elif month == 2:\n",
    "        season='February'\n",
    "    elif month == 3:\n",
    "        season=\"March\"\n",
    "    else:\n",
    "        season=\"Only input 1 ~ 3\"\n",
    "    \n",
    "    return season"
   ]
  },
  {
   "cell_type": "code",
   "execution_count": 43,
   "metadata": {},
   "outputs": [
    {
     "name": "stdout",
     "output_type": "stream",
     "text": [
      "March\n"
     ]
    }
   ],
   "source": [
    "print(season(3))"
   ]
  },
  {
   "cell_type": "code",
   "execution_count": 46,
   "metadata": {},
   "outputs": [],
   "source": [
    "def reverse(x, y, z):\n",
    "    return z, y, x  "
   ]
  },
  {
   "cell_type": "code",
   "execution_count": 47,
   "metadata": {},
   "outputs": [
    {
     "name": "stdout",
     "output_type": "stream",
     "text": [
      "(30, 20, 10)\n"
     ]
    }
   ],
   "source": [
    "ret = reverse(10, 20, 30) # 2개 이상의 변수는 tuple 리턴\n",
    "print(ret)"
   ]
  },
  {
   "cell_type": "code",
   "execution_count": 48,
   "metadata": {},
   "outputs": [
    {
     "name": "stdout",
     "output_type": "stream",
     "text": [
      "30 20 10\n"
     ]
    }
   ],
   "source": [
    "r1, r2, r3 = reverse(10, 20, 30) # 정수로 리턴 받음\n",
    "print(r1, r2, r3)"
   ]
  },
  {
   "cell_type": "code",
   "execution_count": 50,
   "metadata": {},
   "outputs": [
    {
     "name": "stdout",
     "output_type": "stream",
     "text": [
      "C B A\n"
     ]
    }
   ],
   "source": [
    "r1, r2, r3 = reverse('A', 'B', 'C') # 문자로 리턴 받음\n",
    "print(r1, r2, r3)"
   ]
  },
  {
   "cell_type": "code",
   "execution_count": 51,
   "metadata": {},
   "outputs": [],
   "source": [
    "def data():\n",
    "    return (1, 2), ('A', 'B')"
   ]
  },
  {
   "cell_type": "code",
   "execution_count": 55,
   "metadata": {},
   "outputs": [
    {
     "name": "stdout",
     "output_type": "stream",
     "text": [
      "((1, 2), ('A', 'B'))\n"
     ]
    }
   ],
   "source": [
    "# a, b, c, d = data()  # ERROR\n",
    "ret = data()\n",
    "print(ret)"
   ]
  },
  {
   "cell_type": "code",
   "execution_count": 56,
   "metadata": {},
   "outputs": [
    {
     "name": "stdout",
     "output_type": "stream",
     "text": [
      "1 2 A B\n"
     ]
    }
   ],
   "source": [
    "(a, b), (c, d) = data()\n",
    "print(a, b, c, d)"
   ]
  },
  {
   "cell_type": "code",
   "execution_count": 58,
   "metadata": {},
   "outputs": [
    {
     "name": "stdout",
     "output_type": "stream",
     "text": [
      "<class 'list'>\n",
      "[1, 2, 3]\n"
     ]
    }
   ],
   "source": [
    "def data():\n",
    "    return [1, 2, 3]\n",
    "\n",
    "ret = data()\n",
    "print(type(ret))\n",
    "print(ret)"
   ]
  },
  {
   "cell_type": "code",
   "execution_count": 60,
   "metadata": {},
   "outputs": [
    {
     "name": "stdout",
     "output_type": "stream",
     "text": [
      "<class 'tuple'>\n",
      "([1, 2, 3], [4, 5, 6])\n",
      "[1, 2, 3]\n",
      "[4, 5, 6]\n"
     ]
    }
   ],
   "source": [
    "def data():\n",
    "    return [1, 2, 3], [4, 5, 6]\n",
    "\n",
    "ret = data()\n",
    "print(type(ret))\n",
    "print(ret)\n",
    "print(ret[0])\n",
    "print(ret[1])"
   ]
  },
  {
   "cell_type": "code",
   "execution_count": null,
   "metadata": {},
   "outputs": [],
   "source": [
    "def data():\n",
    "    return [1, 2, 3], [4, 5, 6]\n",
    "\n",
    "ret = data()\n",
    "print(type(ret))\n",
    "print(ret)\n",
    "print(ret[0])\n",
    "print(ret[1])"
   ]
  },
  {
   "cell_type": "code",
   "execution_count": null,
   "metadata": {},
   "outputs": [],
   "source": []
  },
  {
   "cell_type": "code",
   "execution_count": null,
   "metadata": {},
   "outputs": [],
   "source": []
  },
  {
   "cell_type": "code",
   "execution_count": null,
   "metadata": {},
   "outputs": [],
   "source": []
  },
  {
   "cell_type": "code",
   "execution_count": null,
   "metadata": {},
   "outputs": [],
   "source": []
  },
  {
   "cell_type": "code",
   "execution_count": null,
   "metadata": {},
   "outputs": [],
   "source": []
  },
  {
   "cell_type": "code",
   "execution_count": null,
   "metadata": {},
   "outputs": [],
   "source": []
  }
 ],
 "metadata": {
  "kernelspec": {
   "display_name": "machine",
   "language": "python",
   "name": "machine"
  },
  "language_info": {
   "codemirror_mode": {
    "name": "ipython",
    "version": 3
   },
   "file_extension": ".py",
   "mimetype": "text/x-python",
   "name": "python",
   "nbconvert_exporter": "python",
   "pygments_lexer": "ipython3",
   "version": "3.6.9"
  }
 },
 "nbformat": 4,
 "nbformat_minor": 2
}
