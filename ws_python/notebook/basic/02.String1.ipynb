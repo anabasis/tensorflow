{
 "cells": [
  {
   "cell_type": "code",
   "execution_count": 1,
   "metadata": {},
   "outputs": [
    {
     "name": "stdout",
     "output_type": "stream",
     "text": [
      "Web Scraping\n",
      "W\n",
      "g\n",
      "We\n",
      "We\n",
      "b Scraping\n",
      "Web Scraping\n"
     ]
    }
   ],
   "source": [
    "title = 'Web Scraping'\n",
    "print(title)\n",
    "print(title[0]) # index: 0\n",
    "print(title[-1])\n",
    "print(title[0:2])  # 0 ~ end index - 1\n",
    "print(title[:2])   # 0 ~ end index - 1\n",
    "print(title[2:])   # 시작 index가 포함됨 ~ end index\n",
    "print(title[:])   # 전체요소"
   ]
  },
  {
   "cell_type": "code",
   "execution_count": 2,
   "metadata": {},
   "outputs": [
    {
     "name": "stdout",
     "output_type": "stream",
     "text": [
      "W\n",
      "e\n",
      "b\n"
     ]
    }
   ],
   "source": [
    "for i in title:\n",
    "    print(i)\n",
    "    if (i == 'b'):\n",
    "        break;"
   ]
  },
  {
   "cell_type": "code",
   "execution_count": 3,
   "metadata": {},
   "outputs": [
    {
     "name": "stdout",
     "output_type": "stream",
     "text": [
      "여행 여행 \n",
      "6\n",
      "True\n"
     ]
    }
   ],
   "source": [
    "title = '여행 ' * 2\n",
    "print(title)\n",
    "print(len(title))\n",
    "print('a' in 'abcde')"
   ]
  },
  {
   "cell_type": "code",
   "execution_count": null,
   "metadata": {},
   "outputs": [],
   "source": []
  }
 ],
 "metadata": {
  "kernelspec": {
   "display_name": "machine",
   "language": "python",
   "name": "machine"
  },
  "language_info": {
   "codemirror_mode": {
    "name": "ipython",
    "version": 3
   },
   "file_extension": ".py",
   "mimetype": "text/x-python",
   "name": "python",
   "nbconvert_exporter": "python",
   "pygments_lexer": "ipython3",
   "version": "3.6.9"
  }
 },
 "nbformat": 4,
 "nbformat_minor": 2
}
