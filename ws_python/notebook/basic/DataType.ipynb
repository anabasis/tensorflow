{
 "cells": [
  {
   "cell_type": "code",
   "execution_count": 1,
   "metadata": {},
   "outputs": [
    {
     "name": "stdout",
     "output_type": "stream",
     "text": [
      "sw\n",
      "sw\n",
      "True\n",
      "False\n"
     ]
    }
   ],
   "source": [
    "sw = True # true X\n",
    "print(\"sw\")\n",
    "print('sw')\n",
    "print(sw)\n",
    "sw = False\n",
    "print(sw)"
   ]
  },
  {
   "cell_type": "code",
   "execution_count": 2,
   "metadata": {
    "scrolled": true
   },
   "outputs": [
    {
     "name": "stdout",
     "output_type": "stream",
     "text": [
      "sw=False\n",
      "sw= False\n",
      "sw=False\n",
      "sw=     False\n",
      "sw=False     \n",
      "      2019\n",
      " 10.560000\n",
      "10.6\n",
      "1000.6\n",
      " 10.5\n",
      "f(x) = 2x + 3\n",
      " 10.5%\n"
     ]
    }
   ],
   "source": [
    "# print(\"sw=\" + sw)  \n",
    "print(\"sw=\" + str(sw))\n",
    "print(\"sw=\", str(sw)) #  ,의 경우 공백\n",
    "print(\"sw=%s\" % sw)\n",
    "print(\"sw=%10s\" % sw) #  오른쪽 기준 문자열 출력\n",
    "print(\"sw=%-10s\" % sw)\n",
    "print(\"%10d\" % 2019)\n",
    "print(\"%10f\" % 10.56)   # 소수 6째 자리까지 출력\n",
    "print(\"%.1f\" % 10.56)    # 반올림\n",
    "print(\"%3.1f\" % 1000.56) # 정수는 자리수와 상관없이 출력, 반올림\n",
    "print(\"%5.1f\" % 10.5)     # 정수 3자리, 소수점 1자리, 소수 1자리 출력\n",
    "print(\"f(x) = {0}x + {1}\".format(2, 3)) # f(x) = 2x + 3\n",
    "print(\"%5.1f%%\" % 10.5)  # % "
   ]
  },
  {
   "cell_type": "code",
   "execution_count": 25,
   "metadata": {},
   "outputs": [
    {
     "name": "stdout",
     "output_type": "stream",
     "text": [
      "<class 'bool'>\n",
      "<class 'int'>\n",
      "<class 'float'>\n",
      "<class 'str'>\n",
      "<class 'str'>\n"
     ]
    }
   ],
   "source": [
    "print(type(sw))\n",
    "print(type(2019))\n",
    "print(type(10.5))\n",
    "print(type(\"2019\"))\n",
    "print(type('2019'))"
   ]
  },
  {
   "cell_type": "code",
   "execution_count": 3,
   "metadata": {},
   "outputs": [
    {
     "name": "stdout",
     "output_type": "stream",
     "text": [
      "100의 50%: 50.0\n",
      "100의 50%: 0.5\n",
      "100의 50%: 50.0\n",
      "100의 10%: 10.0\n",
      "100의 1%: 1.0\n",
      "100의 0.5%: 0.5\n"
     ]
    }
   ],
   "source": [
    "print('100의 50%:', 100 * 0.5)\n",
    "print('100의 50%:', 50 / 100)  # 0.5\n",
    "print('100의 50%:', 50 / 100 * 100)\n",
    "print('100의 10%:', 100 * 0.1)\n",
    "print('100의 1%:', 100 * 0.01)\n",
    "print('100의 0.5%:', 100 * 0.005)"
   ]
  },
  {
   "cell_type": "code",
   "execution_count": 4,
   "metadata": {},
   "outputs": [
    {
     "name": "stdout",
     "output_type": "stream",
     "text": [
      "0 % 3 = 0\n",
      "3 % 3 = 0\n",
      "10 / 3 = 3.3333333333333335\n",
      "10 // 3 = 3\n",
      "year= 2021\n"
     ]
    }
   ],
   "source": [
    "print(\"0 % 3 =\", 0 % 3)\n",
    "print(\"3 % 3 =\", 3 % 3)\n",
    "print(\"10 / 3 =\", 10 / 3)\n",
    "print(\"10 // 3 =\", 10 // 3)\n",
    "\n",
    "y = 2019\n",
    "y = y + 1\n",
    "# y++  # 지원 안함.\n",
    "y += 1\n",
    "print(\"year=\", y)"
   ]
  },
  {
   "cell_type": "code",
   "execution_count": null,
   "metadata": {},
   "outputs": [],
   "source": []
  },
  {
   "cell_type": "code",
   "execution_count": null,
   "metadata": {},
   "outputs": [],
   "source": []
  }
 ],
 "metadata": {
  "kernelspec": {
   "display_name": "machine",
   "language": "python",
   "name": "machine"
  },
  "language_info": {
   "codemirror_mode": {
    "name": "ipython",
    "version": 3
   },
   "file_extension": ".py",
   "mimetype": "text/x-python",
   "name": "python",
   "nbconvert_exporter": "python",
   "pygments_lexer": "ipython3",
   "version": "3.6.9"
  }
 },
 "nbformat": 4,
 "nbformat_minor": 2
}
