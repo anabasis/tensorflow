{
 "cells": [
  {
   "cell_type": "code",
   "execution_count": 6,
   "metadata": {},
   "outputs": [
    {
     "name": "stdout",
     "output_type": "stream",
     "text": [
      "{'year': 1, 'score': 10.5, 'season': '여름'}\n",
      "1\n",
      "2019\n",
      "3\n"
     ]
    }
   ],
   "source": [
    "dict1={'year': 1, 'score': 10.5, 'season': '여름'}\n",
    "print(dict1) # 출력 순서가 다를수 있음\n",
    "print(dict1['year'])\n",
    "dict1['year'] = 2019\n",
    "print(dict1['year'])\n",
    "print(len(dict1))"
   ]
  },
  {
   "cell_type": "code",
   "execution_count": 6,
   "metadata": {},
   "outputs": [
    {
     "ename": "ValueError",
     "evalue": "dictionary update sequence element #0 has length 4; 2 is required",
     "output_type": "error",
     "traceback": [
      "\u001b[1;31m---------------------------------------------------------------------------\u001b[0m",
      "\u001b[1;31mValueError\u001b[0m                                Traceback (most recent call last)",
      "\u001b[1;32m<ipython-input-6-af1ef2e9d0bf>\u001b[0m in \u001b[0;36m<module>\u001b[1;34m\u001b[0m\n\u001b[0;32m      1\u001b[0m \u001b[0msrc\u001b[0m\u001b[1;33m=\u001b[0m\u001b[1;33m(\u001b[0m\u001b[1;34m'year'\u001b[0m\u001b[1;33m,\u001b[0m \u001b[1;36m1\u001b[0m\u001b[1;33m)\u001b[0m   \u001b[1;31m# ERROR\u001b[0m\u001b[1;33m\u001b[0m\u001b[1;33m\u001b[0m\u001b[0m\n\u001b[1;32m----> 2\u001b[1;33m \u001b[0mdict2\u001b[0m \u001b[1;33m=\u001b[0m \u001b[0mdict\u001b[0m\u001b[1;33m(\u001b[0m\u001b[0msrc\u001b[0m\u001b[1;33m)\u001b[0m\u001b[1;33m\u001b[0m\u001b[1;33m\u001b[0m\u001b[0m\n\u001b[0m\u001b[0;32m      3\u001b[0m \u001b[0mprint\u001b[0m\u001b[1;33m(\u001b[0m\u001b[0msrc\u001b[0m\u001b[1;33m)\u001b[0m\u001b[1;33m\u001b[0m\u001b[1;33m\u001b[0m\u001b[0m\n",
      "\u001b[1;31mValueError\u001b[0m: dictionary update sequence element #0 has length 4; 2 is required"
     ]
    }
   ],
   "source": [
    "src=('year', 1)   # ERROR\n",
    "dict2 = dict(src)\n",
    "print(src)"
   ]
  },
  {
   "cell_type": "code",
   "execution_count": 1,
   "metadata": {},
   "outputs": [
    {
     "name": "stdout",
     "output_type": "stream",
     "text": [
      "<class 'dict'>\n",
      "{'year': 1}\n"
     ]
    }
   ],
   "source": [
    "# src=('year', 1)   # ERROR\n",
    "src = [('year', 1)]  # list 형태로 선언해야함.\n",
    "dict2 = dict(src)\n",
    "print(type(dict2))\n",
    "print(dict2)"
   ]
  },
  {
   "cell_type": "code",
   "execution_count": 12,
   "metadata": {},
   "outputs": [
    {
     "name": "stdout",
     "output_type": "stream",
     "text": [
      "<class 'dict'>\n",
      "{'year': 1, 'score': 10.5, 'season': '여름'}\n"
     ]
    }
   ],
   "source": [
    "src = [('year', 1), ('score', 10.5), ('season', '여름')] # list로 선언해야함.\n",
    "dict3 = dict(src)\n",
    "print(type(dict3))\n",
    "print(dict3)"
   ]
  },
  {
   "cell_type": "code",
   "execution_count": 13,
   "metadata": {},
   "outputs": [
    {
     "name": "stdout",
     "output_type": "stream",
     "text": [
      "<class 'dict'>\n",
      "{'year': 1, 'score': 10.5, 'season': '여름'}\n"
     ]
    }
   ],
   "source": [
    "dict4 = dict(year=1, score=10.5, season='여름')\n",
    "print(type(dict4))\n",
    "print(dict4)"
   ]
  },
  {
   "cell_type": "code",
   "execution_count": 14,
   "metadata": {},
   "outputs": [
    {
     "name": "stdout",
     "output_type": "stream",
     "text": [
      "가을\n",
      "가을\n"
     ]
    }
   ],
   "source": [
    "dict5 = dict4   # 메모리 공유\n",
    "dict5['season'] = '가을'\n",
    "print(dict4['season'])\n",
    "print(dict5['season'])"
   ]
  },
  {
   "cell_type": "code",
   "execution_count": 15,
   "metadata": {},
   "outputs": [
    {
     "name": "stdout",
     "output_type": "stream",
     "text": [
      "여름\n",
      "가을\n"
     ]
    }
   ],
   "source": [
    "dict4 = dict(year=1, score=10.5, season='여름')\n",
    "dict5 = dict4.copy()  # 내용을 복사하여 새로운 메모리에 할당\n",
    "dict5['season'] = '가을'\n",
    "print(dict4['season'])\n",
    "print(dict5['season'])"
   ]
  },
  {
   "cell_type": "code",
   "execution_count": 17,
   "metadata": {},
   "outputs": [
    {
     "name": "stdout",
     "output_type": "stream",
     "text": [
      "{'year': 1, 'score': 10.5, 'season': '가을', 'pass': True}\n"
     ]
    }
   ],
   "source": [
    "dict5['pass'] = True  # 추가\n",
    "print(dict5)"
   ]
  },
  {
   "cell_type": "code",
   "execution_count": 18,
   "metadata": {},
   "outputs": [
    {
     "name": "stdout",
     "output_type": "stream",
     "text": [
      "{'year': 1, 'score': 10.5, 'pass': True}\n"
     ]
    }
   ],
   "source": [
    "del dict5['season']   # 삭제\n",
    "print(dict5)"
   ]
  },
  {
   "cell_type": "code",
   "execution_count": 25,
   "metadata": {},
   "outputs": [
    {
     "name": "stdout",
     "output_type": "stream",
     "text": [
      "['year', 'score', 'pass']\n",
      "{'year': 1, 'score': 10.5, 'pass': True}\n"
     ]
    }
   ],
   "source": [
    "list1 = list(dict5)\n",
    "print(list1)  # 키만 추출\n",
    "print(dict5)"
   ]
  },
  {
   "cell_type": "code",
   "execution_count": 29,
   "metadata": {},
   "outputs": [
    {
     "name": "stdout",
     "output_type": "stream",
     "text": [
      "dict_items([('year', 1), ('score', 10.5), ('pass', True)])\n",
      "<class 'dict_items'>\n",
      "[('year', 1), ('score', 10.5), ('pass', True)]\n",
      "<class 'list'>\n"
     ]
    }
   ],
   "source": [
    "items = dict5.items()\n",
    "print(items)         # list에 tuple이 요소로 출력됨.\n",
    "print(type(items)) # <class 'dict_items'>\n",
    "list2 = list(items)\n",
    "print(list2)\n",
    "print(type(list2))"
   ]
  },
  {
   "cell_type": "code",
   "execution_count": null,
   "metadata": {},
   "outputs": [],
   "source": []
  },
  {
   "cell_type": "code",
   "execution_count": null,
   "metadata": {},
   "outputs": [],
   "source": []
  },
  {
   "cell_type": "code",
   "execution_count": null,
   "metadata": {},
   "outputs": [],
   "source": []
  },
  {
   "cell_type": "code",
   "execution_count": null,
   "metadata": {},
   "outputs": [],
   "source": []
  }
 ],
 "metadata": {
  "kernelspec": {
   "display_name": "machine",
   "language": "python",
   "name": "machine"
  },
  "language_info": {
   "codemirror_mode": {
    "name": "ipython",
    "version": 3
   },
   "file_extension": ".py",
   "mimetype": "text/x-python",
   "name": "python",
   "nbconvert_exporter": "python",
   "pygments_lexer": "ipython3",
   "version": "3.6.9"
  }
 },
 "nbformat": 4,
 "nbformat_minor": 2
}
