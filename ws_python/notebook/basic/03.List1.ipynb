{
 "cells": [
  {
   "cell_type": "markdown",
   "metadata": {},
   "source": [
    "# 문법실습"
   ]
  },
  {
   "cell_type": "markdown",
   "metadata": {},
   "source": [
    "## List"
   ]
  },
  {
   "cell_type": "code",
   "execution_count": 4,
   "metadata": {
    "scrolled": true
   },
   "outputs": [
    {
     "name": "stdout",
     "output_type": "stream",
     "text": [
      "<class 'list'>\n",
      "cat\n",
      "rat\n"
     ]
    }
   ],
   "source": [
    "data = ['cat', 'bat', 'rat']\n",
    "print(type(data))\n",
    "print(data[0])\n",
    "print(data[-1])"
   ]
  },
  {
   "cell_type": "code",
   "execution_count": 2,
   "metadata": {},
   "outputs": [
    {
     "name": "stdout",
     "output_type": "stream",
     "text": [
      "[['cat', 'bat', 'rat'], [10, 20, 30]]\n",
      "['cat', 'bat', 'rat']\n",
      "cat\n",
      "2\n",
      "3\n",
      "[['cat', 'bat', 'rat'], [10, 20, 30], [1, 2]]\n"
     ]
    }
   ],
   "source": [
    "data = [['cat', 'bat', 'rat'],\n",
    "        [10, 20, 30]]\n",
    "print(data)\n",
    "print(data[0])      # row 첫번째 행\n",
    "print(data[0][0])   # row, col\n",
    "print(len(data))    # 행의 수\n",
    "print(len(data[0])) # 첫번째 행의 요소의 갯수\n",
    "data.append([1, 2])\n",
    "print(data)          # 행열이 아님, 행과 열이 일치하지 않아도 됨."
   ]
  },
  {
   "cell_type": "code",
   "execution_count": 18,
   "metadata": {},
   "outputs": [
    {
     "name": "stdout",
     "output_type": "stream",
     "text": [
      "[['cat', 'bat', 'rat'], [10, 20, 30], [1, 2], 'A', 'B', 'C']\n",
      "[['cat', 'bat', 'rat'], [10, 20, 30], [1, 2], ['A', 'B', 'C']]\n"
     ]
    }
   ],
   "source": [
    "data2 = data + ['A', 'B', 'C']\n",
    "print(data2)  # scala 형식으로 추가 \n",
    "data3 = data + [['A', 'B', 'C']]\n",
    "print(data3)  # 1차원 tensor(1차원 배열) 형태로 추가"
   ]
  },
  {
   "cell_type": "code",
   "execution_count": 5,
   "metadata": {},
   "outputs": [
    {
     "name": "stdout",
     "output_type": "stream",
     "text": [
      "[1, 2, 3, 1, 2, 3, 1, 2, 3]\n"
     ]
    }
   ],
   "source": [
    "data = [1, 2, 3] * 3\n",
    "print(data)"
   ]
  },
  {
   "cell_type": "code",
   "execution_count": 3,
   "metadata": {},
   "outputs": [
    {
     "name": "stdout",
     "output_type": "stream",
     "text": [
      "[1, 2, 3, 1, 2, 3, 1, 2, 3]\n",
      "  1   2   3\n",
      "[100, 1, 2, 3]\n",
      "[100, 1, 2, 3, 200]\n"
     ]
    }
   ],
   "source": [
    "data = [1, 2, 3] * 3\n",
    "print(data)\n",
    "data = [1, 2, 3]\n",
    "a, b, c = data\n",
    "print('%3d %3d %3d' % (a, b, c))\n",
    "data.insert(0, 100)\n",
    "print(data)\n",
    "data.append(200)\n",
    "print(data)"
   ]
  },
  {
   "cell_type": "code",
   "execution_count": 26,
   "metadata": {},
   "outputs": [
    {
     "name": "stdout",
     "output_type": "stream",
     "text": [
      "[100, 150, 2, 3, 200]\n"
     ]
    }
   ],
   "source": [
    "data[1] = 150\n",
    "print(data)"
   ]
  },
  {
   "cell_type": "code",
   "execution_count": 27,
   "metadata": {},
   "outputs": [
    {
     "name": "stdout",
     "output_type": "stream",
     "text": [
      "[100, 150, 3, 200]\n"
     ]
    }
   ],
   "source": [
    "data.remove(data[2])\n",
    "print(data)"
   ]
  },
  {
   "cell_type": "code",
   "execution_count": 28,
   "metadata": {},
   "outputs": [
    {
     "name": "stdout",
     "output_type": "stream",
     "text": [
      "[100, 150, 200]\n"
     ]
    }
   ],
   "source": [
    "data.remove(data[2]) # index를 이용한 값의 삭제\n",
    "print(data)"
   ]
  },
  {
   "cell_type": "code",
   "execution_count": 29,
   "metadata": {},
   "outputs": [
    {
     "name": "stdout",
     "output_type": "stream",
     "text": [
      "[100, 150]\n"
     ]
    }
   ],
   "source": [
    "data.remove(200)  # 값의 삭제\n",
    "print(data)"
   ]
  },
  {
   "cell_type": "code",
   "execution_count": 35,
   "metadata": {},
   "outputs": [
    {
     "name": "stdout",
     "output_type": "stream",
     "text": [
      "[100, 150, 'a', 'A', '가', '나']\n",
      "[100, 150, 200, 400, 500]\n",
      "[500, 400, 200, 150, 100]\n"
     ]
    }
   ],
   "source": [
    "data = [100, 150, \"a\", \"A\", \"가\", \"나\"]\n",
    "print(data)\n",
    "# data.sort() # ERROR 문자열과 숫자가 동시에 존재하면 정렬안됨.\n",
    "data = [500, 400, 100, 150,200]\n",
    "data.sort()\n",
    "print(data)\n",
    "data.sort(reverse=True)\n",
    "print(data)"
   ]
  },
  {
   "cell_type": "code",
   "execution_count": 37,
   "metadata": {},
   "outputs": [
    {
     "name": "stdout",
     "output_type": "stream",
     "text": [
      "['A', 'Z', 'a', 'z', '가', '나']\n",
      "['A', 'a', 'Z', 'z', '가', '나']\n"
     ]
    }
   ],
   "source": [
    "data = [\"a\", \"z\", \"A\", \"Z\", \"가\", \"나\"]\n",
    "data.sort()  # 문자 코드표 기준 정렬\n",
    "print(data) \n",
    "data.sort(key=str.lower)  # 문자의미 기준 정렬\n",
    "print(data) \n"
   ]
  },
  {
   "cell_type": "code",
   "execution_count": 5,
   "metadata": {},
   "outputs": [
    {
     "name": "stdout",
     "output_type": "stream",
     "text": [
      "['3', '0', '0']\n",
      "3,0,0\n"
     ]
    }
   ],
   "source": [
    "drinking = 3\n",
    "life = 0\n",
    "family = 0\n",
    "\n",
    "data=[]\n",
    "data.append(str(drinking))\n",
    "data.append(str(life))\n",
    "data.append(str(family))\n",
    "\n",
    "print(data)\n",
    "data2 = \",\".join(data)\n",
    "print(data2)"
   ]
  },
  {
   "cell_type": "code",
   "execution_count": null,
   "metadata": {},
   "outputs": [],
   "source": []
  },
  {
   "cell_type": "code",
   "execution_count": null,
   "metadata": {},
   "outputs": [],
   "source": []
  },
  {
   "cell_type": "code",
   "execution_count": null,
   "metadata": {},
   "outputs": [],
   "source": []
  },
  {
   "cell_type": "code",
   "execution_count": null,
   "metadata": {},
   "outputs": [],
   "source": []
  },
  {
   "cell_type": "code",
   "execution_count": null,
   "metadata": {},
   "outputs": [],
   "source": []
  }
 ],
 "metadata": {
  "kernelspec": {
   "display_name": "machine",
   "language": "python",
   "name": "machine"
  },
  "language_info": {
   "codemirror_mode": {
    "name": "ipython",
    "version": 3
   },
   "file_extension": ".py",
   "mimetype": "text/x-python",
   "name": "python",
   "nbconvert_exporter": "python",
   "pygments_lexer": "ipython3",
   "version": "3.6.9"
  }
 },
 "nbformat": 4,
 "nbformat_minor": 2
}
