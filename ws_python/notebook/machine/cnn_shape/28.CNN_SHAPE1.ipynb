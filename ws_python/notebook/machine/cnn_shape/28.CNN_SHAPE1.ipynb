{
 "cells": [
  {
   "cell_type": "code",
   "execution_count": 1,
   "metadata": {},
   "outputs": [
    {
     "name": "stderr",
     "output_type": "stream",
     "text": [
      "Using TensorFlow backend.\n"
     ]
    }
   ],
   "source": [
    "import warnings\n",
    "warnings.filterwarnings(action='ignore')\n",
    "\n",
    "import os\n",
    "import time\n",
    "\n",
    "import numpy as np\n",
    "import matplotlib.pyplot as plt\n",
    "from matplotlib import font_manager, rc\n",
    "\n",
    "font_name = font_manager.FontProperties(fname=\"C:/Windows/Fonts/malgun.ttf\").get_name()\n",
    "# windows 10\n",
    "# font_name = font_manager.FontProperties(fname=\"C:/Windows/Fonts/malgunsl.ttf\").get_name()\n",
    "rc('font', family=font_name)           # 맑은 고딕 폰트 지정\n",
    "plt.rcParams[\"font.size\"] = 12         # 글자 크기\n",
    "# plt.rcParams[\"figure.figsize\"] = (10, 4) # 10:4의 그래프 비율\n",
    "plt.rcParams['axes.unicode_minus'] = False  # minus 부호는 unicode 적용시 한글이 깨짐으로 설정\n",
    "\n",
    "from keras.models import Sequential\n",
    "from keras.layers import Dense\n",
    "from keras.layers import Dropout\n",
    "from keras.models import load_model\n",
    "\n",
    "from keras.callbacks import EarlyStopping\n",
    "from keras.callbacks import ModelCheckpoint\n",
    "from keras.utils import to_categorical\n",
    "\n",
    "from keras.datasets import mnist\n",
    "\n",
    "from keras.layers import Conv2D\n",
    "from keras.layers import MaxPooling2D\n",
    "from keras.layers import Flatten\n",
    "\n",
    "from keras.preprocessing.image import ImageDataGenerator"
   ]
  },
  {
   "cell_type": "code",
   "execution_count": 2,
   "metadata": {},
   "outputs": [
    {
     "name": "stdout",
     "output_type": "stream",
     "text": [
      "Found 18 images belonging to 3 classes.\n",
      "Found 13 images belonging to 3 classes.\n"
     ]
    }
   ],
   "source": [
    "# 훈련용 데이터 생성기, 이미지를 데이터로 바로 사용\n",
    "# rescale=1./255: 정수를 실수로 변경하기위해 픽셀값을 255로 나눔\n",
    "# 이미지를 수치로 바꾸는 vector 및 정수를 실수로 변경하는 정규화 자동 지원\n",
    "width=24  # 이미지 너비 픽셀\n",
    "height=24 # 이미지 높이 픽셀\n",
    "train_datagen = ImageDataGenerator(rescale=1./255)\n",
    "train_generator = train_datagen.flow_from_directory(\n",
    "        './train',\n",
    "        target_size=(width, height),     # 24 x 24로 자동으로 픽셀을 줄임.\n",
    "        batch_size=1,             # 이미지를 1건씩 처리\n",
    "        class_mode='categorical') # 다중 분류\n",
    "\n",
    "vali_datagen = ImageDataGenerator(rescale=1./255)\n",
    "vali_generator = vali_datagen.flow_from_directory(\n",
    "        './validation',\n",
    "        target_size=(width, height),    \n",
    "        batch_size=1,\n",
    "        class_mode='categorical')\n",
    "\n",
    "# Found 18 images belonging to 3 classes.\n",
    "# 3개의 그룹에 모두 18개의 이미지가 존재함, 여기서 그룹은 폴더를 말함."
   ]
  },
  {
   "cell_type": "code",
   "execution_count": 3,
   "metadata": {},
   "outputs": [
    {
     "name": "stdout",
     "output_type": "stream",
     "text": [
      "Epoch 1/50\n",
      "18/18 [==============================] - 18s 1s/step - loss: 1.3444 - acc: 0.2222 - val_loss: 1.0804 - val_acc: 0.2308\n",
      "Epoch 2/50\n",
      "18/18 [==============================] - 0s 23ms/step - loss: 0.9424 - acc: 0.7778 - val_loss: 0.8158 - val_acc: 0.6923\n",
      "Epoch 3/50\n",
      "18/18 [==============================] - 0s 13ms/step - loss: 0.6360 - acc: 1.0000 - val_loss: 0.5543 - val_acc: 0.9231\n",
      "Epoch 4/50\n",
      "18/18 [==============================] - 0s 16ms/step - loss: 0.2779 - acc: 1.0000 - val_loss: 0.4587 - val_acc: 0.6923\n",
      "Epoch 5/50\n",
      "18/18 [==============================] - 0s 17ms/step - loss: 0.1503 - acc: 1.0000 - val_loss: 0.2300 - val_acc: 0.9231\n",
      "Epoch 6/50\n",
      "18/18 [==============================] - 0s 18ms/step - loss: 0.0707 - acc: 1.0000 - val_loss: 0.2185 - val_acc: 0.9231\n",
      "Epoch 7/50\n",
      "18/18 [==============================] - 0s 13ms/step - loss: 0.0308 - acc: 1.0000 - val_loss: 0.1907 - val_acc: 0.9231\n",
      "Epoch 8/50\n",
      "18/18 [==============================] - 0s 16ms/step - loss: 0.0197 - acc: 1.0000 - val_loss: 0.2474 - val_acc: 0.9231\n",
      "Epoch 9/50\n",
      "18/18 [==============================] - 0s 18ms/step - loss: 0.0147 - acc: 1.0000 - val_loss: 0.1796 - val_acc: 0.9231\n",
      "Epoch 10/50\n",
      "18/18 [==============================] - 0s 17ms/step - loss: 0.0082 - acc: 1.0000 - val_loss: 0.2294 - val_acc: 0.9231\n",
      "Epoch 11/50\n",
      "18/18 [==============================] - 0s 17ms/step - loss: 0.0060 - acc: 1.0000 - val_loss: 0.1958 - val_acc: 0.9231\n",
      "Epoch 12/50\n",
      "18/18 [==============================] - 0s 14ms/step - loss: 0.0045 - acc: 1.0000 - val_loss: 0.1844 - val_acc: 0.9231\n",
      "Epoch 13/50\n",
      "18/18 [==============================] - 0s 15ms/step - loss: 0.0034 - acc: 1.0000 - val_loss: 0.2116 - val_acc: 0.9231\n",
      "Epoch 14/50\n",
      "18/18 [==============================] - 0s 15ms/step - loss: 0.0035 - acc: 1.0000 - val_loss: 0.1710 - val_acc: 0.9231\n",
      "Epoch 15/50\n",
      "18/18 [==============================] - 0s 15ms/step - loss: 0.0021 - acc: 1.0000 - val_loss: 0.2051 - val_acc: 0.9231\n",
      "Epoch 16/50\n",
      "18/18 [==============================] - 0s 16ms/step - loss: 0.0023 - acc: 1.0000 - val_loss: 0.2446 - val_acc: 0.9231\n",
      "Epoch 17/50\n",
      "18/18 [==============================] - 0s 16ms/step - loss: 0.0017 - acc: 1.0000 - val_loss: 0.2025 - val_acc: 0.9231\n",
      "Epoch 18/50\n",
      "18/18 [==============================] - 0s 17ms/step - loss: 0.0015 - acc: 1.0000 - val_loss: 0.1991 - val_acc: 0.9231\n",
      "Epoch 19/50\n",
      "18/18 [==============================] - 0s 15ms/step - loss: 0.0012 - acc: 1.0000 - val_loss: 0.2045 - val_acc: 0.9231\n",
      "Epoch 20/50\n",
      "18/18 [==============================] - 0s 16ms/step - loss: 0.0011 - acc: 1.0000 - val_loss: 0.2270 - val_acc: 0.9231\n",
      "Epoch 21/50\n",
      "18/18 [==============================] - 0s 16ms/step - loss: 8.5871e-04 - acc: 1.0000 - val_loss: 0.1777 - val_acc: 0.9231\n",
      "Epoch 22/50\n",
      "18/18 [==============================] - 0s 15ms/step - loss: 6.6663e-04 - acc: 1.0000 - val_loss: 0.2020 - val_acc: 0.9231\n",
      "Epoch 23/50\n",
      "18/18 [==============================] - 0s 16ms/step - loss: 6.8659e-04 - acc: 1.0000 - val_loss: 0.1740 - val_acc: 0.9231\n",
      "Epoch 24/50\n",
      "18/18 [==============================] - 0s 14ms/step - loss: 7.1817e-04 - acc: 1.0000 - val_loss: 0.1864 - val_acc: 0.9231\n",
      "Runtime: 25.26 초\n"
     ]
    }
   ],
   "source": [
    "model = Sequential()\n",
    "# 32: 마스크(커널, 필터)의 갯수\n",
    "# (3, 3): 마스크(커널, 필터)의 크기\n",
    "# input_shape = (width, height, 1): 24 X 24 픽셀의 Color(3) 이미지\n",
    "model.add(Conv2D(32, (3, 3), input_shape = (width, height, 3), activation='relu'))\n",
    "model.add(Conv2D(64, (3, 3), activation='relu'))\n",
    "model.add(MaxPooling2D(pool_size=(2, 2)))\n",
    "model.add(Dropout(0.25))\n",
    "model.add(Flatten()) # 2차원 텐서를 1차원 텐서로 변환\n",
    "\n",
    "model.add(Dense(3, activation='softmax')) # 3 classes, 도형 3 종류, softmax: 다중 분류\n",
    "\n",
    "model.compile(optimizer='adam', loss='categorical_crossentropy', metrics=['accuracy'])\n",
    "early_stopping = EarlyStopping(monitor='loss', patience=2)\n",
    "\n",
    "start = time.time()\n",
    "hist = model.fit_generator(\n",
    "        train_generator,            # 훈련 데이터\n",
    "        epochs=50,                 # 학습 횟수\n",
    "        validation_data=vali_generator,  # 테스트 데이터\n",
    "        callbacks=[early_stopping] ) \n",
    "end = time.time()\n",
    "print('Runtime: %0.2f 초' % (end-start))\n",
    "# CPU: 5 s\n",
    "# GPU:  , Colab GPU: , Colab,  TPU:  "
   ]
  },
  {
   "cell_type": "code",
   "execution_count": 4,
   "metadata": {},
   "outputs": [
    {
     "name": "stdout",
     "output_type": "stream",
     "text": [
      "_________________________________________________________________\n",
      "Layer (type)                 Output Shape              Param #   \n",
      "=================================================================\n",
      "conv2d_1 (Conv2D)            (None, 22, 22, 32)        896       \n",
      "_________________________________________________________________\n",
      "conv2d_2 (Conv2D)            (None, 20, 20, 64)        18496     \n",
      "_________________________________________________________________\n",
      "max_pooling2d_1 (MaxPooling2 (None, 10, 10, 64)        0         \n",
      "_________________________________________________________________\n",
      "dropout_1 (Dropout)          (None, 10, 10, 64)        0         \n",
      "_________________________________________________________________\n",
      "flatten_1 (Flatten)          (None, 6400)              0         \n",
      "_________________________________________________________________\n",
      "dense_1 (Dense)              (None, 3)                 19203     \n",
      "=================================================================\n",
      "Total params: 38,595\n",
      "Trainable params: 38,595\n",
      "Non-trainable params: 0\n",
      "_________________________________________________________________\n"
     ]
    }
   ],
   "source": [
    "model.summary()"
   ]
  },
  {
   "cell_type": "code",
   "execution_count": 5,
   "metadata": {},
   "outputs": [
    {
     "data": {
      "image/png": "[encoded data removed]",
      "text/plain": [
       "<Figure size 720x360 with 2 Axes>"
      ]
     },
     "metadata": {
      "needs_background": "light"
     },
     "output_type": "display_data"
    }
   ],
   "source": [
    "fig, loss_ax = plt.subplots()\n",
    "# plt.figure(figsize=(6,4)) # ERROR\n",
    "fig.set_size_inches(10, 5)  # 챠트 크기 설정\n",
    "\n",
    "acc_ax = loss_ax.twinx()  # 오른쪽 y 출 설정\n",
    "\n",
    "loss_ax.plot(hist.history['loss'], 'y', label='train loss')   # 훈련 손실\n",
    "loss_ax.plot(hist.history['val_loss'], 'r', label='val loss') # 검증 손실, 학습의 우수성 평가 척도\n",
    "loss_ax.set_ylim([0.0, 1.0]) # 왼쪽 y 축, 값을 반영하여 변경\n",
    "\n",
    "acc_ax.plot(hist.history['acc'], 'b', label='train acc')   # 훈련 정확도\n",
    "acc_ax.plot(hist.history['val_acc'], 'g', label='val acc') # 검증 정확도\n",
    "acc_ax.set_ylim([0.0, 1.0])  # 오른쪽 y 축, 0 ~100 %를 의미\n",
    "\n",
    "loss_ax.set_xlabel('epoch')  # x축 레이블\n",
    "loss_ax.set_ylabel('loss')     # 왼쪽 y 레이블\n",
    "acc_ax.set_ylabel('accuray') # 오른쪽 y 레이블\n",
    "\n",
    "loss_ax.legend(loc='upper left')  # 좌측 y 축 기준 범례 위치 설정\n",
    "acc_ax.legend(loc='lower left')   # 우측 y 축 기준 범례 위치 설정\n",
    "\n",
    "plt.show()\n"
   ]
  },
  {
   "cell_type": "code",
   "execution_count": 6,
   "metadata": {},
   "outputs": [
    {
     "name": "stdout",
     "output_type": "stream",
     "text": [
      "-- Evaluate --\n",
      "13/13 [==============================] - 0s 5ms/step\n",
      "acc: 92.31%\n"
     ]
    }
   ],
   "source": [
    "print(\"-- Evaluate --\")\n",
    "scores = model.evaluate_generator(vali_generator, verbose=1)  \n",
    "print(\"%s: %.2f%%\" %(model.metrics_names[1], scores[1]*100))"
   ]
  },
  {
   "cell_type": "code",
   "execution_count": 7,
   "metadata": {},
   "outputs": [
    {
     "name": "stdout",
     "output_type": "stream",
     "text": [
      "-- Predict --\n",
      "{'circle': 0, 'rectangle': 1, 'triangle': 2}\n",
      "<class 'numpy.ndarray'>\n",
      "(13, 3)\n",
      "[[0.022 0.978 0.000]\n",
      " [0.984 0.016 0.000]\n",
      " [0.905 0.095 0.000]\n",
      " [0.015 0.985 0.000]\n",
      " [0.000 0.000 1.000]\n",
      " [0.996 0.004 0.000]\n",
      " [0.000 0.000 1.000]\n",
      " [0.000 0.000 1.000]\n",
      " [1.000 0.000 0.000]\n",
      " [0.999 0.001 0.000]\n",
      " [0.004 0.996 0.000]\n",
      " [0.996 0.004 0.000]\n",
      " [0.001 0.999 0.000]]\n"
     ]
    }
   ],
   "source": [
    "print(\"-- Predict --\")\n",
    "output = model.predict_generator(vali_generator)\n",
    "# 실수를 소수점 3자리까지 출력 설정\n",
    "np.set_printoptions(formatter={'float': lambda x: \"{0:0.3f}\".format(x)})\n",
    "print(vali_generator.class_indices) # 그룹의 index {'circle': 0, 'rectangle': 1, 'triangle': 2}\n",
    "print(type(output))\n",
    "print(output.shape)\n",
    "print(output)"
   ]
  },
  {
   "cell_type": "code",
   "execution_count": 8,
   "metadata": {
    "scrolled": true
   },
   "outputs": [
    {
     "name": "stdout",
     "output_type": "stream",
     "text": [
      "-----------------------\n",
      "          사각형       \n",
      "-----------------------\n",
      "     원              \n",
      "-----------------------\n",
      "     원              \n",
      "-----------------------\n",
      "          사각형       \n",
      "-----------------------\n",
      "                 삼각형\n",
      "-----------------------\n",
      "     원              \n",
      "-----------------------\n",
      "                 삼각형\n",
      "-----------------------\n",
      "                 삼각형\n",
      "-----------------------\n",
      "     원              \n",
      "-----------------------\n",
      "     원              \n",
      "-----------------------\n",
      "          사각형       \n",
      "-----------------------\n",
      "     원              \n",
      "-----------------------\n",
      "          사각형       \n"
     ]
    }
   ],
   "source": [
    "for item in output:\n",
    "    print('-----------------------')\n",
    "    if (item[0] > 0.5):\n",
    "        print('%6s %6s %6s' %('원','',''))     # 4\n",
    "    elif (item[1] > 0.5):\n",
    "        print('%6s %6s %6s' %('','사각형','')) # 5\n",
    "    elif (item[2] > 0.5):\n",
    "        print('%6s %6s %6s' %('','','삼각형')) # 3\n",
    "    else:\n",
    "        print('알수 없는 도형입니다.')"
   ]
  },
  {
   "cell_type": "code",
   "execution_count": 9,
   "metadata": {},
   "outputs": [
    {
     "name": "stdout",
     "output_type": "stream",
     "text": [
      "-----------------------\n",
      "          사각형       \n",
      "-----------------------\n",
      "     원              \n",
      "-----------------------\n",
      "     원              \n",
      "-----------------------\n",
      "          사각형       \n",
      "-----------------------\n",
      "                 삼각형\n",
      "-----------------------\n",
      "     원              \n",
      "-----------------------\n",
      "                 삼각형\n",
      "-----------------------\n",
      "                 삼각형\n",
      "-----------------------\n",
      "     원              \n",
      "-----------------------\n",
      "     원              \n",
      "-----------------------\n",
      "          사각형       \n",
      "-----------------------\n",
      "     원              \n",
      "-----------------------\n",
      "          사각형       \n"
     ]
    }
   ],
   "source": [
    "# 최대값의 index를 찾아줌으로 정확도가 높음\n",
    "# 미세한 차이도 비교 가능함으로 권장\n",
    "for item in output:\n",
    "    print('-----------------------')\n",
    "    idx = np.argmax(item) # 0 ~ 2\n",
    "    \n",
    "    if (idx == 0):\n",
    "        print('%6s %6s %6s' %('원','',''))     # 4\n",
    "    elif (idx == 1):\n",
    "        print('%6s %6s %6s' %('','사각형','')) # 5\n",
    "    elif (idx == 2):\n",
    "        print('%6s %6s %6s' %('','','삼각형')) # 3"
   ]
  },
  {
   "cell_type": "code",
   "execution_count": 11,
   "metadata": {},
   "outputs": [],
   "source": [
    "def display1(data): # 2차원 배열(2차원 텐서)을 전달 받음, argmax 사용\n",
    "    print(data)\n",
    "    print(type(data))\n",
    "    sw = 0\n",
    "    if data[0][0] > 0.5:\n",
    "        sw = '원'\n",
    "    elif data[0][1] > 0.5:\n",
    "        sw = '사각형'\n",
    "    elif data[0][2] > 0.5:\n",
    "        sw = '삼각형'\n",
    "    else:\n",
    "        sw = '알수없는 도형'\n",
    "        \n",
    "    return sw    \n",
    " \n",
    "def display2(data):   # argmax를 사용하는 2차원 배열(2차원 텐서) \n",
    "    # print(data.shape)\n",
    "    # print(data[0])\n",
    "    # print(type(data[0]))\n",
    "    sw= np.argmax(data[0], axis=0) # 0:열, 1: 행\n",
    "    # print('sw:', sw)\n",
    " \n",
    "    if sw == 0:\n",
    "        sw = '원'\n",
    "    elif sw == 1:\n",
    "        sw = '사각형'\n",
    "    elif sw == 2:\n",
    "        sw = '삼각형'\n",
    "        \n",
    "    return sw     \n",
    "\n",
    "def display3(data):  # argmax를 사용하는 1차원 배열(1차원 텐서) 1차원 배열(1차원 텐서)을 전달받음\n",
    "    # print(data.shape)\n",
    "    # print(data)\n",
    "    # print(type(data))\n",
    "    sw= np.argmax(data, axis=0) # 0:열, 1: 행\n",
    "    # print('sw:', sw)\n",
    " \n",
    "    if sw == 0:\n",
    "        sw = '원'\n",
    "    elif sw == 1:\n",
    "        sw = '사각형'\n",
    "    elif sw == 2:\n",
    "        sw = '삼각형'\n",
    "        \n",
    "    return sw     "
   ]
  },
  {
   "cell_type": "code",
   "execution_count": 53,
   "metadata": {},
   "outputs": [],
   "source": [
    "model.save('./shape.h5')"
   ]
  },
  {
   "cell_type": "code",
   "execution_count": 54,
   "metadata": {},
   "outputs": [],
   "source": [
    "model = load_model('./shape.h5')"
   ]
  },
  {
   "cell_type": "code",
   "execution_count": 56,
   "metadata": {},
   "outputs": [
    {
     "name": "stdout",
     "output_type": "stream",
     "text": [
      "Found 1 images belonging to 1 classes.\n",
      "(1, 3)\n",
      "[[0.913 0.085 0.002]]\n",
      "<class 'numpy.ndarray'>\n",
      "원 원\n",
      "원 원\n"
     ]
    }
   ],
   "source": [
    "# 테스트\n",
    "use_datagen = ImageDataGenerator(rescale=1./255)\n",
    "use_generator = use_datagen.flow_from_directory('./use1', target_size=(24, 24),    \n",
    "                      batch_size=1, class_mode='categorical')\n",
    "output = model.predict_generator(use_generator)\n",
    "print(output.shape)\n",
    "print('원', display1(output))\n",
    "print('원', display2(output))"
   ]
  },
  {
   "cell_type": "code",
   "execution_count": 57,
   "metadata": {},
   "outputs": [
    {
     "name": "stdout",
     "output_type": "stream",
     "text": [
      "Found 1 images belonging to 1 classes.\n",
      "(1, 3)\n",
      "[[0.057 0.943 0.000]]\n",
      "<class 'numpy.ndarray'>\n",
      "사각형 사각형\n",
      "사각형 사각형\n"
     ]
    }
   ],
   "source": [
    "use_datagen = ImageDataGenerator(rescale=1./255)\n",
    "use_generator = use_datagen.flow_from_directory('./use2', target_size=(24, 24),    \n",
    "        batch_size=1, class_mode='categorical')\n",
    "output = model.predict_generator(use_generator)\n",
    "print(output.shape)\n",
    "print('사각형', display1(output))\n",
    "print('사각형', display2(output))"
   ]
  },
  {
   "cell_type": "code",
   "execution_count": 58,
   "metadata": {},
   "outputs": [
    {
     "name": "stdout",
     "output_type": "stream",
     "text": [
      "Found 1 images belonging to 1 classes.\n",
      "(1, 3)\n",
      "[[0.007 0.002 0.992]]\n",
      "<class 'numpy.ndarray'>\n",
      "삼각형 삼각형\n",
      "삼각형 삼각형\n"
     ]
    }
   ],
   "source": [
    "use_datagen = ImageDataGenerator(rescale=1./255)\n",
    "use_generator = use_datagen.flow_from_directory('./use3', target_size=(24, 24),    \n",
    "        batch_size=1, class_mode='categorical')\n",
    "output = model.predict_generator(use_generator)\n",
    "print(output.shape)\n",
    "print('삼각형', display1(output))\n",
    "print('삼각형', display2(output))"
   ]
  },
  {
   "cell_type": "code",
   "execution_count": 59,
   "metadata": {},
   "outputs": [
    {
     "name": "stdout",
     "output_type": "stream",
     "text": [
      "Found 1 images belonging to 1 classes.\n",
      "(1, 3)\n",
      "[[0.952 0.045 0.003]]\n",
      "<class 'numpy.ndarray'>\n",
      "원 원\n",
      "원 원\n"
     ]
    }
   ],
   "source": [
    "use_datagen = ImageDataGenerator(rescale=1./255)\n",
    "use_generator = use_datagen.flow_from_directory('./use4', target_size=(24, 24),    \n",
    "        batch_size=1, class_mode='categorical')\n",
    "output = model.predict_generator(use_generator)\n",
    "print(output.shape)\n",
    "print('원', display1(output))\n",
    "print('원', display2(output))"
   ]
  },
  {
   "cell_type": "code",
   "execution_count": 60,
   "metadata": {},
   "outputs": [
    {
     "name": "stdout",
     "output_type": "stream",
     "text": [
      "Found 1 images belonging to 1 classes.\n",
      "(1, 3)\n",
      "[[0.396 0.478 0.126]]\n",
      "<class 'numpy.ndarray'>\n",
      "사각형 알수없는 도형\n",
      "사각형 사각형\n"
     ]
    }
   ],
   "source": [
    "# 24픽셀로 학습한 모델에 128직셀 테스트로 정확도 떨어짐\n",
    "use_datagen = ImageDataGenerator(rescale=1./255)\n",
    "use_generator = use_datagen.flow_from_directory('./use5', target_size=(24, 24),    \n",
    "        batch_size=1, class_mode='categorical')\n",
    "output = model.predict_generator(use_generator)\n",
    "print(output.shape)\n",
    "print('사각형', display1(output))\n",
    "print('사각형', display2(output))"
   ]
  },
  {
   "cell_type": "code",
   "execution_count": 62,
   "metadata": {},
   "outputs": [
    {
     "name": "stdout",
     "output_type": "stream",
     "text": [
      "Found 1 images belonging to 1 classes.\n",
      "(1, 3)\n",
      "[[0.433 0.312 0.255]]\n",
      "<class 'numpy.ndarray'>\n",
      "삼각형 알수없는 도형\n",
      "삼각형 원\n"
     ]
    }
   ],
   "source": [
    "# 실제 이미지와 학습이미의 크기가 많이 다르면 픽셀이 분실됨.\n",
    "use_datagen = ImageDataGenerator(rescale=1./255)\n",
    "use_generator = use_datagen.flow_from_directory('./use6', target_size=(24, 24),    \n",
    "        batch_size=1, class_mode='categorical')\n",
    "output = model.predict_generator(use_generator)\n",
    "print(output.shape)\n",
    "print('삼각형', display1(output))\n",
    "print('삼각형', display2(output))"
   ]
  },
  {
   "cell_type": "code",
   "execution_count": null,
   "metadata": {},
   "outputs": [],
   "source": []
  }
 ],
 "metadata": {
  "kernelspec": {
   "display_name": "machinegpu",
   "language": "python",
   "name": "machinegpu"
  },
  "language_info": {
   "codemirror_mode": {
    "name": "ipython",
    "version": 3
   },
   "file_extension": ".py",
   "mimetype": "text/x-python",
   "name": "python",
   "nbconvert_exporter": "python",
   "pygments_lexer": "ipython3",
   "version": "3.6.9"
  }
 },
 "nbformat": 4,
 "nbformat_minor": 2
}
