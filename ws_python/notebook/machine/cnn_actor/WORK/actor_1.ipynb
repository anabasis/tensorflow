{
 "cells": [
  {
   "cell_type": "code",
   "execution_count": 1,
   "metadata": {},
   "outputs": [
    {
     "name": "stderr",
     "output_type": "stream",
     "text": [
      "Using TensorFlow backend.\n"
     ]
    }
   ],
   "source": [
    "import warnings\n",
    "warnings.filterwarnings(action='ignore')\n",
    "\n",
    "import os \n",
    "import random\n",
    "import sys\n",
    "import time\n",
    "from time import localtime, strftime\n",
    "  \n",
    "import numpy as np\n",
    "import tensorflow as tf\n",
    "  \n",
    "import cv2\n",
    "  \n",
    "import matplotlib\n",
    "import matplotlib.pyplot as plt\n",
    "from matplotlib import font_manager, rc\n",
    "\n",
    "import keras\n",
    "\n",
    "\n",
    "from keras.models import Model\n",
    "from keras.layers import Input\n",
    "\n",
    "from keras.models import Sequential\n",
    "from keras.layers import Activation\n",
    "from keras.layers import Dense\n",
    "from keras.layers import Dropout\n",
    "from keras.utils import to_categorical\n",
    "from keras.utils import plot_model\n",
    " \n",
    "from keras.layers import Conv2D\n",
    "from keras.layers import MaxPooling2D\n",
    "from keras.layers import Flatten\n",
    "from keras.utils import np_utils\n",
    "from keras.utils import to_categorical\n",
    "from keras.utils import np_utils\n",
    "from keras.callbacks import EarlyStopping\n",
    "from keras.callbacks import ModelCheckpoint\n",
    "from keras.models import load_model\n",
    "from keras import layers\n",
    "from keras import models\n",
    "from keras import optimizers\n",
    " \n",
    "from keras.preprocessing.image import ImageDataGenerator\n",
    "from keras.preprocessing.image import array_to_img, img_to_array, load_img\n",
    "  \n",
    "from sklearn.preprocessing import LabelEncoder  # class가 문자열인경우 변환\n",
    "from sklearn.model_selection import train_test_split # 학습셋과 테스트셋을 나눔\n",
    "from sklearn.model_selection import StratifiedKFold  # K겹 교차 검증\n",
    " \n",
    " \n",
    " \n",
    "# 기본 제공 데이터 \n",
    "from keras.datasets import mnist\n",
    "from keras.datasets import cifar10\n",
    " \n",
    "\n",
    "font_name = font_manager.FontProperties(fname=\"C:/Windows/Fonts/malgun.ttf\").get_name()\n",
    "# windows 10\n",
    "# font_name = font_manager.FontProperties(fname=\"C:/Windows/Fonts/malgunsl.ttf\").get_name()\n",
    "rc('font', family=font_name)           # 맑은 고딕 폰트 지정\n",
    "plt.rcParams[\"font.size\"] = 12         # 글자 크기\n",
    "# plt.rcParams[\"figure.figsize\"] = (10, 4) # 10:4의 그래프 비율\n",
    "plt.rcParams['axes.unicode_minus'] = False  # minus 부호는 unicode 적용시 한글이 깨짐으로 설정\n",
    " \n",
    "# Jupyter에게 matplotlib 그래프를 출력 영역에 표시할 것을 지시하는 명령\n",
    "%matplotlib inline  \n",
    " \n",
    "LOG_DIR = '../../logs' # 폴더명만 지정하면 자동으로 생성됨.\n",
    " \n",
    "# tensorboard --logdir=C:/ai_201904/ws_python/notebook/logs \n",
    "# graph = tf.get_default_graph()\n",
    "# with tf.summary.FileWriter(LOG_DIR) as writer:\n",
    "#     writer.add_graph(graph)\n",
    " \n"
   ]
  },
  {
   "cell_type": "code",
   "execution_count": 22,
   "metadata": {},
   "outputs": [
    {
     "name": "stdout",
     "output_type": "stream",
     "text": [
      "Found 175 images belonging to 5 classes.\n",
      "Found 50 images belonging to 5 classes.\n"
     ]
    }
   ],
   "source": [
    "# 랜덤시드 고정시키기\n",
    "np.random.seed(3)\n",
    "\n",
    "# 1. 데이터 생성하기, ./train 폴더안의 폴더의 수는 classes수에 대응함.\n",
    "# 픽셀 값이 0 ~ 255는 너무 큼으로 0~1 범위로 변환\n",
    "train_datagen = ImageDataGenerator(rescale=1./255) \n",
    "\n",
    "train_generator = train_datagen.flow_from_directory(\n",
    "        './train',\n",
    "        target_size=(64, 64), # 64 x 64 픽셀로 줄임\n",
    "        batch_size=2,         # 2건씩 처리\n",
    "        class_mode='categorical')  # 다중 분류\n",
    "\n",
    "validation_datagen = ImageDataGenerator(rescale=1./255)\n",
    "\n",
    "validation_generator = validation_datagen.flow_from_directory(\n",
    "        './validation',\n",
    "        target_size=(64, 64),    \n",
    "        batch_size=1,\n",
    "        class_mode='categorical')\n",
    "   "
   ]
  },
  {
   "cell_type": "markdown",
   "metadata": {},
   "source": [
    "### CNN Conv넷"
   ]
  },
  {
   "cell_type": "code",
   "execution_count": 21,
   "metadata": {},
   "outputs": [
    {
     "name": "stdout",
     "output_type": "stream",
     "text": [
      "Epoch 1/15\n",
      "88/88 [==============================] - 3s 31ms/step - loss: 1.6885 - acc: 0.2102 - val_loss: 1.6094 - val_acc: 0.2200\n",
      "Epoch 2/15\n",
      "88/88 [==============================] - 2s 25ms/step - loss: 1.6124 - acc: 0.2273 - val_loss: 1.6026 - val_acc: 0.3000\n",
      "Epoch 3/15\n",
      "88/88 [==============================] - 2s 26ms/step - loss: 1.5852 - acc: 0.2954 - val_loss: 1.5443 - val_acc: 0.5000\n",
      "Epoch 4/15\n",
      "88/88 [==============================] - 2s 24ms/step - loss: 1.4028 - acc: 0.4034 - val_loss: 1.3928 - val_acc: 0.4000\n",
      "Epoch 5/15\n",
      "88/88 [==============================] - 2s 24ms/step - loss: 1.2975 - acc: 0.5341 - val_loss: 1.2391 - val_acc: 0.6400\n",
      "Epoch 6/15\n",
      "88/88 [==============================] - 2s 24ms/step - loss: 0.9072 - acc: 0.6420 - val_loss: 0.8545 - val_acc: 0.7200\n",
      "Epoch 7/15\n",
      "88/88 [==============================] - 2s 28ms/step - loss: 0.6800 - acc: 0.7613 - val_loss: 0.7627 - val_acc: 0.7200\n",
      "Epoch 8/15\n",
      "88/88 [==============================] - 2s 23ms/step - loss: 0.4652 - acc: 0.8295 - val_loss: 0.6857 - val_acc: 0.7200\n",
      "Epoch 9/15\n",
      "88/88 [==============================] - 2s 25ms/step - loss: 0.4349 - acc: 0.8693 - val_loss: 0.7349 - val_acc: 0.7200\n",
      "Epoch 10/15\n",
      "88/88 [==============================] - 2s 25ms/step - loss: 0.2985 - acc: 0.8920 - val_loss: 0.7216 - val_acc: 0.7800\n",
      "Epoch 11/15\n",
      "88/88 [==============================] - 2s 24ms/step - loss: 0.1843 - acc: 0.9261 - val_loss: 0.4767 - val_acc: 0.7800\n",
      "Epoch 12/15\n",
      "88/88 [==============================] - 2s 28ms/step - loss: 0.1701 - acc: 0.9545 - val_loss: 0.6262 - val_acc: 0.8000\n",
      "Epoch 13/15\n",
      "88/88 [==============================] - 2s 24ms/step - loss: 0.1307 - acc: 0.9602 - val_loss: 0.3694 - val_acc: 0.8600\n",
      "Epoch 14/15\n",
      "88/88 [==============================] - 2s 23ms/step - loss: 0.1218 - acc: 0.9432 - val_loss: 0.4620 - val_acc: 0.8400\n",
      "Epoch 15/15\n",
      "88/88 [==============================] - 2s 23ms/step - loss: 0.1386 - acc: 0.9659 - val_loss: 0.5113 - val_acc: 0.8200\n"
     ]
    }
   ],
   "source": [
    "num_classes = 5  # 배우는 5명\n",
    "im_rows = 64\n",
    "im_cols = 64\n",
    "in_shape = (im_rows, im_cols, 3)\n",
    "\n",
    "model = Sequential()\n",
    "model.add(Conv2D(32, (3, 3), input_shape=in_shape, activation = 'relu'))\n",
    "model.add(MaxPooling2D(pool_size=(2, 2))) # 50% 삭제\n",
    "model.add(Dropout(0.25)) # 25% 삭제\n",
    "\n",
    "model.add(Conv2D(32, (3, 3), activation = 'relu'))\n",
    "model.add(MaxPooling2D(pool_size=(2, 2))) # 50% 삭제\n",
    "model.add(Dropout(0.25)) # 25% 삭제\n",
    "\n",
    "model.add(Flatten())\n",
    "model.add(Dense(32, activation = 'relu'))\n",
    "model.add(Dropout(0.25)) # 25% 삭제\n",
    "model.add(Dense(num_classes, activation = 'softmax'))\n",
    "\n",
    "# 3. 모델 학습과정 설정하기\n",
    "model.compile(loss='categorical_crossentropy', optimizer='adam', metrics=['accuracy'])\n",
    "\n",
    "# 4. 모델 학습시키기\n",
    "hist = model.fit_generator(\n",
    "       train_generator,\n",
    "       epochs=15,\n",
    "       validation_data=validation_generator)\n",
    " "
   ]
  },
  {
   "cell_type": "code",
   "execution_count": 23,
   "metadata": {
    "scrolled": false
   },
   "outputs": [
    {
     "data": {
      "image/png": "[encoded data removed]",
      "text/plain": [
       "<Figure size 720x360 with 2 Axes>"
      ]
     },
     "metadata": {
      "needs_background": "light"
     },
     "output_type": "display_data"
    }
   ],
   "source": [
    "fig, loss_ax = plt.subplots()\n",
    "# plt.figure(figsize=(6,4)) # ERROR\n",
    "fig.set_size_inches(10, 5)      # 챠트 크기 설정\n",
    "\n",
    "acc_ax = loss_ax.twinx()\n",
    "\n",
    "loss_ax.plot(hist.history['loss'], 'y', label='train loss')\n",
    "loss_ax.plot(hist.history['val_loss'], 'r', label='val loss')\n",
    "loss_ax.set_ylim([0.0, 5.0])\n",
    "\n",
    "acc_ax.plot(hist.history['acc'], 'b', label='train acc')\n",
    "acc_ax.plot(hist.history['val_acc'], 'g', label='val acc')\n",
    "acc_ax.set_ylim([0.0, 1.0])\n",
    "\n",
    "loss_ax.set_xlabel('epoch')\n",
    "loss_ax.set_ylabel('loss')\n",
    "acc_ax.set_ylabel('accuray')\n",
    "\n",
    "loss_ax.legend(loc='upper left')\n",
    "acc_ax.legend(loc='lower left')\n",
    "\n",
    "plt.show()\n",
    " "
   ]
  },
  {
   "cell_type": "code",
   "execution_count": 26,
   "metadata": {},
   "outputs": [
    {
     "name": "stdout",
     "output_type": "stream",
     "text": [
      "_________________________________________________________________\n",
      "Layer (type)                 Output Shape              Param #   \n",
      "=================================================================\n",
      "conv2d_14 (Conv2D)           (None, 62, 62, 32)        896       \n",
      "_________________________________________________________________\n",
      "max_pooling2d_11 (MaxPooling (None, 31, 31, 32)        0         \n",
      "_________________________________________________________________\n",
      "dropout_17 (Dropout)         (None, 31, 31, 32)        0         \n",
      "_________________________________________________________________\n",
      "conv2d_15 (Conv2D)           (None, 29, 29, 32)        9248      \n",
      "_________________________________________________________________\n",
      "max_pooling2d_12 (MaxPooling (None, 14, 14, 32)        0         \n",
      "_________________________________________________________________\n",
      "dropout_18 (Dropout)         (None, 14, 14, 32)        0         \n",
      "_________________________________________________________________\n",
      "flatten_7 (Flatten)          (None, 6272)              0         \n",
      "_________________________________________________________________\n",
      "dense_13 (Dense)             (None, 32)                200736    \n",
      "_________________________________________________________________\n",
      "dropout_19 (Dropout)         (None, 32)                0         \n",
      "_________________________________________________________________\n",
      "dense_14 (Dense)             (None, 5)                 165       \n",
      "=================================================================\n",
      "Total params: 211,045\n",
      "Trainable params: 211,045\n",
      "Non-trainable params: 0\n",
      "_________________________________________________________________\n"
     ]
    }
   ],
   "source": [
    "model.summary()"
   ]
  },
  {
   "cell_type": "code",
   "execution_count": 24,
   "metadata": {},
   "outputs": [
    {
     "name": "stdout",
     "output_type": "stream",
     "text": [
      "acc: 92.00%\n"
     ]
    }
   ],
   "source": [
    "# 총 50개의 검증 샘플이있고 배치사이즈가 2임으로 25로 지정 \n",
    "scores = model.evaluate_generator(validation_generator, steps=25)  \n",
    "print(\"%s: %.2f%%\" %(model.metrics_names[1], scores[1]*100))"
   ]
  },
  {
   "cell_type": "code",
   "execution_count": 25,
   "metadata": {},
   "outputs": [],
   "source": [
    "model.save('./actor.h5')"
   ]
  },
  {
   "cell_type": "code",
   "execution_count": null,
   "metadata": {},
   "outputs": [],
   "source": []
  }
 ],
 "metadata": {
  "kernelspec": {
   "display_name": "aigpu",
   "language": "python",
   "name": "aigpu"
  },
  "language_info": {
   "codemirror_mode": {
    "name": "ipython",
    "version": 3
   },
   "file_extension": ".py",
   "mimetype": "text/x-python",
   "name": "python",
   "nbconvert_exporter": "python",
   "pygments_lexer": "ipython3",
   "version": "3.6.8"
  }
 },
 "nbformat": 4,
 "nbformat_minor": 2
}
