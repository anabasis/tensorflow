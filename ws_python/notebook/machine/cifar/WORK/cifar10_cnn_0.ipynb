{
 "cells": [
  {
   "cell_type": "code",
   "execution_count": 1,
   "metadata": {},
   "outputs": [
    {
     "name": "stderr",
     "output_type": "stream",
     "text": [
      "Using TensorFlow backend.\n"
     ]
    }
   ],
   "source": [
    "import warnings\n",
    "warnings.filterwarnings(action='ignore')\n",
    "\n",
    "import os\n",
    "import time\n",
    "\n",
    "import numpy as np\n",
    "import matplotlib.pyplot as plt\n",
    "from matplotlib import font_manager, rc\n",
    "\n",
    "font_name = font_manager.FontProperties(fname=\"C:/Windows/Fonts/malgun.ttf\").get_name()\n",
    "# windows 10\n",
    "# font_name = font_manager.FontProperties(fname=\"C:/Windows/Fonts/malgunsl.ttf\").get_name()\n",
    "rc('font', family=font_name)           # 맑은 고딕 폰트 지정\n",
    "plt.rcParams[\"font.size\"] = 12         # 글자 크기\n",
    "# plt.rcParams[\"figure.figsize\"] = (10, 4) # 10:4의 그래프 비율\n",
    "plt.rcParams['axes.unicode_minus'] = False  # minus 부호는 unicode 적용시 한글이 깨짐으로 설정\n",
    "\n",
    "from keras.models import Sequential\n",
    "from keras.layers import Dense\n",
    "from keras.layers import Dropout\n",
    "from keras.models import load_model\n",
    "\n",
    "from keras.callbacks import EarlyStopping\n",
    "from keras.callbacks import ModelCheckpoint\n",
    "from keras.utils import to_categorical\n",
    "\n",
    "from keras.datasets import mnist\n",
    "\n",
    "from keras.layers import Conv2D\n",
    "from keras.layers import MaxPooling2D\n",
    "from keras.layers import Flatten\n",
    "\n",
    "from keras.preprocessing.image import ImageDataGenerator\n",
    "\n",
    "import cv2\n",
    "\n"
   ]
  },
  {
   "cell_type": "code",
   "execution_count": 2,
   "metadata": {},
   "outputs": [
    {
     "name": "stdout",
     "output_type": "stream",
     "text": [
      "Train on 50000 samples, validate on 10000 samples\n",
      "Epoch 1/10\n",
      "50000/50000 [==============================] - 38s 757us/step - loss: 1.4569 - acc: 0.4721 - val_loss: 1.1331 - val_acc: 0.6054\n",
      "Epoch 2/10\n",
      "50000/50000 [==============================] - 16s 326us/step - loss: 1.0750 - acc: 0.6225 - val_loss: 0.9470 - val_acc: 0.6679\n",
      "Epoch 3/10\n",
      "50000/50000 [==============================] - 17s 330us/step - loss: 0.9314 - acc: 0.6724 - val_loss: 0.8290 - val_acc: 0.7111\n",
      "Epoch 4/10\n",
      "50000/50000 [==============================] - 16s 329us/step - loss: 0.8386 - acc: 0.7043 - val_loss: 0.7792 - val_acc: 0.7362\n",
      "Epoch 5/10\n",
      "50000/50000 [==============================] - 16s 327us/step - loss: 0.7794 - acc: 0.7261 - val_loss: 0.7505 - val_acc: 0.7446\n",
      "Epoch 6/10\n",
      "50000/50000 [==============================] - 17s 333us/step - loss: 0.7285 - acc: 0.7428 - val_loss: 0.7414 - val_acc: 0.7443\n",
      "Epoch 7/10\n",
      "50000/50000 [==============================] - 16s 328us/step - loss: 0.6905 - acc: 0.7553 - val_loss: 0.7155 - val_acc: 0.7521\n",
      "Epoch 8/10\n",
      "50000/50000 [==============================] - 16s 325us/step - loss: 0.6509 - acc: 0.7703 - val_loss: 0.7029 - val_acc: 0.7637\n",
      "Epoch 9/10\n",
      "50000/50000 [==============================] - 17s 333us/step - loss: 0.6244 - acc: 0.7792 - val_loss: 0.7154 - val_acc: 0.7526\n",
      "Epoch 10/10\n",
      "50000/50000 [==============================] - 17s 333us/step - loss: 0.5960 - acc: 0.7892 - val_loss: 0.6958 - val_acc: 0.7633\n",
      "Runtime: 186.48 초\n"
     ]
    }
   ],
   "source": [
    "from keras.datasets import cifar10\n",
    "num_classes = 10\n",
    "im_rows = 32\n",
    "im_cols = 32\n",
    "\n",
    "# 데이터 읽어 들이기\n",
    "(X_train, Y_train), (X_test, Y_test) = cifar10.load_data()\n",
    "\n",
    "# 데이터를 정규화하기\n",
    "x_train = X_train[0:50000].astype('float32') / 255\n",
    "x_test = X_test[0:10000].astype('float32') / 255\n",
    "# 레이블 데이터를 One-hot 형식으로 변환하기\n",
    "y_train = to_categorical(Y_train[0:50000], num_classes)\n",
    "y_test = to_categorical(Y_test[0:10000], num_classes)\n",
    "\n",
    "# 모델 정의하기\n",
    "model = Sequential()\n",
    "model.add(Conv2D(32, (3, 3), input_shape=(32, 32, 3), activation='relu'))\n",
    "model.add(Conv2D(32, (3, 3), activation='relu'))\n",
    "model.add(MaxPooling2D(pool_size=(2, 2))) # 50% 감소\n",
    "model.add(Dropout(0.25))                        # 25% 감소 \n",
    "\n",
    "model.add(Conv2D(64, (3, 3), activation = 'relu'))\n",
    "model.add(MaxPooling2D(pool_size=(2, 2)))\n",
    "model.add(Dropout(0.25))\n",
    "\n",
    "model.add(Flatten())\n",
    "model.add(Dense(256, activation = 'relu'))\n",
    "model.add(Dropout(0.25))\n",
    "model.add(Dense(num_classes, activation = 'softmax'))\n",
    "\n",
    "# 모델 컴파일하기 \n",
    "model.compile(loss='categorical_crossentropy', optimizer='adam', metrics=['accuracy'])\n",
    "\n",
    "# 학습 실행하기\n",
    "start = time.time()\n",
    "hist = model.fit(x_train, y_train, batch_size=50, epochs=10, verbose=1,\n",
    "    validation_data=(x_test, y_test))\n",
    "end = time.time()\n",
    "print('Runtime: %0.2f 초' % (end-start))\n",
    "# CPU: 약 5500 s\n",
    "# GPU: 186 s , Colab GPU: 100 s, Colab,  TPU:  "
   ]
  },
  {
   "cell_type": "code",
   "execution_count": 3,
   "metadata": {},
   "outputs": [
    {
     "data": {
      "image/png": "[encoded data removed]",
      "text/plain": [
       "<Figure size 720x360 with 2 Axes>"
      ]
     },
     "metadata": {
      "needs_background": "light"
     },
     "output_type": "display_data"
    }
   ],
   "source": [
    "fig, loss_ax = plt.subplots()\n",
    "# plt.figure(figsize=(6,4)) # ERROR\n",
    "fig.set_size_inches(10, 5)  # 챠트 크기 설정\n",
    "\n",
    "acc_ax = loss_ax.twinx()  # 오른쪽 y 출 설정\n",
    "\n",
    "loss_ax.plot(hist.history['loss'], 'y', label='train loss')   # 훈련 손실\n",
    "loss_ax.plot(hist.history['val_loss'], 'r', label='val loss') # 검증 손실, 학습의 우수성 평가 척도\n",
    "loss_ax.set_ylim([0.0, 2.0]) # 왼쪽 y 축, 값을 반영하여 변경\n",
    "\n",
    "acc_ax.plot(hist.history['acc'], 'b', label='train acc')   # 훈련 정확도\n",
    "acc_ax.plot(hist.history['val_acc'], 'g', label='val acc') # 검증 정확도\n",
    "acc_ax.set_ylim([0.0, 1.0])  # 오른쪽 y 축, 0 ~100 %를 의미\n",
    "\n",
    "loss_ax.set_xlabel('epoch')  # x축 레이블\n",
    "loss_ax.set_ylabel('loss')     # 왼쪽 y 레이블\n",
    "acc_ax.set_ylabel('accuray') # 오른쪽 y 레이블\n",
    "\n",
    "loss_ax.legend(loc='upper left')  # 좌측 y 축 기준 범례 위치 설정\n",
    "acc_ax.legend(loc='lower left')   # 우측 y 축 기준 범례 위치 설정\n",
    "\n",
    "plt.show()\n"
   ]
  },
  {
   "cell_type": "code",
   "execution_count": 4,
   "metadata": {},
   "outputs": [],
   "source": [
    "model.save('./cifar10_cnn.h5')"
   ]
  },
  {
   "cell_type": "code",
   "execution_count": 5,
   "metadata": {},
   "outputs": [],
   "source": [
    "model = load_model('./cifar10_cnn.h5')"
   ]
  },
  {
   "cell_type": "code",
   "execution_count": 8,
   "metadata": {},
   "outputs": [
    {
     "data": {
      "image/png": "[encoded data removed]",
      "text/plain": [
       "<Figure size 432x288 with 1 Axes>"
      ]
     },
     "metadata": {
      "needs_background": "light"
     },
     "output_type": "display_data"
    },
    {
     "name": "stdout",
     "output_type": "stream",
     "text": [
      "1/1 [==============================] - 0s 16ms/step\n",
      "airplane = 0\n",
      "automobile = 100\n",
      "bird = 0\n",
      "cat = 0\n",
      "deer = 0\n",
      "dog = 0\n",
      "frog = 0\n",
      "horse = 0\n",
      "ship = 0\n",
      "truck = 0\n",
      "-------------\n",
      "[0. 1. 0. 0. 0. 0. 0. 0. 0. 0.]\n",
      "<class 'numpy.ndarray'>\n",
      "-------------\n",
      "예측한 결과= automobile\n"
     ]
    }
   ],
   "source": [
    "# OpenCV를 사용해서 이미지 읽어 들이기\n",
    "labels = [\"airplane\", \"automobile\", \"bird\", \"cat\", \"deer\", \"dog\", \"frog\", \"horse\", \"ship\", \"truck\"]\n",
    "\n",
    "#local gpu\n",
    "# im = cv2.imread('./k3.jpg')    # automobile\n",
    "\n",
    "# gcp, 절대 경로 사용\n",
    "# im = cv2.imread('./drive/My Drive/Colab Notebooks/k3.jpg')    # truck 으로 인식\n",
    "\n",
    "# local gpu\n",
    "# im = cv2.imread('./avante.jpg')   # automobile\n",
    "\n",
    "# gcp, 절대 경로 사용\n",
    "# im = cv2.imread('./drive/My Drive/Colab Notebooks/avante.jpg')     # automobile\n",
    "\n",
    "# local gpu\n",
    "# im = cv2.imread('./sonata.jpg')   # automobile\n",
    "\n",
    "# gcp, 절대 경로 사용\n",
    "# im = cv2.imread('./drive/My Drive/Colab Notebooks/sonata.jpg')     # automobile\n",
    "\n",
    "im = cv2.cvtColor(im, cv2.COLOR_BGR2RGB) # OpenCV BGR --> 일반적인 RGB로 변환\n",
    "im = cv2.resize(im, (32, 32))\n",
    "plt.imshow(im) # 이미지 출력하기\n",
    "plt.show()\n",
    "\n",
    "# 예측하기\n",
    "r = model.predict(np.array([im]), batch_size=1, verbose=1)\n",
    "res = r[0]\n",
    "# 결과 출력하기, enumerate: index 지원\n",
    "for i, acc in enumerate(res):\n",
    "    print(labels[i], \"=\", int(acc * 100))\n",
    "    \n",
    "print(\"-------------\")\n",
    "print(res)\n",
    "print(type(res))\n",
    "print(\"-------------\")\n",
    "print(\"예측한 결과=\", labels[res.argmax()])"
   ]
  },
  {
   "cell_type": "code",
   "execution_count": null,
   "metadata": {},
   "outputs": [],
   "source": []
  }
 ],
 "metadata": {
  "kernelspec": {
   "display_name": "aigpu",
   "language": "python",
   "name": "aigpu"
  },
  "language_info": {
   "codemirror_mode": {
    "name": "ipython",
    "version": 3
   },
   "file_extension": ".py",
   "mimetype": "text/x-python",
   "name": "python",
   "nbconvert_exporter": "python",
   "pygments_lexer": "ipython3",
   "version": "3.6.8"
  }
 },
 "nbformat": 4,
 "nbformat_minor": 2
}
