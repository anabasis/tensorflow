{
 "cells": [
  {
   "cell_type": "code",
   "execution_count": 3,
   "metadata": {},
   "outputs": [],
   "source": [
    "import warnings\n",
    "warnings.filterwarnings(action='ignore')\n",
    "\n",
    "import os\n",
    "import time\n",
    "\n",
    "import numpy as np\n",
    "import matplotlib.pyplot as plt\n",
    "from matplotlib import font_manager, rc\n",
    "\n",
    "font_name = font_manager.FontProperties(fname=\"C:/Windows/Fonts/malgun.ttf\").get_name()\n",
    "# windows 10\n",
    "# font_name = font_manager.FontProperties(fname=\"C:/Windows/Fonts/malgunsl.ttf\").get_name()\n",
    "rc('font', family=font_name)           # 맑은 고딕 폰트 지정\n",
    "plt.rcParams[\"font.size\"] = 12         # 글자 크기\n",
    "# plt.rcParams[\"figure.figsize\"] = (10, 4) # 10:4의 그래프 비율\n",
    "plt.rcParams['axes.unicode_minus'] = False  # minus 부호는 unicode 적용시 한글이 깨짐으로 설정\n",
    "\n",
    "from keras.models import Sequential\n",
    "from keras.layers import Dense\n",
    "from keras.layers import Dropout\n",
    "from keras.models import load_model\n",
    "\n",
    "from keras.callbacks import EarlyStopping\n",
    "from keras.callbacks import ModelCheckpoint\n",
    "from keras.utils import to_categorical\n",
    "\n",
    "from keras.datasets import mnist\n",
    "\n",
    "from keras.layers import Conv2D\n",
    "from keras.layers import MaxPooling2D\n",
    "from keras.layers import Flatten\n",
    "\n",
    "from keras.preprocessing.image import ImageDataGenerator"
   ]
  },
  {
   "cell_type": "code",
   "execution_count": 4,
   "metadata": {},
   "outputs": [
    {
     "ename": "FileNotFoundError",
     "evalue": "[WinError 3] 지정된 경로를 찾을 수 없습니다: './train'",
     "output_type": "error",
     "traceback": [
      "\u001b[1;31m---------------------------------------------------------------------------\u001b[0m",
      "\u001b[1;31mFileNotFoundError\u001b[0m                         Traceback (most recent call last)",
      "\u001b[1;32m<ipython-input-4-23ab5c2dc935>\u001b[0m in \u001b[0;36m<module>\u001b[1;34m\u001b[0m\n\u001b[0;32m      9\u001b[0m         \u001b[0mtarget_size\u001b[0m\u001b[1;33m=\u001b[0m\u001b[1;33m(\u001b[0m\u001b[0mwidth\u001b[0m\u001b[1;33m,\u001b[0m \u001b[0mheight\u001b[0m\u001b[1;33m)\u001b[0m\u001b[1;33m,\u001b[0m \u001b[1;31m# 24 x 24로 자동으로 픽셀을 줄임.\u001b[0m\u001b[1;33m\u001b[0m\u001b[1;33m\u001b[0m\u001b[0m\n\u001b[0;32m     10\u001b[0m         \u001b[0mbatch_size\u001b[0m\u001b[1;33m=\u001b[0m\u001b[1;36m5\u001b[0m\u001b[1;33m,\u001b[0m                   \u001b[1;31m# 이미지를 1건씩 처리\u001b[0m\u001b[1;33m\u001b[0m\u001b[1;33m\u001b[0m\u001b[0m\n\u001b[1;32m---> 11\u001b[1;33m         class_mode='categorical')   # 다중 분류\n\u001b[0m\u001b[0;32m     12\u001b[0m \u001b[1;33m\u001b[0m\u001b[0m\n\u001b[0;32m     13\u001b[0m \u001b[0mvali_datagen\u001b[0m \u001b[1;33m=\u001b[0m \u001b[0mImageDataGenerator\u001b[0m\u001b[1;33m(\u001b[0m\u001b[0mrescale\u001b[0m\u001b[1;33m=\u001b[0m\u001b[1;36m1.\u001b[0m\u001b[1;33m/\u001b[0m\u001b[1;36m255\u001b[0m\u001b[1;33m)\u001b[0m\u001b[1;33m\u001b[0m\u001b[1;33m\u001b[0m\u001b[0m\n",
      "\u001b[1;32mC:\\ProgramData\\Anaconda3\\envs\\machinegpu\\lib\\site-packages\\keras_preprocessing\\image.py\u001b[0m in \u001b[0;36mflow_from_directory\u001b[1;34m(self, directory, target_size, color_mode, classes, class_mode, batch_size, shuffle, seed, save_to_dir, save_prefix, save_format, follow_links, subset, interpolation)\u001b[0m\n\u001b[0;32m    962\u001b[0m             \u001b[0mfollow_links\u001b[0m\u001b[1;33m=\u001b[0m\u001b[0mfollow_links\u001b[0m\u001b[1;33m,\u001b[0m\u001b[1;33m\u001b[0m\u001b[1;33m\u001b[0m\u001b[0m\n\u001b[0;32m    963\u001b[0m             \u001b[0msubset\u001b[0m\u001b[1;33m=\u001b[0m\u001b[0msubset\u001b[0m\u001b[1;33m,\u001b[0m\u001b[1;33m\u001b[0m\u001b[1;33m\u001b[0m\u001b[0m\n\u001b[1;32m--> 964\u001b[1;33m             interpolation=interpolation)\n\u001b[0m\u001b[0;32m    965\u001b[0m \u001b[1;33m\u001b[0m\u001b[0m\n\u001b[0;32m    966\u001b[0m     \u001b[1;32mdef\u001b[0m \u001b[0mstandardize\u001b[0m\u001b[1;33m(\u001b[0m\u001b[0mself\u001b[0m\u001b[1;33m,\u001b[0m \u001b[0mx\u001b[0m\u001b[1;33m)\u001b[0m\u001b[1;33m:\u001b[0m\u001b[1;33m\u001b[0m\u001b[1;33m\u001b[0m\u001b[0m\n",
      "\u001b[1;32mC:\\ProgramData\\Anaconda3\\envs\\machinegpu\\lib\\site-packages\\keras_preprocessing\\image.py\u001b[0m in \u001b[0;36m__init__\u001b[1;34m(self, directory, image_data_generator, target_size, color_mode, classes, class_mode, batch_size, shuffle, seed, data_format, save_to_dir, save_prefix, save_format, follow_links, subset, interpolation)\u001b[0m\n\u001b[0;32m   1718\u001b[0m         \u001b[1;32mif\u001b[0m \u001b[1;32mnot\u001b[0m \u001b[0mclasses\u001b[0m\u001b[1;33m:\u001b[0m\u001b[1;33m\u001b[0m\u001b[1;33m\u001b[0m\u001b[0m\n\u001b[0;32m   1719\u001b[0m             \u001b[0mclasses\u001b[0m \u001b[1;33m=\u001b[0m \u001b[1;33m[\u001b[0m\u001b[1;33m]\u001b[0m\u001b[1;33m\u001b[0m\u001b[1;33m\u001b[0m\u001b[0m\n\u001b[1;32m-> 1720\u001b[1;33m             \u001b[1;32mfor\u001b[0m \u001b[0msubdir\u001b[0m \u001b[1;32min\u001b[0m \u001b[0msorted\u001b[0m\u001b[1;33m(\u001b[0m\u001b[0mos\u001b[0m\u001b[1;33m.\u001b[0m\u001b[0mlistdir\u001b[0m\u001b[1;33m(\u001b[0m\u001b[0mdirectory\u001b[0m\u001b[1;33m)\u001b[0m\u001b[1;33m)\u001b[0m\u001b[1;33m:\u001b[0m\u001b[1;33m\u001b[0m\u001b[1;33m\u001b[0m\u001b[0m\n\u001b[0m\u001b[0;32m   1721\u001b[0m                 \u001b[1;32mif\u001b[0m \u001b[0mos\u001b[0m\u001b[1;33m.\u001b[0m\u001b[0mpath\u001b[0m\u001b[1;33m.\u001b[0m\u001b[0misdir\u001b[0m\u001b[1;33m(\u001b[0m\u001b[0mos\u001b[0m\u001b[1;33m.\u001b[0m\u001b[0mpath\u001b[0m\u001b[1;33m.\u001b[0m\u001b[0mjoin\u001b[0m\u001b[1;33m(\u001b[0m\u001b[0mdirectory\u001b[0m\u001b[1;33m,\u001b[0m \u001b[0msubdir\u001b[0m\u001b[1;33m)\u001b[0m\u001b[1;33m)\u001b[0m\u001b[1;33m:\u001b[0m\u001b[1;33m\u001b[0m\u001b[1;33m\u001b[0m\u001b[0m\n\u001b[0;32m   1722\u001b[0m                     \u001b[0mclasses\u001b[0m\u001b[1;33m.\u001b[0m\u001b[0mappend\u001b[0m\u001b[1;33m(\u001b[0m\u001b[0msubdir\u001b[0m\u001b[1;33m)\u001b[0m\u001b[1;33m\u001b[0m\u001b[1;33m\u001b[0m\u001b[0m\n",
      "\u001b[1;31mFileNotFoundError\u001b[0m: [WinError 3] 지정된 경로를 찾을 수 없습니다: './train'"
     ]
    }
   ],
   "source": [
    "# 훈련용 데이터 생성기, 이미지를 데이터로 바로 사용\n",
    "# rescale=1./255: 정수를 실수로 변경하기위해 픽셀값을 255로 나눔\n",
    "# 이미지를 수치로 바꾸는 vector 및 정수를 실수로 변경하는 정규화 자동 지원\n",
    "width=24  # 이미지 너비 픽셀\n",
    "height=24 # 이미지 높이 픽셀\n",
    "train_datagen = ImageDataGenerator(rescale=1./255)\n",
    "train_generator = train_datagen.flow_from_directory(\n",
    "        './train',\n",
    "        target_size=(width, height), # 24 x 24로 자동으로 픽셀을 줄임.\n",
    "        batch_size=5,                   # 이미지를 1건씩 처리\n",
    "        class_mode='categorical')   # 다중 분류\n",
    "\n",
    "vali_datagen = ImageDataGenerator(rescale=1./255)\n",
    "vali_generator = vali_datagen.flow_from_directory(\n",
    "        './validation',\n",
    "        target_size=(width, height),    \n",
    "        batch_size=5,\n",
    "        class_mode='categorical')\n",
    "\n",
    "# Found 18 images belonging to 3 classes.\n",
    "# 3개의 그룹에 모두 18개의 이미지가 존재함, 여기서 그룹은 폴더를 말함."
   ]
  },
  {
   "cell_type": "code",
   "execution_count": 38,
   "metadata": {},
   "outputs": [
    {
     "name": "stdout",
     "output_type": "stream",
     "text": [
      "Epoch 1/10\n",
      "144/144 [==============================] - 3s 22ms/step - loss: 0.6810 - acc: 0.7222 - val_loss: 0.3063 - val_acc: 0.9278\n",
      "Epoch 2/10\n",
      "144/144 [==============================] - 3s 19ms/step - loss: 0.1971 - acc: 0.9389 - val_loss: 0.1096 - val_acc: 0.9778\n",
      "Epoch 3/10\n",
      "144/144 [==============================] - 3s 19ms/step - loss: 0.0661 - acc: 0.9806 - val_loss: 0.0557 - val_acc: 0.9778\n",
      "Epoch 4/10\n",
      "144/144 [==============================] - 3s 19ms/step - loss: 0.0206 - acc: 0.9972 - val_loss: 0.0377 - val_acc: 0.9889\n",
      "Epoch 5/10\n",
      "144/144 [==============================] - 3s 19ms/step - loss: 0.0080 - acc: 1.0000 - val_loss: 0.0270 - val_acc: 0.9944\n",
      "Epoch 6/10\n",
      "144/144 [==============================] - 3s 19ms/step - loss: 0.0063 - acc: 1.0000 - val_loss: 0.0185 - val_acc: 0.9944\n",
      "Epoch 7/10\n",
      "144/144 [==============================] - 3s 19ms/step - loss: 0.0029 - acc: 1.0000 - val_loss: 0.0125 - val_acc: 0.9944\n",
      "Epoch 8/10\n",
      "144/144 [==============================] - 3s 19ms/step - loss: 0.0018 - acc: 1.0000 - val_loss: 0.0078 - val_acc: 1.0000\n",
      "Epoch 9/10\n",
      "144/144 [==============================] - 3s 19ms/step - loss: 0.0014 - acc: 1.0000 - val_loss: 0.0059 - val_acc: 1.0000\n",
      "Epoch 10/10\n",
      "144/144 [==============================] - 3s 19ms/step - loss: 9.3946e-04 - acc: 1.0000 - val_loss: 0.0060 - val_acc: 1.0000\n",
      "Runtime: 27.96 초\n"
     ]
    }
   ],
   "source": [
    "model = Sequential()\n",
    "# 32: 마스크(커널, 필터)의 갯수\n",
    "# (3, 3): 마스크(커널, 필터)의 크기\n",
    "# input_shape = (width, height, 1): 24 X 24 픽셀의 Color(3) 이미지\n",
    "model.add(Conv2D(32, (3, 3), input_shape = (width, height, 3), activation='relu'))\n",
    "model.add(Conv2D(64, (3, 3), activation='relu'))\n",
    "model.add(MaxPooling2D(pool_size=(2, 2)))\n",
    "model.add(Dropout(0.25))\n",
    "model.add(Flatten()) # 2차원 텐서를 1차원 텐서로 변환\n",
    "\n",
    "model.add(Dense(3, activation='softmax')) # 3 classes, 도형 3 종류, softmax: 다중 분류\n",
    "\n",
    "model.compile(optimizer='adam', loss='categorical_crossentropy', metrics=['accuracy'])\n",
    "early_stopping = EarlyStopping(monitor='loss', patience=2)\n",
    "\n",
    "start = time.time()\n",
    "# steps_per_epoch = 총 데이터 / 배치사이즈  720 /  2\n",
    "hist = model.fit_generator(\n",
    "        train_generator,            # 훈련 데이터\n",
    "        epochs=10,                 # 학습 횟수\n",
    "        validation_data=vali_generator,  # 테스트 데이터\n",
    "        callbacks=[early_stopping] ) \n",
    "end = time.time()\n",
    "print('Runtime: %0.2f 초' % (end-start))\n",
    "# CPU: 23 s\n",
    "# GPU:  , Colab GPU: , Colab,  TPU:  "
   ]
  },
  {
   "cell_type": "code",
   "execution_count": 39,
   "metadata": {},
   "outputs": [
    {
     "data": {
      "image/png": "[encoded data removed]",
      "text/plain": [
       "<Figure size 720x360 with 2 Axes>"
      ]
     },
     "metadata": {
      "needs_background": "light"
     },
     "output_type": "display_data"
    }
   ],
   "source": [
    "fig, loss_ax = plt.subplots()\n",
    "# plt.figure(figsize=(6,4)) # ERROR\n",
    "fig.set_size_inches(10, 5)  # 챠트 크기 설정\n",
    "\n",
    "acc_ax = loss_ax.twinx()  # 오른쪽 y 출 설정\n",
    "\n",
    "loss_ax.plot(hist.history['loss'], 'y', label='train loss')   # 훈련 손실\n",
    "loss_ax.plot(hist.history['val_loss'], 'r', label='val loss') # 검증 손실, 학습의 우수성 평가 척도\n",
    "loss_ax.set_ylim([0.0, 1.0]) # 왼쪽 y 축, 값을 반영하여 변경\n",
    "\n",
    "acc_ax.plot(hist.history['acc'], 'b', label='train acc')   # 훈련 정확도\n",
    "acc_ax.plot(hist.history['val_acc'], 'g', label='val acc') # 검증 정확도\n",
    "acc_ax.set_ylim([0.0, 1.0])  # 오른쪽 y 축, 0 ~100 %를 의미\n",
    "\n",
    "loss_ax.set_xlabel('epoch')  # x축 레이블\n",
    "loss_ax.set_ylabel('loss')     # 왼쪽 y 레이블\n",
    "acc_ax.set_ylabel('accuray') # 오른쪽 y 레이블\n",
    "\n",
    "loss_ax.legend(loc='upper left')  # 좌측 y 축 기준 범례 위치 설정\n",
    "acc_ax.legend(loc='lower left')   # 우측 y 축 기준 범례 위치 설정\n",
    "\n",
    "plt.show()\n"
   ]
  },
  {
   "cell_type": "code",
   "execution_count": 40,
   "metadata": {},
   "outputs": [
    {
     "name": "stdout",
     "output_type": "stream",
     "text": [
      "-- Evaluate --\n",
      "36/36 [==============================] - 0s 7ms/step\n",
      "acc: 100.00%\n"
     ]
    }
   ],
   "source": [
    "print(\"-- Evaluate --\")\n",
    "scores = model.evaluate_generator(vali_generator, verbose=1)  \n",
    "print(\"%s: %.2f%%\" %(model.metrics_names[1], scores[1]*100))"
   ]
  },
  {
   "cell_type": "code",
   "execution_count": 42,
   "metadata": {},
   "outputs": [
    {
     "name": "stdout",
     "output_type": "stream",
     "text": [
      "-- Predict --\n",
      "{'circle': 0, 'rectangle': 1, 'triangle': 2}\n",
      "<class 'numpy.ndarray'>\n",
      "(180, 3)\n",
      "[[0.000 0.000 1.000]\n",
      " [1.000 0.000 0.000]\n",
      " [0.000 0.000 1.000]\n",
      " [1.000 0.000 0.000]\n",
      " [0.000 0.000 1.000]\n",
      " [0.000 0.000 1.000]\n",
      " [0.000 1.000 0.000]\n",
      " [0.000 0.000 1.000]\n",
      " [0.000 1.000 0.000]\n",
      " [1.000 0.000 0.000]\n",
      " [0.000 0.000 1.000]\n",
      " [0.000 0.000 1.000]\n",
      " [0.000 1.000 0.000]\n",
      " [0.000 1.000 0.000]\n",
      " [0.000 0.000 1.000]\n",
      " [0.000 0.000 1.000]\n",
      " [0.000 0.999 0.001]\n",
      " [0.000 1.000 0.000]\n",
      " [0.995 0.001 0.004]\n",
      " [0.000 1.000 0.000]\n",
      " [0.000 1.000 0.000]\n",
      " [0.000 0.000 1.000]\n",
      " [0.000 0.000 1.000]\n",
      " [1.000 0.000 0.000]\n",
      " [0.999 0.001 0.000]\n",
      " [1.000 0.000 0.000]\n",
      " [0.000 1.000 0.000]\n",
      " [1.000 0.000 0.000]\n",
      " [0.000 1.000 0.000]\n",
      " [0.000 0.000 1.000]\n",
      " [0.000 0.000 1.000]\n",
      " [0.997 0.000 0.003]\n",
      " [0.890 0.001 0.110]\n",
      " [0.000 1.000 0.000]\n",
      " [0.000 1.000 0.000]\n",
      " [1.000 0.000 0.000]\n",
      " [0.008 0.992 0.000]\n",
      " [0.000 0.000 1.000]\n",
      " [0.999 0.001 0.000]\n",
      " [0.000 0.000 1.000]\n",
      " [0.018 0.982 0.000]\n",
      " [0.000 1.000 0.000]\n",
      " [0.000 1.000 0.000]\n",
      " [0.999 0.000 0.000]\n",
      " [0.000 0.000 1.000]\n",
      " [0.000 0.000 1.000]\n",
      " [0.000 1.000 0.000]\n",
      " [0.999 0.001 0.000]\n",
      " [0.000 1.000 0.000]\n",
      " [0.994 0.000 0.005]\n",
      " [0.000 0.000 1.000]\n",
      " [1.000 0.000 0.000]\n",
      " [0.000 1.000 0.000]\n",
      " [0.000 0.000 1.000]\n",
      " [0.000 0.098 0.902]\n",
      " [0.000 1.000 0.000]\n",
      " [0.000 0.000 1.000]\n",
      " [0.000 0.000 1.000]\n",
      " [0.000 0.000 1.000]\n",
      " [1.000 0.000 0.000]\n",
      " [0.000 1.000 0.000]\n",
      " [1.000 0.000 0.000]\n",
      " [0.000 0.000 1.000]\n",
      " [1.000 0.000 0.000]\n",
      " [0.000 1.000 0.000]\n",
      " [0.000 0.000 1.000]\n",
      " [0.000 1.000 0.000]\n",
      " [0.000 1.000 0.000]\n",
      " [0.000 1.000 0.000]\n",
      " [0.000 1.000 0.000]\n",
      " [1.000 0.000 0.000]\n",
      " [0.000 0.983 0.016]\n",
      " [0.000 0.000 1.000]\n",
      " [0.000 0.000 1.000]\n",
      " [0.000 0.000 1.000]\n",
      " [0.000 0.002 0.998]\n",
      " [0.000 1.000 0.000]\n",
      " [1.000 0.000 0.000]\n",
      " [0.000 1.000 0.000]\n",
      " [0.000 0.999 0.000]\n",
      " [1.000 0.000 0.000]\n",
      " [0.999 0.000 0.000]\n",
      " [0.000 0.000 1.000]\n",
      " [1.000 0.000 0.000]\n",
      " [0.000 0.000 1.000]\n",
      " [0.000 0.000 1.000]\n",
      " [0.000 1.000 0.000]\n",
      " [0.999 0.001 0.000]\n",
      " [0.000 1.000 0.000]\n",
      " [1.000 0.000 0.000]\n",
      " [1.000 0.000 0.000]\n",
      " [0.000 0.000 1.000]\n",
      " [0.000 1.000 0.000]\n",
      " [0.000 0.000 1.000]\n",
      " [1.000 0.000 0.000]\n",
      " [0.005 0.994 0.001]\n",
      " [1.000 0.000 0.000]\n",
      " [0.000 0.000 1.000]\n",
      " [0.000 0.999 0.000]\n",
      " [0.015 0.985 0.000]\n",
      " [0.015 0.000 0.984]\n",
      " [0.000 1.000 0.000]\n",
      " [0.000 0.000 1.000]\n",
      " [0.000 1.000 0.000]\n",
      " [0.000 0.000 1.000]\n",
      " [1.000 0.000 0.000]\n",
      " [1.000 0.000 0.000]\n",
      " [0.950 0.050 0.000]\n",
      " [0.000 0.001 0.999]\n",
      " [0.004 0.000 0.996]\n",
      " [1.000 0.000 0.000]\n",
      " [0.000 0.000 1.000]\n",
      " [0.000 0.000 1.000]\n",
      " [0.000 0.000 1.000]\n",
      " [0.000 1.000 0.000]\n",
      " [1.000 0.000 0.000]\n",
      " [0.000 1.000 0.000]\n",
      " [0.000 0.002 0.998]\n",
      " [0.000 0.012 0.988]\n",
      " [0.000 0.000 1.000]\n",
      " [0.000 0.999 0.000]\n",
      " [1.000 0.000 0.000]\n",
      " [0.000 0.000 1.000]\n",
      " [0.000 1.000 0.000]\n",
      " [0.000 0.999 0.000]\n",
      " [1.000 0.000 0.000]\n",
      " [1.000 0.000 0.000]\n",
      " [0.000 1.000 0.000]\n",
      " [0.001 0.000 0.999]\n",
      " [1.000 0.000 0.000]\n",
      " [1.000 0.000 0.000]\n",
      " [0.004 0.996 0.000]\n",
      " [0.000 1.000 0.000]\n",
      " [1.000 0.000 0.000]\n",
      " [1.000 0.000 0.000]\n",
      " [1.000 0.000 0.000]\n",
      " [1.000 0.000 0.000]\n",
      " [1.000 0.000 0.000]\n",
      " [0.000 0.003 0.997]\n",
      " [1.000 0.000 0.000]\n",
      " [0.000 1.000 0.000]\n",
      " [0.000 1.000 0.000]\n",
      " [0.946 0.000 0.054]\n",
      " [0.998 0.002 0.000]\n",
      " [1.000 0.000 0.000]\n",
      " [0.008 0.737 0.255]\n",
      " [1.000 0.000 0.000]\n",
      " [0.000 0.000 1.000]\n",
      " [0.121 0.879 0.000]\n",
      " [0.000 0.000 1.000]\n",
      " [0.000 0.000 1.000]\n",
      " [0.000 1.000 0.000]\n",
      " [1.000 0.000 0.000]\n",
      " [0.999 0.001 0.000]\n",
      " [1.000 0.000 0.000]\n",
      " [0.000 0.000 1.000]\n",
      " [1.000 0.000 0.000]\n",
      " [0.000 0.001 0.999]\n",
      " [0.000 1.000 0.000]\n",
      " [0.999 0.000 0.001]\n",
      " [0.000 1.000 0.000]\n",
      " [0.000 1.000 0.000]\n",
      " [0.000 0.000 1.000]\n",
      " [0.000 0.000 1.000]\n",
      " [0.003 0.997 0.000]\n",
      " [0.000 0.888 0.112]\n",
      " [0.000 0.000 1.000]\n",
      " [0.000 1.000 0.000]\n",
      " [0.999 0.001 0.000]\n",
      " [0.997 0.002 0.001]\n",
      " [0.000 0.000 1.000]\n",
      " [0.000 1.000 0.000]\n",
      " [1.000 0.000 0.000]\n",
      " [0.000 1.000 0.000]\n",
      " [0.946 0.007 0.047]\n",
      " [0.000 0.000 1.000]\n",
      " [0.000 1.000 0.000]\n",
      " [1.000 0.000 0.000]\n",
      " [1.000 0.000 0.000]\n",
      " [0.000 0.000 1.000]]\n"
     ]
    }
   ],
   "source": [
    "print(\"-- Predict --\")\n",
    "output = model.predict_generator(vali_generator)\n",
    "# 실수를 소수점 3자리까지 출력 설정\n",
    "np.set_printoptions(formatter={'float': lambda x: \"{0:0.3f}\".format(x)})\n",
    "print(vali_generator.class_indices) # 그룹의 index {'circle': 0, 'rectangle': 1, 'triangle': 2}\n",
    "print(type(output))\n",
    "print(output.shape)\n",
    "print(output)"
   ]
  },
  {
   "cell_type": "code",
   "execution_count": 43,
   "metadata": {},
   "outputs": [],
   "source": [
    "def display1(data): # 2차원 배열(2차원 텐서) \n",
    "    print(data)\n",
    "    print(type(data))\n",
    "    sw = 0\n",
    "    if data[0][0] > 0.5:\n",
    "        sw = '원'\n",
    "    elif data[0][1] > 0.5:\n",
    "        sw = '사각형'\n",
    "    elif data[0][2] > 0.5:\n",
    "        sw = '삼각형'\n",
    "    else:\n",
    "        sw = '알수없는 도형'\n",
    "        \n",
    "    return sw    \n",
    " \n",
    "def display2(data):   # argmax를 사용하는 2차원 배열(2차원 텐서) \n",
    "    # print(data.shape)\n",
    "    # print(data[0])\n",
    "    # print(type(data[0]))\n",
    "    sw= np.argmax(data[0], axis=0) # 0:열, 1: 행\n",
    "    # print('sw:', sw)\n",
    " \n",
    "    if sw == 0:\n",
    "        sw = '원'\n",
    "    elif sw == 1:\n",
    "        sw = '사각형'\n",
    "    elif sw == 2:\n",
    "        sw = '삼각형'\n",
    "        \n",
    "    return sw     \n",
    "\n",
    "def display3(data):  # argmax를 사용하는 1차원 배열(1차원 텐서)\n",
    "    # print(data.shape)\n",
    "    # print(data)\n",
    "    # print(type(data))\n",
    "    sw= np.argmax(data, axis=0) # 0:열, 1: 행\n",
    "    # print('sw:', sw)\n",
    " \n",
    "    if sw == 0:\n",
    "        sw = '원'\n",
    "    elif sw == 1:\n",
    "        sw = '사각형'\n",
    "    elif sw == 2:\n",
    "        sw = '삼각형'\n",
    "        \n",
    "    return sw     "
   ]
  },
  {
   "cell_type": "code",
   "execution_count": 44,
   "metadata": {},
   "outputs": [],
   "source": [
    "model.save('./shape_ext.h5')"
   ]
  },
  {
   "cell_type": "code",
   "execution_count": 45,
   "metadata": {},
   "outputs": [],
   "source": [
    "model = load_model('./shape_ext.h5')"
   ]
  },
  {
   "cell_type": "code",
   "execution_count": 46,
   "metadata": {},
   "outputs": [
    {
     "name": "stdout",
     "output_type": "stream",
     "text": [
      "Found 1 images belonging to 1 classes.\n",
      "(1, 3)\n",
      "[[0.990 0.010 0.000]]\n",
      "<class 'numpy.ndarray'>\n",
      "원 원\n",
      "원 원\n"
     ]
    }
   ],
   "source": [
    "# 테스트\n",
    "use_datagen = ImageDataGenerator(rescale=1./255)\n",
    "use_generator = use_datagen.flow_from_directory('./use1', target_size=(24, 24),    \n",
    "        batch_size=1, class_mode='categorical')\n",
    "output = model.predict_generator(use_generator)\n",
    "print(output.shape)\n",
    "print('원', display1(output))\n",
    "print('원', display2(output))"
   ]
  },
  {
   "cell_type": "code",
   "execution_count": 47,
   "metadata": {},
   "outputs": [
    {
     "name": "stdout",
     "output_type": "stream",
     "text": [
      "Found 1 images belonging to 1 classes.\n",
      "(1, 3)\n",
      "[[0.000 0.999 0.001]]\n",
      "<class 'numpy.ndarray'>\n",
      "사각형 사각형\n",
      "사각형 사각형\n"
     ]
    }
   ],
   "source": [
    "use_datagen = ImageDataGenerator(rescale=1./255)\n",
    "use_generator = use_datagen.flow_from_directory('./use2', target_size=(24, 24),    \n",
    "        batch_size=1, class_mode='categorical')\n",
    "output = model.predict_generator(use_generator)\n",
    "print(output.shape)\n",
    "print('사각형', display1(output))\n",
    "print('사각형', display2(output))"
   ]
  },
  {
   "cell_type": "code",
   "execution_count": 48,
   "metadata": {},
   "outputs": [
    {
     "name": "stdout",
     "output_type": "stream",
     "text": [
      "Found 1 images belonging to 1 classes.\n",
      "(1, 3)\n",
      "[[0.021 0.044 0.935]]\n",
      "<class 'numpy.ndarray'>\n",
      "삼각형 삼각형\n",
      "삼각형 삼각형\n"
     ]
    }
   ],
   "source": [
    "use_datagen = ImageDataGenerator(rescale=1./255)\n",
    "use_generator = use_datagen.flow_from_directory('./use3', target_size=(24, 24),    \n",
    "        batch_size=1, class_mode='categorical')\n",
    "output = model.predict_generator(use_generator)\n",
    "print(output.shape)\n",
    "print('삼각형', display1(output))\n",
    "print('삼각형', display2(output))"
   ]
  },
  {
   "cell_type": "code",
   "execution_count": 49,
   "metadata": {},
   "outputs": [
    {
     "name": "stdout",
     "output_type": "stream",
     "text": [
      "Found 1 images belonging to 1 classes.\n",
      "(1, 3)\n",
      "[[0.703 0.238 0.059]]\n",
      "<class 'numpy.ndarray'>\n",
      "원 원\n",
      "원 원\n"
     ]
    }
   ],
   "source": [
    "use_datagen = ImageDataGenerator(rescale=1./255)\n",
    "use_generator = use_datagen.flow_from_directory('./use4', target_size=(24, 24),    \n",
    "        batch_size=1, class_mode='categorical')\n",
    "output = model.predict_generator(use_generator)\n",
    "print(output.shape)\n",
    "print('원', display1(output))\n",
    "print('원', display2(output))"
   ]
  },
  {
   "cell_type": "code",
   "execution_count": 50,
   "metadata": {},
   "outputs": [
    {
     "name": "stdout",
     "output_type": "stream",
     "text": [
      "Found 1 images belonging to 1 classes.\n",
      "(1, 3)\n",
      "[[0.002 0.946 0.052]]\n",
      "<class 'numpy.ndarray'>\n",
      "사각형 사각형\n",
      "사각형 사각형\n"
     ]
    }
   ],
   "source": [
    "use_datagen = ImageDataGenerator(rescale=1./255)\n",
    "use_generator = use_datagen.flow_from_directory('./use5', target_size=(24, 24),    \n",
    "        batch_size=1, class_mode='categorical')\n",
    "output = model.predict_generator(use_generator)\n",
    "print(output.shape)\n",
    "print('사각형', display1(output))\n",
    "print('사각형', display2(output))"
   ]
  },
  {
   "cell_type": "code",
   "execution_count": 51,
   "metadata": {},
   "outputs": [
    {
     "name": "stdout",
     "output_type": "stream",
     "text": [
      "Found 1 images belonging to 1 classes.\n",
      "(1, 3)\n",
      "[[0.407 0.164 0.428]]\n",
      "<class 'numpy.ndarray'>\n",
      "삼각형 알수없는 도형\n",
      "삼각형 삼각형\n"
     ]
    }
   ],
   "source": [
    "# 실제 이미지와 학습이미의 크기가 많이 다르면 픽셀이 분실됨.\n",
    "use_datagen = ImageDataGenerator(rescale=1./255)\n",
    "use_generator = use_datagen.flow_from_directory('./use6', target_size=(24, 24),    \n",
    "        batch_size=1, class_mode='categorical')\n",
    "output = model.predict_generator(use_generator)\n",
    "print(output.shape)\n",
    "print('삼각형', display1(output))\n",
    "print('삼각형', display2(output))"
   ]
  },
  {
   "cell_type": "code",
   "execution_count": null,
   "metadata": {},
   "outputs": [],
   "source": []
  }
 ],
 "metadata": {
  "kernelspec": {
   "display_name": "machinegpu",
   "language": "python",
   "name": "machinegpu"
  },
  "language_info": {
   "codemirror_mode": {
    "name": "ipython",
    "version": 3
   },
   "file_extension": ".py",
   "mimetype": "text/x-python",
   "name": "python",
   "nbconvert_exporter": "python",
   "pygments_lexer": "ipython3",
   "version": "3.6.9"
  }
 },
 "nbformat": 4,
 "nbformat_minor": 2
}
