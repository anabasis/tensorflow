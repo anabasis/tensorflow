{
 "cells": [
  {
   "cell_type": "code",
   "execution_count": 9,
   "metadata": {},
   "outputs": [],
   "source": [
    "import pandas as pd\n",
    "import numpy as np\n",
    "import matplotlib\n",
    "import matplotlib.pyplot as plt\n",
    "from matplotlib import font_manager, rc\n",
    "\n",
    "font_name = font_manager.FontProperties(fname=\"C:/Windows/Fonts/malgun.ttf\").get_name()\n",
    "# windows 10\n",
    "# font_name = font_manager.FontProperties(fname=\"C:/Windows/Fonts/malgunsl.ttf\").get_name()\n",
    "rc('font', family=font_name)           # 맑은 고딕 폰트 지정\n",
    "plt.rcParams[\"font.size\"] = 12         # 글자 크기\n",
    "# plt.rcParams[\"figure.figsize\"] = (10, 4) # 10:4의 그래프 비율\n",
    "plt.rcParams['axes.unicode_minus'] = False  # minus 부호는 unicode 적용시 한글이 깨짐으로 설정\n",
    "\n",
    "# Jupyter에게 matplotlib 그래프를 출력 영역에 표시할 것을 지시하는 명령\n",
    "%matplotlib inline  "
   ]
  },
  {
   "cell_type": "code",
   "execution_count": 11,
   "metadata": {},
   "outputs": [
    {
     "name": "stdout",
     "output_type": "stream",
     "text": [
      "<class 'numpy.ndarray'>\n"
     ]
    },
    {
     "data": {
      "image/png": "[encoded data removed]",
      "text/plain": [
       "<Figure size 432x288 with 1 Axes>"
      ]
     },
     "metadata": {
      "needs_background": "light"
     },
     "output_type": "display_data"
    }
   ],
   "source": [
    "import numpy as np\n",
    "# skiprows=1: 첫번재 행 skip \n",
    "train = np.loadtxt('click.csv', delimiter=',', dtype='int', skiprows=1) \n",
    "print(type(train)) # <class 'numpy.ndarray'>\n",
    "train_x = train[:, 0] # 모든행 0열\n",
    "train_y = train[:, 1] # 모든행 1열\n",
    "\n",
    "plt.plot(train_x, train_y, 'o')\n",
    "plt.xlabel('광고비')\n",
    "plt.ylabel('클릭수')\n",
    "plt.show()\n"
   ]
  },
  {
   "cell_type": "code",
   "execution_count": 5,
   "metadata": {},
   "outputs": [],
   "source": [
    "# 표준화: 정규 분포를 표준 정규분포로 변환하는 일, TOEIC ~ TOEFL의 비교\n",
    "# z = 요소(x) - 평균(μ) / 표준편차(σ)\n",
    "# z값은 표준 정규분포에서 사용 가능\n",
    "# 표준 정규 분포: 평균 0, 표준편차가 1인 분포\n",
    "# 표준 정규 분포표를 만들어 값 비교를 할 수 있도록 지원\n",
    "m = train_x.mean()\n",
    "std = train_x.std()\n",
    "def standardize(x):\n",
    "    return (x - m) / std "
   ]
  },
  {
   "cell_type": "code",
   "execution_count": 6,
   "metadata": {},
   "outputs": [
    {
     "name": "stdout",
     "output_type": "stream",
     "text": [
      "[235 216 148  35  85 204  49  25 173 191 134  99 117 112 162 272 159 159\n",
      "  59 198]\n"
     ]
    }
   ],
   "source": [
    "print(train_x)"
   ]
  },
  {
   "cell_type": "code",
   "execution_count": 7,
   "metadata": {},
   "outputs": [
    {
     "name": "stdout",
     "output_type": "stream",
     "text": [
      "[ 1.39433428  1.11069026  0.09554325 -1.59139223 -0.8449606   0.93154667\n",
      " -1.38239138 -1.74067856  0.46875906  0.73747445 -0.11345761 -0.63595975\n",
      " -0.36724436 -0.44188752  0.3045441   1.94669369  0.25975821  0.25975821\n",
      " -1.23310505  0.84197488]\n"
     ]
    }
   ],
   "source": [
    "train_z = standardize(train_x)\n",
    "print(train_z)"
   ]
  },
  {
   "cell_type": "code",
   "execution_count": 13,
   "metadata": {},
   "outputs": [
    {
     "name": "stdout",
     "output_type": "stream",
     "text": [
      "<class 'numpy.ndarray'>\n"
     ]
    },
    {
     "data": {
      "image/png": "[encoded data removed]",
      "text/plain": [
       "<Figure size 432x288 with 1 Axes>"
      ]
     },
     "metadata": {
      "needs_background": "light"
     },
     "output_type": "display_data"
    }
   ],
   "source": [
    "import numpy as np\n",
    "# 표준화를 해도 분산은 동일함\n",
    "train = np.loadtxt('click.csv', delimiter=',', dtype='int', skiprows=1) \n",
    "print(type(train)) # <class 'numpy.ndarray'>\n",
    "train_x = train[:, 0] # 모든행 0열\n",
    "train_y = train[:, 1] # 모든행 1열\n",
    "\n",
    "plt.plot(train_z, train_y, 'o')  #표준화된 광고비\n",
    "plt.title('표준화한 경우')\n",
    "plt.xlabel('광고비')\n",
    "plt.ylabel('클릭수')\n",
    "plt.show()"
   ]
  },
  {
   "cell_type": "code",
   "execution_count": 14,
   "metadata": {},
   "outputs": [
    {
     "name": "stdout",
     "output_type": "stream",
     "text": [
      "0.5488135039273248\n",
      "0.7151893663724195\n"
     ]
    }
   ],
   "source": [
    "# y = ax + b\n",
    "np.random.seed(0)\n",
    "a = np.random.rand() # 기울기\n",
    "print(a)\n",
    "b = np.random.rand() # v\n",
    "print(b)"
   ]
  },
  {
   "cell_type": "code",
   "execution_count": 15,
   "metadata": {},
   "outputs": [],
   "source": [
    "# 예측함수\n",
    "def f(x):\n",
    "    return a * x + b"
   ]
  },
  {
   "cell_type": "code",
   "execution_count": 16,
   "metadata": {},
   "outputs": [],
   "source": [
    "# 오차 함수: 선형회귀 값과 실제값의 차이(잔차), 편차의 합은 0\n",
    "def E(x, y): # 데이터, 실제값\n",
    "    return np.sum((y - f(x))**2)"
   ]
  },
  {
   "cell_type": "code",
   "execution_count": 17,
   "metadata": {},
   "outputs": [],
   "source": [
    "## 파이퍼 파라메터(개발자가 지정하는 값)\n",
    "ETA = 0.01 # 학습률, 오차를 감소시키는 비율\n",
    "diff = 1     # 학습을 반복할때의 이전 학습과의 차이값\n",
    "count = 0  # 학습 진행 횟수"
   ]
  },
  {
   "cell_type": "code",
   "execution_count": 18,
   "metadata": {},
   "outputs": [
    {
     "name": "stdout",
     "output_type": "stream",
     "text": [
      "[235 591]\n",
      "[216 539]\n",
      "[148 413]\n",
      "[ 35 310]\n",
      "[ 85 308]\n"
     ]
    }
   ],
   "source": [
    "# 데이터 확인\n",
    "for line in train[0:5] :\n",
    "    print(line)"
   ]
  },
  {
   "cell_type": "code",
   "execution_count": 22,
   "metadata": {},
   "outputs": [
    {
     "name": "stdout",
     "output_type": "stream",
     "text": [
      "[ 1.39433428  1.11069026  0.09554325 -1.59139223 -0.8449606 ]\n",
      "오차 :  3862934.2167720823\n"
     ]
    }
   ],
   "source": [
    "print(train_z[0:5])\n",
    "e = E(train_z,train_y)\n",
    "print('오차 : ', e)"
   ]
  },
  {
   "cell_type": "code",
   "execution_count": 24,
   "metadata": {},
   "outputs": [
    {
     "name": "stdout",
     "output_type": "stream",
     "text": [
      "[ 1.48041885  1.32475118  0.76762479 -0.15818818  0.25146358  1.22643476\n",
      " -0.04348569 -0.24011853  0.97245067  1.1199253   0.6529223   0.36616607\n",
      "  0.5136407   0.47267553  0.88232728  1.78356115  0.85774818  0.85774818\n",
      "  0.03844466  1.17727655]\n"
     ]
    }
   ],
   "source": [
    "print(f(train_z)) # y = ax + b"
   ]
  },
  {
   "cell_type": "code",
   "execution_count": 25,
   "metadata": {},
   "outputs": [
    {
     "name": "stdout",
     "output_type": "stream",
     "text": [
      "-1858.5990883282816\n",
      "-8568.69621267255\n"
     ]
    }
   ],
   "source": [
    "# 기울기 a를 산출하는 공식 \n",
    "print(np.sum((f(train_z) - train_y) * train_z))\n",
    "# 편향 b를 구하는 공식\n",
    "print(np.sum(f(train_z) - train_y))"
   ]
  },
  {
   "cell_type": "code",
   "execution_count": 26,
   "metadata": {},
   "outputs": [
    {
     "name": "stdout",
     "output_type": "stream",
     "text": [
      "a의 감소값: -18.586\n",
      "b의 감소값: -85.687\n",
      "1번째: 기울기  19.1, 편향  86.4, 차분  1383785.016\n",
      "a의 감소값: -14.869\n",
      "b의 감소값: -68.550\n",
      "2번째: 기울기  34.0, 편향  155.0, 차분  885622.411\n",
      "a의 감소값: -11.895\n",
      "b의 감소값: -54.840\n",
      "3번째: 기울기  45.9, 편향  209.8, 차분  566798.343\n",
      "a의 감소값: -9.516\n",
      "b의 감소값: -43.872\n",
      "4번째: 기울기  55.4, 편향  253.7, 차분  362750.939\n",
      "a의 감소값: -7.613\n",
      "b의 감소값: -35.097\n",
      "5번째: 기울기  63.0, 편향  288.8, 차분  232160.601\n",
      "a의 감소값: -6.090\n",
      "b의 감소값: -28.078\n",
      "6번째: 기울기  69.1, 편향  316.8, 차분  148582.785\n",
      "a의 감소값: -4.872\n",
      "b의 감소값: -22.462\n",
      "7번째: 기울기  74.0, 편향  339.3, 차분  95092.982\n",
      "a의 감소값: -3.898\n",
      "b의 감소값: -17.970\n",
      "8번째: 기울기  77.9, 편향  357.3, 차분  60859.509\n",
      "a의 감소값: -3.118\n",
      "b의 감소값: -14.376\n",
      "9번째: 기울기  81.0, 편향  371.6, 차분  38950.086\n",
      "a의 감소값: -2.495\n",
      "b의 감소값: -11.501\n",
      "10번째: 기울기  83.5, 편향  383.1, 차분  24928.055\n",
      "a의 감소값: -1.996\n",
      "b의 감소값: -9.201\n",
      "11번째: 기울기  85.5, 편향  392.3, 차분  15953.955\n",
      "a의 감소값: -1.597\n",
      "b의 감소값: -7.360\n",
      "12번째: 기울기  87.1, 편향  399.7, 차분  10210.531\n",
      "a의 감소값: -1.277\n",
      "b의 감소값: -5.888\n",
      "13번째: 기울기  88.4, 편향  405.6, 차분  6534.740\n",
      "a의 감소값: -1.022\n",
      "b의 감소값: -4.711\n",
      "14번째: 기울기  89.4, 편향  410.3, 차분  4182.234\n",
      "a의 감소값: -0.817\n",
      "b의 감소값: -3.769\n",
      "15번째: 기울기  90.2, 편향  414.1, 차분  2676.629\n",
      "a의 감소값: -0.654\n",
      "b의 감소값: -3.015\n",
      "16번째: 기울기  90.9, 편향  417.1, 차분  1713.043\n",
      "a의 감소값: -0.523\n",
      "b의 감소값: -2.412\n",
      "17번째: 기울기  91.4, 편향  419.5, 차분  1096.347\n",
      "a의 감소값: -0.419\n",
      "b의 감소값: -1.929\n",
      "18번째: 기울기  91.8, 편향  421.4, 차분  701.662\n",
      "a의 감소값: -0.335\n",
      "b의 감소값: -1.544\n",
      "19번째: 기울기  92.1, 편향  423.0, 차분  449.064\n",
      "a의 감소값: -0.268\n",
      "b의 감소값: -1.235\n",
      "20번째: 기울기  92.4, 편향  424.2, 차분  287.401\n",
      "a의 감소값: -0.214\n",
      "b의 감소값: -0.988\n",
      "21번째: 기울기  92.6, 편향  425.2, 차분  183.937\n",
      "a의 감소값: -0.171\n",
      "b의 감소값: -0.790\n",
      "22번째: 기울기  92.8, 편향  426.0, 차분  117.719\n",
      "a의 감소값: -0.137\n",
      "b의 감소값: -0.632\n",
      "23번째: 기울기  92.9, 편향  426.6, 차분  75.340\n",
      "a의 감소값: -0.110\n",
      "b의 감소값: -0.506\n",
      "24번째: 기울기  93.0, 편향  427.1, 차분  48.218\n",
      "a의 감소값: -0.088\n",
      "b의 감소값: -0.405\n",
      "25번째: 기울기  93.1, 편향  427.5, 차분  30.859\n",
      "a의 감소값: -0.070\n",
      "b의 감소값: -0.324\n",
      "26번째: 기울기  93.2, 편향  427.9, 차분  19.750\n",
      "a의 감소값: -0.056\n",
      "b의 감소값: -0.259\n",
      "27번째: 기울기  93.3, 편향  428.1, 차분  12.640\n",
      "a의 감소값: -0.045\n",
      "b의 감소값: -0.207\n",
      "28번째: 기울기  93.3, 편향  428.3, 차분  8.090\n",
      "a의 감소값: -0.036\n",
      "b의 감소값: -0.166\n",
      "29번째: 기울기  93.3, 편향  428.5, 차분  5.177\n",
      "a의 감소값: -0.029\n",
      "b의 감소값: -0.133\n",
      "30번째: 기울기  93.4, 편향  428.6, 차분  3.314\n",
      "a의 감소값: -0.023\n",
      "b의 감소값: -0.106\n",
      "31번째: 기울기  93.4, 편향  428.7, 차분  2.121\n",
      "a의 감소값: -0.018\n",
      "b의 감소값: -0.085\n",
      "32번째: 기울기  93.4, 편향  428.8, 차분  1.357\n",
      "a의 감소값: -0.015\n",
      "b의 감소값: -0.068\n",
      "33번째: 기울기  93.4, 편향  428.9, 차분  0.869\n",
      "a의 감소값: -0.012\n",
      "b의 감소값: -0.054\n",
      "34번째: 기울기  93.4, 편향  428.9, 차분  0.556\n",
      "a의 감소값: -0.009\n",
      "b의 감소값: -0.043\n",
      "35번째: 기울기  93.4, 편향  429.0, 차분  0.356\n",
      "a의 감소값: -0.008\n",
      "b의 감소값: -0.035\n",
      "36번째: 기울기  93.4, 편향  429.0, 차분  0.228\n",
      "a의 감소값: -0.006\n",
      "b의 감소값: -0.028\n",
      "37번째: 기울기  93.5, 편향  429.0, 차분  0.146\n",
      "a의 감소값: -0.005\n",
      "b의 감소값: -0.022\n",
      "38번째: 기울기  93.5, 편향  429.1, 차분  0.093\n",
      "a의 감소값: -0.004\n",
      "b의 감소값: -0.018\n",
      "39번째: 기울기  93.5, 편향  429.1, 차분  0.060\n",
      "a의 감소값: -0.003\n",
      "b의 감소값: -0.014\n",
      "40번째: 기울기  93.5, 편향  429.1, 차분  0.038\n",
      "a의 감소값: -0.002\n",
      "b의 감소값: -0.011\n",
      "41번째: 기울기  93.5, 편향  429.1, 차분  0.024\n",
      "a의 감소값: -0.002\n",
      "b의 감소값: -0.009\n",
      "42번째: 기울기  93.5, 편향  429.1, 차분  0.016\n",
      "a의 감소값: -0.002\n",
      "b의 감소값: -0.007\n",
      "43번째: 기울기  93.5, 편향  429.1, 차분  0.010\n",
      "a의 감소값: -0.001\n",
      "b의 감소값: -0.006\n",
      "44번째: 기울기  93.5, 편향  429.1, 차분  0.006\n"
     ]
    }
   ],
   "source": [
    "# 학습을하여 a, b 값을 찾음\n",
    "while diff > 0.01: # 학습에 따른 이전 학습과의 오차의 감소값\n",
    "    print('a의 감소값: {0: .3f}'.format(ETA * np.sum(((f(train_z) - train_y) * train_z))))\n",
    "    a = a - ETA * np.sum(((f(train_z) - train_y) * train_z))  # 기울기\n",
    "    print('b의 감소값: {0: .3f}'.format(ETA * np.sum(f(train_z) - train_y)))\n",
    "    b = b - ETA * np.sum(f(train_z) - train_y) # 편향, b - ETA * (ax + b의 값 - 실제값)\n",
    "    \n",
    "    # a, b의 값의 변경은 함수 f(x)를 변경하게 됨.\n",
    "    current_error = E(train_z, train_y) # E() -> f(x)\n",
    "    diff = e - current_error # 에러가 얼마나 떨어지는지 모니터링위해  차이값을 산출\n",
    "    e = current_error  #  다음 차이값을 계산하기위하여 다시 e 변수에 할당\n",
    "    count = count + 1\n",
    "    log = '{0}번째: 기울기 {1: .1f}, 편향 {2: .1f}, 차분 {3: .3f}'\n",
    "    print(log.format(count, a, b, diff))   "
   ]
  },
  {
   "cell_type": "code",
   "execution_count": 28,
   "metadata": {},
   "outputs": [
    {
     "name": "stdout",
     "output_type": "stream",
     "text": [
      "f(x)= 93.4737083323659 *x  429.12667379017057\n"
     ]
    }
   ],
   "source": [
    "print('f(x)=', a, '*x ', b)"
   ]
  },
  {
   "cell_type": "code",
   "execution_count": 29,
   "metadata": {},
   "outputs": [
    {
     "name": "stdout",
     "output_type": "stream",
     "text": [
      "실제 비용: 235, 클릭수:591, 예상비용:  559, 차이:  32\n",
      "실제 비용: 216, 클릭수:539, 예상비용:  533, 차이:  6\n",
      "실제 비용: 148, 클릭수:413, 예상비용:  438, 차이: -25\n",
      "실제 비용: 35, 클릭수:310, 예상비용:  280, 차이:  30\n",
      "실제 비용: 85, 클릭수:308, 예상비용:  350, 차이: -42\n",
      "실제 비용: 204, 클릭수:519, 예상비용:  516, 차이:  3\n",
      "실제 비용: 49, 클릭수:325, 예상비용:  300, 차이:  25\n",
      "실제 비용: 25, 클릭수:332, 예상비용:  266, 차이:  66\n",
      "실제 비용: 173, 클릭수:498, 예상비용:  473, 차이:  25\n",
      "실제 비용: 191, 클릭수:498, 예상비용:  498, 차이: -0\n",
      "실제 비용: 134, 클릭수:392, 예상비용:  419, 차이: -27\n",
      "실제 비용: 99, 클릭수:334, 예상비용:  370, 차이: -36\n",
      "실제 비용: 117, 클릭수:385, 예상비용:  395, 차이: -10\n",
      "실제 비용: 112, 클릭수:387, 예상비용:  388, 차이: -1\n",
      "실제 비용: 162, 클릭수:425, 예상비용:  458, 차이: -33\n",
      "실제 비용: 272, 클릭수:659, 예상비용:  611, 차이:  48\n",
      "실제 비용: 159, 클릭수:400, 예상비용:  453, 차이: -53\n",
      "실제 비용: 159, 클릭수:427, 예상비용:  453, 차이: -26\n",
      "실제 비용: 59, 클릭수:319, 예상비용:  314, 차이:  5\n",
      "실제 비용: 198, 클릭수:522, 예상비용:  508, 차이:  14\n"
     ]
    }
   ],
   "source": [
    "# 표준화된 데이터로 학습을 했음으로 표준화된 데이터를 이용하여 테스트해야함.\n",
    "for i in range(len(train_z)):\n",
    "    predict = f(train_z[i]) #  predict = a * train_z[i] + b\n",
    "    fmt = '실제 비용: {0}, 클릭수:{1}, 예상비용: {2: .0f}, 차이: {3: .0f}'\n",
    "    print(fmt.format(train_x[i], train_y[i], predict, train_y[i] - predict))"
   ]
  },
  {
   "cell_type": "code",
   "execution_count": 30,
   "metadata": {},
   "outputs": [
    {
     "name": "stdout",
     "output_type": "stream",
     "text": [
      "-1.7406785589737952\n",
      "1.9466936885950508\n"
     ]
    }
   ],
   "source": [
    "startx = np.min(train_z)\n",
    "print(startx)\n",
    "startx = np.max(train_z)\n",
    "print(startx)"
   ]
  },
  {
   "cell_type": "code",
   "execution_count": 33,
   "metadata": {},
   "outputs": [
    {
     "name": "stdout",
     "output_type": "stream",
     "text": [
      "[-2.         -1.95959596 -1.91919192 -1.87878788 -1.83838384 -1.7979798\n",
      " -1.75757576 -1.71717172 -1.67676768 -1.63636364 -1.5959596  -1.55555556\n",
      " -1.51515152 -1.47474747 -1.43434343 -1.39393939 -1.35353535 -1.31313131\n",
      " -1.27272727 -1.23232323 -1.19191919 -1.15151515 -1.11111111 -1.07070707\n",
      " -1.03030303 -0.98989899 -0.94949495 -0.90909091 -0.86868687 -0.82828283\n",
      " -0.78787879 -0.74747475 -0.70707071 -0.66666667 -0.62626263 -0.58585859\n",
      " -0.54545455 -0.50505051 -0.46464646 -0.42424242 -0.38383838 -0.34343434\n",
      " -0.3030303  -0.26262626 -0.22222222 -0.18181818 -0.14141414 -0.1010101\n",
      " -0.06060606 -0.02020202  0.02020202  0.06060606  0.1010101   0.14141414\n",
      "  0.18181818  0.22222222  0.26262626  0.3030303   0.34343434  0.38383838\n",
      "  0.42424242  0.46464646  0.50505051  0.54545455  0.58585859  0.62626263\n",
      "  0.66666667  0.70707071  0.74747475  0.78787879  0.82828283  0.86868687\n",
      "  0.90909091  0.94949495  0.98989899  1.03030303  1.07070707  1.11111111\n",
      "  1.15151515  1.19191919  1.23232323  1.27272727  1.31313131  1.35353535\n",
      "  1.39393939  1.43434343  1.47474747  1.51515152  1.55555556  1.5959596\n",
      "  1.63636364  1.67676768  1.71717172  1.75757576  1.7979798   1.83838384\n",
      "  1.87878788  1.91919192  1.95959596  2.        ]\n"
     ]
    }
   ],
   "source": [
    "x = np.linspace(-2,2,100)\n",
    "print(x)"
   ]
  },
  {
   "cell_type": "code",
   "execution_count": 36,
   "metadata": {},
   "outputs": [
    {
     "data": {
      "image/png": "[encoded data removed]",
      "text/plain": [
       "<Figure size 432x288 with 1 Axes>"
      ]
     },
     "metadata": {
      "needs_background": "light"
     },
     "output_type": "display_data"
    }
   ],
   "source": [
    "# f(x)= 93.4737083323659 *x+ 429.12667379017057\n",
    "plt.plot(x, f(x)) # 테스트 데이터를 이용하여 기울기 확인\n",
    "plt.plot(train_z,train_y, 'o') # click.csv 데이터\n",
    "plt.show()"
   ]
  },
  {
   "cell_type": "code",
   "execution_count": null,
   "metadata": {},
   "outputs": [],
   "source": []
  }
 ],
 "metadata": {
  "kernelspec": {
   "display_name": "machine",
   "language": "python",
   "name": "machine"
  },
  "language_info": {
   "codemirror_mode": {
    "name": "ipython",
    "version": 3
   },
   "file_extension": ".py",
   "mimetype": "text/x-python",
   "name": "python",
   "nbconvert_exporter": "python",
   "pygments_lexer": "ipython3",
   "version": "3.6.9"
  }
 },
 "nbformat": 4,
 "nbformat_minor": 2
}
