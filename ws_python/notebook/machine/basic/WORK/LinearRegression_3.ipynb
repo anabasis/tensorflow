{
 "cells": [
  {
   "cell_type": "code",
   "execution_count": 1,
   "metadata": {},
   "outputs": [],
   "source": [
    "import numpy as np"
   ]
  },
  {
   "cell_type": "code",
   "execution_count": 2,
   "metadata": {},
   "outputs": [
    {
     "name": "stdout",
     "output_type": "stream",
     "text": [
      "4.0\n"
     ]
    }
   ],
   "source": [
    "x = [2, 4, 6]\n",
    "mx = np.mean(x)\n",
    "print(mx)"
   ]
  },
  {
   "cell_type": "code",
   "execution_count": 4,
   "metadata": {},
   "outputs": [
    {
     "name": "stdout",
     "output_type": "stream",
     "text": [
      "2\n",
      "4\n",
      "6\n"
     ]
    }
   ],
   "source": [
    "for i in x:\n",
    "    print(i)"
   ]
  },
  {
   "cell_type": "code",
   "execution_count": 6,
   "metadata": {},
   "outputs": [
    {
     "name": "stdout",
     "output_type": "stream",
     "text": [
      "4\n",
      "16\n",
      "36\n",
      "tot: 56\n"
     ]
    }
   ],
   "source": [
    "data = [i ** 2 for i in x]\n",
    "for i in data:\n",
    "    print(i)\n",
    "tot = sum(data)    \n",
    "print('tot:', tot)"
   ]
  },
  {
   "cell_type": "code",
   "execution_count": 7,
   "metadata": {},
   "outputs": [
    {
     "name": "stdout",
     "output_type": "stream",
     "text": [
      "4.0 88.2\n"
     ]
    }
   ],
   "source": [
    "x = [0, 2, 4, 6, 8] # 독립 변수\n",
    "y = [79, 81, 93, 91, 97] # 종속 변수\n",
    "\n",
    "mx = np.mean(x)\n",
    "my = np.mean(y)\n",
    "print(mx, my)"
   ]
  },
  {
   "cell_type": "code",
   "execution_count": 8,
   "metadata": {},
   "outputs": [],
   "source": [
    "import pandas as pd\n",
    "import numpy as np\n",
    "import matplotlib\n",
    "import matplotlib.pyplot as plt\n",
    "from matplotlib import font_manager, rc\n",
    "\n",
    "font_name = font_manager.FontProperties(fname=\"C:/Windows/Fonts/malgun.ttf\").get_name()\n",
    "# windows 10\n",
    "# font_name = font_manager.FontProperties(fname=\"C:/Windows/Fonts/malgunsl.ttf\").get_name()\n",
    "rc('font', family=font_name)           # 맑은 고딕 폰트 지정\n",
    "plt.rcParams[\"font.size\"] = 12         # 글자 크기\n",
    "# plt.rcParams[\"figure.figsize\"] = (10, 4) # 10:4의 그래프 비율\n",
    "plt.rcParams['axes.unicode_minus'] = False  # minus 부호는 unicode 적용시 한글이 깨짐으로 설정\n",
    "\n",
    "# Jupyter에게 matplotlib 그래프를 출력 영역에 표시할 것을 지시하는 명령\n",
    "%matplotlib inline  "
   ]
  },
  {
   "cell_type": "code",
   "execution_count": 9,
   "metadata": {},
   "outputs": [
    {
     "data": {
      "image/png": "[encoded data removed]",
      "text/plain": [
       "<Figure size 432x288 with 1 Axes>"
      ]
     },
     "metadata": {
      "needs_background": "light"
     },
     "output_type": "display_data"
    }
   ],
   "source": [
    "plt.plot(x, y)\n",
    "plt.grid(True)\n",
    "plt.show()"
   ]
  },
  {
   "cell_type": "code",
   "execution_count": 10,
   "metadata": {},
   "outputs": [
    {
     "name": "stdout",
     "output_type": "stream",
     "text": [
      "[-4.0, -2.0, 0.0, 2.0, 4.0]\n",
      "0.0\n",
      "40.0\n"
     ]
    }
   ],
   "source": [
    "# f(x) = ax + b, y = ax + b\n",
    "#                (x - x 평균)(y - y 평균)의 합   <- x, y의 편차의 곱을 합\n",
    "#     a 기울기 = ─────────────\n",
    "#                 (x - x 평균)의 제곱의 합        <- x 편차 제곱의 합\n",
    "\n",
    "# 분모\n",
    "divisor = [i - mx  for i in x]\n",
    "print(divisor)  # 편차 출력\n",
    "\n",
    "divisor = np.sum([i - mx  for i in x])\n",
    "print(divisor)  # 편차의 합은 0\n",
    "\n",
    "divisor = np.sum([(i - mx) ** 2  for i in x])\n",
    "print(divisor)  # x 편차 제곱의 합"
   ]
  },
  {
   "cell_type": "code",
   "execution_count": 11,
   "metadata": {},
   "outputs": [
    {
     "name": "stdout",
     "output_type": "stream",
     "text": [
      "92.0\n"
     ]
    }
   ],
   "source": [
    "# (x - x 평균)(y - y 평균)의 합\n",
    "child = 0 # 분자\n",
    "for i in range(len(x)): # 0 ~ n-1\n",
    "    child = child + (x[i] - mx ) * (y[i] - my)\n",
    "    \n",
    "print(child)    "
   ]
  },
  {
   "cell_type": "code",
   "execution_count": 18,
   "metadata": {},
   "outputs": [
    {
     "name": "stdout",
     "output_type": "stream",
     "text": [
      "최종 선형회귀 모델: y=2.3x + 79.0\n"
     ]
    }
   ],
   "source": [
    "# y = ax + b\n",
    "a = child / divisor\n",
    "# b(y 절편) = y의 평균 - (x의 평균 X 기울기 a)\n",
    "b = my - (mx * a)\n",
    "print('최종 선형회귀 모델: y={0}x + {1}'.format(a, b))  "
   ]
  },
  {
   "cell_type": "code",
   "execution_count": 19,
   "metadata": {},
   "outputs": [
    {
     "name": "stdout",
     "output_type": "stream",
     "text": [
      "검증\n",
      "공부 시간\t실제 성적 값\t예측\n",
      "0\t\t79\t\t79.0\n",
      "2\t\t81\t\t83.6\n",
      "4\t\t93\t\t88.2\n",
      "6\t\t91\t\t92.8\n",
      "8\t\t97\t\t97.4\n"
     ]
    }
   ],
   "source": [
    "print('검증')\n",
    "print('공부 시간\\t실제 성적 값\\t예측') # \\t: tab\n",
    "for i in range(len(x)):\n",
    "    print(str(x[i]) + '\\t\\t' + str(y[i]) + '\\t\\t' + str(float(a*x[i] + b)))"
   ]
  },
  {
   "cell_type": "code",
   "execution_count": 25,
   "metadata": {},
   "outputs": [
    {
     "name": "stdout",
     "output_type": "stream",
     "text": [
      "79.0\n",
      "83.6\n",
      "88.2\n",
      "92.8\n",
      "97.4\n"
     ]
    }
   ],
   "source": [
    "# x = [2, 4, 6, 8] # 독립 변수\n",
    "# y = [81, 93, 91, 97] # 종속 변수\n",
    "\n",
    "predict = [] # 예측 요소\n",
    "\n",
    "for i in range(len(x)):\n",
    "    predict.append(float(a*x[i] + b))  # y=2.3x + 79.0\n",
    "    print(predict[i])"
   ]
  },
  {
   "cell_type": "code",
   "execution_count": 26,
   "metadata": {},
   "outputs": [
    {
     "name": "stdout",
     "output_type": "stream",
     "text": [
      "79.0 - 79 = 0.0\n",
      "83.6 - 81 = 2.5999999999999943\n",
      "88.2 - 93 = -4.799999999999997\n",
      "92.8 - 91 = 1.7999999999999972\n",
      "97.4 - 97 = 0.4000000000000057\n",
      "오차의 합: 0.0\n"
     ]
    }
   ],
   "source": [
    "diff = 0 # 오차의 합\n",
    "for i in range(len(x)):\n",
    "    pred = float(a*x[i] + b)\n",
    "    print('{0} - {1} = {2}'.format(pred, y[i], (pred - y[i]) ))\n",
    "    diff = diff + pred - y[i] # 오차의 합\n",
    "    \n",
    "print('오차의 합:', diff)"
   ]
  },
  {
   "cell_type": "code",
   "execution_count": 27,
   "metadata": {},
   "outputs": [
    {
     "data": {
      "image/png": "[encoded data removed]",
      "text/plain": [
       "<Figure size 432x288 with 1 Axes>"
      ]
     },
     "metadata": {
      "needs_background": "light"
     },
     "output_type": "display_data"
    }
   ],
   "source": [
    "plt.plot(x, y, color='red', label='실제값')\n",
    "plt.plot(x, predict, color='blue', label='예측값')\n",
    "plt.legend()\n",
    "plt.show()"
   ]
  },
  {
   "cell_type": "code",
   "execution_count": 28,
   "metadata": {},
   "outputs": [
    {
     "name": "stdout",
     "output_type": "stream",
     "text": [
      "102.0 점 취득 예상됨\n"
     ]
    }
   ],
   "source": [
    "# 학습 시간 10시간의 예상 성적\n",
    "y = a * 10 + b\n",
    "print(y, '점 취득 예상됨')"
   ]
  },
  {
   "cell_type": "code",
   "execution_count": 29,
   "metadata": {},
   "outputs": [
    {
     "name": "stdout",
     "output_type": "stream",
     "text": [
      "79.0 점 취득 예상됨\n"
     ]
    }
   ],
   "source": [
    "# 공부를 못한경우\n",
    "y = a * 0 + b\n",
    "print(y, '점 취득 예상됨')"
   ]
  },
  {
   "cell_type": "code",
   "execution_count": null,
   "metadata": {},
   "outputs": [],
   "source": []
  },
  {
   "cell_type": "code",
   "execution_count": null,
   "metadata": {},
   "outputs": [],
   "source": []
  },
  {
   "cell_type": "code",
   "execution_count": null,
   "metadata": {},
   "outputs": [],
   "source": []
  },
  {
   "cell_type": "code",
   "execution_count": null,
   "metadata": {},
   "outputs": [],
   "source": []
  },
  {
   "cell_type": "code",
   "execution_count": null,
   "metadata": {},
   "outputs": [],
   "source": []
  },
  {
   "cell_type": "code",
   "execution_count": null,
   "metadata": {},
   "outputs": [],
   "source": []
  },
  {
   "cell_type": "code",
   "execution_count": null,
   "metadata": {},
   "outputs": [],
   "source": []
  },
  {
   "cell_type": "code",
   "execution_count": null,
   "metadata": {},
   "outputs": [],
   "source": []
  }
 ],
 "metadata": {
  "kernelspec": {
   "display_name": "machine",
   "language": "python",
   "name": "machine"
  },
  "language_info": {
   "codemirror_mode": {
    "name": "ipython",
    "version": 3
   },
   "file_extension": ".py",
   "mimetype": "text/x-python",
   "name": "python",
   "nbconvert_exporter": "python",
   "pygments_lexer": "ipython3",
   "version": "3.6.9"
  }
 },
 "nbformat": 4,
 "nbformat_minor": 2
}
