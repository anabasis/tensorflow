{
 "cells": [
  {
   "cell_type": "code",
   "execution_count": 1,
   "metadata": {},
   "outputs": [],
   "source": [
    "import numpy as np"
   ]
  },
  {
   "cell_type": "code",
   "execution_count": 2,
   "metadata": {},
   "outputs": [
    {
     "name": "stdout",
     "output_type": "stream",
     "text": [
      "데이터 갯수: 5\n",
      "합계: 20\n",
      "평균: 4.0\n",
      "편차: [-4.0, -2.0, 0.0, 2.0, 4.0]\n",
      "편차의 합: 0.0\n",
      "편차의 제곱: [16.0, 4.0, 0.0, 4.0, 16.0]\n",
      "편차의 제곱의 합: 40.0\n",
      "모분산: 8.0\n",
      "표본분산: 10.0\n",
      "표준 편차: 2.8284271247461903\n",
      "표본 표준 편차: 3.1622776601683795\n"
     ]
    }
   ],
   "source": [
    "x = [0, 2, 4, 6, 8]\n",
    "\n",
    "print('데이터 갯수:', len(x))\n",
    "print('합계:', np.sum(x))\n",
    "print('평균:', np.mean(x))\n",
    "print('편차:', [i - np.mean(x) for i in x])\n",
    "print('편차의 합:', np.sum([i - np.mean(x) for i in x]))\n",
    "print('편차의 제곱:', [(i - np.mean(x)) ** 2 for i in x])\n",
    "print('편차의 제곱의 합:', np.sum([(i - np.mean(x)) ** 2 for i in x]))\n",
    "print('모분산:', np.var(x))\n",
    "print('표본분산:', np.var(x, ddof=1)) # n-1 -> 40 /4 = 10\n",
    "print('표준 편차:',np.std(x))\n",
    "print('표본 표준 편차:',np.std(x, ddof=1))\n"
   ]
  },
  {
   "cell_type": "code",
   "execution_count": 3,
   "metadata": {},
   "outputs": [
    {
     "name": "stdout",
     "output_type": "stream",
     "text": [
      "최댓값: 8\n",
      "최솟값: 0\n",
      "중앙값: 4.0\n",
      "최솟값: 0.0\n",
      "1 사분위수(25% 위치): 2.0\n",
      "2 사분위수(50% 위치): 4.0\n",
      "3 사분위수(75% 위치): 6.0\n",
      "최댓값: 8.0\n"
     ]
    }
   ],
   "source": [
    "print('최댓값:', np.max(x))\n",
    "print('최솟값:', np.min(x))\n",
    "print('중앙값:', np.median(x))\n",
    "print('최솟값:', np.percentile(x, 0))\n",
    "print('1 사분위수(25% 위치):', np.percentile(x, 25))\n",
    "print('2 사분위수(50% 위치):', np.percentile(x, 50))\n",
    "print('3 사분위수(75% 위치):', np.percentile(x, 75))\n",
    "print('최댓값:', np.percentile(x, 100))"
   ]
  },
  {
   "cell_type": "code",
   "execution_count": 4,
   "metadata": {},
   "outputs": [
    {
     "name": "stdout",
     "output_type": "stream",
     "text": [
      "20\n"
     ]
    }
   ],
   "source": [
    "x_sum = sum([i for i in x])\n",
    "print(x_sum)"
   ]
  },
  {
   "cell_type": "code",
   "execution_count": 5,
   "metadata": {},
   "outputs": [
    {
     "name": "stdout",
     "output_type": "stream",
     "text": [
      "<class 'list'>\n",
      "[0, 2, 4, 6, 8]\n",
      "<class 'list'>\n",
      "[79, 81, 93, 91, 97]\n"
     ]
    }
   ],
   "source": [
    "data = [[0, 79],\n",
    "        [2, 81],\n",
    "        [4, 93],\n",
    "        [6, 91],\n",
    "        [8, 97]] # list\n",
    "x = [i[0] for i in data]\n",
    "print(type(x))\n",
    "print(x)\n",
    "\n",
    "y = [i[1] for i in data]\n",
    "print(type(y))\n",
    "print(y)"
   ]
  },
  {
   "cell_type": "code",
   "execution_count": 6,
   "metadata": {},
   "outputs": [
    {
     "name": "stdout",
     "output_type": "stream",
     "text": [
      "<class 'numpy.ndarray'>\n",
      "[0 2 4 6 8]\n"
     ]
    }
   ],
   "source": [
    "ax = np.array(x)\n",
    "print(type(ax))\n",
    "print(ax)"
   ]
  },
  {
   "cell_type": "code",
   "execution_count": 9,
   "metadata": {},
   "outputs": [
    {
     "name": "stdout",
     "output_type": "stream",
     "text": [
      "y = 2.3x + 79 이라고 가정한 경우\n",
      "\n",
      "공부한 시간\t성적\t예측값\t오차\n",
      "0 \t\t 79 \t 79.0 \t 0.00\n",
      "2 \t\t 81 \t 83.6 \t 2.60\n",
      "4 \t\t 93 \t 88.2 \t -4.80\n",
      "6 \t\t 91 \t 92.8 \t 1.80\n",
      "8 \t\t 97 \t 97.4 \t 0.40\n"
     ]
    }
   ],
   "source": [
    "# y = 2.3x + 79이라고 가정을 할 경우\n",
    "a = 2.3\n",
    "b = 79\n",
    "\n",
    "print('y = 2.3x + 79 이라고 가정한 경우\\n')\n",
    "print('공부한 시간\\t성적\\t예측값\\t오차')  # \\t: tab\n",
    "for i in range(len(x)):\n",
    "    predict = a*x[i] + b\n",
    "    print('%d \\t\\t %d \\t %.1f \\t %.2f' %(x[i], y[i], predict, predict - y[i]))   "
   ]
  },
  {
   "cell_type": "code",
   "execution_count": 10,
   "metadata": {},
   "outputs": [],
   "source": [
    "# RMSE(평균 제곱근 오차) 오차를 계산하여 리턴하는 함수\n",
    "def rmse(p, r):  # p: 예측값, r: 실제값\n",
    "    return np.sqrt(((p-r) ** 2).mean()) # np.sqrt: √, mean(): 평균 "
   ]
  },
  {
   "cell_type": "code",
   "execution_count": 11,
   "metadata": {},
   "outputs": [
    {
     "name": "stdout",
     "output_type": "stream",
     "text": [
      "공부시간: 0 취득 점수: 79.0 예측 점수: 79.0\n",
      "공부시간: 2 취득 점수: 81.0 예측 점수: 83.6\n",
      "공부시간: 4 취득 점수: 93.0 예측 점수: 88.2\n",
      "공부시간: 6 취득 점수: 91.0 예측 점수: 92.8\n",
      "공부시간: 8 취득 점수: 97.0 예측 점수: 97.4\n",
      "RMSE: 2.58\n"
     ]
    }
   ],
   "source": [
    "# RMSE(평균 제곱근 오차) 오차를 계산하여 리턴하는 함수\n",
    "def rmse(p, r):  # p: 예측값, r: 실제값\n",
    "    return np.sqrt(((p-r) ** 2).mean()) # np.sqrt: √, mean(): 평균\n",
    "\n",
    "ab = [2.3, 79] # 기울기, y 절편\n",
    "\n",
    "predict_res = []\n",
    "for i in range(len(x)):\n",
    "    predict = ab[0] * x[i] + ab[1] # ax + b\n",
    "    predict_res.append(predict)\n",
    "    print('공부시간: {0:.0f} 취득 점수: {1:.1f} 예측 점수: {2:.1f}'.format(x[i], y[i], predict))    \n",
    "\n",
    "rmse_val = rmse(np.array(predict_res), np.array(y)) # p: 예측값, r: 실제값\n",
    "print('RMSE: {0:.2f}'.format(rmse_val))"
   ]
  },
  {
   "cell_type": "code",
   "execution_count": 12,
   "metadata": {},
   "outputs": [
    {
     "name": "stdout",
     "output_type": "stream",
     "text": [
      "공부시간: 0 취득 점수: 79.0 예측 점수: 79.0\n",
      "공부시간: 2 취득 점수: 81.0 예측 점수: 85.6\n",
      "공부시간: 4 취득 점수: 93.0 예측 점수: 92.2\n",
      "공부시간: 6 취득 점수: 91.0 예측 점수: 98.8\n",
      "공부시간: 8 취득 점수: 97.0 예측 점수: 105.4\n",
      "RMSE: 5.54\n"
     ]
    }
   ],
   "source": [
    "ab = [3.3, 79] # 기울기, y 절편\n",
    "\n",
    "predict_res = []\n",
    "for i in range(len(x)):\n",
    "    predict = ab[0] * x[i] + ab[1] # ax + b\n",
    "    predict_res.append(predict)\n",
    "    print('공부시간: {0:.0f} 취득 점수: {1:.1f} 예측 점수: {2:.1f}'.format(x[i], y[i], predict))    \n",
    "\n",
    "rmse_val = rmse(np.array(predict_res), np.array(y)) # p: 예측값, r: 실제값\n",
    "print('RMSE: {0:.2f}'.format(rmse_val))\n"
   ]
  },
  {
   "cell_type": "code",
   "execution_count": 13,
   "metadata": {},
   "outputs": [
    {
     "name": "stdout",
     "output_type": "stream",
     "text": [
      "공부시간: 0 취득 점수: 79.0 예측 점수: 77.0\n",
      "공부시간: 2 취득 점수: 81.0 예측 점수: 81.6\n",
      "공부시간: 4 취득 점수: 93.0 예측 점수: 86.2\n",
      "공부시간: 6 취득 점수: 91.0 예측 점수: 90.8\n",
      "공부시간: 8 취득 점수: 97.0 예측 점수: 95.4\n",
      "RMSE: 3.26\n"
     ]
    }
   ],
   "source": [
    "ab = [2.3, 77] # 기울기, y 절편\n",
    "\n",
    "predict_res = []\n",
    "for i in range(len(x)):\n",
    "    predict = ab[0] * x[i] + ab[1] # ax + b\n",
    "    predict_res.append(predict)\n",
    "    print('공부시간: {0:.0f} 취득 점수: {1:.1f} 예측 점수: {2:.1f}'.format(x[i], y[i], predict))    \n",
    "\n",
    "rmse_val = rmse(np.array(predict_res), np.array(y)) # p: 예측값, r: 실제값\n",
    "print('RMSE: {0:.2f}'.format(rmse_val))\n",
    " "
   ]
  },
  {
   "cell_type": "code",
   "execution_count": null,
   "metadata": {},
   "outputs": [],
   "source": []
  },
  {
   "cell_type": "code",
   "execution_count": null,
   "metadata": {},
   "outputs": [],
   "source": []
  },
  {
   "cell_type": "code",
   "execution_count": null,
   "metadata": {},
   "outputs": [],
   "source": []
  },
  {
   "cell_type": "code",
   "execution_count": null,
   "metadata": {},
   "outputs": [],
   "source": []
  }
 ],
 "metadata": {
  "kernelspec": {
   "display_name": "machine",
   "language": "python",
   "name": "machine"
  },
  "language_info": {
   "codemirror_mode": {
    "name": "ipython",
    "version": 3
   },
   "file_extension": ".py",
   "mimetype": "text/x-python",
   "name": "python",
   "nbconvert_exporter": "python",
   "pygments_lexer": "ipython3",
   "version": "3.6.9"
  }
 },
 "nbformat": 4,
 "nbformat_minor": 2
}
