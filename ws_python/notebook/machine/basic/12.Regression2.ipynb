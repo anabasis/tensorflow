{
 "cells": [
  {
   "cell_type": "code",
   "execution_count": 3,
   "metadata": {},
   "outputs": [
    {
     "name": "stdout",
     "output_type": "stream",
     "text": [
      "Once deleted, variables cannot be recovered. Proceed (y/[n])? y\n"
     ]
    }
   ],
   "source": [
    "%reset"
   ]
  },
  {
   "cell_type": "code",
   "execution_count": 38,
   "metadata": {},
   "outputs": [],
   "source": [
    "import pandas as pd\n",
    "import numpy as np\n",
    "import matplotlib\n",
    "import matplotlib.pyplot as plt\n",
    "from matplotlib import font_manager, rc\n",
    "\n",
    "font_name = font_manager.FontProperties(fname=\"C:/Windows/Fonts/malgun.ttf\").get_name()\n",
    "# windows 10\n",
    "# font_name = font_manager.FontProperties(fname=\"C:/Windows/Fonts/malgunsl.ttf\").get_name()\n",
    "rc('font', family=font_name)           # 맑은 고딕 폰트 지정\n",
    "plt.rcParams[\"font.size\"] = 12         # 글자 크기\n",
    "# plt.rcParams[\"figure.figsize\"] = (10, 4) # 10:4의 그래프 비율\n",
    "plt.rcParams['axes.unicode_minus'] = False  # minus 부호는 unicode 적용시 한글이 깨짐으로 설정\n",
    "\n",
    "# Jupyter에게 matplotlib 그래프를 출력 영역에 표시할 것을 지시하는 명령\n",
    "%matplotlib inline  "
   ]
  },
  {
   "cell_type": "code",
   "execution_count": 39,
   "metadata": {},
   "outputs": [
    {
     "name": "stdout",
     "output_type": "stream",
     "text": [
      "<class 'numpy.ndarray'>\n"
     ]
    },
    {
     "data": {
      "image/png": "[encoded data removed]",
      "text/plain": [
       "<Figure size 432x288 with 1 Axes>"
      ]
     },
     "metadata": {
      "needs_background": "light"
     },
     "output_type": "display_data"
    }
   ],
   "source": [
    "# skiprows=1: 첫번재 행 skip \n",
    "train = np.loadtxt('click.csv', delimiter=',', dtype='int', skiprows=1) \n",
    "print(type(train)) # <class 'numpy.ndarray'>\n",
    "train_x = train[:, 0] # 모든행 0열\n",
    "train_y = train[:, 1] # 모든행 1열\n",
    "\n",
    "plt.plot(train_x, train_y, 'o')\n",
    "plt.xlabel('광고비')\n",
    "plt.ylabel('클릭수')\n",
    "plt.show()"
   ]
  },
  {
   "cell_type": "code",
   "execution_count": 40,
   "metadata": {},
   "outputs": [],
   "source": [
    "# 표준화: 정규 분포를 표준 정규분포로 변환하는 일, TOEIC ~ TOEFL의 비교\n",
    "# z = 요소(x) - 평균(μ) / 표준편차(σ)\n",
    "# z값은 표준 정규분포에서 사용 가능\n",
    "# 표준 정규 분포: 평균 0, 표준편차가 1인 분포\n",
    "# 표준 정규 분포표를 만들어 값 비교를 할 수 있도록 지원\n",
    "m = train_x.mean()\n",
    "std = train_x.std()\n",
    "def standardize(x):\n",
    "    return (x - m) / std "
   ]
  },
  {
   "cell_type": "code",
   "execution_count": 41,
   "metadata": {},
   "outputs": [
    {
     "name": "stdout",
     "output_type": "stream",
     "text": [
      "[235 216 148  35  85 204  49  25 173 191 134  99 117 112 162 272 159 159\n",
      "  59 198]\n"
     ]
    }
   ],
   "source": [
    "print(train_x)"
   ]
  },
  {
   "cell_type": "code",
   "execution_count": 42,
   "metadata": {},
   "outputs": [
    {
     "name": "stdout",
     "output_type": "stream",
     "text": [
      "[ 1.39433428  1.11069026  0.09554325 -1.59139223 -0.8449606   0.93154667\n",
      " -1.38239138 -1.74067856  0.46875906  0.73747445 -0.11345761 -0.63595975\n",
      " -0.36724436 -0.44188752  0.3045441   1.94669369  0.25975821  0.25975821\n",
      " -1.23310505  0.84197488]\n"
     ]
    }
   ],
   "source": [
    "train_z = standardize(train_x)\n",
    "print(train_z)"
   ]
  },
  {
   "cell_type": "code",
   "execution_count": 43,
   "metadata": {},
   "outputs": [
    {
     "data": {
      "image/png": "[encoded data removed]",
      "text/plain": [
       "<Figure size 432x288 with 1 Axes>"
      ]
     },
     "metadata": {
      "needs_background": "light"
     },
     "output_type": "display_data"
    }
   ],
   "source": [
    "plt.plot(train_z, train_y, 'o')\n",
    "plt.show()"
   ]
  },
  {
   "cell_type": "code",
   "execution_count": 44,
   "metadata": {},
   "outputs": [
    {
     "name": "stdout",
     "output_type": "stream",
     "text": [
      "20\n",
      "[1. 1. 1. 1. 1. 1. 1. 1. 1. 1. 1. 1. 1. 1. 1. 1. 1. 1. 1. 1.]\n",
      "[ 1.39433428  1.11069026  0.09554325 -1.59139223 -0.8449606   0.93154667\n",
      " -1.38239138 -1.74067856  0.46875906  0.73747445 -0.11345761 -0.63595975\n",
      " -0.36724436 -0.44188752  0.3045441   1.94669369  0.25975821  0.25975821\n",
      " -1.23310505  0.84197488]\n",
      "[1.94416809 1.23363286 0.00912851 2.53252924 0.71395842 0.8677792\n",
      " 1.91100592 3.02996185 0.21973506 0.54386856 0.01287263 0.4044448\n",
      " 0.13486842 0.19526458 0.09274711 3.78961632 0.06747433 0.06747433\n",
      " 1.52054807 0.70892169]\n",
      "1.9441680843831186\n"
     ]
    }
   ],
   "source": [
    "print(train_z.size)\n",
    "print(np.ones(train_z.size)) ## 데이터의 갯수만큼 0으로 초기화된 배열 생성\n",
    "print(train_z)\n",
    "print(train_z**2)\n",
    "print(1.39433428 * 1.39433428)"
   ]
  },
  {
   "cell_type": "code",
   "execution_count": 45,
   "metadata": {},
   "outputs": [],
   "source": [
    "# 학습 데이터 행렬을 만든다. 전치행렬, 변수가 3개가 되도록 생성\n",
    "# vstack: 열 방향 결합\n",
    "# T: 배열의 열을 행으로 변환, 전치 행렬로 변환\n",
    "def to_matrix(x):\n",
    "    # return np.vstack([np.ones(x.size), x, x ** 2]) # 열방향으로 데이터가 발생함, 3행. \n",
    "    return np.vstack([np.ones(x.size), x, x ** 2]).T # 행방향으로 데이터 나열"
   ]
  },
  {
   "cell_type": "code",
   "execution_count": 46,
   "metadata": {},
   "outputs": [
    {
     "name": "stdout",
     "output_type": "stream",
     "text": [
      "[[ 1.          1.39433428  1.94416809]\n",
      " [ 1.          1.11069026  1.23363286]\n",
      " [ 1.          0.09554325  0.00912851]\n",
      " [ 1.         -1.59139223  2.53252924]\n",
      " [ 1.         -0.8449606   0.71395842]\n",
      " [ 1.          0.93154667  0.8677792 ]\n",
      " [ 1.         -1.38239138  1.91100592]\n",
      " [ 1.         -1.74067856  3.02996185]\n",
      " [ 1.          0.46875906  0.21973506]\n",
      " [ 1.          0.73747445  0.54386856]\n",
      " [ 1.         -0.11345761  0.01287263]\n",
      " [ 1.         -0.63595975  0.4044448 ]\n",
      " [ 1.         -0.36724436  0.13486842]\n",
      " [ 1.         -0.44188752  0.19526458]\n",
      " [ 1.          0.3045441   0.09274711]\n",
      " [ 1.          1.94669369  3.78961632]\n",
      " [ 1.          0.25975821  0.06747433]\n",
      " [ 1.          0.25975821  0.06747433]\n",
      " [ 1.         -1.23310505  1.52054807]\n",
      " [ 1.          0.84197488  0.70892169]]\n"
     ]
    }
   ],
   "source": [
    "x = to_matrix(train_z)\n",
    "print(x)"
   ]
  },
  {
   "cell_type": "code",
   "execution_count": 47,
   "metadata": {},
   "outputs": [
    {
     "name": "stdout",
     "output_type": "stream",
     "text": [
      "[0.5488135  0.71518937 0.60276338]\n",
      "(3,)\n"
     ]
    }
   ],
   "source": [
    "np.random.seed(0)\n",
    "# 변수가 3개이면 기울기도 3개\n",
    "# 변수가 3개인경우의 다중회귀 공식: f(x) = ax + bx + cx + d\n",
    "# 여기서는 d를 생략할것임.\n",
    "cust = np.random.rand(3) \n",
    "print(cust)\n",
    "print(cust.shape)"
   ]
  },
  {
   "cell_type": "code",
   "execution_count": 48,
   "metadata": {},
   "outputs": [],
   "source": [
    "def f(x):\n",
    "    return np.dot(x, cust) # 행렬의 곱, 내적합"
   ]
  },
  {
   "cell_type": "code",
   "execution_count": 49,
   "metadata": {},
   "outputs": [],
   "source": [
    "# 오차 함수: 선형회귀 값과 실제값의 차이(잔차), 편차의 합은 0\n",
    "def E(x, y): # 데이터, 실제값\n",
    "    return np.sum((y - f(x))**2)"
   ]
  },
  {
   "cell_type": "code",
   "execution_count": 50,
   "metadata": {},
   "outputs": [],
   "source": [
    "ETA = 0.01 # 학습률, 오차를 감소시키는 비율\n",
    "diff = 1     # 학습을 반복할때의 이전 학습과의 차이값\n",
    "count = 0  # 학습 진행 횟수 "
   ]
  },
  {
   "cell_type": "code",
   "execution_count": 51,
   "metadata": {},
   "outputs": [
    {
     "name": "stdout",
     "output_type": "stream",
     "text": [
      "[235 591]\n",
      "[216 539]\n",
      "[148 413]\n",
      "[ 35 310]\n",
      "[ 85 308]\n"
     ]
    }
   ],
   "source": [
    "# 데이터 확인\n",
    "for line in train[0:5]:\n",
    "    print(line)"
   ]
  },
  {
   "cell_type": "code",
   "execution_count": 52,
   "metadata": {},
   "outputs": [
    {
     "name": "stdout",
     "output_type": "stream",
     "text": [
      "[1.         1.39433428 1.94416809] --> 591\n",
      "오차: 3854351.463611686\n"
     ]
    }
   ],
   "source": [
    "print(x[0], '-->', train_y[0])\n",
    "e = E(x, train_y)\n",
    "print('오차:', e)"
   ]
  },
  {
   "cell_type": "code",
   "execution_count": 53,
   "metadata": {},
   "outputs": [
    {
     "name": "stdout",
     "output_type": "stream",
     "text": [
      "cust 기울기 3개의 감소값:  [-85.59968462 -18.56107713 -89.59425667]\n",
      "1번째: 기울기1:  86.1, 기울기2:  19.3, 기울기3:  90.2, 차분:  2334467.803\n",
      "\n",
      "cust 기울기 3개의 감소값:  [-50.56089636 -16.09169698 -33.69693226]\n",
      "2번째: 기울기1:  136.7, 기울기2:  35.4, 기울기3:  123.9, 차분:  617742.301\n",
      "\n",
      "cust 기울기 3개의 감소값:  [-33.70933064 -13.34079532  -9.12673005]\n",
      "3번째: 기울기1:  170.4, 기울기2:  48.7, 기울기3:  133.0, 차분:  237635.112\n",
      "\n",
      "cust 기울기 3개의 감소값:  [-25.1421185  -10.7992406    1.40645332]\n",
      "4번째: 기울기1:  195.6, 기울기2:  59.5, 기울기3:  131.6, 차분:  136456.698\n",
      "\n",
      "cust 기울기 3개의 감소값:  [-20.39498547  -8.61988241   5.67230146]\n",
      "5번째: 기울기1:  216.0, 기울기2:  68.1, 기울기3:  125.9, 차분:  97771.398\n",
      "\n",
      "cust 기울기 3개의 감소값:  [-17.45044866  -6.81722079   7.1603891 ]\n",
      "6번째: 기울기1:  233.4, 기울기2:  74.9, 기울기3:  118.8, 차분:  76061.758\n",
      "\n",
      "cust 기울기 3개의 감소값:  [-15.39243675  -5.35444902   7.43623828]\n",
      "7번째: 기울기1:  248.8, 기울기2:  80.3, 기울기3:  111.3, 차분:  60925.802\n",
      "\n",
      "cust 기울기 3개의 감소값:  [-13.80119706  -4.18040506   7.20059307]\n",
      "8번째: 기울기1:  262.6, 기울기2:  84.5, 기울기3:  104.1, 차분:  49433.094\n",
      "\n",
      "cust 기울기 3개의 감소값:  [-12.48107626  -3.24443873   6.7656531 ]\n",
      "9번째: 기울기1:  275.1, 기울기2:  87.7, 기울기3:  97.4, 차분:  40411.968\n",
      "\n",
      "cust 기울기 3개의 감소값:  [-11.33799163  -2.50169907   6.2691693 ]\n",
      "10번째: 기울기1:  286.4, 기울기2:  90.2, 기울기3:  91.1, 차분:  33213.366\n",
      "\n",
      "cust 기울기 3개의 감소값:  [-10.32422716  -1.91439448   5.7706822 ]\n",
      "11번째: 기울기1:  296.7, 기울기2:  92.1, 기울기3:  85.3, 차분:  27407.577\n",
      "\n",
      "cust 기울기 3개의 감소값:  [-9.41351817 -1.45146573  5.29477249]\n",
      "12번째: 기울기1:  306.2, 기울기2:  93.6, 기울기3:  80.0, 차분:  22687.667\n",
      "\n",
      "cust 기울기 3개의 감소값:  [-8.58976904 -1.08772446  4.85048932]\n",
      "13번째: 기울기1:  314.7, 기울기2:  94.7, 기울기3:  75.2, 차분:  18826.458\n",
      "\n",
      "cust 기울기 3개의 감소값:  [-7.84191309 -0.80289446  4.44006953]\n",
      "14번째: 기울기1:  322.6, 기울기2:  95.5, 기울기3:  70.8, 차분:  15652.023\n",
      "\n",
      "cust 기울기 3개의 감소값:  [-7.16154438 -0.58072373  4.06284336]\n",
      "15번째: 기울기1:  329.7, 기울기2:  96.1, 기울기3:  66.7, 차분:  13031.963\n",
      "\n",
      "cust 기울기 3개의 감소값:  [-6.54180417 -0.40821996  3.7169771 ]\n",
      "16번째: 기울기1:  336.3, 기울기2:  96.5, 기울기3:  63.0, 차분:  10862.797\n",
      "\n",
      "cust 기울기 3개의 감소값:  [-5.97683876 -0.27501473  3.40024444]\n",
      "17번째: 기울기1:  342.3, 기울기2:  96.7, 기울기3:  59.6, 차분:  9062.605\n",
      "\n",
      "cust 기울기 3개의 감소값:  [-5.4615199  -0.17284421  3.11036213]\n",
      "18번째: 기울기1:  347.7, 기울기2:  96.9, 기울기3:  56.5, 차분:  7565.828\n",
      "\n",
      "cust 기울기 3개의 감소값:  [-4.99128834 -0.09512899  2.84513068]\n",
      "19번째: 기울기1:  352.7, 기울기2:  97.0, 기울기3:  53.6, 차분:  6319.522\n",
      "\n",
      "cust 기울기 3개의 감소값:  [-4.56205681 -0.03663606  2.60248831]\n",
      "20번째: 기울기1:  357.3, 기울기2:  97.1, 기울기3:  51.0, 차분:  5280.612\n",
      "\n",
      "cust 기울기 3개의 감소값:  [-4.17014311  0.0067924   2.38052664]\n",
      "21번째: 기울기1:  361.5, 기울기2:  97.0, 기울기3:  48.6, 차분:  4413.838\n",
      "\n",
      "cust 기울기 3개의 감소값:  [-3.81221982  0.03845615  2.17749001]\n",
      "22번째: 기울기1:  365.3, 기울기2:  97.0, 기울기3:  46.5, 차분:  3690.199\n",
      "\n",
      "cust 기울기 3개의 감소값:  [-3.48527386  0.06097067  1.99176795]\n",
      "23번째: 기울기1:  368.8, 기울기2:  96.9, 기울기3:  44.5, 차분:  3085.750\n",
      "\n",
      "cust 기울기 3개의 감소값:  [-3.18657267  0.07640598  1.8218853 ]\n",
      "24번째: 기울기1:  371.9, 기울기2:  96.9, 기울기3:  42.6, 차분:  2580.662\n",
      "\n",
      "cust 기울기 3개의 감소값:  [-2.9136352   0.08639765  1.66649184]\n",
      "25번째: 기울기1:  374.9, 기울기2:  96.8, 기울기3:  41.0, 차분:  2158.474\n",
      "\n",
      "cust 기울기 3개의 감소값:  [-2.66420653  0.09223539  1.52435207]\n",
      "26번째: 기울기1:  377.5, 기울기2:  96.7, 기울기3:  39.5, 차분:  1805.500\n",
      "\n",
      "cust 기울기 3개의 감소값:  [-2.43623564  0.09493385  1.39433569]\n",
      "27번째: 기울기1:  380.0, 기울기2:  96.6, 기울기3:  38.1, 차분:  1510.340\n",
      "\n",
      "cust 기울기 3개의 감소값:  [-2.22785565  0.09528905  1.27540874]\n",
      "28번째: 기울기1:  382.2, 기울기2:  96.5, 기울기3:  36.8, 차분:  1263.492\n",
      "\n",
      "cust 기울기 3개의 감소값:  [-2.03736627  0.09392348  1.16662539]\n",
      "29번째: 기울기1:  384.2, 기울기2:  96.4, 기울기3:  35.6, 차분:  1057.026\n",
      "\n",
      "cust 기울기 3개의 감소값:  [-1.86321809  0.091322    1.06712048]\n",
      "30번째: 기울기1:  386.1, 기울기2:  96.3, 기울기3:  34.5, 차분:  884.323\n",
      "\n",
      "cust 기울기 3개의 감소값:  [-1.70399857  0.0878605   0.97610264]\n",
      "31번째: 기울기1:  387.8, 기울기2:  96.2, 기울기3:  33.6, 차분:  739.853\n",
      "\n",
      "cust 기울기 3개의 감소값:  [-1.55841938  0.08382872  0.89284797]\n",
      "32번째: 기울기1:  389.3, 기울기2:  96.1, 기울기3:  32.7, 차분:  618.994\n",
      "\n",
      "cust 기울기 3개의 감소값:  [-1.4253051   0.0794484   0.81669434]\n",
      "33번째: 기울기1:  390.8, 기울기2:  96.1, 기울기3:  31.9, 차분:  517.885\n",
      "\n",
      "cust 기울기 3개의 감소값:  [-1.30358295  0.07488776  0.74703607]\n",
      "34번째: 기울기1:  392.1, 기울기2:  96.0, 기울기3:  31.1, 차분:  433.295\n",
      "\n",
      "cust 기울기 3개의 감소값:  [-1.19227357  0.07027295  0.68331917]\n",
      "35번째: 기울기1:  393.3, 기울기2:  95.9, 기울기3:  30.4, 차분:  362.525\n",
      "\n",
      "cust 기울기 3개의 감소값:  [-1.09048269  0.06569724  0.62503686]\n",
      "36번째: 기울기1:  394.4, 기울기2:  95.9, 기울기3:  29.8, 차분:  303.315\n",
      "\n",
      "cust 기울기 3개의 감소값:  [-0.99739353  0.06122819  0.57172563]\n",
      "37번째: 기울기1:  395.4, 기울기2:  95.8, 기울기3:  29.2, 차분:  253.777\n",
      "\n",
      "cust 기울기 3개의 감소값:  [-0.91225995  0.05691343  0.52296147]\n",
      "38번째: 기울기1:  396.3, 기울기2:  95.7, 기울기3:  28.7, 차분:  212.330\n",
      "\n",
      "cust 기울기 3개의 감소값:  [-0.83440025  0.05278517  0.47835654]\n",
      "39번째: 기울기1:  397.1, 기울기2:  95.7, 기울기3:  28.2, 차분:  177.653\n",
      "\n",
      "cust 기울기 3개의 감소값:  [-0.76319151  0.04886381  0.4375561 ]\n",
      "40번째: 기울기1:  397.9, 기울기2:  95.6, 기울기3:  27.8, 차분:  148.639\n",
      "\n",
      "cust 기울기 3개의 감소값:  [-0.69806443  0.04516075  0.40023565]\n",
      "41번째: 기울기1:  398.6, 기울기2:  95.6, 기울기3:  27.4, 차분:  124.364\n",
      "\n",
      "cust 기울기 3개의 감소값:  [-0.63849867  0.04168059  0.36609838]\n",
      "42번째: 기울기1:  399.2, 기울기2:  95.5, 기울기3:  27.0, 차분:  104.054\n",
      "\n",
      "cust 기울기 3개의 감소값:  [-0.58401861  0.03842293  0.33487277]\n",
      "43번째: 기울기1:  399.8, 기울기2:  95.5, 기울기3:  26.7, 차분:  87.060\n",
      "\n",
      "cust 기울기 3개의 감소값:  [-0.53418945  0.03538363  0.30631048]\n",
      "44번째: 기울기1:  400.3, 기울기2:  95.5, 기울기3:  26.4, 차분:  72.842\n",
      "\n",
      "cust 기울기 3개의 감소값:  [-0.48861365  0.03255599  0.28018436]\n",
      "45번째: 기울기1:  400.8, 기울기2:  95.4, 기울기3:  26.1, 차분:  60.946\n",
      "\n",
      "cust 기울기 3개의 감소값:  [-0.44692779  0.02993146  0.25628661]\n",
      "46번째: 기울기1:  401.3, 기울기2:  95.4, 기울기3:  25.9, 차분:  50.993\n",
      "\n",
      "cust 기울기 3개의 감소값:  [-0.40879956  0.02750033  0.23442717]\n",
      "47번째: 기울기1:  401.7, 기울기2:  95.4, 기울기3:  25.6, 차분:  42.665\n",
      "\n",
      "cust 기울기 3개의 감소값:  [-0.37392508  0.02525219  0.21443219]\n",
      "48번째: 기울기1:  402.0, 기울기2:  95.4, 기울기3:  25.4, 차분:  35.698\n",
      "\n",
      "cust 기울기 3개의 감소값:  [-0.3420265   0.02317632  0.19614263]\n",
      "49번째: 기울기1:  402.4, 기울기2:  95.3, 기울기3:  25.2, 차분:  29.868\n",
      "\n",
      "cust 기울기 3개의 감소값:  [-0.31284973  0.02126191  0.17941305]\n",
      "50번째: 기울기1:  402.7, 기울기2:  95.3, 기울기3:  25.0, 차분:  24.990\n",
      "\n",
      "cust 기울기 3개의 감소값:  [-0.28616239  0.01949831  0.16411038]\n",
      "51번째: 기울기1:  403.0, 기울기2:  95.3, 기울기3:  24.9, 차분:  20.909\n",
      "\n",
      "cust 기울기 3개의 감소값:  [-0.26175199  0.01787516  0.15011293]\n",
      "52번째: 기울기1:  403.2, 기울기2:  95.3, 기울기3:  24.7, 차분:  17.494\n",
      "\n",
      "cust 기울기 3개의 감소값:  [-0.23942418  0.01638247  0.13730935]\n",
      "53번째: 기울기1:  403.5, 기울기2:  95.3, 기울기3:  24.6, 차분:  14.637\n",
      "\n",
      "cust 기울기 3개의 감소값:  [-0.21900121  0.0150107   0.12559783]\n",
      "54번째: 기울기1:  403.7, 기울기2:  95.2, 기울기3:  24.5, 차분:  12.247\n",
      "\n",
      "cust 기울기 3개의 감소값:  [-0.20032054  0.01375083  0.11488522]\n",
      "55번째: 기울기1:  403.9, 기울기2:  95.2, 기울기3:  24.3, 차분:  10.247\n",
      "\n",
      "cust 기울기 3개의 감소값:  [-0.18323347  0.01259433  0.10508632]\n",
      "56번째: 기울기1:  404.1, 기울기2:  95.2, 기울기3:  24.2, 차분:  8.573\n",
      "\n",
      "cust 기울기 3개의 감소값:  [-0.16760404  0.01153321  0.0961232 ]\n",
      "57번째: 기울기1:  404.2, 기울기2:  95.2, 기울기3:  24.1, 차분:  7.173\n",
      "\n",
      "cust 기울기 3개의 감소값:  [-0.15330788  0.01055997  0.08792457]\n",
      "58번째: 기울기1:  404.4, 기울기2:  95.2, 기울기3:  24.0, 차분:  6.002\n",
      "\n",
      "cust 기울기 3개의 감소값:  [-0.14023122  0.00966765  0.08042523]\n",
      "59번째: 기울기1:  404.5, 기울기2:  95.2, 기울기3:  24.0, 차분:  5.022\n",
      "\n",
      "cust 기울기 3개의 감소값:  [-0.12827002  0.00884976  0.07356552]\n",
      "60번째: 기울기1:  404.7, 기울기2:  95.2, 기울기3:  23.9, 차분:  4.202\n",
      "\n",
      "cust 기울기 3개의 감소값:  [-0.11732912  0.0081003   0.0672909 ]\n",
      "61번째: 기울기1:  404.8, 기울기2:  95.2, 기울기3:  23.8, 차분:  3.515\n",
      "\n",
      "cust 기울기 3개의 감소값:  [-0.10732147  0.00741369  0.06155146]\n",
      "62번째: 기울기1:  404.9, 기울기2:  95.2, 기울기3:  23.8, 차분:  2.941\n",
      "\n",
      "cust 기울기 3개의 감소값:  [-0.09816747  0.00678478  0.05630156]\n",
      "63번째: 기울기1:  405.0, 기울기2:  95.2, 기울기3:  23.7, 차분:  2.461\n",
      "\n",
      "cust 기울기 3개의 감소값:  [-0.08979429  0.00620883  0.05149943]\n",
      "64번째: 기울기1:  405.1, 기울기2:  95.1, 기울기3:  23.7, 차분:  2.059\n",
      "\n",
      "cust 기울기 3개의 감소값:  [-0.08213532  0.00568145  0.04710689]\n",
      "65번째: 기울기1:  405.2, 기울기2:  95.1, 기울기3:  23.6, 차분:  1.723\n",
      "\n",
      "cust 기울기 3개의 감소값:  [-0.07512963  0.00519862  0.04308901]\n",
      "66번째: 기울기1:  405.2, 기울기2:  95.1, 기울기3:  23.6, 차분:  1.441\n",
      "\n",
      "cust 기울기 3개의 감소값:  [-0.06872151  0.00475662  0.03941382]\n",
      "67번째: 기울기1:  405.3, 기울기2:  95.1, 기울기3:  23.5, 차분:  1.206\n",
      "\n",
      "cust 기울기 3개의 감소값:  [-0.06285997  0.00435204  0.0360521 ]\n",
      "68번째: 기울기1:  405.4, 기울기2:  95.1, 기울기3:  23.5, 차분:  1.009\n",
      "\n",
      "cust 기울기 3개의 감소값:  [-0.0574984   0.00398174  0.03297711]\n",
      "69번째: 기울기1:  405.4, 기울기2:  95.1, 기울기3:  23.5, 차분:  0.844\n",
      "\n",
      "cust 기울기 3개의 감소값:  [-0.05259414  0.00364284  0.03016439]\n",
      "70번째: 기울기1:  405.5, 기울기2:  95.1, 기울기3:  23.4, 차분:  0.706\n",
      "\n",
      "cust 기울기 3개의 감소값:  [-0.04810819  0.00333271  0.02759158]\n",
      "71번째: 기울기1:  405.5, 기울기2:  95.1, 기울기3:  23.4, 차분:  0.591\n",
      "\n",
      "cust 기울기 3개의 감소값:  [-0.04400487  0.00304891  0.02523822]\n",
      "72번째: 기울기1:  405.6, 기울기2:  95.1, 기울기3:  23.4, 차분:  0.495\n",
      "\n",
      "cust 기울기 3개의 감소값:  [-0.04025154  0.00278923  0.02308557]\n",
      "73번째: 기울기1:  405.6, 기울기2:  95.1, 기울기3:  23.4, 차분:  0.414\n",
      "\n",
      "cust 기울기 3개의 감소값:  [-0.03681835  0.00255162  0.02111654]\n",
      "74번째: 기울기1:  405.6, 기울기2:  95.1, 기울기3:  23.3, 차분:  0.346\n",
      "\n",
      "cust 기울기 3개의 감소값:  [-0.03367798  0.00233422  0.01931545]\n",
      "75번째: 기울기1:  405.7, 기울기2:  95.1, 기울기3:  23.3, 차분:  0.290\n",
      "\n",
      "cust 기울기 3개의 감소값:  [-0.03080548  0.00213532  0.01766798]\n",
      "76번째: 기울기1:  405.7, 기울기2:  95.1, 기울기3:  23.3, 차분:  0.242\n",
      "\n",
      "cust 기울기 3개의 감소값:  [-0.02817798  0.00195334  0.01616102]\n",
      "77번째: 기울기1:  405.7, 기울기2:  95.1, 기울기3:  23.3, 차분:  0.203\n",
      "\n",
      "cust 기울기 3개의 감소값:  [-0.02577459  0.00178686  0.0147826 ]\n",
      "78번째: 기울기1:  405.8, 기울기2:  95.1, 기울기3:  23.3, 차분:  0.170\n",
      "\n",
      "cust 기울기 3개의 감소값:  [-0.02357619  0.00163455  0.01352175]\n",
      "79번째: 기울기1:  405.8, 기울기2:  95.1, 기울기3:  23.3, 차분:  0.142\n",
      "\n",
      "cust 기울기 3개의 감소값:  [-0.0215653   0.00149521  0.01236844]\n",
      "80번째: 기울기1:  405.8, 기울기2:  95.1, 기울기3:  23.2, 차분:  0.119\n",
      "\n",
      "cust 기울기 3개의 감소값:  [-0.01972593  0.00136774  0.0113135 ]\n",
      "81번째: 기울기1:  405.8, 기울기2:  95.1, 기울기3:  23.2, 차분:  0.099\n",
      "\n",
      "cust 기울기 3개의 감소값:  [-0.01804344  0.00125113  0.01034854]\n",
      "82번째: 기울기1:  405.9, 기울기2:  95.1, 기울기3:  23.2, 차분:  0.083\n",
      "\n",
      "cust 기울기 3개의 감소값:  [-0.01650446  0.00114446  0.00946588]\n",
      "83번째: 기울기1:  405.9, 기울기2:  95.1, 기울기3:  23.2, 차분:  0.070\n",
      "\n",
      "cust 기울기 3개의 감소값:  [-0.01509674  0.00104687  0.00865851]\n",
      "84번째: 기울기1:  405.9, 기울기2:  95.1, 기울기3:  23.2, 차분:  0.058\n",
      "\n",
      "cust 기울기 3개의 감소값:  [-0.0138091   0.00095761  0.00792   ]\n",
      "85번째: 기울기1:  405.9, 기울기2:  95.1, 기울기3:  23.2, 차분:  0.049\n",
      "\n",
      "cust 기울기 3개의 감소값:  [-0.01263128  0.00087595  0.00724448]\n",
      "86번째: 기울기1:  405.9, 기울기2:  95.1, 기울기3:  23.2, 차분:  0.041\n",
      "\n",
      "cust 기울기 3개의 감소값:  [-0.01155392  0.00080126  0.00662657]\n",
      "87번째: 기울기1:  405.9, 기울기2:  95.1, 기울기3:  23.2, 차분:  0.034\n",
      "\n",
      "cust 기울기 3개의 감소값:  [-0.01056845  0.00073293  0.00606137]\n",
      "88번째: 기울기1:  405.9, 기울기2:  95.1, 기울기3:  23.2, 차분:  0.029\n",
      "\n",
      "cust 기울기 3개의 감소값:  [-0.00966703  0.00067042  0.00554438]\n",
      "89번째: 기울기1:  405.9, 기울기2:  95.1, 기울기3:  23.2, 차분:  0.024\n",
      "\n",
      "cust 기울기 3개의 감소값:  [-0.0088425   0.00061325  0.00507149]\n",
      "90번째: 기울기1:  405.9, 기울기2:  95.1, 기울기3:  23.2, 차분:  0.020\n",
      "\n",
      "cust 기울기 3개의 감소값:  [-0.0080883   0.00056095  0.00463892]\n",
      "91번째: 기울기1:  406.0, 기울기2:  95.1, 기울기3:  23.2, 차분:  0.017\n",
      "\n",
      "cust 기울기 3개의 감소값:  [-0.00739842  0.00051311  0.00424326]\n",
      "92번째: 기울기1:  406.0, 기울기2:  95.1, 기울기3:  23.2, 차분:  0.014\n",
      "\n",
      "cust 기울기 3개의 감소값:  [-0.00676739  0.00046935  0.00388134]\n",
      "93번째: 기울기1:  406.0, 기울기2:  95.1, 기울기3:  23.1, 차분:  0.012\n",
      "\n",
      "cust 기울기 3개의 감소값:  [-0.00619018  0.00042932  0.00355029]\n",
      "94번째: 기울기1:  406.0, 기울기2:  95.1, 기울기3:  23.1, 차분:  0.010\n",
      "\n"
     ]
    }
   ],
   "source": [
    "# 학습을하여 a, b 값을 찾음\n",
    "while diff > 0.01: # 학습에 따른 이전 학습과의 오차의 감소값\n",
    "    print('cust 기울기 3개의 감소값: ', ETA * np.dot(f(x) - train_y, x))\n",
    "    cust = cust - ETA * np.dot(f(x) - train_y, x)  # 기울기\n",
    "\n",
    "    # 오차 계산\n",
    "    current_error = E(x, train_y) # E() -> f(x)\n",
    "    diff = e - current_error # 에러가 얼마나 떨어지는지 모니터링위해  차이값을 산출\n",
    "    e = current_error  #  다음 차이값을 계산하기위하여 다시 e 변수에 할당\n",
    "    \n",
    "    count = count + 1\n",
    "    log = '{0}번째: 기울기1: {1: .1f}, 기울기2: {2: .1f}, 기울기3: {3: .1f}, 차분: {4: .3f}\\n'\n",
    "    print(log.format(count, cust[0], cust[1], cust[2], diff))    "
   ]
  },
  {
   "cell_type": "code",
   "execution_count": 54,
   "metadata": {
    "scrolled": true
   },
   "outputs": [
    {
     "name": "stdout",
     "output_type": "stream",
     "text": [
      "f(x)=405.98*x1 + 95.09*x2 + 23.14*x3\n"
     ]
    }
   ],
   "source": [
    "print('f(x)={0:.2f}*x1 + {1:.2f}*x2 + {2:.2f}*x3'.format(cust[0], cust[1], cust[2]))"
   ]
  },
  {
   "cell_type": "code",
   "execution_count": 56,
   "metadata": {},
   "outputs": [
    {
     "name": "stdout",
     "output_type": "stream",
     "text": [
      "실제 비용: 235, 클릭수:591, 예상 비용: 583.6, 차이: 7.4\n",
      "실제 비용: 216, 클릭수:539, 예상 비용: 540.1, 차이: -1.1\n",
      "실제 비용: 148, 클릭수:413, 예상 비용: 415.3, 차이: -2.3\n",
      "실제 비용: 35, 클릭수:310, 예상 비용: 313.3, 차이: -3.3\n",
      "실제 비용: 85, 클릭수:308, 예상 비용: 342.2, 차이: -34.2\n",
      "실제 비용: 204, 클릭수:519, 예상 비용: 514.6, 차이: 4.4\n",
      "실제 비용: 49, 클릭수:325, 예상 비용: 318.8, 차이: 6.2\n",
      "실제 비용: 25, 클릭수:332, 예상 비용: 310.6, 차이: 21.4\n",
      "실제 비용: 173, 클릭수:498, 예상 비용: 455.6, 차이: 42.4\n",
      "실제 비용: 191, 클릭수:498, 예상 비용: 488.7, 차이: 9.3\n",
      "실제 비용: 134, 클릭수:392, 예상 비용: 395.5, 차이: -3.5\n",
      "실제 비용: 99, 클릭수:334, 예상 비용: 354.9, 차이: -20.9\n",
      "실제 비용: 117, 클릭수:385, 예상 비용: 374.2, 차이: 10.8\n",
      "실제 비용: 112, 클릭수:387, 예상 비용: 368.5, 차이: 18.5\n",
      "실제 비용: 162, 클릭수:425, 예상 비용: 437.1, 차이: -12.1\n",
      "실제 비용: 272, 클릭수:659, 예상 비용: 678.8, 차이: -19.8\n",
      "실제 비용: 159, 클릭수:400, 예상 비용: 432.2, 차이: -32.2\n",
      "실제 비용: 159, 클릭수:427, 예상 비용: 432.2, 차이: -5.2\n",
      "실제 비용: 59, 클릭수:319, 예상 비용: 323.9, 차이: -4.9\n",
      "실제 비용: 198, 클릭수:522, 예상 비용: 502.4, 차이: 19.6\n"
     ]
    }
   ],
   "source": [
    "# 표준화된 데이터를 학습했음으로 표준화된 데이터를 사용해서 테스트 해야함.\n",
    "for i in range(len(train_z)): \n",
    "    # f(x)=405.98*x1 + 95.09*x2 + 23.14*x3\n",
    "    predict = cust[0]*x[i][0] + cust[1] * x[i][1] + cust[2] * x[i][2]\n",
    "    fmt = '실제 비용: {0}, 클릭수:{1}, 예상 비용: {2:.1f}, 차이: {3:.1f}' \n",
    "    print(fmt.format(train_x[i], train_y[i], predict, (train_y[i]-predict)))"
   ]
  },
  {
   "cell_type": "code",
   "execution_count": 57,
   "metadata": {},
   "outputs": [
    {
     "name": "stdout",
     "output_type": "stream",
     "text": [
      "[-3.         -2.93939394 -2.87878788 -2.81818182 -2.75757576 -2.6969697\n",
      " -2.63636364 -2.57575758 -2.51515152 -2.45454545 -2.39393939 -2.33333333\n",
      " -2.27272727 -2.21212121 -2.15151515 -2.09090909 -2.03030303 -1.96969697\n",
      " -1.90909091 -1.84848485 -1.78787879 -1.72727273 -1.66666667 -1.60606061\n",
      " -1.54545455 -1.48484848 -1.42424242 -1.36363636 -1.3030303  -1.24242424\n",
      " -1.18181818 -1.12121212 -1.06060606 -1.         -0.93939394 -0.87878788\n",
      " -0.81818182 -0.75757576 -0.6969697  -0.63636364 -0.57575758 -0.51515152\n",
      " -0.45454545 -0.39393939 -0.33333333 -0.27272727 -0.21212121 -0.15151515\n",
      " -0.09090909 -0.03030303  0.03030303  0.09090909  0.15151515  0.21212121\n",
      "  0.27272727  0.33333333  0.39393939  0.45454545  0.51515152  0.57575758\n",
      "  0.63636364  0.6969697   0.75757576  0.81818182  0.87878788  0.93939394\n",
      "  1.          1.06060606  1.12121212  1.18181818  1.24242424  1.3030303\n",
      "  1.36363636  1.42424242  1.48484848  1.54545455  1.60606061  1.66666667\n",
      "  1.72727273  1.78787879  1.84848485  1.90909091  1.96969697  2.03030303\n",
      "  2.09090909  2.15151515  2.21212121  2.27272727  2.33333333  2.39393939\n",
      "  2.45454545  2.51515152  2.57575758  2.63636364  2.6969697   2.75757576\n",
      "  2.81818182  2.87878788  2.93939394  3.        ]\n"
     ]
    }
   ],
   "source": [
    "x = np.linspace(-3, 3, 100) # -3 ~ 3까지 100개의 구간으로 분할\n",
    "print(x)"
   ]
  },
  {
   "cell_type": "code",
   "execution_count": 58,
   "metadata": {},
   "outputs": [
    {
     "data": {
      "image/png": "[encoded data removed]",
      "text/plain": [
       "<Figure size 432x288 with 1 Axes>"
      ]
     },
     "metadata": {
      "needs_background": "light"
     },
     "output_type": "display_data"
    }
   ],
   "source": [
    "# f(x)=405.98*x1 + 95.09*x2 + 23.14*x3\n",
    "plt.plot(x, f(to_matrix(x))) # 테스트 데이터를 이용하여 기울기 확인\n",
    "plt.show()"
   ]
  },
  {
   "cell_type": "code",
   "execution_count": 59,
   "metadata": {},
   "outputs": [
    {
     "data": {
      "image/png": "[encoded data removed]",
      "text/plain": [
       "<Figure size 432x288 with 1 Axes>"
      ]
     },
     "metadata": {
      "needs_background": "light"
     },
     "output_type": "display_data"
    }
   ],
   "source": [
    "# f(x)=405.98*x1 + 95.09*x2 + 23.14*x3\n",
    "plt.plot(x, f(to_matrix(x)))    # 테스트 데이터를 이용하여 기울기 확인\n",
    "plt.plot(train_z, train_y, 'o') # click.csv 파일의 데이터\n",
    "plt.show()"
   ]
  },
  {
   "cell_type": "code",
   "execution_count": null,
   "metadata": {},
   "outputs": [],
   "source": []
  }
 ],
 "metadata": {
  "kernelspec": {
   "display_name": "machine",
   "language": "python",
   "name": "machine"
  },
  "language_info": {
   "codemirror_mode": {
    "name": "ipython",
    "version": 3
   },
   "file_extension": ".py",
   "mimetype": "text/x-python",
   "name": "python",
   "nbconvert_exporter": "python",
   "pygments_lexer": "ipython3",
   "version": "3.6.9"
  }
 },
 "nbformat": 4,
 "nbformat_minor": 2
}
