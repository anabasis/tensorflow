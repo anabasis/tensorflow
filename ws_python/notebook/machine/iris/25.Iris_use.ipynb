{
 "cells": [
  {
   "cell_type": "code",
   "execution_count": 16,
   "metadata": {},
   "outputs": [],
   "source": [
    "import warnings\n",
    "warnings.filterwarnings(action='ignore')\n",
    "# warnings.filterwarnings(action='default')\n",
    "\n",
    "import os,sys\n",
    "import numpy as np\n",
    "import pandas as pd\n",
    "import seaborn as sb\n",
    "from seaborn import pairplot\n",
    "\n",
    "from keras.models import Sequential # Class\n",
    "from keras.models import load_model # model 사용\n",
    "from keras.layers import Dense # Class\n",
    "from keras.layers import Dropout # Dropout 처리\n",
    "from keras.callbacks import EarlyStopping  # 학습 자동 중지\n",
    "from keras.callbacks import ModelCheckpoint # 우수한 학습모델 저장\n",
    "from keras import regularizers\n",
    "from keras.utils import to_categorical\n",
    "\n",
    "from sklearn.preprocessing import LabelEncoder\n",
    "from sklearn.model_selection import train_test_split # 학습셋과 테스트셋의 분리 지원\n",
    "from sklearn.model_selection import StratifiedKFold  # K겹 교차 검증\n",
    "\n",
    "import matplotlib\n",
    "import matplotlib.pyplot as plt\n",
    "from matplotlib import font_manager, rc\n",
    "\n",
    "font_name = font_manager.FontProperties(fname=\"C:/Windows/Fonts/malgun.ttf\").get_name()\n",
    "# windows 10\n",
    "# font_name = font_manager.FontProperties(fname=\"C:/Windows/Fonts/malgunsl.ttf\").get_name()\n",
    "rc('font', family=font_name)           # 맑은 고딕 폰트 지정\n",
    "plt.rcParams[\"font.size\"] = 12         # 글자 크기\n",
    "# plt.rcParams[\"figure.figsize\"] = (10, 4) # 10:4의 그래프 비율\n",
    "plt.rcParams['axes.unicode_minus'] = False  # minus 부호는 unicode 적용시 한글이 깨짐으로 설정\n",
    "\n",
    "%matplotlib inline"
   ]
  },
  {
   "cell_type": "code",
   "execution_count": 17,
   "metadata": {},
   "outputs": [],
   "source": [
    "model = load_model('./Iris1.h5')"
   ]
  },
  {
   "cell_type": "code",
   "execution_count": 18,
   "metadata": {},
   "outputs": [
    {
     "name": "stdout",
     "output_type": "stream",
     "text": [
      "1) df.head()\n",
      "   sepal_length  sepal_width  petal_length  petal_width      species\n",
      "0           5.0          3.5           1.3          0.3  Iris-setosa\n",
      "1           4.5          2.3           1.3          0.3  Iris-setosa\n",
      "2           4.4          3.2           1.3          0.2  Iris-setosa\n",
      "3           5.0          3.5           1.6          0.6  Iris-setosa\n",
      "4           5.1          3.8           1.9          0.4  Iris-setosa\n"
     ]
    }
   ],
   "source": [
    "df_test = pd.read_csv('./iris_test_1.csv', names = [\"sepal_length\", \"sepal_width\", \"petal_length\", \"petal_width\", \"species\"])\n",
    "#df_val = pd.read_csv('./iris_val.csv', names = [\"sepal_length\", \"sepal_width\", \"petal_length\", \"petal_width\", \"species\"])\n",
    "print('1) df.head()')\n",
    "print(df.head())"
   ]
  },
  {
   "cell_type": "code",
   "execution_count": 39,
   "metadata": {},
   "outputs": [
    {
     "name": "stdout",
     "output_type": "stream",
     "text": [
      "<class 'numpy.ndarray'>\n",
      "[[5.  3.5 1.3 0.3]\n",
      " [4.5 2.3 1.3 0.3]\n",
      " [4.4 3.2 1.3 0.2]\n",
      " [5.  3.5 1.6 0.6]\n",
      " [5.1 3.8 1.9 0.4]]\n",
      "(30, 4)\n",
      "['Iris-setosa' 'Iris-setosa' 'Iris-setosa' 'Iris-setosa' 'Iris-setosa']\n",
      "(30,)\n",
      "['Iris-setosa' 'Iris-setosa' 'Iris-setosa' 'Iris-setosa' 'Iris-setosa'\n",
      " 'Iris-setosa' 'Iris-setosa' 'Iris-setosa' 'Iris-setosa' 'Iris-setosa'\n",
      " 'Iris-versicolor' 'Iris-versicolor' 'Iris-versicolor' 'Iris-versicolor'\n",
      " 'Iris-versicolor' 'Iris-versicolor' 'Iris-versicolor' 'Iris-versicolor'\n",
      " 'Iris-versicolor' 'Iris-versicolor' 'Iris-virginica' 'Iris-virginica'\n",
      " 'Iris-virginica' 'Iris-virginica' 'Iris-virginica' 'Iris-virginica'\n",
      " 'Iris-virginica' 'Iris-virginica' 'Iris-virginica' 'Iris-virginica']\n",
      "30\n"
     ]
    }
   ],
   "source": [
    "data_test = df_test.values\n",
    "print(type(data_test))\n",
    "\n",
    "X_test = data_test[:, 0:4].astype(float)  # 행렬, 2차원 배열\n",
    "print(X_test[0:5, 0:4])\n",
    "print(X_test.shape)\n",
    "\n",
    "Y_test = data_test[:, 4]  # 1차원 배열\n",
    "print(Y_test[0:5])\n",
    "print(Y_test.shape)\n",
    "\n",
    "e = LabelEncoder() # 문자열을 숫자로 그룹화해서 변경, 문자코드 순서 적용\n",
    "e.fit(Y_test)   # 품종 3가지\n",
    "Y = e.transform(Y_test)  # 0, 1, 2 정수로 변환 (알파벳 순으로 숫자부여)\n",
    "print(Y_test)\n",
    "print(len(Y_test))"
   ]
  },
  {
   "cell_type": "code",
   "execution_count": 40,
   "metadata": {},
   "outputs": [
    {
     "name": "stdout",
     "output_type": "stream",
     "text": [
      "(30, 4)\n",
      "(30, 3)\n",
      "[5.  3.5 1.3 0.3]\n",
      "[9.9846077e-01 1.5392173e-03 3.5957948e-11]\n",
      "0\n",
      "[6.4 3.2 4.5 1.5]\n",
      "[5.9969194e-04 9.8444724e-01 1.4953003e-02]\n",
      "1\n",
      "[5.8 2.7 5.1 1.9]\n",
      "[2.1386336e-07 2.6138790e-02 9.7386104e-01]\n",
      "2\n"
     ]
    }
   ],
   "source": [
    "yp = model.predict(X_test) ## 모델 사용\n",
    "\n",
    "print(X_test.shape)\n",
    "print(yp.shape)\n",
    "\n",
    "print(X_test[0])\n",
    "print(yp[0])\n",
    "print(np.argmax(yp[0]))\n",
    "\n",
    "print(X_test[11])\n",
    "print(yp[11])\n",
    "print(np.argmax(yp[11]))\n",
    "\n",
    "print(X_test[21])\n",
    "print(yp[21])\n",
    "print(np.argmax(yp[21]))"
   ]
  },
  {
   "cell_type": "code",
   "execution_count": 44,
   "metadata": {},
   "outputs": [
    {
     "name": "stdout",
     "output_type": "stream",
     "text": [
      "0.99846077  index: 0\n",
      "0.9759197  index: 0\n",
      "0.997124  index: 0\n",
      "0.99510795  index: 0\n",
      "0.9968347  index: 0\n",
      "0.99519956  index: 0\n",
      "0.99880755  index: 0\n",
      "0.99704486  index: 0\n",
      "0.9988438  index: 0\n",
      "0.99776936  index: 0\n",
      "0.99593323  index: 1\n",
      "0.98444724  index: 1\n",
      "0.97387326  index: 1\n",
      "0.9194792  index: 1\n",
      "0.9505768  index: 1\n",
      "0.9015294  index: 1\n",
      "0.9407942  index: 1\n",
      "0.9867007  index: 1\n",
      "0.99014014  index: 1\n",
      "0.9257715  index: 1\n",
      "0.99946374  index: 2\n",
      "0.97386104  index: 2\n",
      "0.97750264  index: 2\n",
      "0.96145934  index: 2\n",
      "0.9957059  index: 2\n",
      "0.9952427  index: 2\n",
      "0.95064396  index: 2\n",
      "0.97115177  index: 2\n",
      "0.98487747  index: 2\n",
      "0.99137795  index: 2\n"
     ]
    }
   ],
   "source": [
    "for item in yp :\n",
    "    print(np.max(item),' index:', np.argmax(item))"
   ]
  },
  {
   "cell_type": "code",
   "execution_count": 49,
   "metadata": {},
   "outputs": [
    {
     "name": "stdout",
     "output_type": "stream",
     "text": [
      "실제값 [9.9846077e-01 1.5392173e-03 3.5957948e-11]  예측값 :  1.0\n",
      "실제값 [9.7591972e-01 2.4080288e-02 1.5004861e-08]  예측값 :  1.0\n",
      "실제값 [9.9712402e-01 2.8760321e-03 3.2872480e-10]  예측값 :  1.0\n",
      "실제값 [9.9510795e-01 4.8919674e-03 7.3257977e-10]  예측값 :  0.99999994\n",
      "실제값 [9.9683470e-01 3.1653184e-03 2.0484459e-10]  예측값 :  1.0\n",
      "실제값 [9.9519956e-01 4.8003667e-03 4.9291388e-10]  예측값 :  0.99999994\n",
      "실제값 [9.9880755e-01 1.1924123e-03 1.7497720e-11]  예측값 :  0.99999994\n",
      "실제값 [9.9704486e-01 2.9550984e-03 2.5699762e-10]  예측값 :  0.99999994\n",
      "실제값 [9.9884379e-01 1.1561899e-03 1.0440855e-11]  예측값 :  1.0\n",
      "실제값 [9.9776936e-01 2.2307204e-03 6.3270368e-11]  예측값 :  1.0000001\n",
      "실제값 [4.4955793e-04 9.9593323e-01 3.6171654e-03]  예측값 :  0.99999994\n",
      "실제값 [5.9969194e-04 9.8444724e-01 1.4953003e-02]  예측값 :  0.99999994\n",
      "실제값 [1.4115981e-04 9.7387326e-01 2.5985546e-02]  예측값 :  0.99999994\n",
      "실제값 [3.6626501e-04 9.1947919e-01 8.0154546e-02]  예측값 :  1.0\n",
      "실제값 [1.4744922e-04 9.5057678e-01 4.9275760e-02]  예측값 :  1.0\n",
      "실제값 [3.0681444e-04 9.0152937e-01 9.8163866e-02]  예측값 :  1.0\n",
      "실제값 [3.027817e-04 9.407942e-01 5.890298e-02]  예측값 :  1.0\n",
      "실제값 [0.00965875 0.9867007  0.0036405 ]  예측값 :  0.99999994\n",
      "실제값 [3.4591430e-04 9.9014014e-01 9.5138829e-03]  예측값 :  0.9999999\n",
      "실제값 [0.00108174 0.9257715  0.07314681]  예측값 :  1.0\n",
      "실제값 [2.5664318e-10 5.3622446e-04 9.9946374e-01]  예측값 :  0.99999994\n",
      "실제값 [2.1386336e-07 2.6138790e-02 9.7386104e-01]  예측값 :  1.0\n",
      "실제값 [2.5182473e-08 2.2497326e-02 9.7750264e-01]  예측값 :  1.0\n",
      "실제값 [1.6014558e-07 3.8540412e-02 9.6145934e-01]  예측값 :  0.9999999\n",
      "실제값 [4.3317341e-09 4.2941393e-03 9.9570590e-01]  예측값 :  1.0\n",
      "실제값 [6.7095662e-10 4.7573172e-03 9.9524271e-01]  예측값 :  1.0\n",
      "실제값 [2.2277443e-06 4.9353786e-02 9.5064396e-01]  예측값 :  1.0\n",
      "실제값 [1.7014033e-08 2.8848173e-02 9.7115177e-01]  예측값 :  0.99999994\n",
      "실제값 [1.31977780e-08 1.51225375e-02 9.84877467e-01]  예측값 :  1.0\n",
      "실제값 [7.9005611e-09 8.6220875e-03 9.9137795e-01]  예측값 :  1.0\n"
     ]
    }
   ],
   "source": [
    "for item in yp : # 2차원 배열\n",
    "    index = index +1\n",
    "    print('실제값', item, ' 예측값 : ', np.sum(item))"
   ]
  },
  {
   "cell_type": "code",
   "execution_count": 50,
   "metadata": {},
   "outputs": [],
   "source": [
    "def display1(data) :\n",
    "    index = np.argmax(data, axis=0) # 0 : 열에서 최대값, 1 : 행방향에서 최대값, 기본값 : 0\n",
    "    if index == 0 :\n",
    "        str = 'Iris-sentosa'\n",
    "    elif index == 1 :\n",
    "        str = 'Iris-versicolor'\n",
    "    elif index == 2 :\n",
    "        str = 'Iris-virginica'\n",
    "    return str \n",
    "    "
   ]
  },
  {
   "cell_type": "code",
   "execution_count": 51,
   "metadata": {},
   "outputs": [
    {
     "name": "stdout",
     "output_type": "stream",
     "text": [
      "실제값 Iris-setosa  예측값 :  [9.9846077e-01 1.5392173e-03 3.5957948e-11] Iris-sentosa\n",
      "실제값 Iris-setosa  예측값 :  [9.7591972e-01 2.4080288e-02 1.5004861e-08] Iris-sentosa\n",
      "실제값 Iris-setosa  예측값 :  [9.9712402e-01 2.8760321e-03 3.2872480e-10] Iris-sentosa\n",
      "실제값 Iris-setosa  예측값 :  [9.9510795e-01 4.8919674e-03 7.3257977e-10] Iris-sentosa\n",
      "실제값 Iris-setosa  예측값 :  [9.9683470e-01 3.1653184e-03 2.0484459e-10] Iris-sentosa\n",
      "실제값 Iris-setosa  예측값 :  [9.9519956e-01 4.8003667e-03 4.9291388e-10] Iris-sentosa\n",
      "실제값 Iris-setosa  예측값 :  [9.9880755e-01 1.1924123e-03 1.7497720e-11] Iris-sentosa\n",
      "실제값 Iris-setosa  예측값 :  [9.9704486e-01 2.9550984e-03 2.5699762e-10] Iris-sentosa\n",
      "실제값 Iris-setosa  예측값 :  [9.9884379e-01 1.1561899e-03 1.0440855e-11] Iris-sentosa\n",
      "실제값 Iris-setosa  예측값 :  [9.9776936e-01 2.2307204e-03 6.3270368e-11] Iris-sentosa\n",
      "실제값 Iris-versicolor  예측값 :  [4.4955793e-04 9.9593323e-01 3.6171654e-03] Iris-versicolor\n",
      "실제값 Iris-versicolor  예측값 :  [5.9969194e-04 9.8444724e-01 1.4953003e-02] Iris-versicolor\n",
      "실제값 Iris-versicolor  예측값 :  [1.4115981e-04 9.7387326e-01 2.5985546e-02] Iris-versicolor\n",
      "실제값 Iris-versicolor  예측값 :  [3.6626501e-04 9.1947919e-01 8.0154546e-02] Iris-versicolor\n",
      "실제값 Iris-versicolor  예측값 :  [1.4744922e-04 9.5057678e-01 4.9275760e-02] Iris-versicolor\n",
      "실제값 Iris-versicolor  예측값 :  [3.0681444e-04 9.0152937e-01 9.8163866e-02] Iris-versicolor\n",
      "실제값 Iris-versicolor  예측값 :  [3.027817e-04 9.407942e-01 5.890298e-02] Iris-versicolor\n",
      "실제값 Iris-versicolor  예측값 :  [0.00965875 0.9867007  0.0036405 ] Iris-versicolor\n",
      "실제값 Iris-versicolor  예측값 :  [3.4591430e-04 9.9014014e-01 9.5138829e-03] Iris-versicolor\n",
      "실제값 Iris-versicolor  예측값 :  [0.00108174 0.9257715  0.07314681] Iris-versicolor\n",
      "실제값 Iris-virginica  예측값 :  [2.5664318e-10 5.3622446e-04 9.9946374e-01] Iris-virginica\n",
      "실제값 Iris-virginica  예측값 :  [2.1386336e-07 2.6138790e-02 9.7386104e-01] Iris-virginica\n",
      "실제값 Iris-virginica  예측값 :  [2.5182473e-08 2.2497326e-02 9.7750264e-01] Iris-virginica\n",
      "실제값 Iris-virginica  예측값 :  [1.6014558e-07 3.8540412e-02 9.6145934e-01] Iris-virginica\n",
      "실제값 Iris-virginica  예측값 :  [4.3317341e-09 4.2941393e-03 9.9570590e-01] Iris-virginica\n",
      "실제값 Iris-virginica  예측값 :  [6.7095662e-10 4.7573172e-03 9.9524271e-01] Iris-virginica\n",
      "실제값 Iris-virginica  예측값 :  [2.2277443e-06 4.9353786e-02 9.5064396e-01] Iris-virginica\n",
      "실제값 Iris-virginica  예측값 :  [1.7014033e-08 2.8848173e-02 9.7115177e-01] Iris-virginica\n",
      "실제값 Iris-virginica  예측값 :  [1.31977780e-08 1.51225375e-02 9.84877467e-01] Iris-virginica\n",
      "실제값 Iris-virginica  예측값 :  [7.9005611e-09 8.6220875e-03 9.9137795e-01] Iris-virginica\n"
     ]
    }
   ],
   "source": [
    "index = -1\n",
    "for item in yp : # 2차원 배열\n",
    "    index = index +1\n",
    "    print('실제값', Y_test[index], ' 예측값 : ', item,  display1(item))"
   ]
  },
  {
   "cell_type": "markdown",
   "metadata": {},
   "source": [
    "### input 함수의 사용"
   ]
  },
  {
   "cell_type": "code",
   "execution_count": null,
   "metadata": {},
   "outputs": [],
   "source": [
    "# 5.1,3.5,1.4,0.2\n",
    "src = input('꽃받침 길이, 꽃받침 넓이, 꽃잎 길이, 꽃잎 넓이를 입력하세요.')\n",
    "print(type(data))"
   ]
  },
  {
   "cell_type": "code",
   "execution_count": null,
   "metadata": {},
   "outputs": [],
   "source": [
    "data = np.array(src.split(','), dtype=float) # or int\n",
    "x = np.array([\n",
    "    data,    \n",
    "])\n",
    "\n",
    "yp = model.predict(x) # 2차원 배열 대입\n",
    "print(yp)\n",
    "\n",
    "for i in range(len(yp)):  # 2차원 배열\n",
    "    print('예측값:', display1(yp[i]))      # 하나의 행 1차원 배열 전달"
   ]
  },
  {
   "cell_type": "code",
   "execution_count": null,
   "metadata": {},
   "outputs": [],
   "source": []
  }
 ],
 "metadata": {
  "kernelspec": {
   "display_name": "machine",
   "language": "python",
   "name": "machine"
  },
  "language_info": {
   "codemirror_mode": {
    "name": "ipython",
    "version": 3
   },
   "file_extension": ".py",
   "mimetype": "text/x-python",
   "name": "python",
   "nbconvert_exporter": "python",
   "pygments_lexer": "ipython3",
   "version": "3.6.9"
  }
 },
 "nbformat": 4,
 "nbformat_minor": 2
}
