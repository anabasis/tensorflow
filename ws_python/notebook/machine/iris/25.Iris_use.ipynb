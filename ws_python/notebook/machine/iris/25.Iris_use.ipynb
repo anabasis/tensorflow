{
 "cells": [
  {
   "cell_type": "code",
   "execution_count": 16,
   "metadata": {},
   "outputs": [],
   "source": [
    "import warnings\n",
    "warnings.filterwarnings(action='ignore')\n",
    "# warnings.filterwarnings(action='default')\n",
    "\n",
    "import os,sys\n",
    "import numpy as np\n",
    "import pandas as pd\n",
    "import seaborn as sb\n",
    "from seaborn import pairplot\n",
    "\n",
    "from keras.models import Sequential # Class\n",
    "from keras.models import load_model # model 사용\n",
    "from keras.layers import Dense # Class\n",
    "from keras.layers import Dropout # Dropout 처리\n",
    "from keras.callbacks import EarlyStopping  # 학습 자동 중지\n",
    "from keras.callbacks import ModelCheckpoint # 우수한 학습모델 저장\n",
    "from keras import regularizers\n",
    "from keras.utils import to_categorical\n",
    "\n",
    "from sklearn.preprocessing import LabelEncoder\n",
    "from sklearn.model_selection import train_test_split # 학습셋과 테스트셋의 분리 지원\n",
    "from sklearn.model_selection import StratifiedKFold  # K겹 교차 검증\n",
    "\n",
    "import matplotlib\n",
    "import matplotlib.pyplot as plt\n",
    "from matplotlib import font_manager, rc\n",
    "\n",
    "font_name = font_manager.FontProperties(fname=\"C:/Windows/Fonts/malgun.ttf\").get_name()\n",
    "# windows 10\n",
    "# font_name = font_manager.FontProperties(fname=\"C:/Windows/Fonts/malgunsl.ttf\").get_name()\n",
    "rc('font', family=font_name)           # 맑은 고딕 폰트 지정\n",
    "plt.rcParams[\"font.size\"] = 12         # 글자 크기\n",
    "# plt.rcParams[\"figure.figsize\"] = (10, 4) # 10:4의 그래프 비율\n",
    "plt.rcParams['axes.unicode_minus'] = False  # minus 부호는 unicode 적용시 한글이 깨짐으로 설정\n",
    "\n",
    "%matplotlib inline"
   ]
  },
  {
   "cell_type": "code",
   "execution_count": 17,
   "metadata": {},
   "outputs": [],
   "source": [
    "model = load_model('./Iris1.h5')"
   ]
  },
  {
   "cell_type": "code",
   "execution_count": 18,
   "metadata": {},
   "outputs": [
    {
     "name": "stdout",
     "output_type": "stream",
     "text": [
      "1) df.head()\n",
      "   sepal_length  sepal_width  petal_length  petal_width      species\n",
      "0           5.0          3.5           1.3          0.3  Iris-setosa\n",
      "1           4.5          2.3           1.3          0.3  Iris-setosa\n",
      "2           4.4          3.2           1.3          0.2  Iris-setosa\n",
      "3           5.0          3.5           1.6          0.6  Iris-setosa\n",
      "4           5.1          3.8           1.9          0.4  Iris-setosa\n"
     ]
    }
   ],
   "source": [
    "df_test = pd.read_csv('./iris_test_1.csv', names = [\"sepal_length\", \"sepal_width\", \"petal_length\", \"petal_width\", \"species\"])\n",
    "#df_val = pd.read_csv('./iris_val.csv', names = [\"sepal_length\", \"sepal_width\", \"petal_length\", \"petal_width\", \"species\"])\n",
    "print('1) df.head()')\n",
    "print(df.head())"
   ]
  },
  {
   "cell_type": "code",
   "execution_count": 19,
   "metadata": {},
   "outputs": [
    {
     "name": "stdout",
     "output_type": "stream",
     "text": [
      "<class 'numpy.ndarray'>\n",
      "[[5.  3.5 1.3 0.3]\n",
      " [4.5 2.3 1.3 0.3]\n",
      " [4.4 3.2 1.3 0.2]\n",
      " [5.  3.5 1.6 0.6]\n",
      " [5.1 3.8 1.9 0.4]]\n",
      "['Iris-setosa' 'Iris-setosa' 'Iris-setosa' 'Iris-setosa' 'Iris-setosa']\n"
     ]
    }
   ],
   "source": [
    "data = df.values\n",
    "print(type(data))\n",
    "X = data[:, 0:4].astype(float)  # 행렬, 2차원 배열\n",
    "print(X[0:5, 0:4])\n",
    "Y_obj = data[:, 4]  # 1차원 배열\n",
    "print(Y_obj[0:5])"
   ]
  },
  {
   "cell_type": "code",
   "execution_count": 20,
   "metadata": {},
   "outputs": [
    {
     "name": "stdout",
     "output_type": "stream",
     "text": [
      "<class 'numpy.ndarray'>\n",
      "[[5.  3.5 1.3 0.3]\n",
      " [4.5 2.3 1.3 0.3]\n",
      " [4.4 3.2 1.3 0.2]\n",
      " [5.  3.5 1.6 0.6]\n",
      " [5.1 3.8 1.9 0.4]]\n",
      "(30, 4)\n",
      "['Iris-setosa' 'Iris-setosa' 'Iris-setosa' 'Iris-setosa' 'Iris-setosa']\n",
      "(30,)\n",
      "[0 0 0 0 0 0 0 0 0 0 1 1 1 1 1 1 1 1 1 1 2 2 2 2 2 2 2 2 2 2]\n",
      "30\n"
     ]
    }
   ],
   "source": [
    "data_test = df_test.values\n",
    "print(type(data_test))\n",
    "\n",
    "X_test = data_test[:, 0:4].astype(float)  # 행렬, 2차원 배열\n",
    "print(X_test[0:5, 0:4])\n",
    "print(X_test.shape)\n",
    "\n",
    "Y_obj_test = data_test[:, 4]  # 1차원 배열\n",
    "print(Y_obj[0:5])\n",
    "print(Y_obj.shape)\n",
    "\n",
    "e = LabelEncoder() # 문자열을 숫자로 그룹화해서 변경, 문자코드 순서 적용\n",
    "e.fit(Y_obj)   # 품종 3가지\n",
    "Y = e.transform(Y_obj)  # 0, 1, 2 정수로 변환 (알파벳 순으로 숫자부여)\n",
    "print(Y)\n",
    "print(len(Y))"
   ]
  },
  {
   "cell_type": "code",
   "execution_count": 29,
   "metadata": {},
   "outputs": [
    {
     "name": "stdout",
     "output_type": "stream",
     "text": [
      "(30, 4)\n",
      "(30, 3)\n",
      "[5.  3.5 1.3 0.3]\n",
      "[9.9846077e-01 1.5392173e-03 3.5957948e-11]\n",
      "0\n",
      "[6.4 3.2 4.5 1.5]\n",
      "[5.9969194e-04 9.8444724e-01 1.4953003e-02]\n",
      "1\n",
      "[5.8 2.7 5.1 1.9]\n",
      "[2.1386336e-07 2.6138790e-02 9.7386104e-01]\n",
      "2\n"
     ]
    }
   ],
   "source": [
    "yp = model.predict(X_test) ## 모델 사용\n",
    "\n",
    "print(X_test.shape)\n",
    "print(yp.shape)\n",
    "\n",
    "print(X_test[0])\n",
    "print(yp[0])\n",
    "print(np.argmax(yp[0]))\n",
    "\n",
    "print(X_test[11])\n",
    "print(yp[11])\n",
    "print(np.argmax(yp[11]))\n",
    "\n",
    "print(X_test[21])\n",
    "print(yp[21])\n",
    "print(np.argmax(yp[21]))"
   ]
  },
  {
   "cell_type": "code",
   "execution_count": 30,
   "metadata": {},
   "outputs": [
    {
     "name": "stdout",
     "output_type": "stream",
     "text": [
      "0.99846077  index: 0\n",
      "0.9759197  index: 0\n",
      "0.997124  index: 0\n",
      "0.99510795  index: 0\n",
      "0.9968347  index: 0\n",
      "0.99519956  index: 0\n",
      "0.99880755  index: 0\n",
      "0.99704486  index: 0\n",
      "0.9988438  index: 0\n",
      "0.99776936  index: 0\n",
      "0.99593323  index: 1\n",
      "0.98444724  index: 1\n",
      "0.97387326  index: 1\n",
      "0.9194792  index: 1\n",
      "0.9505768  index: 1\n",
      "0.9015294  index: 1\n",
      "0.9407942  index: 1\n",
      "0.9867007  index: 1\n",
      "0.99014014  index: 1\n",
      "0.9257715  index: 1\n",
      "0.99946374  index: 2\n",
      "0.97386104  index: 2\n",
      "0.97750264  index: 2\n",
      "0.96145934  index: 2\n",
      "0.9957059  index: 2\n",
      "0.9952427  index: 2\n",
      "0.95064396  index: 2\n",
      "0.97115177  index: 2\n",
      "0.98487747  index: 2\n",
      "0.99137795  index: 2\n"
     ]
    }
   ],
   "source": [
    "for item in yp :\n",
    "    print(np.max(item),' index:', np.argmax(item))"
   ]
  },
  {
   "cell_type": "code",
   "execution_count": null,
   "metadata": {},
   "outputs": [],
   "source": []
  }
 ],
 "metadata": {
  "kernelspec": {
   "display_name": "machine",
   "language": "python",
   "name": "machine"
  },
  "language_info": {
   "codemirror_mode": {
    "name": "ipython",
    "version": 3
   },
   "file_extension": ".py",
   "mimetype": "text/x-python",
   "name": "python",
   "nbconvert_exporter": "python",
   "pygments_lexer": "ipython3",
   "version": "3.6.9"
  }
 },
 "nbformat": 4,
 "nbformat_minor": 2
}
