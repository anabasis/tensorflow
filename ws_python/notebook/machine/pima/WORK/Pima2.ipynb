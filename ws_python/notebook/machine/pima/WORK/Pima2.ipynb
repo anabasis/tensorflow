{
 "cells": [
  {
   "cell_type": "code",
   "execution_count": 3,
   "metadata": {},
   "outputs": [],
   "source": [
    "import numpy as np\n",
    "import pandas as pd\n",
    "import seaborn as sb\n",
    "\n",
    "from keras.models import Sequential  # class\n",
    "from keras.models import load_model  # model 사용\n",
    "from keras.layers import Dense       # 전결합\n",
    "from keras.callbacks import EarlyStopping # 학습 자동 중지\n",
    "\n",
    "from keras import regularizers \n",
    "\n",
    "import matplotlib.pyplot as plt\n",
    "%matplotlib inline  "
   ]
  },
  {
   "cell_type": "code",
   "execution_count": 73,
   "metadata": {},
   "outputs": [
    {
     "name": "stdout",
     "output_type": "stream",
     "text": [
      "<class 'numpy.ndarray'>\n",
      "total: (768, 9)\n",
      "(568, 8)\n",
      "(568, 1)\n",
      "(100, 8)\n",
      "(100, 1)\n",
      "(100, 8)\n",
      "(100, 1)\n"
     ]
    }
   ],
   "source": [
    "data = np.loadtxt('./pima.csv', delimiter=\",\")\n",
    "print(type(data))\n",
    "print('total:', data.shape)\n",
    "x=data[0:568, 0:8]         # 총 768건중 568 건의 학습 데이터, 568행 8열의 구성\n",
    "y=data[0:568, 8:]  \n",
    "print(x.shape)\n",
    "print(y.shape)\n",
    "\n",
    "x_val=data[568:668, 0:8]  # 100 건의 검증 데이터, 100행 8열의 구성\n",
    "y_val=data[568:668, 8:]  \n",
    "print(x_val.shape)\n",
    "print(y_val.shape)\n",
    "\n",
    "x_test=data[668:, 0:8]     # 100 건의 테스트 데이터, 100행 8열의 구성\n",
    "y_test=data[668:, 8:]  \n",
    "print(x_test.shape)\n",
    "print(y_test.shape)"
   ]
  },
  {
   "cell_type": "code",
   "execution_count": 84,
   "metadata": {},
   "outputs": [
    {
     "name": "stdout",
     "output_type": "stream",
     "text": [
      "Train on 568 samples, validate on 100 samples\n",
      "Epoch 1/1000\n",
      "568/568 [==============================] - 1s 2ms/step - loss: 2.9100 - acc: 0.6092 - val_loss: 2.2735 - val_acc: 0.6500\n",
      "Epoch 2/1000\n",
      "568/568 [==============================] - 0s 285us/step - loss: 2.1338 - acc: 0.6532 - val_loss: 1.9189 - val_acc: 0.6400\n",
      "Epoch 3/1000\n",
      "568/568 [==============================] - 0s 264us/step - loss: 1.8304 - acc: 0.6673 - val_loss: 1.9096 - val_acc: 0.5200\n",
      "Epoch 4/1000\n",
      "568/568 [==============================] - 0s 297us/step - loss: 1.7269 - acc: 0.6831 - val_loss: 1.7231 - val_acc: 0.6200\n",
      "Epoch 5/1000\n",
      "568/568 [==============================] - 0s 298us/step - loss: 1.6097 - acc: 0.6778 - val_loss: 1.6651 - val_acc: 0.5900\n",
      "Epoch 6/1000\n",
      "568/568 [==============================] - 0s 275us/step - loss: 1.5887 - acc: 0.6637 - val_loss: 1.6569 - val_acc: 0.5200\n",
      "Epoch 7/1000\n",
      "568/568 [==============================] - 0s 299us/step - loss: 1.5464 - acc: 0.6356 - val_loss: 1.6219 - val_acc: 0.6200\n",
      "Epoch 8/1000\n",
      "568/568 [==============================] - 0s 296us/step - loss: 1.4797 - acc: 0.6479 - val_loss: 1.4500 - val_acc: 0.6100\n",
      "Epoch 9/1000\n",
      "568/568 [==============================] - 0s 277us/step - loss: 1.3904 - acc: 0.6919 - val_loss: 1.4289 - val_acc: 0.6300\n",
      "Epoch 10/1000\n",
      "568/568 [==============================] - 0s 389us/step - loss: 1.3321 - acc: 0.6972 - val_loss: 1.3405 - val_acc: 0.6900\n",
      "Epoch 11/1000\n",
      "568/568 [==============================] - 0s 379us/step - loss: 1.3306 - acc: 0.6954 - val_loss: 1.3152 - val_acc: 0.6900\n",
      "Epoch 12/1000\n",
      "568/568 [==============================] - 0s 291us/step - loss: 1.2901 - acc: 0.6673 - val_loss: 1.3195 - val_acc: 0.5300\n",
      "Epoch 13/1000\n",
      "568/568 [==============================] - 0s 290us/step - loss: 1.2314 - acc: 0.6884 - val_loss: 1.2304 - val_acc: 0.7000\n",
      "Epoch 14/1000\n",
      "568/568 [==============================] - 0s 352us/step - loss: 1.1750 - acc: 0.7236 - val_loss: 1.2196 - val_acc: 0.6700\n",
      "Epoch 15/1000\n",
      "568/568 [==============================] - 0s 354us/step - loss: 1.1695 - acc: 0.7042 - val_loss: 1.1852 - val_acc: 0.6300\n",
      "Epoch 16/1000\n",
      "568/568 [==============================] - 0s 294us/step - loss: 1.1252 - acc: 0.7060 - val_loss: 1.1333 - val_acc: 0.7000\n",
      "Epoch 17/1000\n",
      "568/568 [==============================] - 0s 302us/step - loss: 1.0895 - acc: 0.7007 - val_loss: 1.1717 - val_acc: 0.6400\n",
      "Epoch 18/1000\n",
      "568/568 [==============================] - 0s 290us/step - loss: 1.1251 - acc: 0.6655 - val_loss: 1.1182 - val_acc: 0.6700\n",
      "Epoch 19/1000\n",
      "568/568 [==============================] - 0s 291us/step - loss: 1.0824 - acc: 0.6954 - val_loss: 1.1332 - val_acc: 0.6300\n",
      "Epoch 20/1000\n",
      "568/568 [==============================] - 0s 291us/step - loss: 1.0386 - acc: 0.7042 - val_loss: 1.0419 - val_acc: 0.6800\n",
      "Epoch 21/1000\n",
      "568/568 [==============================] - 0s 291us/step - loss: 1.0296 - acc: 0.6989 - val_loss: 1.0786 - val_acc: 0.6500\n",
      "Epoch 22/1000\n",
      "568/568 [==============================] - 0s 348us/step - loss: 0.9950 - acc: 0.6901 - val_loss: 1.0087 - val_acc: 0.6900\n",
      "Epoch 23/1000\n",
      "568/568 [==============================] - 0s 363us/step - loss: 0.9859 - acc: 0.7165 - val_loss: 1.0406 - val_acc: 0.5900\n",
      "Epoch 24/1000\n",
      "568/568 [==============================] - 0s 295us/step - loss: 0.9894 - acc: 0.6514 - val_loss: 0.9701 - val_acc: 0.7300\n",
      "Epoch 25/1000\n",
      "568/568 [==============================] - 0s 291us/step - loss: 0.9502 - acc: 0.6866 - val_loss: 0.9640 - val_acc: 0.7000\n",
      "Epoch 26/1000\n",
      "568/568 [==============================] - 0s 360us/step - loss: 0.9274 - acc: 0.7077 - val_loss: 0.9469 - val_acc: 0.6500\n",
      "Epoch 27/1000\n",
      "568/568 [==============================] - 0s 345us/step - loss: 0.8966 - acc: 0.7306 - val_loss: 0.9377 - val_acc: 0.6400\n",
      "Epoch 28/1000\n",
      "568/568 [==============================] - 0s 294us/step - loss: 0.8894 - acc: 0.7042 - val_loss: 0.9120 - val_acc: 0.7100\n",
      "Epoch 29/1000\n",
      "568/568 [==============================] - 0s 291us/step - loss: 0.8605 - acc: 0.7271 - val_loss: 0.8841 - val_acc: 0.6900\n",
      "Epoch 30/1000\n",
      "568/568 [==============================] - 0s 291us/step - loss: 0.8505 - acc: 0.7165 - val_loss: 0.9038 - val_acc: 0.6800\n",
      "Epoch 31/1000\n",
      "568/568 [==============================] - 0s 290us/step - loss: 0.8629 - acc: 0.7007 - val_loss: 0.8729 - val_acc: 0.6700\n",
      "Epoch 32/1000\n",
      "568/568 [==============================] - 0s 319us/step - loss: 0.8413 - acc: 0.7271 - val_loss: 0.8583 - val_acc: 0.7100\n",
      "Epoch 33/1000\n",
      "568/568 [==============================] - 0s 277us/step - loss: 0.8178 - acc: 0.7165 - val_loss: 0.8183 - val_acc: 0.7200\n",
      "Epoch 34/1000\n",
      "568/568 [==============================] - 0s 331us/step - loss: 0.8006 - acc: 0.7324 - val_loss: 0.8381 - val_acc: 0.6500\n",
      "Epoch 35/1000\n",
      "568/568 [==============================] - 0s 296us/step - loss: 0.8049 - acc: 0.7077 - val_loss: 0.7990 - val_acc: 0.7200\n",
      "Epoch 36/1000\n",
      "568/568 [==============================] - 0s 301us/step - loss: 0.7872 - acc: 0.6954 - val_loss: 0.8175 - val_acc: 0.7100\n",
      "Epoch 37/1000\n",
      "568/568 [==============================] - 0s 280us/step - loss: 0.7613 - acc: 0.7007 - val_loss: 0.7831 - val_acc: 0.7000\n",
      "Epoch 38/1000\n",
      "568/568 [==============================] - 0s 261us/step - loss: 0.7417 - acc: 0.7113 - val_loss: 0.7703 - val_acc: 0.7300\n",
      "Epoch 39/1000\n",
      "568/568 [==============================] - 0s 302us/step - loss: 0.7379 - acc: 0.7359 - val_loss: 0.7998 - val_acc: 0.6600\n",
      "Epoch 40/1000\n",
      "568/568 [==============================] - 0s 251us/step - loss: 0.7414 - acc: 0.7130 - val_loss: 0.7799 - val_acc: 0.7200\n",
      "Epoch 41/1000\n",
      "568/568 [==============================] - 0s 268us/step - loss: 0.7193 - acc: 0.7342 - val_loss: 0.7856 - val_acc: 0.7400\n",
      "Epoch 42/1000\n",
      "568/568 [==============================] - 0s 278us/step - loss: 0.7220 - acc: 0.7148 - val_loss: 0.7871 - val_acc: 0.6800\n",
      "Epoch 43/1000\n",
      "568/568 [==============================] - 0s 283us/step - loss: 0.7057 - acc: 0.7447 - val_loss: 0.7241 - val_acc: 0.7000\n",
      "Epoch 44/1000\n",
      "568/568 [==============================] - 0s 298us/step - loss: 0.6902 - acc: 0.7236 - val_loss: 0.7472 - val_acc: 0.6800\n",
      "Epoch 45/1000\n",
      "568/568 [==============================] - 0s 264us/step - loss: 0.6748 - acc: 0.7271 - val_loss: 0.7399 - val_acc: 0.7000\n",
      "Epoch 46/1000\n",
      "568/568 [==============================] - 0s 290us/step - loss: 0.7254 - acc: 0.7165 - val_loss: 0.7314 - val_acc: 0.7300\n",
      "Epoch 47/1000\n",
      "568/568 [==============================] - 0s 298us/step - loss: 0.6983 - acc: 0.7218 - val_loss: 0.7083 - val_acc: 0.7200\n",
      "Epoch 48/1000\n",
      "568/568 [==============================] - 0s 268us/step - loss: 0.6928 - acc: 0.7218 - val_loss: 0.7597 - val_acc: 0.7200\n",
      "Epoch 49/1000\n",
      "568/568 [==============================] - 0s 293us/step - loss: 0.6801 - acc: 0.7042 - val_loss: 0.6876 - val_acc: 0.6900\n",
      "Epoch 50/1000\n",
      "568/568 [==============================] - 0s 283us/step - loss: 0.6505 - acc: 0.7359 - val_loss: 0.7032 - val_acc: 0.7300\n",
      "Epoch 51/1000\n",
      "568/568 [==============================] - 0s 272us/step - loss: 0.6686 - acc: 0.7025 - val_loss: 0.6706 - val_acc: 0.7300\n",
      "Epoch 52/1000\n",
      "568/568 [==============================] - 0s 300us/step - loss: 0.6432 - acc: 0.7218 - val_loss: 0.6509 - val_acc: 0.7000\n",
      "Epoch 53/1000\n",
      "568/568 [==============================] - 0s 259us/step - loss: 0.6414 - acc: 0.7271 - val_loss: 0.6467 - val_acc: 0.6900\n",
      "Epoch 54/1000\n",
      "568/568 [==============================] - 0s 296us/step - loss: 0.6345 - acc: 0.7236 - val_loss: 0.6452 - val_acc: 0.7600\n",
      "Epoch 55/1000\n",
      "568/568 [==============================] - 0s 280us/step - loss: 0.6260 - acc: 0.7289 - val_loss: 0.6536 - val_acc: 0.7600\n",
      "Epoch 56/1000\n",
      "568/568 [==============================] - 0s 283us/step - loss: 0.6098 - acc: 0.7482 - val_loss: 0.7243 - val_acc: 0.7000\n",
      "Epoch 57/1000\n",
      "568/568 [==============================] - 0s 320us/step - loss: 0.6273 - acc: 0.7359 - val_loss: 0.6765 - val_acc: 0.7300\n",
      "Epoch 58/1000\n",
      "568/568 [==============================] - 0s 370us/step - loss: 0.6239 - acc: 0.7430 - val_loss: 0.6683 - val_acc: 0.7500\n",
      "Epoch 59/1000\n",
      "568/568 [==============================] - 0s 337us/step - loss: 0.6259 - acc: 0.7500 - val_loss: 0.6337 - val_acc: 0.7700\n",
      "Epoch 60/1000\n"
     ]
    },
    {
     "name": "stdout",
     "output_type": "stream",
     "text": [
      "568/568 [==============================] - 0s 333us/step - loss: 0.6092 - acc: 0.7324 - val_loss: 0.6194 - val_acc: 0.7200\n",
      "Epoch 61/1000\n",
      "568/568 [==============================] - 0s 338us/step - loss: 0.6010 - acc: 0.7254 - val_loss: 0.6404 - val_acc: 0.7400\n",
      "Epoch 62/1000\n",
      "568/568 [==============================] - 0s 315us/step - loss: 0.6050 - acc: 0.7412 - val_loss: 0.6243 - val_acc: 0.7200\n",
      "Epoch 63/1000\n",
      "568/568 [==============================] - 0s 256us/step - loss: 0.5936 - acc: 0.7394 - val_loss: 0.6483 - val_acc: 0.7100\n",
      "Epoch 64/1000\n",
      "568/568 [==============================] - 0s 299us/step - loss: 0.5960 - acc: 0.7500 - val_loss: 0.6234 - val_acc: 0.7500\n",
      "Epoch 65/1000\n",
      "568/568 [==============================] - 0s 356us/step - loss: 0.5946 - acc: 0.7553 - val_loss: 0.6178 - val_acc: 0.7400\n",
      "Epoch 66/1000\n",
      "568/568 [==============================] - 0s 337us/step - loss: 0.5856 - acc: 0.7377 - val_loss: 0.6250 - val_acc: 0.7400\n",
      "Epoch 67/1000\n",
      "568/568 [==============================] - 0s 345us/step - loss: 0.6000 - acc: 0.7306 - val_loss: 0.5855 - val_acc: 0.7500\n",
      "Epoch 68/1000\n",
      "568/568 [==============================] - 0s 306us/step - loss: 0.5696 - acc: 0.7606 - val_loss: 0.6146 - val_acc: 0.7300\n",
      "Epoch 69/1000\n",
      "568/568 [==============================] - 0s 291us/step - loss: 0.5855 - acc: 0.7342 - val_loss: 0.6514 - val_acc: 0.7400\n",
      "Epoch 70/1000\n",
      "568/568 [==============================] - 0s 330us/step - loss: 0.5854 - acc: 0.7482 - val_loss: 0.6155 - val_acc: 0.7500\n",
      "Epoch 71/1000\n",
      "568/568 [==============================] - 0s 386us/step - loss: 0.5660 - acc: 0.7306 - val_loss: 0.5813 - val_acc: 0.7400\n",
      "Epoch 72/1000\n",
      "568/568 [==============================] - 0s 287us/step - loss: 0.5643 - acc: 0.7518 - val_loss: 0.5782 - val_acc: 0.7300\n",
      "Epoch 73/1000\n",
      "568/568 [==============================] - 0s 341us/step - loss: 0.5707 - acc: 0.7553 - val_loss: 0.5780 - val_acc: 0.7600\n",
      "Epoch 74/1000\n",
      "568/568 [==============================] - 0s 343us/step - loss: 0.5540 - acc: 0.7606 - val_loss: 0.6138 - val_acc: 0.7300\n",
      "Epoch 75/1000\n",
      "568/568 [==============================] - 0s 330us/step - loss: 0.5692 - acc: 0.7465 - val_loss: 0.6045 - val_acc: 0.7200\n",
      "Epoch 76/1000\n",
      "568/568 [==============================] - 0s 350us/step - loss: 0.5522 - acc: 0.7447 - val_loss: 0.5766 - val_acc: 0.7400\n",
      "Epoch 77/1000\n",
      "568/568 [==============================] - 0s 368us/step - loss: 0.5422 - acc: 0.7641 - val_loss: 0.6904 - val_acc: 0.6000\n",
      "Epoch 78/1000\n",
      "568/568 [==============================] - 0s 368us/step - loss: 0.5673 - acc: 0.7482 - val_loss: 0.6107 - val_acc: 0.7200\n",
      "Epoch 79/1000\n",
      "568/568 [==============================] - 0s 302us/step - loss: 0.5596 - acc: 0.7377 - val_loss: 0.5967 - val_acc: 0.7700\n",
      "Epoch 80/1000\n",
      "568/568 [==============================] - 0s 390us/step - loss: 0.5249 - acc: 0.7623 - val_loss: 0.6955 - val_acc: 0.6600\n",
      "Epoch 81/1000\n",
      "568/568 [==============================] - 0s 280us/step - loss: 0.5439 - acc: 0.7588 - val_loss: 0.6232 - val_acc: 0.7200\n",
      "Epoch 82/1000\n",
      "568/568 [==============================] - 0s 290us/step - loss: 0.5326 - acc: 0.7641 - val_loss: 0.5946 - val_acc: 0.7300\n",
      "Epoch 83/1000\n",
      "568/568 [==============================] - 0s 396us/step - loss: 0.5445 - acc: 0.7412 - val_loss: 0.5747 - val_acc: 0.7500\n",
      "Epoch 84/1000\n",
      "568/568 [==============================] - 0s 287us/step - loss: 0.5256 - acc: 0.7588 - val_loss: 0.5926 - val_acc: 0.7400\n",
      "Epoch 85/1000\n",
      "568/568 [==============================] - 0s 301us/step - loss: 0.5222 - acc: 0.7694 - val_loss: 0.5671 - val_acc: 0.7500\n",
      "Epoch 86/1000\n",
      "568/568 [==============================] - 0s 373us/step - loss: 0.5202 - acc: 0.7606 - val_loss: 0.5509 - val_acc: 0.7800\n",
      "Epoch 87/1000\n",
      "568/568 [==============================] - 0s 292us/step - loss: 0.5113 - acc: 0.7817 - val_loss: 0.6177 - val_acc: 0.7300\n",
      "Epoch 88/1000\n",
      "568/568 [==============================] - 0s 359us/step - loss: 0.5500 - acc: 0.7394 - val_loss: 0.5886 - val_acc: 0.7500\n",
      "Epoch 89/1000\n",
      "568/568 [==============================] - 0s 315us/step - loss: 0.5170 - acc: 0.7694 - val_loss: 0.6233 - val_acc: 0.7400\n",
      "Epoch 90/1000\n",
      "568/568 [==============================] - 0s 319us/step - loss: 0.5273 - acc: 0.7606 - val_loss: 0.5313 - val_acc: 0.7800\n",
      "Epoch 91/1000\n",
      "568/568 [==============================] - 0s 312us/step - loss: 0.5096 - acc: 0.7729 - val_loss: 0.5612 - val_acc: 0.8100\n",
      "Epoch 92/1000\n",
      "568/568 [==============================] - 0s 315us/step - loss: 0.5049 - acc: 0.7588 - val_loss: 0.5725 - val_acc: 0.7500\n",
      "Epoch 93/1000\n",
      "568/568 [==============================] - 0s 296us/step - loss: 0.4988 - acc: 0.7711 - val_loss: 0.5742 - val_acc: 0.7400\n",
      "Epoch 94/1000\n",
      "568/568 [==============================] - 0s 365us/step - loss: 0.5332 - acc: 0.7553 - val_loss: 0.6047 - val_acc: 0.7300\n",
      "Epoch 95/1000\n",
      "568/568 [==============================] - 0s 375us/step - loss: 0.5170 - acc: 0.7623 - val_loss: 0.5670 - val_acc: 0.7900\n",
      "Epoch 96/1000\n",
      "568/568 [==============================] - 0s 329us/step - loss: 0.5034 - acc: 0.7658 - val_loss: 0.5638 - val_acc: 0.7700\n",
      "Epoch 97/1000\n",
      "568/568 [==============================] - 0s 322us/step - loss: 0.5172 - acc: 0.7852 - val_loss: 0.5784 - val_acc: 0.7200\n",
      "Epoch 98/1000\n",
      "568/568 [==============================] - 0s 312us/step - loss: 0.5258 - acc: 0.7658 - val_loss: 0.5535 - val_acc: 0.7600\n",
      "Epoch 99/1000\n",
      "568/568 [==============================] - 0s 417us/step - loss: 0.5020 - acc: 0.7746 - val_loss: 0.5408 - val_acc: 0.7800\n",
      "Epoch 100/1000\n",
      "568/568 [==============================] - 0s 329us/step - loss: 0.5113 - acc: 0.7641 - val_loss: 0.5422 - val_acc: 0.7500\n",
      "Epoch 101/1000\n",
      "568/568 [==============================] - 0s 315us/step - loss: 0.5177 - acc: 0.7518 - val_loss: 0.5515 - val_acc: 0.7800\n",
      "Epoch 102/1000\n",
      "568/568 [==============================] - 0s 322us/step - loss: 0.5052 - acc: 0.7729 - val_loss: 0.5377 - val_acc: 0.7800\n",
      "Epoch 103/1000\n",
      "568/568 [==============================] - 0s 327us/step - loss: 0.5003 - acc: 0.7887 - val_loss: 0.5921 - val_acc: 0.7600\n"
     ]
    }
   ],
   "source": [
    "# 두개의 은닉층을 사용하는 경우\n",
    "model = Sequential()\n",
    "\n",
    "# 입력값: 8 개, 출력 노드 갯수: 128개, 활성화 함수: relu\n",
    "\n",
    "# 첫번째 은닉층(입력층은 선언 안함)\n",
    "model.add(Dense(128, input_shape=(8, ), activation='relu',\n",
    "               kernel_regularizer=regularizers.l1_l2(l1=0.001, l2=0.001)))  \n",
    "model.add(Dense(64, activation='relu',\n",
    "               kernel_regularizer=regularizers.l1_l2(l1=0.001, l2=0.001)))\n",
    "model.add(Dense(30, activation='relu'))\n",
    "model.add(Dense(10, activation='relu'))\n",
    "model.add(Dense(1, activation=\"sigmoid\"))  # 이항 분류\n",
    "\n",
    "model.compile(optimizer='adam', loss='binary_crossentropy',\n",
    "              metrics=['accuracy'])\n",
    "\n",
    "# 가장 작은 오차가 10번 발생하면 학습 자동 중지\n",
    "early_stopping = EarlyStopping(monitor='loss', patience=10)\n",
    "\n",
    "hist = model.fit(x, y, validation_data=(x_val, y_val), \n",
    "                 epochs=1000, batch_size=10, \n",
    "                 callbacks=[early_stopping])"
   ]
  },
  {
   "cell_type": "code",
   "execution_count": 85,
   "metadata": {},
   "outputs": [
    {
     "data": {
      "image/png": "[encoded data removed]",
      "text/plain": [
       "<Figure size 720x360 with 2 Axes>"
      ]
     },
     "metadata": {
      "needs_background": "light"
     },
     "output_type": "display_data"
    }
   ],
   "source": [
    "fig, loss_ax = plt.subplots()\n",
    "# plt.figure(figsize=(6,4)) # ERROR\n",
    "fig.set_size_inches(10, 5)  # 챠트 크기 설정\n",
    "\n",
    "acc_ax = loss_ax.twinx()  # 오른쪽 y 출 설정\n",
    "\n",
    "loss_ax.plot(hist.history['loss'], 'y', label='train loss')   # 훈련 오차\n",
    "loss_ax.plot(hist.history['val_loss'], 'r', label='val loss') # 검증 오차\n",
    "loss_ax.set_ylim([0.0, 2.0]) # 값을 반영하여 변경, 왼쪽 y 축\n",
    "\n",
    "acc_ax.plot(hist.history['acc'], 'b', label='train acc')   # 훈련 정확도\n",
    "acc_ax.plot(hist.history['val_acc'], 'g', label='val acc') # 검증 정확도\n",
    "acc_ax.set_ylim([0.0, 1.0])    # 오른쪽 y 축\n",
    "\n",
    "loss_ax.set_xlabel('epoch')    # x축 레이블\n",
    "loss_ax.set_ylabel('loss')     # 오차 레이블, 왼쪽 y 축\n",
    "acc_ax.set_ylabel('accuray')   # 정확도 레이블, 오른쪽 y 축\n",
    "\n",
    "loss_ax.legend(loc='upper left') # 오차 레이블 출력 위치\n",
    "acc_ax.legend(loc='lower left')  # 정확도 레입르 출력 위치\n",
    "\n",
    "plt.show()"
   ]
  },
  {
   "cell_type": "code",
   "execution_count": 86,
   "metadata": {},
   "outputs": [
    {
     "name": "stdout",
     "output_type": "stream",
     "text": [
      "100/100 [==============================] - 0s 1ms/step\n",
      "손실값: 0.5645842741429806 /정확도: 73.0 %\n"
     ]
    }
   ],
   "source": [
    "test_loss, test_acc = model.evaluate(x_test, y_test, batch_size=1)\n",
    "print('손실값:', test_loss, '/정확도:', (test_acc*100), '%')"
   ]
  },
  {
   "cell_type": "code",
   "execution_count": 87,
   "metadata": {},
   "outputs": [],
   "source": [
    "model.save('./Pima.h5')"
   ]
  },
  {
   "cell_type": "code",
   "execution_count": 88,
   "metadata": {},
   "outputs": [],
   "source": [
    "model = load_model('./Pima.h5')"
   ]
  },
  {
   "cell_type": "code",
   "execution_count": 89,
   "metadata": {},
   "outputs": [
    {
     "name": "stdout",
     "output_type": "stream",
     "text": [
      "[[6.00e+00 9.80e+01 5.80e+01 3.30e+01 1.90e+02 3.40e+01 4.30e-01 4.30e+01]\n",
      " [9.00e+00 1.54e+02 7.80e+01 3.00e+01 1.00e+02 3.09e+01 1.64e-01 4.50e+01]\n",
      " [6.00e+00 1.65e+02 6.80e+01 2.60e+01 1.68e+02 3.36e+01 6.31e-01 4.90e+01]\n",
      " [1.00e+00 9.90e+01 5.80e+01 1.00e+01 0.00e+00 2.54e+01 5.51e-01 2.10e+01]\n",
      " [1.00e+01 6.80e+01 1.06e+02 2.30e+01 4.90e+01 3.55e+01 2.85e-01 4.70e+01]\n",
      " [3.00e+00 1.23e+02 1.00e+02 3.50e+01 2.40e+02 5.73e+01 8.80e-01 2.20e+01]\n",
      " [8.00e+00 9.10e+01 8.20e+01 0.00e+00 0.00e+00 3.56e+01 5.87e-01 6.80e+01]\n",
      " [6.00e+00 1.95e+02 7.00e+01 0.00e+00 0.00e+00 3.09e+01 3.28e-01 3.10e+01]\n",
      " [9.00e+00 1.56e+02 8.60e+01 0.00e+00 0.00e+00 2.48e+01 2.30e-01 5.30e+01]\n",
      " [0.00e+00 9.30e+01 6.00e+01 0.00e+00 0.00e+00 3.53e+01 2.63e-01 2.50e+01]]\n"
     ]
    }
   ],
   "source": [
    "print(x_test[0:10])"
   ]
  },
  {
   "cell_type": "code",
   "execution_count": 90,
   "metadata": {},
   "outputs": [
    {
     "name": "stdout",
     "output_type": "stream",
     "text": [
      "<class 'numpy.ndarray'>\n",
      "(10, 1)\n",
      "[[0.5107919 ]\n",
      " [0.41286087]\n",
      " [0.70611465]\n",
      " [0.24150649]\n",
      " [0.03295121]\n",
      " [0.44346082]\n",
      " [0.20545568]\n",
      " [0.9525656 ]\n",
      " [0.45306855]\n",
      " [0.29494193]]\n",
      "10\n",
      "[[0.]\n",
      " [0.]\n",
      " [0.]\n",
      " [0.]\n",
      " [0.]\n",
      " [0.]\n",
      " [0.]\n",
      " [1.]\n",
      " [1.]\n",
      " [0.]]\n"
     ]
    }
   ],
   "source": [
    "y_predict = model.predict(x_test[0:10])\n",
    "print(type(y_predict))\n",
    "print(y_predict.shape)\n",
    "print(y_predict)\n",
    "print(len(x_test[0:10])) # 10\n",
    "print(y_test[0:10])"
   ]
  },
  {
   "cell_type": "code",
   "execution_count": 91,
   "metadata": {},
   "outputs": [
    {
     "name": "stdout",
     "output_type": "stream",
     "text": [
      "실제값: [0.], 예측값: [0.5107919] --> 당뇨\n",
      "실제값: [0.], 예측값: [0.41286087] --> 해당안됨\n",
      "실제값: [0.], 예측값: [0.70611465] --> 당뇨\n",
      "실제값: [0.], 예측값: [0.24150649] --> 해당안됨\n",
      "실제값: [0.], 예측값: [0.03295121] --> 해당안됨\n",
      "실제값: [0.], 예측값: [0.44346082] --> 해당안됨\n",
      "실제값: [0.], 예측값: [0.20545568] --> 해당안됨\n",
      "실제값: [1.], 예측값: [0.9525656] --> 당뇨\n",
      "실제값: [1.], 예측값: [0.45306855] --> 해당안됨\n",
      "실제값: [0.], 예측값: [0.29494193] --> 해당안됨\n"
     ]
    }
   ],
   "source": [
    "for i in range(len(x_test[0:10])):\n",
    "    # print(x_test[i])\n",
    "    print('실제값: {0}, 예측값: {1}'.format(y_test[i], y_predict[i]), end='')\n",
    "    \n",
    "    if y_predict[i] >= 0.5:# 0 ~ 1\n",
    "        print(' --> 당뇨')\n",
    "    else:\n",
    "        print(' --> 해당안됨')"
   ]
  },
  {
   "cell_type": "code",
   "execution_count": 68,
   "metadata": {},
   "outputs": [
    {
     "name": "stdout",
     "output_type": "stream",
     "text": [
      "[ 0.    93.    60.     0.     0.    35.3    0.263 25.   ]\n"
     ]
    }
   ],
   "source": [
    "print(x_test[9])"
   ]
  },
  {
   "cell_type": "code",
   "execution_count": 116,
   "metadata": {},
   "outputs": [
    {
     "name": "stdout",
     "output_type": "stream",
     "text": [
      "0.,93.,60.,0.,0.,35.3,0.263,25.\n",
      "<class 'numpy.ndarray'>\n",
      "(8,)\n",
      "[ 0.    93.    60.     0.     0.    35.3    0.263 25.   ]\n"
     ]
    }
   ],
   "source": [
    "data=\"0.,93.,60.,0.,0.,35.3,0.263,25.\"\n",
    "print(data)\n",
    "\n",
    "data = np.array(data.split(','), dtype=float)  # or int\n",
    "print(type(data))\n",
    "print(data.shape)\n",
    "print(data)"
   ]
  },
  {
   "cell_type": "code",
   "execution_count": 117,
   "metadata": {},
   "outputs": [
    {
     "name": "stdout",
     "output_type": "stream",
     "text": [
      "<class 'numpy.ndarray'>\n",
      "(1, 8)\n",
      "[[ 0.    93.    60.     0.     0.    35.3    0.263 25.   ]]\n",
      "1\n"
     ]
    }
   ],
   "source": [
    "x = np.array([data,])\n",
    "print(type(x))\n",
    "print(x.shape)\n",
    "print(x)\n",
    "print(len(x))"
   ]
  },
  {
   "cell_type": "code",
   "execution_count": 118,
   "metadata": {},
   "outputs": [
    {
     "name": "stdout",
     "output_type": "stream",
     "text": [
      "실제값: [0.], 예측값: [0.29494193] --> 해당안됨\n"
     ]
    }
   ],
   "source": [
    "# 10번째 데이터를 대상으로 출력\n",
    "yp = model.predict(x)\n",
    "for i in range(len(x)):\n",
    "    print('실제값: {0}, 예측값: {1}'.format(y_test[9], yp[i]), end='')\n",
    "    \n",
    "    if yp[i] >= 0.5:\n",
    "        print(' --> 당뇨')\n",
    "    else:\n",
    "        print(' --> 해당안됨')"
   ]
  },
  {
   "cell_type": "code",
   "execution_count": null,
   "metadata": {},
   "outputs": [],
   "source": []
  },
  {
   "cell_type": "code",
   "execution_count": null,
   "metadata": {},
   "outputs": [],
   "source": []
  },
  {
   "cell_type": "code",
   "execution_count": null,
   "metadata": {},
   "outputs": [],
   "source": []
  },
  {
   "cell_type": "code",
   "execution_count": null,
   "metadata": {},
   "outputs": [],
   "source": []
  },
  {
   "cell_type": "code",
   "execution_count": null,
   "metadata": {},
   "outputs": [],
   "source": []
  },
  {
   "cell_type": "code",
   "execution_count": null,
   "metadata": {},
   "outputs": [],
   "source": []
  }
 ],
 "metadata": {
  "kernelspec": {
   "display_name": "machine",
   "language": "python",
   "name": "machine"
  },
  "language_info": {
   "codemirror_mode": {
    "name": "ipython",
    "version": 3
   },
   "file_extension": ".py",
   "mimetype": "text/x-python",
   "name": "python",
   "nbconvert_exporter": "python",
   "pygments_lexer": "ipython3",
   "version": "3.6.9"
  }
 },
 "nbformat": 4,
 "nbformat_minor": 2
}
