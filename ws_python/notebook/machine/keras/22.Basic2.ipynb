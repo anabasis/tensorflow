{
 "cells": [
  {
   "cell_type": "code",
   "execution_count": 27,
   "metadata": {},
   "outputs": [],
   "source": [
    "import numpy as np\n",
    "\n",
    "from keras.models import Sequential  # class\n",
    "from keras.models import load_model  # model 사용\n",
    "from keras.layers import Dense       # 전결합\n",
    "\n",
    "import matplotlib.pyplot as plt"
   ]
  },
  {
   "cell_type": "code",
   "execution_count": 28,
   "metadata": {},
   "outputs": [
    {
     "name": "stdout",
     "output_type": "stream",
     "text": [
      "[[ 1 10]\n",
      " [ 2 10]\n",
      " [ 3 10]\n",
      " [ 4 10]\n",
      " [ 5 10]]\n",
      "(100, 2)\n"
     ]
    }
   ],
   "source": [
    "# 데이터, 10행 2열\n",
    "x_train = []\n",
    "for i in range(1, 101, 1):  # 1 ~ 100\n",
    "    x_train.append([i, 10]) # 1차원 배열 list에 list 추가: 2차원 배열\n",
    "    # print(i)\n",
    "x_train = np.array(x_train) # list를 ndarray로 변환    \n",
    "print(x_train[0:5])  # 5행만 출력\n",
    "print(x_train.shape) # 100행 2열"
   ]
  },
  {
   "cell_type": "code",
   "execution_count": 29,
   "metadata": {},
   "outputs": [
    {
     "name": "stdout",
     "output_type": "stream",
     "text": [
      "[[13.]\n",
      " [18.]\n",
      " [23.]\n",
      " [28.]\n",
      " [33.]]\n",
      "(100, 1)\n"
     ]
    }
   ],
   "source": [
    "y_train = []  # 실제값 저장용 list\n",
    "for i in range(len(x_train)):\n",
    "    val = (x_train[i][0] * x_train[i][1]) / 2 + 5 * 3 - 7 # 다양한 수식을 적용\n",
    "    y_train.append([val]) # 각행의 0열과 1열을 곱함\n",
    "    \n",
    "y_train = np.array(y_train)  # list -> ndarray  \n",
    "print(y_train[0:5])\n",
    "print(y_train.shape)"
   ]
  },
  {
   "cell_type": "code",
   "execution_count": 30,
   "metadata": {},
   "outputs": [
    {
     "name": "stdout",
     "output_type": "stream",
     "text": [
      "Train on 80 samples, validate on 20 samples\n",
      "Epoch 1/100\n",
      "80/80 [==============================] - 0s 5ms/step - loss: 56451.2110 - acc: 0.0000e+00 - val_loss: 195431.6094 - val_acc: 0.0000e+00\n",
      "Epoch 2/100\n",
      "80/80 [==============================] - 0s 1ms/step - loss: 46026.8977 - acc: 0.0125 - val_loss: 158836.9816 - val_acc: 0.0000e+00\n",
      "Epoch 3/100\n",
      "80/80 [==============================] - 0s 1ms/step - loss: 35899.4949 - acc: 0.0000e+00 - val_loss: 123916.1559 - val_acc: 0.0000e+00\n",
      "Epoch 4/100\n",
      "80/80 [==============================] - 0s 1ms/step - loss: 26582.2379 - acc: 0.0000e+00 - val_loss: 90007.5109 - val_acc: 0.0000e+00\n",
      "Epoch 5/100\n",
      "80/80 [==============================] - 0s 1ms/step - loss: 18312.1547 - acc: 0.0000e+00 - val_loss: 62737.8893 - val_acc: 0.0000e+00\n",
      "Epoch 6/100\n",
      "80/80 [==============================] - 0s 1ms/step - loss: 11712.6952 - acc: 0.0000e+00 - val_loss: 40497.2517 - val_acc: 0.0000e+00\n",
      "Epoch 7/100\n",
      "80/80 [==============================] - 0s 1ms/step - loss: 6868.5036 - acc: 0.0000e+00 - val_loss: 24511.6745 - val_acc: 0.0000e+00\n",
      "Epoch 8/100\n",
      "80/80 [==============================] - 0s 1ms/step - loss: 3739.0338 - acc: 0.0000e+00 - val_loss: 14068.7038 - val_acc: 0.0000e+00\n",
      "Epoch 9/100\n",
      "80/80 [==============================] - 0s 1ms/step - loss: 1960.9340 - acc: 0.0000e+00 - val_loss: 8098.4920 - val_acc: 0.0000e+00\n",
      "Epoch 10/100\n",
      "80/80 [==============================] - 0s 1ms/step - loss: 1097.0410 - acc: 0.0000e+00 - val_loss: 4694.4366 - val_acc: 0.0000e+00\n",
      "Epoch 11/100\n",
      "80/80 [==============================] - 0s 1ms/step - loss: 723.4988 - acc: 0.0000e+00 - val_loss: 3009.7681 - val_acc: 0.0000e+00\n",
      "Epoch 12/100\n",
      "80/80 [==============================] - 0s 1ms/step - loss: 574.4626 - acc: 0.0000e+00 - val_loss: 2109.0405 - val_acc: 0.0000e+00\n",
      "Epoch 13/100\n",
      "80/80 [==============================] - 0s 1ms/step - loss: 514.6893 - acc: 0.0000e+00 - val_loss: 1605.0927 - val_acc: 0.0000e+00\n",
      "Epoch 14/100\n",
      "80/80 [==============================] - 0s 1ms/step - loss: 485.2794 - acc: 0.0125 - val_loss: 1365.8981 - val_acc: 0.0000e+00\n",
      "Epoch 15/100\n",
      "80/80 [==============================] - 0s 1ms/step - loss: 460.5166 - acc: 0.0250 - val_loss: 1251.9759 - val_acc: 0.0000e+00\n",
      "Epoch 16/100\n",
      "80/80 [==============================] - 0s 1ms/step - loss: 438.1643 - acc: 0.0125 - val_loss: 1111.6319 - val_acc: 0.0000e+00\n",
      "Epoch 17/100\n",
      "80/80 [==============================] - 0s 1ms/step - loss: 416.5560 - acc: 0.0250 - val_loss: 1031.6468 - val_acc: 0.0000e+00\n",
      "Epoch 18/100\n",
      "80/80 [==============================] - 0s 1ms/step - loss: 394.7136 - acc: 0.0125 - val_loss: 1035.4736 - val_acc: 0.0000e+00\n",
      "Epoch 19/100\n",
      "80/80 [==============================] - 0s 1ms/step - loss: 374.8622 - acc: 0.0250 - val_loss: 961.2465 - val_acc: 0.0000e+00\n",
      "Epoch 20/100\n",
      "80/80 [==============================] - 0s 1ms/step - loss: 353.7381 - acc: 0.0250 - val_loss: 924.4476 - val_acc: 0.0000e+00\n",
      "Epoch 21/100\n",
      "80/80 [==============================] - 0s 1ms/step - loss: 333.7222 - acc: 0.0125 - val_loss: 827.3158 - val_acc: 0.0000e+00\n",
      "Epoch 22/100\n",
      "80/80 [==============================] - 0s 1ms/step - loss: 314.7023 - acc: 0.0250 - val_loss: 813.4921 - val_acc: 0.0000e+00\n",
      "Epoch 23/100\n",
      "80/80 [==============================] - 0s 1ms/step - loss: 295.8522 - acc: 0.0000e+00 - val_loss: 701.6271 - val_acc: 0.0000e+00\n",
      "Epoch 24/100\n",
      "80/80 [==============================] - 0s 1ms/step - loss: 275.4760 - acc: 0.0250 - val_loss: 675.6302 - val_acc: 0.0000e+00\n",
      "Epoch 25/100\n",
      "80/80 [==============================] - 0s 1ms/step - loss: 257.2393 - acc: 0.0000e+00 - val_loss: 611.5182 - val_acc: 0.0000e+00\n",
      "Epoch 26/100\n",
      "80/80 [==============================] - 0s 1ms/step - loss: 240.4057 - acc: 0.0250 - val_loss: 535.2521 - val_acc: 0.0000e+00\n",
      "Epoch 27/100\n",
      "80/80 [==============================] - 0s 1ms/step - loss: 222.6586 - acc: 0.0250 - val_loss: 521.6104 - val_acc: 0.0000e+00\n",
      "Epoch 28/100\n",
      "80/80 [==============================] - 0s 1ms/step - loss: 206.2779 - acc: 0.0250 - val_loss: 519.1535 - val_acc: 0.0000e+00\n",
      "Epoch 29/100\n",
      "80/80 [==============================] - 0s 1ms/step - loss: 190.2034 - acc: 0.0125 - val_loss: 452.7910 - val_acc: 0.0000e+00\n",
      "Epoch 30/100\n",
      "80/80 [==============================] - 0s 1ms/step - loss: 175.0811 - acc: 0.0250 - val_loss: 405.9548 - val_acc: 0.0000e+00\n",
      "Epoch 31/100\n",
      "80/80 [==============================] - 0s 1ms/step - loss: 161.4715 - acc: 0.0375 - val_loss: 413.6207 - val_acc: 0.0000e+00\n",
      "Epoch 32/100\n",
      "80/80 [==============================] - 0s 1ms/step - loss: 147.3620 - acc: 0.0250 - val_loss: 360.6501 - val_acc: 0.0000e+00\n",
      "Epoch 33/100\n",
      "80/80 [==============================] - 0s 1ms/step - loss: 136.1058 - acc: 0.0375 - val_loss: 320.5504 - val_acc: 0.0000e+00\n",
      "Epoch 34/100\n",
      "80/80 [==============================] - 0s 1ms/step - loss: 121.7463 - acc: 0.0250 - val_loss: 288.0072 - val_acc: 0.0000e+00\n",
      "Epoch 35/100\n",
      "80/80 [==============================] - 0s 1ms/step - loss: 110.1808 - acc: 0.0250 - val_loss: 249.9501 - val_acc: 0.0000e+00\n",
      "Epoch 36/100\n",
      "80/80 [==============================] - 0s 1ms/step - loss: 99.3476 - acc: 0.0125 - val_loss: 208.5198 - val_acc: 0.0000e+00\n",
      "Epoch 37/100\n",
      "80/80 [==============================] - 0s 1ms/step - loss: 89.2258 - acc: 0.0125 - val_loss: 204.8516 - val_acc: 0.0000e+00\n",
      "Epoch 38/100\n",
      "80/80 [==============================] - 0s 1ms/step - loss: 79.7520 - acc: 0.0500 - val_loss: 192.3106 - val_acc: 0.0000e+00\n",
      "Epoch 39/100\n",
      "80/80 [==============================] - 0s 1ms/step - loss: 71.2567 - acc: 0.0125 - val_loss: 179.5078 - val_acc: 0.0000e+00\n",
      "Epoch 40/100\n",
      "80/80 [==============================] - 0s 1ms/step - loss: 62.8744 - acc: 0.0375 - val_loss: 137.4494 - val_acc: 0.0000e+00\n",
      "Epoch 41/100\n",
      "80/80 [==============================] - 0s 1ms/step - loss: 55.8480 - acc: 0.0250 - val_loss: 121.5456 - val_acc: 0.0000e+00\n",
      "Epoch 42/100\n",
      "80/80 [==============================] - 0s 1ms/step - loss: 48.4649 - acc: 0.0250 - val_loss: 105.2149 - val_acc: 0.0000e+00\n",
      "Epoch 43/100\n",
      "80/80 [==============================] - 0s 1ms/step - loss: 42.4053 - acc: 0.0500 - val_loss: 94.9861 - val_acc: 0.0000e+00\n",
      "Epoch 44/100\n",
      "80/80 [==============================] - 0s 1ms/step - loss: 36.8170 - acc: 0.0500 - val_loss: 88.6767 - val_acc: 0.0000e+00\n",
      "Epoch 45/100\n",
      "80/80 [==============================] - 0s 1ms/step - loss: 31.9082 - acc: 0.0375 - val_loss: 75.9110 - val_acc: 0.0000e+00\n",
      "Epoch 46/100\n",
      "80/80 [==============================] - 0s 1ms/step - loss: 27.3665 - acc: 0.0875 - val_loss: 60.8416 - val_acc: 0.0000e+00\n",
      "Epoch 47/100\n",
      "80/80 [==============================] - 0s 1ms/step - loss: 23.1868 - acc: 0.1000 - val_loss: 58.3598 - val_acc: 0.0000e+00\n",
      "Epoch 48/100\n",
      "80/80 [==============================] - 0s 1ms/step - loss: 19.6723 - acc: 0.0625 - val_loss: 44.0098 - val_acc: 0.0000e+00\n",
      "Epoch 49/100\n",
      "80/80 [==============================] - 0s 1ms/step - loss: 16.5935 - acc: 0.0875 - val_loss: 34.9010 - val_acc: 0.0000e+00\n",
      "Epoch 50/100\n",
      "80/80 [==============================] - 0s 1ms/step - loss: 13.7929 - acc: 0.1000 - val_loss: 26.5313 - val_acc: 0.0000e+00\n",
      "Epoch 51/100\n",
      "80/80 [==============================] - 0s 1ms/step - loss: 11.3894 - acc: 0.0750 - val_loss: 24.1216 - val_acc: 0.0000e+00\n",
      "Epoch 52/100\n",
      "80/80 [==============================] - 0s 1ms/step - loss: 9.4066 - acc: 0.1250 - val_loss: 18.5354 - val_acc: 0.0000e+00\n",
      "Epoch 53/100\n",
      "80/80 [==============================] - 0s 1ms/step - loss: 7.6623 - acc: 0.1125 - val_loss: 15.5220 - val_acc: 0.0000e+00\n",
      "Epoch 54/100\n",
      "80/80 [==============================] - 0s 1ms/step - loss: 6.2397 - acc: 0.1375 - val_loss: 11.2300 - val_acc: 0.0000e+00\n",
      "Epoch 55/100\n",
      "80/80 [==============================] - 0s 1ms/step - loss: 5.0041 - acc: 0.1250 - val_loss: 8.0778 - val_acc: 0.0000e+00\n",
      "Epoch 56/100\n",
      "80/80 [==============================] - 0s 1ms/step - loss: 3.8977 - acc: 0.1500 - val_loss: 9.2621 - val_acc: 0.0000e+00\n",
      "Epoch 57/100\n",
      "80/80 [==============================] - 0s 1ms/step - loss: 3.1011 - acc: 0.1750 - val_loss: 6.4542 - val_acc: 0.0000e+00\n",
      "Epoch 58/100\n",
      "80/80 [==============================] - 0s 1ms/step - loss: 2.3797 - acc: 0.2000 - val_loss: 3.9001 - val_acc: 0.0000e+00\n"
     ]
    },
    {
     "name": "stdout",
     "output_type": "stream",
     "text": [
      "Epoch 59/100\n",
      "80/80 [==============================] - 0s 1ms/step - loss: 1.8161 - acc: 0.2625 - val_loss: 5.2852 - val_acc: 0.0000e+00\n",
      "Epoch 60/100\n",
      "80/80 [==============================] - 0s 1ms/step - loss: 1.3966 - acc: 0.3000 - val_loss: 2.5876 - val_acc: 0.0000e+00\n",
      "Epoch 61/100\n",
      "80/80 [==============================] - 0s 1ms/step - loss: 1.0524 - acc: 0.3500 - val_loss: 2.6556 - val_acc: 0.0000e+00\n",
      "Epoch 62/100\n",
      "80/80 [==============================] - 0s 1ms/step - loss: 0.7745 - acc: 0.3625 - val_loss: 1.2118 - val_acc: 0.0000e+00\n",
      "Epoch 63/100\n",
      "80/80 [==============================] - 0s 1ms/step - loss: 0.5649 - acc: 0.4125 - val_loss: 1.0293 - val_acc: 0.0000e+00\n",
      "Epoch 64/100\n",
      "80/80 [==============================] - 0s 1ms/step - loss: 0.4163 - acc: 0.5000 - val_loss: 0.5644 - val_acc: 0.0000e+00\n",
      "Epoch 65/100\n",
      "80/80 [==============================] - 0s 1ms/step - loss: 0.2874 - acc: 0.6250 - val_loss: 0.8545 - val_acc: 0.0000e+00\n",
      "Epoch 66/100\n",
      "80/80 [==============================] - 0s 1ms/step - loss: 0.2038 - acc: 0.7125 - val_loss: 0.2670 - val_acc: 0.4500\n",
      "Epoch 67/100\n",
      "80/80 [==============================] - 0s 1ms/step - loss: 0.1431 - acc: 0.7625 - val_loss: 0.1551 - val_acc: 0.9500\n",
      "Epoch 68/100\n",
      "80/80 [==============================] - 0s 1ms/step - loss: 0.0947 - acc: 0.8750 - val_loss: 0.2632 - val_acc: 0.4500\n",
      "Epoch 69/100\n",
      "80/80 [==============================] - 0s 1ms/step - loss: 0.0666 - acc: 0.9750 - val_loss: 0.1079 - val_acc: 1.0000\n",
      "Epoch 70/100\n",
      "80/80 [==============================] - 0s 1ms/step - loss: 0.0432 - acc: 1.0000 - val_loss: 0.0760 - val_acc: 1.0000\n",
      "Epoch 71/100\n",
      "80/80 [==============================] - 0s 1ms/step - loss: 0.0276 - acc: 1.0000 - val_loss: 0.0414 - val_acc: 1.0000\n",
      "Epoch 72/100\n",
      "80/80 [==============================] - 0s 1ms/step - loss: 0.0173 - acc: 1.0000 - val_loss: 0.0367 - val_acc: 1.0000\n",
      "Epoch 73/100\n",
      "80/80 [==============================] - 0s 1ms/step - loss: 0.0110 - acc: 1.0000 - val_loss: 0.0115 - val_acc: 1.0000\n",
      "Epoch 74/100\n",
      "80/80 [==============================] - 0s 1ms/step - loss: 0.0067 - acc: 1.0000 - val_loss: 0.0142 - val_acc: 1.0000\n",
      "Epoch 75/100\n",
      "80/80 [==============================] - 0s 1ms/step - loss: 0.0039 - acc: 1.0000 - val_loss: 0.0055 - val_acc: 1.0000\n",
      "Epoch 76/100\n",
      "80/80 [==============================] - 0s 1ms/step - loss: 0.0022 - acc: 1.0000 - val_loss: 0.0076 - val_acc: 1.0000\n",
      "Epoch 77/100\n",
      "80/80 [==============================] - 0s 1ms/step - loss: 0.0013 - acc: 1.0000 - val_loss: 8.1824e-04 - val_acc: 1.0000\n",
      "Epoch 78/100\n",
      "80/80 [==============================] - 0s 1ms/step - loss: 7.5156e-04 - acc: 1.0000 - val_loss: 0.0013 - val_acc: 1.0000\n",
      "Epoch 79/100\n",
      "80/80 [==============================] - 0s 1ms/step - loss: 3.9783e-04 - acc: 1.0000 - val_loss: 6.7874e-04 - val_acc: 1.0000\n",
      "Epoch 80/100\n",
      "80/80 [==============================] - 0s 1ms/step - loss: 2.0605e-04 - acc: 1.0000 - val_loss: 4.0593e-04 - val_acc: 1.0000\n",
      "Epoch 81/100\n",
      "80/80 [==============================] - 0s 1ms/step - loss: 1.0606e-04 - acc: 1.0000 - val_loss: 1.5394e-04 - val_acc: 1.0000\n",
      "Epoch 82/100\n",
      "80/80 [==============================] - 0s 1ms/step - loss: 5.3317e-05 - acc: 1.0000 - val_loss: 9.5376e-05 - val_acc: 1.0000\n",
      "Epoch 83/100\n",
      "80/80 [==============================] - 0s 1ms/step - loss: 2.6001e-05 - acc: 1.0000 - val_loss: 3.1641e-05 - val_acc: 1.0000\n",
      "Epoch 84/100\n",
      "80/80 [==============================] - 0s 1ms/step - loss: 1.3199e-05 - acc: 1.0000 - val_loss: 1.6388e-05 - val_acc: 1.0000\n",
      "Epoch 85/100\n",
      "80/80 [==============================] - 0s 1ms/step - loss: 5.5551e-06 - acc: 1.0000 - val_loss: 1.5356e-05 - val_acc: 1.0000\n",
      "Epoch 86/100\n",
      "80/80 [==============================] - 0s 1ms/step - loss: 2.5632e-06 - acc: 1.0000 - val_loss: 2.3663e-06 - val_acc: 1.0000\n",
      "Epoch 87/100\n",
      "80/80 [==============================] - 0s 1ms/step - loss: 1.0949e-06 - acc: 1.0000 - val_loss: 5.5060e-07 - val_acc: 1.0000\n",
      "Epoch 88/100\n",
      "80/80 [==============================] - 0s 1ms/step - loss: 4.1983e-07 - acc: 1.0000 - val_loss: 4.7991e-07 - val_acc: 1.0000\n",
      "Epoch 89/100\n",
      "80/80 [==============================] - 0s 1ms/step - loss: 1.7705e-07 - acc: 1.0000 - val_loss: 2.3209e-07 - val_acc: 1.0000\n",
      "Epoch 90/100\n",
      "80/80 [==============================] - 0s 1ms/step - loss: 7.8881e-08 - acc: 1.0000 - val_loss: 1.8016e-07 - val_acc: 1.0000\n",
      "Epoch 91/100\n",
      "80/80 [==============================] - 0s 1ms/step - loss: 4.2509e-08 - acc: 1.0000 - val_loss: 4.5821e-08 - val_acc: 1.0000\n",
      "Epoch 92/100\n",
      "80/80 [==============================] - 0s 1ms/step - loss: 2.3243e-08 - acc: 1.0000 - val_loss: 6.7148e-08 - val_acc: 1.0000\n",
      "Epoch 93/100\n",
      "80/80 [==============================] - 0s 1ms/step - loss: 1.3397e-08 - acc: 1.0000 - val_loss: 2.6915e-08 - val_acc: 1.0000\n",
      "Epoch 94/100\n",
      "80/80 [==============================] - 0s 1ms/step - loss: 8.0158e-09 - acc: 1.0000 - val_loss: 2.1001e-08 - val_acc: 1.0000\n",
      "Epoch 95/100\n",
      "80/80 [==============================] - 0s 1ms/step - loss: 5.5270e-09 - acc: 1.0000 - val_loss: 1.3225e-08 - val_acc: 1.0000\n",
      "Epoch 96/100\n",
      "80/80 [==============================] - 0s 1ms/step - loss: 3.8949e-09 - acc: 1.0000 - val_loss: 1.1781e-08 - val_acc: 1.0000\n",
      "Epoch 97/100\n",
      "80/80 [==============================] - 0s 1ms/step - loss: 2.8250e-09 - acc: 1.0000 - val_loss: 7.8697e-09 - val_acc: 1.0000\n",
      "Epoch 98/100\n",
      "80/80 [==============================] - 0s 1ms/step - loss: 2.0037e-09 - acc: 1.0000 - val_loss: 5.1688e-09 - val_acc: 1.0000\n",
      "Epoch 99/100\n",
      "80/80 [==============================] - 0s 1ms/step - loss: 1.4741e-09 - acc: 1.0000 - val_loss: 4.5169e-09 - val_acc: 1.0000\n",
      "Epoch 100/100\n",
      "80/80 [==============================] - 0s 1ms/step - loss: 1.2835e-09 - acc: 1.0000 - val_loss: 3.7719e-09 - val_acc: 1.0000\n"
     ]
    }
   ],
   "source": [
    "# 두개의 은닉층을 사용하는 경우\n",
    "model = Sequential()\n",
    "\n",
    "# 입력값: 2 개\n",
    "# 출력 노드 갯수: 10개\n",
    "# 활성화 함수: linear\n",
    "\n",
    "# 첫번째 은닉층(입력층은 선언 안함)\n",
    "# model.add(Dense(10, input_shape=(2, ), activation='linear'))  \n",
    "model.add(Dense(10, input_dim=2, activation='linear'))  \n",
    "# 두번째 은닉층(출력층)\n",
    "model.add(Dense(1))  # 선형회귀는 알고리즘을 적용하지 않고 바로 출력\n",
    "model.compile(optimizer='adam', loss='mse', metrics=['accuracy'])\n",
    "hist = model.fit(x_train, y_train, validation_split=0.2, \n",
    "                 epochs=100, batch_size=1)"
   ]
  },
  {
   "cell_type": "code",
   "execution_count": 31,
   "metadata": {},
   "outputs": [
    {
     "data": {
      "image/png": "[encoded data removed]",
      "text/plain": [
       "<Figure size 720x360 with 2 Axes>"
      ]
     },
     "metadata": {
      "needs_background": "light"
     },
     "output_type": "display_data"
    }
   ],
   "source": [
    "fig, loss_ax = plt.subplots()\n",
    "# plt.figure(figsize=(6,4)) # ERROR\n",
    "fig.set_size_inches(10, 5)  # 챠트 크기 설정\n",
    "\n",
    "acc_ax = loss_ax.twinx()  # 오른쪽 y 출 설정\n",
    "\n",
    "loss_ax.plot(hist.history['loss'], 'y', label='train loss')   # 훈련 오차\n",
    "loss_ax.plot(hist.history['val_loss'], 'r', label='val loss') # 검증 오차\n",
    "loss_ax.set_ylim([0.0, 145504.0]) # 값을 반영하여 변경, 왼쪽 y 축\n",
    "\n",
    "acc_ax.plot(hist.history['acc'], 'b', label='train acc')   # 훈련 정확도\n",
    "acc_ax.plot(hist.history['val_acc'], 'g', label='val acc') # 검증 정확도\n",
    "acc_ax.set_ylim([0.0, 1.0])    # 오른쪽 y 축\n",
    "\n",
    "loss_ax.set_xlabel('epoch')    # x축 레이블\n",
    "loss_ax.set_ylabel('loss')     # 오차 레이블, 왼쪽 y 축\n",
    "acc_ax.set_ylabel('accuray')   # 정확도 레이블, 오른쪽 y 축\n",
    "\n",
    "loss_ax.legend(loc='upper left') # 오차 레이블 출력 위치\n",
    "acc_ax.legend(loc='lower left')  # 정확도 레입르 출력 위치\n",
    "\n",
    "plt.show()"
   ]
  },
  {
   "cell_type": "code",
   "execution_count": 32,
   "metadata": {},
   "outputs": [],
   "source": [
    "model.save('./Basic2.h5')"
   ]
  },
  {
   "cell_type": "code",
   "execution_count": 33,
   "metadata": {},
   "outputs": [
    {
     "name": "stdout",
     "output_type": "stream",
     "text": [
      "[38.00005]\n",
      "실제값: 38, 예측값: 38\n",
      "[43.00005]\n",
      "실제값: 43, 예측값: 43\n",
      "[48.000046]\n",
      "실제값: 48, 예측값: 48\n",
      "[53.00005]\n",
      "실제값: 53, 예측값: 53\n",
      "[58.000042]\n",
      "실제값: 58, 예측값: 58\n"
     ]
    }
   ],
   "source": [
    "# 모델 사용\n",
    "model = load_model('./Basic2.h5')\n",
    "\n",
    "x_use = np.array([[6, 10], [7, 10], [8, 10], [9, 10], [10, 10]])\n",
    "y_predict = model.predict(x_use) # 모델 사용\n",
    "\n",
    "y_use = np.array([38, 43, 48, 53, 58]) # 실제값\n",
    "for i in range(len(x_use)):\n",
    "    # print('실제값: {0}, 예측값: {1}'.format(y_use[i], y_predict[i]))\n",
    "    print(y_predict[i]) # 1차원 배열\n",
    "    print('실제값: {0}, 예측값: {1:.0f}'.format(y_use[i], y_predict[i][0]))\n"
   ]
  },
  {
   "cell_type": "code",
   "execution_count": 34,
   "metadata": {},
   "outputs": [
    {
     "data": {
      "image/png": "[encoded data removed]",
      "text/plain": [
       "<Figure size 432x288 with 1 Axes>"
      ]
     },
     "metadata": {
      "needs_background": "light"
     },
     "output_type": "display_data"
    }
   ],
   "source": [
    "import matplotlib.pyplot as plt\n",
    "%matplotlib inline  \n",
    "\n",
    "plt.plot(y_use, color='g')\n",
    "plt.plot(y_predict, color='r')\n",
    "plt.grid(True)  # 그리드 출력\n",
    "plt.show()"
   ]
  },
  {
   "cell_type": "code",
   "execution_count": null,
   "metadata": {},
   "outputs": [],
   "source": []
  },
  {
   "cell_type": "code",
   "execution_count": null,
   "metadata": {},
   "outputs": [],
   "source": []
  }
 ],
 "metadata": {
  "kernelspec": {
   "display_name": "machine",
   "language": "python",
   "name": "machine"
  },
  "language_info": {
   "codemirror_mode": {
    "name": "ipython",
    "version": 3
   },
   "file_extension": ".py",
   "mimetype": "text/x-python",
   "name": "python",
   "nbconvert_exporter": "python",
   "pygments_lexer": "ipython3",
   "version": "3.6.9"
  }
 },
 "nbformat": 4,
 "nbformat_minor": 2
}
