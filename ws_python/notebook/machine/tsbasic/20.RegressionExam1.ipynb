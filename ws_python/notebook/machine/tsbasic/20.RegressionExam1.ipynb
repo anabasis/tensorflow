{
 "cells": [
  {
   "cell_type": "code",
   "execution_count": 1,
   "metadata": {},
   "outputs": [],
   "source": [
    "import warnings\n",
    "warnings.filterwarnings(action='ignore')\n",
    "\n",
    "import tensorflow as tf\n",
    "\n",
    "import matplotlib\n",
    "import matplotlib.pyplot as plt\n",
    "from matplotlib import font_manager, rc\n",
    "\n",
    "font_name = font_manager.FontProperties(fname=\"C:/Windows/Fonts/malgun.ttf\").get_name()\n",
    "# windows 10\n",
    "# font_name = font_manager.FontProperties(fname=\"C:/Windows/Fonts/malgunsl.ttf\").get_name()\n",
    "rc('font', family=font_name)           # 맑은 고딕 폰트 지정\n",
    "plt.rcParams[\"font.size\"] = 12         # 글자 크기\n",
    "# plt.rcParams[\"figure.figsize\"] = (10, 4) # 10:4의 그래프 비율\n",
    "plt.rcParams['axes.unicode_minus'] = False  # minus 부호는 unicode 적용시 한글이 깨짐으로 설정\n",
    "\n",
    "# Jupyter에게 matplotlib 그래프를 출력 영역에 표시할 것을 지시하는 명령\n",
    "%matplotlib inline  "
   ]
  },
  {
   "cell_type": "code",
   "execution_count": 2,
   "metadata": {},
   "outputs": [],
   "source": [
    "data = [\n",
    "  [1, 12],\n",
    "  [2, 14],\n",
    "  [5, 20],\n",
    "  [13, 36],\n",
    "  [17, 44],\n",
    "  [19, 48],  \n",
    "  [30, 70],\n",
    "  [37, 84],\n",
    "  [43, 96],\n",
    "  [50, 110]  \n",
    "]"
   ]
  },
  {
   "cell_type": "code",
   "execution_count": 5,
   "metadata": {},
   "outputs": [
    {
     "name": "stdout",
     "output_type": "stream",
     "text": [
      "[1, 2, 5, 13, 17, 19, 30, 37, 43, 50]\n",
      "[12, 14, 20, 36, 44, 48, 70, 84, 96, 110]\n"
     ]
    }
   ],
   "source": [
    "x = [row[0] for row in data]\n",
    "print(x)\n",
    "\n",
    "yr = [row[1] for row in data]\n",
    "print(yr)"
   ]
  },
  {
   "cell_type": "code",
   "execution_count": 28,
   "metadata": {},
   "outputs": [
    {
     "name": "stdout",
     "output_type": "stream",
     "text": [
      "7) Tensorflow에의한 경사 하강법을 이용한 기울기a와 y절편 b 최적화 시작\n",
      "Epoch: 0, RMSE = 34.1752, 기울기 a = 1.0270, y 절편 b = 1.0009\n",
      "Epoch: 2000, RMSE = 4.7202, 기울기 a = 2.2258, y 절편 b = 2.2334\n",
      "Epoch: 4000, RMSE = 3.9821, 기울기 a = 2.1905, y 절편 b = 3.4479\n",
      "Epoch: 6000, RMSE = 3.2440, 기울기 a = 2.1552, y 절편 b = 4.6624\n",
      "Epoch: 8000, RMSE = 2.5058, 기울기 a = 2.1199, y 절편 b = 5.8769\n",
      "Epoch: 10000, RMSE = 1.7677, 기울기 a = 2.0846, y 절편 b = 7.0914\n",
      "Epoch: 12000, RMSE = 1.0296, 기울기 a = 2.0493, y 절편 b = 8.3059\n",
      "Epoch: 14000, RMSE = 0.3734, 기울기 a = 2.0225, y 절편 b = 9.5146\n",
      "Epoch: 16000, RMSE = 0.3737, 기울기 a = 2.0155, y 절편 b = 9.9331\n",
      "Epoch: 18000, RMSE = 0.3737, 기울기 a = 2.0139, y 절편 b = 9.9911\n",
      "Epoch: 20000, RMSE = 0.3737, 기울기 a = 2.0137, y 절편 b = 9.9991\n",
      "Epoch: 22000, RMSE = 0.3737, 기울기 a = 2.0137, y 절편 b = 10.0002\n",
      "Epoch: 24000, RMSE = 0.3737, 기울기 a = 2.0137, y 절편 b = 10.0004\n",
      "Epoch: 26000, RMSE = 0.3737, 기울기 a = 2.0137, y 절편 b = 10.0004\n",
      "Epoch: 28000, RMSE = 0.3737, 기울기 a = 2.0137, y 절편 b = 10.0004\n",
      "Epoch: 30000, RMSE = 0.3737, 기울기 a = 2.0137, y 절편 b = 10.0004\n",
      "Epoch: 32000, RMSE = 0.3737, 기울기 a = 2.0137, y 절편 b = 10.0004\n",
      "Epoch: 34000, RMSE = 0.3737, 기울기 a = 2.0137, y 절편 b = 10.0004\n",
      "Epoch: 36000, RMSE = 0.3737, 기울기 a = 2.0137, y 절편 b = 10.0004\n",
      "Epoch: 38000, RMSE = 0.3737, 기울기 a = 2.0137, y 절편 b = 10.0004\n",
      "Epoch: 40000, RMSE = 0.3737, 기울기 a = 2.0137, y 절편 b = 10.0004\n",
      "08) 최적의 산출 공식: y = 2.0x + 10\n"
     ]
    }
   ],
   "source": [
    "print('7) Tensorflow에의한 경사 하강법을 이용한 기울기a와 y절편 b 최적화 시작')\n",
    "session = tf.Session() # session을 새로 생성해야 기존 학습이 초기화됨.\n",
    "#a = tf.Variable(tf.random_uniform([1], 0, 10, dtype=tf.float64, seed=0), name='a')\n",
    "#b = tf.Variable(tf.random_uniform([1], 0, 100, dtype=tf.float64, seed=0), name='b')\n",
    "#a = tf.Variable(1, name='a') # ERROR\n",
    "#b = tf.Variable(1, name='b') # ERROR\n",
    "#a = tf.Variable(1.0, dtype=tf.float32, seed=0), name='a')\n",
    "#b = tf.Variable(1.0, dtype=tf.float32, seed=0), name='b')\n",
    "a = tf.Variable(1.0, dtype=tf.float64, name='a')\n",
    "b = tf.Variable(1.0, dtype=tf.float64, name='b')\n",
    "y = a * x + b # 예측값\n",
    "learning_rate = 0.001 # 학습률\n",
    "rmse = tf.sqrt(tf.reduce_mean(tf.square(y - yr)))     # 평균 제곱근 오차(예측값-실측값)\n",
    "gradient_decent = tf.train.GradientDescentOptimizer(learning_rate).minimize(rmse)\n",
    "\n",
    "session.run(tf.global_variables_initializer())\n",
    "\n",
    "# for step in range(401): # 0 ~ 200\n",
    "#for step in range(20001): # 0 ~ 20000  학습을 더 시킴\n",
    "for step in range(40001): # 0 ~ 116000  학습을 더 시킴\n",
    "    session.run(gradient_decent) # 최소의 오차를 찾기위한 경사하강 실행, 학습\n",
    "    if step % 2000 == 0:\n",
    "        v_rmse = session.run(rmse) # 평균 제곱근 오차\n",
    "        v_a = session.run(a)           # 기울기\n",
    "        v_b = session.run(b)           # y 절편\n",
    "        # print(v_a)\n",
    "        fmt = \"Epoch: %.f, RMSE = %.04f, 기울기 a = %.4f, y 절편 b = %.4f\"\n",
    "        print(fmt % (step, v_rmse, v_a, v_b))\n",
    "        \n",
    "# RMSE가 감소되는 확인 할것 \n",
    "print('08) 최적의 산출 공식: y = %.1fx + %.d' % (v_a, v_b))  # y = 8.1x + 80"
   ]
  },
  {
   "cell_type": "code",
   "execution_count": 30,
   "metadata": {},
   "outputs": [
    {
     "name": "stdout",
     "output_type": "stream",
     "text": [
      "데이터: 1, 실제값: 12, 예상값: 12\n",
      "데이터: 2, 실제값: 14, 예상값: 14\n",
      "데이터: 5, 실제값: 20, 예상값: 20\n",
      "데이터: 13, 실제값: 36, 예상값: 36\n",
      "데이터: 17, 실제값: 44, 예상값: 44\n",
      "데이터: 19, 실제값: 48, 예상값: 48\n",
      "데이터: 30, 실제값: 70, 예상값: 70\n",
      "데이터: 37, 실제값: 84, 예상값: 84\n",
      "데이터: 43, 실제값: 96, 예상값: 96\n",
      "데이터: 50, 실제값: 110, 예상값: 110\n"
     ]
    }
   ],
   "source": [
    "# 최적의 산출 공식: y = 2.0044x + 10.2715\n",
    "predict = []\n",
    "for i in range(len(x)):\n",
    "    y = v_a * x[i] + v_b # 2.0044 * 1 + 10.2715 첫번째 데이터의 경우\n",
    "    predict.append(y) \n",
    "    # print('데이터: %d, 실제값: %d, 예상값: %s'  % (x[i], yr[i], predict[i]))\n",
    "    print('데이터: %d, 실제값: %d, 예상값: %d'  % (x[i], yr[i], predict[i]))"
   ]
  },
  {
   "cell_type": "code",
   "execution_count": null,
   "metadata": {},
   "outputs": [],
   "source": []
  },
  {
   "cell_type": "code",
   "execution_count": 33,
   "metadata": {},
   "outputs": [
    {
     "data": {
      "image/png": "[encoded data removed]",
      "text/plain": [
       "<Figure size 432x288 with 1 Axes>"
      ]
     },
     "metadata": {
      "needs_background": "light"
     },
     "output_type": "display_data"
    }
   ],
   "source": [
    "plt.plot(x, yr, label='실제값')\n",
    "plt.plot(x, predict, label='예상값')\n",
    "plt.legend()\n",
    "plt.grid(True)\n",
    "plt.show()"
   ]
  },
  {
   "cell_type": "code",
   "execution_count": 36,
   "metadata": {},
   "outputs": [
    {
     "name": "stdout",
     "output_type": "stream",
     "text": [
      "데이터: 37 실제: 84 예측 84\n",
      "데이터: 37 실제: 84 예측 84.50592\n",
      "데이터: 37 실제: 84 예측 84.50592469675942\n",
      "데이터: 43 실제: 96 예측 96\n",
      "데이터: 43 실제: 96 예측 96.58790\n",
      "데이터: 43 실제: 96 예측 96.58790211946237\n",
      "데이터: 50 실제: 110 예측 110\n",
      "데이터: 50 실제: 110 예측 110.68354\n",
      "데이터: 50 실제: 110 예측 110.68354244594914\n"
     ]
    }
   ],
   "source": [
    "# 테스트, 검증\n",
    "test_data=[37, 43, 50]\n",
    "test_data_y=[84, 96, 110]\n",
    "for i in range(len(test_data)):\n",
    "    y = v_a * test_data[i] + v_b  # y = ax + b, y = 2.3x + 79 가정\n",
    "    print('데이터: %d 실제: %d 예측 %d' % (test_data[i], test_data_y[i], y))\n",
    "    print('데이터: %d 실제: %d 예측 %.5f' % (test_data[i], test_data_y[i], y))\n",
    "    print('데이터: %d 실제: %d 예측 %s' % (test_data[i], test_data_y[i], y))"
   ]
  },
  {
   "cell_type": "code",
   "execution_count": 39,
   "metadata": {},
   "outputs": [
    {
     "name": "stdout",
     "output_type": "stream",
     "text": [
      "56\n"
     ]
    }
   ],
   "source": [
    "# 숨겨진 공식\n",
    "\n",
    "print((23 + 10 -5) * 2)"
   ]
  },
  {
   "cell_type": "code",
   "execution_count": 42,
   "metadata": {},
   "outputs": [
    {
     "name": "stdout",
     "output_type": "stream",
     "text": [
      "숫자를 입력하세요. 20\n",
      "입력값 20, 예측값 50 \n"
     ]
    }
   ],
   "source": [
    "# 쵲벅의 산출 공식 : y = 2.0137 x + 10.0004\n",
    "x = input('숫자를 입력하세요. ') # 학습하지 않은 숫자를 입력\n",
    "y = 2.0137 * int(x) + 10.0004\n",
    "print('입력값 %s, 예측값 %.f ' % (x,y))"
   ]
  },
  {
   "cell_type": "code",
   "execution_count": null,
   "metadata": {},
   "outputs": [],
   "source": []
  }
 ],
 "metadata": {
  "kernelspec": {
   "display_name": "machine",
   "language": "python",
   "name": "machine"
  },
  "language_info": {
   "codemirror_mode": {
    "name": "ipython",
    "version": 3
   },
   "file_extension": ".py",
   "mimetype": "text/x-python",
   "name": "python",
   "nbconvert_exporter": "python",
   "pygments_lexer": "ipython3",
   "version": "3.6.9"
  }
 },
 "nbformat": 4,
 "nbformat_minor": 2
}
