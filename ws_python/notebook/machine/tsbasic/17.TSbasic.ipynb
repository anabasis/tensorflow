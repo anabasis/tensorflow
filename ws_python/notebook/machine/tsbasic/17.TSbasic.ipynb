{
 "cells": [
  {
   "cell_type": "code",
   "execution_count": 4,
   "metadata": {},
   "outputs": [],
   "source": [
    "import warnings\n",
    "warnings.filterwarnings(action='ignore')\n",
    "# warnings.filterwarnings(action='default')\n",
    "\n",
    "import tensorflow as tf"
   ]
  },
  {
   "cell_type": "code",
   "execution_count": 7,
   "metadata": {},
   "outputs": [
    {
     "name": "stdout",
     "output_type": "stream",
     "text": [
      "1\n",
      "3\n"
     ]
    }
   ],
   "source": [
    "# 일반적인 언어의 형태\n",
    "a = 1\n",
    "b = 2\n",
    "c = a + b\n",
    "print(a)\n",
    "print(c)"
   ]
  },
  {
   "cell_type": "code",
   "execution_count": 8,
   "metadata": {},
   "outputs": [
    {
     "name": "stdout",
     "output_type": "stream",
     "text": [
      "<class 'tensorflow.python.framework.ops.Tensor'>\n",
      "Tensor(\"a_2:0\", shape=(), dtype=int32)\n",
      "Tensor(\"add_2:0\", shape=(), dtype=int32)\n"
     ]
    }
   ],
   "source": [
    "# 그래프 선언\n",
    "a = tf.constant(1,name='a') # name : Tensorflow에서 사용하는 변수명(왼쪽:파이썬변수,오른쪽:Tensorflow변수)\n",
    "b = tf.constant(2,name='b')\n",
    "c = a + b\n",
    "print(type(a))\n",
    "print(a)\n",
    "print(c)"
   ]
  },
  {
   "cell_type": "code",
   "execution_count": 11,
   "metadata": {},
   "outputs": [
    {
     "name": "stdout",
     "output_type": "stream",
     "text": [
      "1\n",
      "3\n"
     ]
    }
   ],
   "source": [
    "# 실행\n",
    "session = tf.Session()\n",
    "print(session.run(a))\n",
    "print(session.run(c))\n",
    "session.close()"
   ]
  },
  {
   "cell_type": "code",
   "execution_count": 12,
   "metadata": {},
   "outputs": [
    {
     "name": "stdout",
     "output_type": "stream",
     "text": [
      "3\n"
     ]
    }
   ],
   "source": [
    "with tf.Session() as session : # 자동 close\n",
    "    print(session.run(c))\n",
    "    "
   ]
  },
  {
   "cell_type": "code",
   "execution_count": 15,
   "metadata": {},
   "outputs": [
    {
     "name": "stdout",
     "output_type": "stream",
     "text": [
      "node {\n",
      "  name: \"a\"\n",
      "  op: \"Const\"\n",
      "  attr {\n",
      "    key: \"dtype\"\n",
      "    value {\n",
      "      type: DT_INT32\n",
      "    }\n",
      "  }\n",
      "  attr {\n",
      "    key: \"value\"\n",
      "    value {\n",
      "      tensor {\n",
      "        dtype: DT_INT32\n",
      "        tensor_shape {\n",
      "        }\n",
      "        int_val: 1\n",
      "      }\n",
      "    }\n",
      "  }\n",
      "}\n",
      "node {\n",
      "  name: \"b\"\n",
      "  op: \"Const\"\n",
      "  attr {\n",
      "    key: \"dtype\"\n",
      "    value {\n",
      "      type: DT_INT32\n",
      "    }\n",
      "  }\n",
      "  attr {\n",
      "    key: \"value\"\n",
      "    value {\n",
      "      tensor {\n",
      "        dtype: DT_INT32\n",
      "        tensor_shape {\n",
      "        }\n",
      "        int_val: 2\n",
      "      }\n",
      "    }\n",
      "  }\n",
      "}\n",
      "node {\n",
      "  name: \"add\"\n",
      "  op: \"Add\"\n",
      "  input: \"a\"\n",
      "  input: \"b\"\n",
      "  attr {\n",
      "    key: \"T\"\n",
      "    value {\n",
      "      type: DT_INT32\n",
      "    }\n",
      "  }\n",
      "}\n",
      "node {\n",
      "  name: \"a_1\"\n",
      "  op: \"Const\"\n",
      "  attr {\n",
      "    key: \"dtype\"\n",
      "    value {\n",
      "      type: DT_INT32\n",
      "    }\n",
      "  }\n",
      "  attr {\n",
      "    key: \"value\"\n",
      "    value {\n",
      "      tensor {\n",
      "        dtype: DT_INT32\n",
      "        tensor_shape {\n",
      "        }\n",
      "        int_val: 1\n",
      "      }\n",
      "    }\n",
      "  }\n",
      "}\n",
      "node {\n",
      "  name: \"b_1\"\n",
      "  op: \"Const\"\n",
      "  attr {\n",
      "    key: \"dtype\"\n",
      "    value {\n",
      "      type: DT_INT32\n",
      "    }\n",
      "  }\n",
      "  attr {\n",
      "    key: \"value\"\n",
      "    value {\n",
      "      tensor {\n",
      "        dtype: DT_INT32\n",
      "        tensor_shape {\n",
      "        }\n",
      "        int_val: 2\n",
      "      }\n",
      "    }\n",
      "  }\n",
      "}\n",
      "node {\n",
      "  name: \"add_1\"\n",
      "  op: \"Add\"\n",
      "  input: \"a_1\"\n",
      "  input: \"b_1\"\n",
      "  attr {\n",
      "    key: \"T\"\n",
      "    value {\n",
      "      type: DT_INT32\n",
      "    }\n",
      "  }\n",
      "}\n",
      "node {\n",
      "  name: \"a_2\"\n",
      "  op: \"Const\"\n",
      "  attr {\n",
      "    key: \"dtype\"\n",
      "    value {\n",
      "      type: DT_INT32\n",
      "    }\n",
      "  }\n",
      "  attr {\n",
      "    key: \"value\"\n",
      "    value {\n",
      "      tensor {\n",
      "        dtype: DT_INT32\n",
      "        tensor_shape {\n",
      "        }\n",
      "        int_val: 1\n",
      "      }\n",
      "    }\n",
      "  }\n",
      "}\n",
      "node {\n",
      "  name: \"b_2\"\n",
      "  op: \"Const\"\n",
      "  attr {\n",
      "    key: \"dtype\"\n",
      "    value {\n",
      "      type: DT_INT32\n",
      "    }\n",
      "  }\n",
      "  attr {\n",
      "    key: \"value\"\n",
      "    value {\n",
      "      tensor {\n",
      "        dtype: DT_INT32\n",
      "        tensor_shape {\n",
      "        }\n",
      "        int_val: 2\n",
      "      }\n",
      "    }\n",
      "  }\n",
      "}\n",
      "node {\n",
      "  name: \"add_2\"\n",
      "  op: \"Add\"\n",
      "  input: \"a_2\"\n",
      "  input: \"b_2\"\n",
      "  attr {\n",
      "    key: \"T\"\n",
      "    value {\n",
      "      type: DT_INT32\n",
      "    }\n",
      "  }\n",
      "}\n",
      "versions {\n",
      "  producer: 26\n",
      "}\n",
      "\n"
     ]
    }
   ],
   "source": [
    "graph = tf.get_default_graph()\n",
    "print(graph.as_graph_def())"
   ]
  },
  {
   "cell_type": "code",
   "execution_count": 20,
   "metadata": {},
   "outputs": [
    {
     "name": "stdout",
     "output_type": "stream",
     "text": [
      "<tf.Variable 'a_4:0' shape=() dtype=int32_ref>\n",
      "Tensor(\"add_4:0\", shape=(), dtype=int32)\n"
     ]
    }
   ],
   "source": [
    "a = tf.Variable(1,name='a')\n",
    "b = tf.Variable(2,name='b')\n",
    "c = a + b\n",
    "print(a)\n",
    "print(c)"
   ]
  },
  {
   "cell_type": "code",
   "execution_count": 21,
   "metadata": {},
   "outputs": [
    {
     "name": "stdout",
     "output_type": "stream",
     "text": [
      "<tf.Variable 'a_4:0' shape=() dtype=int32_ref>\n",
      "<tf.Variable 'b_4:0' shape=() dtype=int32_ref>\n",
      "Tensor(\"add_4:0\", shape=(), dtype=int32)\n",
      "1\n",
      "2\n",
      "3\n"
     ]
    }
   ],
   "source": [
    "with tf.Session() as session :\n",
    "    session.run(tf.global_variables_initializer()) # 변수 초기화\n",
    "    print(a)\n",
    "    print(b)\n",
    "    print(c)\n",
    "    print(session.run(a))\n",
    "    print(session.run(b))\n",
    "    print(session.run(c))"
   ]
  },
  {
   "cell_type": "code",
   "execution_count": 30,
   "metadata": {},
   "outputs": [
    {
     "name": "stdout",
     "output_type": "stream",
     "text": [
      "d:  1\n",
      "e:  2\n",
      "f:  3\n"
     ]
    }
   ],
   "source": [
    "# 변수의 사용 1,2\n",
    "d = tf.Variable(1,name='d')\n",
    "e = tf.Variable(2,name='e')\n",
    "f = tf.Variable(0,name='f')\n",
    "\n",
    "#tf.assign(f,d +e) # d + e --> f에 할당, (잘 안됨)\n",
    "f = d + e  # d + e --> f에 할당\n",
    "with tf.Session() as session :\n",
    "    session.run(tf.global_variables_initializer()) # 변수 초기화\n",
    "    print('d: ', session.run(d))\n",
    "    print('e: ', session.run(e))\n",
    "    print('f: ', session.run(f))\n"
   ]
  },
  {
   "cell_type": "code",
   "execution_count": 34,
   "metadata": {},
   "outputs": [
    {
     "name": "stdout",
     "output_type": "stream",
     "text": [
      "d:  1\n",
      "f:  3\n",
      "d:  3\n"
     ]
    }
   ],
   "source": [
    "# 변수의 사용 3\n",
    "d = tf.Variable(1,name='d')\n",
    "e = tf.Variable(2,name='e')\n",
    "\n",
    "f = tf.assign(d ,d +e) # d + e --> d에 할당, 결과를 f로 리턴\n",
    "\n",
    "with tf.Session() as session :\n",
    "    session.run(tf.global_variables_initializer()) # 변수 초기화\n",
    "    print('d: ', session.run(d)) # 1\n",
    "    print('f: ', session.run(f)) # 3\n",
    "    print('d: ', session.run(d)) # f조리한 이후 d 출력"
   ]
  },
  {
   "cell_type": "code",
   "execution_count": 37,
   "metadata": {},
   "outputs": [
    {
     "name": "stdout",
     "output_type": "stream",
     "text": [
      "ph + a =  11\n"
     ]
    }
   ],
   "source": [
    "# placeholder: 파이썬의 값을 텐서플로의 그래프로 전달\n",
    "ph = tf.placeholder(dtype=tf.int32, name='ph') # 연산을 실행 할 수 없음.\n",
    "a = tf.constant(1, name='a')\n",
    "b = ph + a\n",
    "\n",
    "with tf.Session() as session:\n",
    "    print('ph + a = ', session.run(b, feed_dict={ph: 10})) # python --> tensorflow 값 대입"
   ]
  },
  {
   "cell_type": "code",
   "execution_count": 39,
   "metadata": {},
   "outputs": [
    {
     "name": "stdout",
     "output_type": "stream",
     "text": [
      "a+b= 5\n",
      "a-b= -1\n",
      "a*b= 6\n",
      "a/b= 1.6666666666666667\n",
      "g= 5\n",
      "h= 2\n"
     ]
    }
   ],
   "source": [
    "a = tf.constant(2, name='a')\n",
    "b = tf.constant(3, name='b')\n",
    "\n",
    "c = tf.add(a, b)\n",
    "d = tf.subtract(a, b)\n",
    "e = tf.multiply(a, b)\n",
    "f = tf.divide(c, b)\n",
    "\n",
    "with tf.Session() as session:\n",
    "    print('a+b=', session.run(c))\n",
    "    print('a-b=', session.run(d))\n",
    "    print('a*b=', session.run(e))\n",
    "    print('a/b=', session.run(f))\n",
    "    g = a + b\n",
    "    print('g=', session.run(g))\n",
    "    h = tf.mod(c,b)\n",
    "    print('h=', session.run(h))"
   ]
  },
  {
   "cell_type": "code",
   "execution_count": 40,
   "metadata": {},
   "outputs": [
    {
     "name": "stdout",
     "output_type": "stream",
     "text": [
      "a+b: [5 7 9]\n"
     ]
    }
   ],
   "source": [
    "a = tf.constant([1, 2, 3], name='a')\n",
    "b = tf.constant([4, 5, 6], name='b')\n",
    "c = a + b\n",
    "\n",
    "with tf.Session() as session:\n",
    "    print('a+b:', session.run(c))"
   ]
  },
  {
   "cell_type": "code",
   "execution_count": 41,
   "metadata": {},
   "outputs": [
    {
     "name": "stdout",
     "output_type": "stream",
     "text": [
      "shape of a: (2, 2)\n",
      "shape of b (2, 1)\n",
      "shape of c (2, 1)\n",
      "shape of d (3,)\n",
      "[[1 2]\n",
      " [3 4]]\n",
      "[[1]\n",
      " [2]]\n",
      "--------------------\n",
      "[[ 5]\n",
      " [11]]\n",
      "--------------------\n",
      "[1 2 3]\n"
     ]
    }
   ],
   "source": [
    "a = tf.constant([[1, 2], [3, 4]], name='a')\n",
    "b = tf.constant([[1], [2]], name='b')\n",
    "# 행렬의 곱의 결과: 첫번째 행렬의 행, 두번째 행렬의 열, 2행 2열 * 2행 1열 = 2행 1열 \n",
    "# 행렬의 곱의 조건: 첫번째 행렬의 열과 두번째 행렬의 행의 값이 같아야함.\n",
    "c = tf.matmul(a, b)  \n",
    "d = tf.constant([1, 2, 3], name='d')\n",
    "\n",
    "print('shape of a:', a.shape)\n",
    "print('shape of b', b.shape)\n",
    "print('shape of c', c.shape)\n",
    "print('shape of d', d.shape)\n",
    "\n",
    "with tf.Session() as session:\n",
    "    print(session.run(a))\n",
    "    print(session.run(b))\n",
    "    print('--------------------')\n",
    "    print(session.run(c))\n",
    "    print('--------------------')\n",
    "    print(session.run(d))"
   ]
  },
  {
   "cell_type": "code",
   "execution_count": 42,
   "metadata": {},
   "outputs": [
    {
     "name": "stdout",
     "output_type": "stream",
     "text": [
      "a= [[1 2]]\n",
      "a= [[1 2]\n",
      " [3 4]]\n",
      "a= [[1 2]\n",
      " [3 4]\n",
      " [5 6]]\n"
     ]
    }
   ],
   "source": [
    "# 2차원 배열, 행의수는 무제한, 열의 수는 2 고정\n",
    "a = tf.placeholder(shape=(None, 2), dtype=tf.int32, name='a') \n",
    "\n",
    "with tf.Session() as session:\n",
    "    # print('a=', session.run(a, feed_dict={a: [1]}))    # ERROR\n",
    "    # print('a=', session.run(a, feed_dict={a: [1, 2]})) # ERROR\n",
    "    print('a=', session.run(a, feed_dict={a: [[1, 2]]}))\n",
    "    print('a=', session.run(a, feed_dict={a: [[1, 2], [3, 4]]}))\n",
    "    print('a=', session.run(a, feed_dict={a: [[1, 2], [3, 4], [5, 6]]}))\n",
    "    # print('a=', session.run(a, feed_dict={a: [[1], [3], [5]]})) # ERROR, 열의 수가 틀림"
   ]
  },
  {
   "cell_type": "code",
   "execution_count": 1,
   "metadata": {},
   "outputs": [],
   "source": [
    "# Tensorboard 사용\n",
    "# 그래프 초기화는 커널을 Restart 할 것\n",
    "# (machine) C:\\Windows\\system32> tensorboard --logdir=C:\\ai_201909\\doc\\ws_python\\notebook\\logs\n",
    "# 접속: http://soldesk-PC:6006\n",
    "import tensorflow as tf\n",
    "\n",
    "a = tf.constant(1, name='a')\n",
    "b = tf.constant(1, name='b')\n",
    "c = a + b\n",
    "\n",
    "LOG_DIR = '../../logs' # 폴더는 자동 생성됨. /ws_python/notebook/logs\n",
    "graph = tf.get_default_graph()\n",
    "with tf.summary.FileWriter(LOG_DIR) as writer:\n",
    "    writer.add_graph(graph)    "
   ]
  },
  {
   "cell_type": "code",
   "execution_count": null,
   "metadata": {},
   "outputs": [],
   "source": []
  }
 ],
 "metadata": {
  "kernelspec": {
   "display_name": "machine",
   "language": "python",
   "name": "machine"
  },
  "language_info": {
   "codemirror_mode": {
    "name": "ipython",
    "version": 3
   },
   "file_extension": ".py",
   "mimetype": "text/x-python",
   "name": "python",
   "nbconvert_exporter": "python",
   "pygments_lexer": "ipython3",
   "version": "3.6.9"
  }
 },
 "nbformat": 4,
 "nbformat_minor": 2
}
