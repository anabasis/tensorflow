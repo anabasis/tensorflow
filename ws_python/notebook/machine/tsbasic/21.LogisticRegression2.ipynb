{
 "cells": [
  {
   "cell_type": "code",
   "execution_count": 1,
   "metadata": {},
   "outputs": [],
   "source": [
    "import tensorflow as tf\n",
    "import numpy as np"
   ]
  },
  {
   "cell_type": "code",
   "execution_count": 2,
   "metadata": {},
   "outputs": [],
   "source": [
    "# x 데이터 값, 7행 2열 배열\n",
    "x = np.array([\n",
    "                 [2, 3],\n",
    "                 [4, 3],\n",
    "                 [6, 4],\n",
    "                 [8, 6],\n",
    "                 [10, 7],\n",
    "                 [12, 8],\n",
    "                 [14, 9]\n",
    "                 ]) # 데이터\n",
    "# y 데이터 값, reshape(7, 1): 배열 1행 7열을 7행 1열로 변경한다.\n",
    "yr = np.array([0, 0, 0, 1, 1, 1, 1]).reshape(7, 1)"
   ]
  },
  {
   "cell_type": "code",
   "execution_count": 3,
   "metadata": {},
   "outputs": [
    {
     "name": "stdout",
     "output_type": "stream",
     "text": [
      "(2, 1)\n",
      "(1,)\n",
      "난수로 발생한 기울기 a:  [[-0.63436665]\n",
      " [ 0.16336094]]\n",
      "난수로 발생한 편향(바이어스) b:  [-0.63436665]\n",
      "Epoch=1, a1=-0.0186, a2=0.5783, b=-0.5814, loss=3.6955\n",
      "Epoch=1001, a1=0.5786, a2=0.3826, b=-5.6527, loss=0.1260\n",
      "Epoch=2001, a1=0.3253, a2=1.1335, b=-7.6990, loss=0.0769\n",
      "Epoch=3001, a1=0.1384, a2=1.6610, b=-9.0582, loss=0.0551\n",
      "Epoch=4001, a1=0.0043, a2=2.0493, b=-10.0802, loss=0.0429\n",
      "Epoch=5001, a1=-0.0964, a2=2.3518, b=-10.9001, loss=0.0351\n",
      "Epoch=6001, a1=-0.1758, a2=2.5981, b=-11.5849, loss=0.0297\n",
      "Epoch=7001, a1=-0.2407, a2=2.8052, b=-12.1731, loss=0.0258\n",
      "Epoch=8001, a1=-0.2954, a2=2.9838, b=-12.6885, loss=0.0228\n",
      "Epoch=9001, a1=-0.3425, a2=3.1406, b=-13.1473, loss=0.0204\n",
      "Epoch=10001, a1=-0.3839, a2=3.2805, b=-13.5607, loss=0.0185\n",
      "Epoch=11001, a1=-0.4207, a2=3.4066, b=-13.9368, loss=0.0169\n",
      "Epoch=12001, a1=-0.4538, a2=3.5216, b=-14.2819, loss=0.0155\n",
      "Epoch=13001, a1=-0.4840, a2=3.6271, b=-14.6008, loss=0.0144\n",
      "Epoch=14001, a1=-0.5116, a2=3.7246, b=-14.8970, loss=0.0134\n",
      "Epoch=15001, a1=-0.5371, a2=3.8153, b=-15.1738, loss=0.0126\n",
      "Epoch=16001, a1=-0.5608, a2=3.9001, b=-15.4333, loss=0.0118\n",
      "Epoch=17001, a1=-0.5829, a2=3.9797, b=-15.6778, loss=0.0111\n",
      "Epoch=18001, a1=-0.6036, a2=4.0546, b=-15.9088, loss=0.0106\n",
      "Epoch=19001, a1=-0.6231, a2=4.1255, b=-16.1278, loss=0.0100\n",
      "Epoch=20001, a1=-0.6415, a2=4.1927, b=-16.3359, loss=0.0095\n",
      "Epoch=21001, a1=-0.6590, a2=4.2566, b=-16.5343, loss=0.0091\n",
      "Epoch=22001, a1=-0.6755, a2=4.3175, b=-16.7236, loss=0.0087\n",
      "Epoch=23001, a1=-0.6913, a2=4.3757, b=-16.9049, loss=0.0083\n",
      "Epoch=24001, a1=-0.7064, a2=4.4314, b=-17.0787, loss=0.0080\n",
      "Epoch=25001, a1=-0.7208, a2=4.4848, b=-17.2455, loss=0.0077\n",
      "Epoch=26001, a1=-0.7346, a2=4.5361, b=-17.4061, loss=0.0074\n",
      "Epoch=27001, a1=-0.7478, a2=4.5854, b=-17.5607, loss=0.0071\n",
      "Epoch=28001, a1=-0.7606, a2=4.6330, b=-17.7099, loss=0.0069\n",
      "Epoch=29001, a1=-0.7728, a2=4.6788, b=-17.8540, loss=0.0067\n",
      "Epoch=30001, a1=-0.7847, a2=4.7232, b=-17.9933, loss=0.0064\n",
      "Epoch=31001, a1=-0.7961, a2=4.7660, b=-18.1282, loss=0.0062\n",
      "Epoch=32001, a1=-0.8071, a2=4.8075, b=-18.2589, loss=0.0061\n",
      "Epoch=33001, a1=-0.8178, a2=4.8478, b=-18.3857, loss=0.0059\n",
      "Epoch=34001, a1=-0.8281, a2=4.8868, b=-18.5088, loss=0.0057\n",
      "Epoch=35001, a1=-0.8382, a2=4.9247, b=-18.6284, loss=0.0056\n",
      "Epoch=36001, a1=-0.8479, a2=4.9615, b=-18.7447, loss=0.0054\n",
      "Epoch=37001, a1=-0.8574, a2=4.9973, b=-18.8579, loss=0.0053\n",
      "Epoch=38001, a1=-0.8666, a2=5.0322, b=-18.9682, loss=0.0051\n",
      "Epoch=39001, a1=-0.8755, a2=5.0662, b=-19.0756, loss=0.0050\n",
      "Epoch=40001, a1=-0.8842, a2=5.0993, b=-19.1804, loss=0.0049\n",
      "Epoch=41001, a1=-0.8927, a2=5.1315, b=-19.2827, loss=0.0048\n",
      "Epoch=42001, a1=-0.9010, a2=5.1630, b=-19.3826, loss=0.0047\n",
      "Epoch=43001, a1=-0.9091, a2=5.1938, b=-19.4802, loss=0.0045\n",
      "Epoch=44001, a1=-0.9170, a2=5.2239, b=-19.5755, loss=0.0044\n",
      "Epoch=45001, a1=-0.9247, a2=5.2532, b=-19.6688, loss=0.0043\n",
      "Epoch=46001, a1=-0.9322, a2=5.2820, b=-19.7601, loss=0.0043\n",
      "Epoch=47001, a1=-0.9395, a2=5.3101, b=-19.8494, loss=0.0042\n",
      "Epoch=48001, a1=-0.9467, a2=5.3376, b=-19.9369, loss=0.0041\n",
      "Epoch=49001, a1=-0.9538, a2=5.3646, b=-20.0227, loss=0.0040\n",
      "Epoch=50001, a1=-0.9607, a2=5.3910, b=-20.1067, loss=0.0039\n",
      "Epoch=51001, a1=-0.9674, a2=5.4169, b=-20.1891, loss=0.0039\n",
      "Epoch=52001, a1=-0.9740, a2=5.4423, b=-20.2699, loss=0.0038\n",
      "Epoch=53001, a1=-0.9805, a2=5.4672, b=-20.3493, loss=0.0037\n",
      "Epoch=54001, a1=-0.9869, a2=5.4917, b=-20.4271, loss=0.0036\n",
      "Epoch=55001, a1=-0.9932, a2=5.5157, b=-20.5036, loss=0.0036\n",
      "Epoch=56001, a1=-0.9993, a2=5.5393, b=-20.5787, loss=0.0035\n",
      "Epoch=57001, a1=-1.0053, a2=5.5624, b=-20.6525, loss=0.0035\n",
      "Epoch=58001, a1=-1.0112, a2=5.5852, b=-20.7251, loss=0.0034\n",
      "Epoch=59001, a1=-1.0170, a2=5.6076, b=-20.7964, loss=0.0033\n",
      "Epoch=60001, a1=-1.0227, a2=5.6295, b=-20.8666, loss=0.0033\n",
      "Epoch=61001, a1=-1.0283, a2=5.6512, b=-20.9356, loss=0.0032\n",
      "Epoch=62001, a1=-1.0339, a2=5.6725, b=-21.0035, loss=0.0032\n",
      "Epoch=63001, a1=-1.0393, a2=5.6934, b=-21.0704, loss=0.0031\n",
      "Epoch=64001, a1=-1.0446, a2=5.7140, b=-21.1362, loss=0.0031\n",
      "Epoch=65001, a1=-1.0499, a2=5.7343, b=-21.2010, loss=0.0030\n",
      "Epoch=66001, a1=-1.0550, a2=5.7543, b=-21.2649, loss=0.0030\n",
      "Epoch=67001, a1=-1.0601, a2=5.7740, b=-21.3278, loss=0.0029\n",
      "Epoch=68001, a1=-1.0652, a2=5.7934, b=-21.3898, loss=0.0029\n",
      "Epoch=69001, a1=-1.0701, a2=5.8125, b=-21.4509, loss=0.0029\n",
      "Epoch=70001, a1=-1.0750, a2=5.8313, b=-21.5111, loss=0.0028\n"
     ]
    }
   ],
   "source": [
    "# 학습 관련 설정\n",
    "X = tf.placeholder(tf.float64, shape=[None, 2], name='X') # 행은 무제한, 변수는 2개\n",
    "Y = tf.placeholder(tf.float64, shape=[None, 1], name='Y') # 답변용 변수는 1개\n",
    "\n",
    "# 행렬의 곱셈을 해야함으로 행의 수는 열의 수와 동일하게 1개 생성, \n",
    "# 행의수는 변수의 열수와 동일하게 해야함, 행렬 곱셉: 1행 2열 * 2행 1열.\n",
    "# 변수 2개: a1 * x + a2 * x + b, 2행 1열\n",
    "# 변수 3개: a1 * x + a2 * x + a3 * x + b, 3행 1열\n",
    "a = tf.Variable(tf.random_normal([2, 1], dtype=tf.float64, seed=0), name='a')\n",
    "print(a.shape) # 2 차원 배열\n",
    "b = tf.Variable(tf.random_normal([1], dtype=tf.float64, seed=0), name='b')    # 답 1개\n",
    "print(b.shape) # 1 차원 배열\n",
    "\n",
    "# X, a는 행렬곱임으로 차원을 2차원으로 맞추어 주어야함.\n",
    "y = tf.sigmoid(tf.matmul(X, a) + b)\n",
    "loss = -tf.reduce_mean(Y * tf.log(y) + (1 - Y) * tf.log(1 - y))\n",
    "learning_rate=0.1\n",
    "gradient_decent = tf.train.GradientDescentOptimizer(learning_rate).minimize(loss)\n",
    "\n",
    "session = tf.Session()\n",
    "session.run(tf.global_variables_initializer())\n",
    "\n",
    "print('난수로 발생한 기울기 a: ', session.run(a))\n",
    "print('난수로 발생한 편향(바이어스) b: ', session.run(b))\n",
    "\n",
    "for i in range(70001): # 0 ~ 70000\n",
    "    a_, b_, loss_, _ = session.run([a, b, loss, gradient_decent], feed_dict={X: x, Y: yr})\n",
    "\n",
    "    if i  % 1000 == 0:\n",
    "        print(\"Epoch=%d, a1=%.4f, a2=%.4f, b=%.4f, loss=%.4f\" % (i + 1, a_[0], a_[1], b_, loss_))"
   ]
  },
  {
   "cell_type": "code",
   "execution_count": 6,
   "metadata": {},
   "outputs": [
    {
     "name": "stdout",
     "output_type": "stream",
     "text": [
      "x_data[index]: [2 3]\n",
      "x_data[index]: (2,)\n",
      "x_data[index]: [[2 3]]\n",
      "x_data[index]: (1, 2)\n"
     ]
    }
   ],
   "source": [
    "# 활용예\n",
    "x_data = np.array([\n",
    "                  [2, 3],\n",
    "                  [4, 3],\n",
    "                  [6, 4],\n",
    "                  [8, 6],\n",
    "                  [10, 7],\n",
    "                  [12, 8],\n",
    "                  [14, 9],\n",
    "                  [1, 1],\n",
    "                  [1, 10]\n",
    "                  ])  # 데이터\n",
    "\n",
    "print('x_data[index]:', x_data[0])\n",
    "print('x_data[index]:', x_data[0].shape)\n",
    "new_x = np.array(x_data[0]).reshape(1, 2)# [7, 6]은 각각 공부 시간과 과외 수업수, 1행 2열로 변경    \n",
    "print('x_data[index]:', new_x)\n",
    "print('x_data[index]:', new_x.shape)"
   ]
  },
  {
   "cell_type": "code",
   "execution_count": 7,
   "metadata": {},
   "outputs": [
    {
     "name": "stdout",
     "output_type": "stream",
     "text": [
      "공부 시간: 2, 개인 과외 수: 3, 합격 가능성: 0.209304214448152 %\n",
      "불합격!\n",
      "공부 시간: 4, 개인 과외 수: 3, 합격 가능성: 0.024427301034372 %\n",
      "불합격!\n",
      "공부 시간: 6, 개인 과외 수: 4, 합격 가능성: 0.960720552121309 %\n",
      "불합격!\n",
      "공부 시간: 8, 개인 과외 수: 6, 합격 가능성: 99.243878254065606 %\n",
      "합격!\n",
      "공부 시간: 10, 개인 과외 수: 7, 합격 가능성: 99.980813460961542 %\n",
      "합격!\n",
      "공부 시간: 12, 개인 과외 수: 8, 합격 가능성: 99.999516640953701 %\n",
      "합격!\n",
      "공부 시간: 14, 개인 과외 수: 9, 합격 가능성: 99.999987825142924 %\n",
      "합격!\n",
      "공부 시간: 1, 개인 과외 수: 1, 합격 가능성: 0.000005290690309 %\n",
      "불합격!\n",
      "공부 시간: 1, 개인 과외 수: 10, 합격 가능성: 99.999999999999972 %\n",
      "합격!\n"
     ]
    }
   ],
   "source": [
    "for index in range(len(x_data)):\n",
    "    new_x = np.array(x_data[index]).reshape(1, 2)# [7, 6]은 각각 공부 시간과 과외 수업수, 1행 2열로 변경\n",
    "    # y 시그모이드 함수에 X 데이터 전달, y = tf.sigmoid(tf.matmul(X, a) + b)\n",
    "    new_y = session.run(y, feed_dict={X: new_x})\n",
    "\n",
    "    fmt = \"공부 시간: %d, 개인 과외 수: %d, 합격 가능성: %6.15f %%\"\n",
    "    print(fmt  % (new_x[0, 0], new_x[0, 1], new_y * 100))  # %%: % 출력\n",
    "    \n",
    "    if new_y >= 0.5:\n",
    "        print(\"합격!\") \n",
    "    else:\n",
    "        print(\"불합격!\")   "
   ]
  },
  {
   "cell_type": "code",
   "execution_count": 8,
   "metadata": {},
   "outputs": [],
   "source": [
    "session.close()"
   ]
  },
  {
   "cell_type": "code",
   "execution_count": 9,
   "metadata": {},
   "outputs": [],
   "source": [
    "# 기존 그래프 출력시 Jupyter Notebook, Tensorboard 재시작 \n",
    "LOG_DIR = '../../logs' # 폴더는 자동 생성됨. /ws_python/notebook/logs\n",
    "graph = tf.get_default_graph()\n",
    "with tf.summary.FileWriter(LOG_DIR) as writer:\n",
    "    writer.add_graph(graph)    "
   ]
  },
  {
   "cell_type": "code",
   "execution_count": null,
   "metadata": {},
   "outputs": [],
   "source": []
  },
  {
   "cell_type": "code",
   "execution_count": null,
   "metadata": {},
   "outputs": [],
   "source": []
  }
 ],
 "metadata": {
  "kernelspec": {
   "display_name": "machine",
   "language": "python",
   "name": "machine"
  },
  "language_info": {
   "codemirror_mode": {
    "name": "ipython",
    "version": 3
   },
   "file_extension": ".py",
   "mimetype": "text/x-python",
   "name": "python",
   "nbconvert_exporter": "python",
   "pygments_lexer": "ipython3",
   "version": "3.6.9"
  }
 },
 "nbformat": 4,
 "nbformat_minor": 2
}
