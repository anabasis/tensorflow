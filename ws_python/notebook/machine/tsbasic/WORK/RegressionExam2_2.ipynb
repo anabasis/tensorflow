{
 "cells": [
  {
   "cell_type": "code",
   "execution_count": 1,
   "metadata": {},
   "outputs": [],
   "source": [
    "import warnings\n",
    "warnings.filterwarnings(action='ignore')\n",
    "\n",
    "import numpy as np\n",
    "import tensorflow as tf"
   ]
  },
  {
   "cell_type": "code",
   "execution_count": 2,
   "metadata": {},
   "outputs": [
    {
     "name": "stdout",
     "output_type": "stream",
     "text": [
      "[1, 2, 5, 13, 17, 19, 30, 37, 43, 50]\n",
      "[12, 14, 20, 36, 44, 48, 70, 84, 96, 110]\n"
     ]
    }
   ],
   "source": [
    "data = [\n",
    "  [1, 12],\n",
    "  [2, 14],\n",
    "  [5, 20],\n",
    "  [13, 36],\n",
    "  [17, 44],\n",
    "  [19, 48],  \n",
    "  [30, 70],\n",
    "  [37, 84],\n",
    "  [43, 96],\n",
    "  [50, 110]  \n",
    "]\n",
    "\n",
    "x = [row[0] for row in data]\n",
    "print(x)\n",
    "\n",
    "yr = [row[1] for row in data]\n",
    "print(yr)"
   ]
  },
  {
   "cell_type": "code",
   "execution_count": 18,
   "metadata": {},
   "outputs": [],
   "source": [
    "def train(learning_rate):\n",
    "    # 최적값을 모름으로 균등 분포 지원 난수 생성\n",
    "    # tf.random_uniform(shape, 최소값, 최대값)\n",
    "    a = tf.Variable(tf.random_uniform([1], 0, 10, dtype=tf.float64, seed=0), name='a')\n",
    "    b = tf.Variable(tf.random_uniform([1], 0, 100, dtype=tf.float64, seed=0), name='b')\n",
    "\n",
    "    print('학습률:', learning_rate)\n",
    "    \n",
    "    y = a * x + b\n",
    "    rmse = tf.sqrt(tf.reduce_mean(tf.square((y) - yr))) # 평균 제곱근 오차\n",
    "    gradient_decent = tf.train.GradientDescentOptimizer(learning_rate).minimize(rmse)\n",
    "    session = tf.Session() # tensorflow 실행 객체 생성\n",
    "    session.run(tf.global_variables_initializer()) # 초기화\n",
    "\n",
    "    for step in range(116001): # 가장 최적의 학습 횟수: 0 ~ 116000\n",
    "        session.run(gradient_decent) # 학습 실행, 오차 감소 진행\n",
    "        if step % 2000 == 0:  # 2000번마다 결과 출력\n",
    "            v_rmse = session.run(rmse)  # 평균 제곱근 오차, y - y_data → (a * x_data + b) - ydata\n",
    "            v_a = session.run(a)        # 기울기, 난수로 생성\n",
    "            v_b = session.run(b)        # Y 절편, 난수로 생성\n",
    "            # Epoch: 반복 횟수\n",
    "            print(\"Epoch: %.f, RMSE = %.04f, 기울기 a = %.4f, y 절편 b = %.4f\" % (step, v_rmse, v_a, v_b))\n",
    "\n",
    "    # print('학습된 선형회귀 공식: y = %.1fx + %.d' % (v_a, v_b))  # y = 2.3x + 79\n",
    "    \n",
    "    return v_rmse, v_a, v_b    "
   ]
  },
  {
   "cell_type": "code",
   "execution_count": 22,
   "metadata": {},
   "outputs": [
    {
     "name": "stdout",
     "output_type": "stream",
     "text": [
      "[0.    0.001 0.002 0.003 0.004]\n"
     ]
    }
   ],
   "source": [
    "print(np.arange(0.0, 0.005, 0.001))"
   ]
  },
  {
   "cell_type": "code",
   "execution_count": null,
   "metadata": {},
   "outputs": [
    {
     "name": "stdout",
     "output_type": "stream",
     "text": [
      "학습률: 0.0\n",
      "Epoch: 0, RMSE = 226.0966, 기울기 a = 8.0690, y 절편 b = 80.6901\n",
      "Epoch: 2000, RMSE = 226.0966, 기울기 a = 8.0690, y 절편 b = 80.6901\n",
      "Epoch: 4000, RMSE = 226.0966, 기울기 a = 8.0690, y 절편 b = 80.6901\n",
      "Epoch: 6000, RMSE = 226.0966, 기울기 a = 8.0690, y 절편 b = 80.6901\n",
      "Epoch: 8000, RMSE = 226.0966, 기울기 a = 8.0690, y 절편 b = 80.6901\n",
      "Epoch: 10000, RMSE = 226.0966, 기울기 a = 8.0690, y 절편 b = 80.6901\n",
      "Epoch: 12000, RMSE = 226.0966, 기울기 a = 8.0690, y 절편 b = 80.6901\n",
      "Epoch: 14000, RMSE = 226.0966, 기울기 a = 8.0690, y 절편 b = 80.6901\n",
      "Epoch: 16000, RMSE = 226.0966, 기울기 a = 8.0690, y 절편 b = 80.6901\n",
      "Epoch: 18000, RMSE = 226.0966, 기울기 a = 8.0690, y 절편 b = 80.6901\n",
      "Epoch: 20000, RMSE = 226.0966, 기울기 a = 8.0690, y 절편 b = 80.6901\n",
      "Epoch: 22000, RMSE = 226.0966, 기울기 a = 8.0690, y 절편 b = 80.6901\n",
      "Epoch: 24000, RMSE = 226.0966, 기울기 a = 8.0690, y 절편 b = 80.6901\n",
      "Epoch: 26000, RMSE = 226.0966, 기울기 a = 8.0690, y 절편 b = 80.6901\n",
      "Epoch: 28000, RMSE = 226.0966, 기울기 a = 8.0690, y 절편 b = 80.6901\n",
      "Epoch: 30000, RMSE = 226.0966, 기울기 a = 8.0690, y 절편 b = 80.6901\n",
      "Epoch: 32000, RMSE = 226.0966, 기울기 a = 8.0690, y 절편 b = 80.6901\n",
      "Epoch: 34000, RMSE = 226.0966, 기울기 a = 8.0690, y 절편 b = 80.6901\n",
      "Epoch: 36000, RMSE = 226.0966, 기울기 a = 8.0690, y 절편 b = 80.6901\n",
      "Epoch: 38000, RMSE = 226.0966, 기울기 a = 8.0690, y 절편 b = 80.6901\n",
      "Epoch: 40000, RMSE = 226.0966, 기울기 a = 8.0690, y 절편 b = 80.6901\n",
      "Epoch: 42000, RMSE = 226.0966, 기울기 a = 8.0690, y 절편 b = 80.6901\n",
      "Epoch: 44000, RMSE = 226.0966, 기울기 a = 8.0690, y 절편 b = 80.6901\n",
      "Epoch: 46000, RMSE = 226.0966, 기울기 a = 8.0690, y 절편 b = 80.6901\n",
      "Epoch: 48000, RMSE = 226.0966, 기울기 a = 8.0690, y 절편 b = 80.6901\n",
      "Epoch: 50000, RMSE = 226.0966, 기울기 a = 8.0690, y 절편 b = 80.6901\n",
      "Epoch: 52000, RMSE = 226.0966, 기울기 a = 8.0690, y 절편 b = 80.6901\n",
      "Epoch: 54000, RMSE = 226.0966, 기울기 a = 8.0690, y 절편 b = 80.6901\n",
      "Epoch: 56000, RMSE = 226.0966, 기울기 a = 8.0690, y 절편 b = 80.6901\n",
      "Epoch: 58000, RMSE = 226.0966, 기울기 a = 8.0690, y 절편 b = 80.6901\n",
      "Epoch: 60000, RMSE = 226.0966, 기울기 a = 8.0690, y 절편 b = 80.6901\n",
      "Epoch: 62000, RMSE = 226.0966, 기울기 a = 8.0690, y 절편 b = 80.6901\n",
      "Epoch: 64000, RMSE = 226.0966, 기울기 a = 8.0690, y 절편 b = 80.6901\n",
      "Epoch: 66000, RMSE = 226.0966, 기울기 a = 8.0690, y 절편 b = 80.6901\n",
      "Epoch: 68000, RMSE = 226.0966, 기울기 a = 8.0690, y 절편 b = 80.6901\n",
      "Epoch: 70000, RMSE = 226.0966, 기울기 a = 8.0690, y 절편 b = 80.6901\n",
      "Epoch: 72000, RMSE = 226.0966, 기울기 a = 8.0690, y 절편 b = 80.6901\n",
      "Epoch: 74000, RMSE = 226.0966, 기울기 a = 8.0690, y 절편 b = 80.6901\n",
      "Epoch: 76000, RMSE = 226.0966, 기울기 a = 8.0690, y 절편 b = 80.6901\n",
      "Epoch: 78000, RMSE = 226.0966, 기울기 a = 8.0690, y 절편 b = 80.6901\n",
      "Epoch: 80000, RMSE = 226.0966, 기울기 a = 8.0690, y 절편 b = 80.6901\n",
      "Epoch: 82000, RMSE = 226.0966, 기울기 a = 8.0690, y 절편 b = 80.6901\n",
      "Epoch: 84000, RMSE = 226.0966, 기울기 a = 8.0690, y 절편 b = 80.6901\n",
      "Epoch: 86000, RMSE = 226.0966, 기울기 a = 8.0690, y 절편 b = 80.6901\n",
      "Epoch: 88000, RMSE = 226.0966, 기울기 a = 8.0690, y 절편 b = 80.6901\n",
      "Epoch: 90000, RMSE = 226.0966, 기울기 a = 8.0690, y 절편 b = 80.6901\n",
      "Epoch: 92000, RMSE = 226.0966, 기울기 a = 8.0690, y 절편 b = 80.6901\n",
      "Epoch: 94000, RMSE = 226.0966, 기울기 a = 8.0690, y 절편 b = 80.6901\n",
      "Epoch: 96000, RMSE = 226.0966, 기울기 a = 8.0690, y 절편 b = 80.6901\n",
      "Epoch: 98000, RMSE = 226.0966, 기울기 a = 8.0690, y 절편 b = 80.6901\n",
      "Epoch: 100000, RMSE = 226.0966, 기울기 a = 8.0690, y 절편 b = 80.6901\n",
      "Epoch: 102000, RMSE = 226.0966, 기울기 a = 8.0690, y 절편 b = 80.6901\n",
      "Epoch: 104000, RMSE = 226.0966, 기울기 a = 8.0690, y 절편 b = 80.6901\n",
      "Epoch: 106000, RMSE = 226.0966, 기울기 a = 8.0690, y 절편 b = 80.6901\n",
      "Epoch: 108000, RMSE = 226.0966, 기울기 a = 8.0690, y 절편 b = 80.6901\n",
      "Epoch: 110000, RMSE = 226.0966, 기울기 a = 8.0690, y 절편 b = 80.6901\n",
      "Epoch: 112000, RMSE = 226.0966, 기울기 a = 8.0690, y 절편 b = 80.6901\n",
      "Epoch: 114000, RMSE = 226.0966, 기울기 a = 8.0690, y 절편 b = 80.6901\n",
      "Epoch: 116000, RMSE = 226.0966, 기울기 a = 8.0690, y 절편 b = 80.6901\n",
      "v_rmse_min =226.0966 v_a_min=8.0690 v_b_min=80.6901\n",
      "학습률: 0.001\n",
      "Epoch: 0, RMSE = 225.3761, 기울기 a = 8.0422, y 절편 b = 80.6892\n",
      "Epoch: 2000, RMSE = 42.1471, 기울기 a = -0.0163, y 절편 b = 79.3483\n",
      "Epoch: 4000, RMSE = 41.4090, 기울기 a = 0.0190, y 절편 b = 78.1338\n",
      "Epoch: 6000, RMSE = 40.6709, 기울기 a = 0.0543, y 절편 b = 76.9193\n",
      "Epoch: 8000, RMSE = 39.9328, 기울기 a = 0.0896, y 절편 b = 75.7048\n",
      "Epoch: 10000, RMSE = 39.1946, 기울기 a = 0.1249, y 절편 b = 74.4903\n"
     ]
    }
   ],
   "source": [
    "# 학습 함수 train() 호출\n",
    "v_rmse_min = 0;\n",
    "v_a_min = 0;\n",
    "v_b_min = 0;\n",
    "\n",
    "# 0.0, 0.001, 0.002, 0.003, 0.004\n",
    "for learning_rate in np.arange(0.0, 0.005, 0.001): \n",
    "    v_rmse, v_a, v_b = train(learning_rate)\n",
    "    if (learning_rate == 0.0): # 초기값 적용\n",
    "        v_rmse_min = v_rmse\n",
    "        v_a_min = v_a\n",
    "        v_b_min = v_b\n",
    "    else:\n",
    "        if v_rmse_min > v_rmse:  # 최소의 오차를 찾기위해 비교하는 과정\n",
    "            v_rmse_min = v_rmse  # 더 작은 오차가 발견되면 기존 값을 교체\n",
    "            v_a_min = v_a\n",
    "            v_b_min = v_b\n",
    "    print(\"v_rmse_min =%.4f v_a_min=%.4f v_b_min=%.4f\" % (v_rmse_min, v_a_min, v_b_min))            \n",
    "\n",
    "print('최소의 평균 제곱근 오차:', v_rmse_min)    \n",
    "print('학습된 선형회귀 공식: f(x) = %.4fx + %.4f' % (v_a_min, v_b_min))  "
   ]
  },
  {
   "cell_type": "code",
   "execution_count": 21,
   "metadata": {},
   "outputs": [
    {
     "name": "stdout",
     "output_type": "stream",
     "text": [
      "데이터: 37 실제: 84 예측 80\n",
      "데이터: 43 실제: 96 예측 85\n",
      "데이터: 50 실제: 110 예측 90\n"
     ]
    }
   ],
   "source": [
    "# 테스트, 검증\n",
    "# 최소의 평균 제곱근 오차: 0.373620965895\n",
    "# 학습된 선형회귀 공식: f(x) = 2.0044x + 10.2712\n",
    "    \n",
    "test_x=[37, 43, 50]\n",
    "test_y=[84, 96, 110]\n",
    "for i in range(len(test_x)):\n",
    "    predict = v_a_min * test_x[i] + v_b_min  # y = ax + b\n",
    "    print('데이터: %d 실제: %d 예측 %d' % (test_x[i], test_y[i], predict))"
   ]
  },
  {
   "cell_type": "code",
   "execution_count": null,
   "metadata": {
    "collapsed": true
   },
   "outputs": [],
   "source": []
  },
  {
   "cell_type": "code",
   "execution_count": null,
   "metadata": {
    "collapsed": true
   },
   "outputs": [],
   "source": []
  }
 ],
 "metadata": {
  "kernelspec": {
   "display_name": "machine",
   "language": "python",
   "name": "machine"
  },
  "language_info": {
   "codemirror_mode": {
    "name": "ipython",
    "version": 3
   },
   "file_extension": ".py",
   "mimetype": "text/x-python",
   "name": "python",
   "nbconvert_exporter": "python",
   "pygments_lexer": "ipython3",
   "version": "3.6.9"
  }
 },
 "nbformat": 4,
 "nbformat_minor": 2
}
