{
 "cells": [
  {
   "cell_type": "code",
   "execution_count": 1,
   "metadata": {},
   "outputs": [],
   "source": [
    "import warnings\n",
    "warnings.filterwarnings(action='ignore')\n",
    "\n",
    "import tensorflow as tf\n",
    "\n",
    "import matplotlib\n",
    "import matplotlib.pyplot as plt\n",
    "from matplotlib import font_manager, rc\n",
    "\n",
    "font_name = font_manager.FontProperties(fname=\"C:/Windows/Fonts/malgun.ttf\").get_name()\n",
    "# windows 10\n",
    "# font_name = font_manager.FontProperties(fname=\"C:/Windows/Fonts/malgunsl.ttf\").get_name()\n",
    "rc('font', family=font_name)           # 맑은 고딕 폰트 지정\n",
    "plt.rcParams[\"font.size\"] = 12         # 글자 크기\n",
    "# plt.rcParams[\"figure.figsize\"] = (10, 4) # 10:4의 그래프 비율\n",
    "plt.rcParams['axes.unicode_minus'] = False  # minus 부호는 unicode 적용시 한글이 깨짐으로 설정\n",
    "\n",
    "# Jupyter에게 matplotlib 그래프를 출력 영역에 표시할 것을 지시하는 명령\n",
    "%matplotlib inline  "
   ]
  },
  {
   "cell_type": "code",
   "execution_count": 9,
   "metadata": {},
   "outputs": [],
   "source": [
    "# x1, x2, y의 데이터 값\n",
    "\n",
    "# 데이터의 구조: [공부시간, 과외 시간, 실제 취득 성적]\n",
    "data = [[0, 0, 70], [2, 1, 81], [4, 4, 93], [6, 2, 91], [8, 3, 97]]\n",
    "x1 = [row[0] for row in data]  # 독립 변수 1\n",
    "x2 = [row[1] for row in data]  # 독립 변수 2\n",
    "yr = [row[2] for row in data]  # 실제 취득 성적"
   ]
  },
  {
   "cell_type": "code",
   "execution_count": 10,
   "metadata": {},
   "outputs": [
    {
     "name": "stdout",
     "output_type": "stream",
     "text": [
      "Epoch: 0, RMSE = 47.296, 기울기 a1 = 7.924, 기울기 a2 = 7.999, y 절편 b = 80.664\n",
      "Epoch: 20, RMSE = 29.762, 기울기 a1 = 5.045, 기울기 a2 = 6.606, y 절편 b = 80.125\n",
      "Epoch: 40, RMSE = 13.042, 기울기 a1 = 2.251, 기울기 a2 = 5.218, y 절편 b = 79.565\n",
      "Epoch: 60, RMSE = 4.846, 기울기 a1 = 0.511, 기울기 a2 = 4.187, y 절편 b = 79.034\n",
      "Epoch: 80, RMSE = 4.517, 기울기 a1 = 0.542, 기울기 a2 = 3.915, y 절편 b = 78.709\n",
      "Epoch: 100, RMSE = 4.263, 기울기 a1 = 0.685, 기울기 a2 = 3.719, y 절편 b = 78.402\n",
      "Epoch: 120, RMSE = 4.024, 기울기 a1 = 0.820, 기울기 a2 = 3.543, y 절편 b = 78.095\n",
      "Epoch: 140, RMSE = 3.800, 기울기 a1 = 0.946, 기울기 a2 = 3.388, y 절편 b = 77.788\n",
      "Epoch: 160, RMSE = 3.591, 기울기 a1 = 1.062, 기울기 a2 = 3.253, y 절편 b = 77.481\n",
      "Epoch: 180, RMSE = 3.394, 기울기 a1 = 1.168, 기울기 a2 = 3.138, y 절편 b = 77.175\n"
     ]
    }
   ],
   "source": [
    "# 기울기 a와 y절편 b의 값을 임의로 정함. 단 기울기의 범위는 0-10 사이, y 절편은 0-100사이에서 변하게 함\n",
    "a1 = tf.Variable(tf.random_uniform([1], 0, 10, dtype=tf.float64, seed=0))\n",
    "a2 = tf.Variable(tf.random_uniform([1], 0, 10, dtype=tf.float64, seed=0))\n",
    "b = tf.Variable(tf.random_uniform([1], 0, 100, dtype=tf.float64, seed=0))\n",
    "\n",
    "y = a1 * x1 + a2 * x2 + b\n",
    "\n",
    "rmse = tf.sqrt(tf.reduce_mean(tf.square(y - yr)))  # 예측값에서 실제값을 뺌\n",
    "learning_rate = 0.03  # 학습률 값\n",
    "gradient_decent = tf.train.GradientDescentOptimizer(learning_rate).minimize(rmse) \n",
    "\n",
    "with tf.Session() as session:\n",
    "    session.run(tf.global_variables_initializer())\n",
    "    \n",
    "    for step in range(181):\n",
    "        session.run(gradient_decent) # 최소의 오차를 찾기위한 경사하강 실행, 학습\n",
    "        if step % 20 == 0:\n",
    "            v_rmse = session.run(rmse) # 평균 제곱근 오차\n",
    "            v_a1 = session.run(a1)           # 기울기 1\n",
    "            v_a2 = session.run(a2)           # 기울기 2\n",
    "            v_b = session.run(b)              # y 절편\n",
    " \n",
    "            fmt = \"Epoch: %.f, RMSE = %.03f, 기울기 a1 = %.3f, 기울기 a2 = %.3f, y 절편 b = %.3f\"\n",
    "            print(fmt % (step, v_rmse, v_a1, v_a2, v_b))      \n"
   ]
  },
  {
   "cell_type": "code",
   "execution_count": 11,
   "metadata": {},
   "outputs": [
    {
     "name": "stdout",
     "output_type": "stream",
     "text": [
      "학습률 0.03의 경우\n",
      "산출된 선출회귀 모델: y = 1.1681 × x1 + 3.1379 × x2 + 77.1752\n"
     ]
    }
   ],
   "source": [
    "# 검증\n",
    "# x, y의 데이터 값\n",
    "# ----------------------------------\n",
    "# 공부      시간  : 0    2    4    6    8\n",
    "# 과외 수업 횟수  : 0    1    4    2    3\n",
    "# 시험      성적  : 60  81   93   91   97\n",
    "# ----------------------------------\n",
    "print('학습률 %.2f의 경우' % learning_rate)\n",
    "print('산출된 선출회귀 모델: y = %.4f × x1 + %.4f × x2 + %.4f' % (v_a1, v_a2, v_b))\n",
    "# 학습률 0.01의 경우\n",
    "# 산출된 선형회귀 모델: y = 0.8407 × x1 + 4.4382 × x2 + 79.0128\n",
    "# 학습률 0.03의 경우\n",
    "# 산출된 선형회귀 모델: y = 0.9186 × x1 + 3.6437 × x2 + 77.1793"
   ]
  },
  {
   "cell_type": "code",
   "execution_count": 12,
   "metadata": {},
   "outputs": [
    {
     "name": "stdout",
     "output_type": "stream",
     "text": [
      "[0, 2, 4, 6, 8]\n",
      "range(0, 5)\n",
      "range(0, 4)\n",
      "0\n",
      "2\n",
      "4\n",
      "6\n",
      "8\n",
      "[0, 0, 70]\n",
      "[2, 1, 81]\n",
      "[4, 4, 93]\n",
      "[6, 2, 91]\n",
      "[8, 3, 97]\n",
      "\n",
      "------------------------\n",
      "  0  2  4  6  8\n",
      "------------------------\n",
      "  0  1  4  2  3"
     ]
    }
   ],
   "source": [
    "print(x1)\n",
    "print(range(len(x1)))\n",
    "print(range(4))\n",
    "\n",
    "for i in range(len(x1)):     # 1차원 배열\n",
    "    print(x1[i])\n",
    "    \n",
    "for i in range(len(data)):  # 2차원 배열\n",
    "    print(data[i])          # 1차원 배열 출력\n",
    "\n",
    "print('\\n------------------------')\n",
    "for i in range(len(data)):  # 2차원 배열\n",
    "    print(' ', data[i][0], end='')  # 각행의 0번째 컬럼 출력\n",
    "print('\\n------------------------')\n",
    "for i in range(len(data)):  # 2차원 배열\n",
    "    print(' ', data[i][1], end='')  # 각행의 1번째 컬럼 출력     "
   ]
  },
  {
   "cell_type": "code",
   "execution_count": 8,
   "metadata": {},
   "outputs": [
    {
     "name": "stdout",
     "output_type": "stream",
     "text": [
      "공부시간: 0, 과외 시간: 0, 실제 성적: 60, 예상 성적: 77\n",
      "공부시간: 2, 과외 시간: 0, 실제 성적: 81, 예상 성적: 79\n",
      "공부시간: 4, 과외 시간: 4, 실제 성적: 93, 예상 성적: 95\n",
      "공부시간: 6, 과외 시간: 2, 실제 성적: 91, 예상 성적: 90\n",
      "공부시간: 8, 과외 시간: 3, 실제 성적: 97, 예상 성적: 95\n"
     ]
    },
    {
     "data": {
      "image/png": "[encoded data removed]",
      "text/plain": [
       "<Figure size 432x288 with 1 Axes>"
      ]
     },
     "metadata": {
      "needs_background": "light"
     },
     "output_type": "display_data"
    }
   ],
   "source": [
    "# 학습률 0.03의 경우\n",
    "# 산출된 선출회귀 모델: y = 0.9186 × x1 + 3.6437 × x2 + 77.1793\n",
    "predict = []\n",
    "for i in range(len(data)): # 0 ~ 4\n",
    "    y = v_a1 * data[i][0] + v_a2 * data[i][1] + v_b \n",
    "    predict.append(y) \n",
    "    fmt = '공부시간: %d, 과외 시간: %d, 실제 성적: %d, 예상 성적: %d' \n",
    "    print(fmt % (data[i][0], data[i][1], data[i][2], predict[i]))\n",
    "\n",
    "plt.plot(yr, label='실제 공부시간별 성적')\n",
    "plt.plot(predict, label='공부시간별 예상 성적')\n",
    "plt.legend()\n",
    "plt.grid(True)\n",
    "plt.show()\n",
    "\n",
    "# 추세선이 성적의 흐름과 비슷함."
   ]
  },
  {
   "cell_type": "code",
   "execution_count": null,
   "metadata": {},
   "outputs": [],
   "source": []
  },
  {
   "cell_type": "code",
   "execution_count": null,
   "metadata": {},
   "outputs": [],
   "source": []
  },
  {
   "cell_type": "code",
   "execution_count": null,
   "metadata": {},
   "outputs": [],
   "source": []
  },
  {
   "cell_type": "code",
   "execution_count": null,
   "metadata": {},
   "outputs": [],
   "source": []
  },
  {
   "cell_type": "code",
   "execution_count": null,
   "metadata": {},
   "outputs": [],
   "source": []
  },
  {
   "cell_type": "code",
   "execution_count": null,
   "metadata": {},
   "outputs": [],
   "source": []
  }
 ],
 "metadata": {
  "kernelspec": {
   "display_name": "machine",
   "language": "python",
   "name": "machine"
  },
  "language_info": {
   "codemirror_mode": {
    "name": "ipython",
    "version": 3
   },
   "file_extension": ".py",
   "mimetype": "text/x-python",
   "name": "python",
   "nbconvert_exporter": "python",
   "pygments_lexer": "ipython3",
   "version": "3.6.9"
  }
 },
 "nbformat": 4,
 "nbformat_minor": 2
}
