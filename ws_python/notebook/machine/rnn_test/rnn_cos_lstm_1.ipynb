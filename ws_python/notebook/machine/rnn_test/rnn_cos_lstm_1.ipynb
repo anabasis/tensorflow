{
 "cells": [
  {
   "cell_type": "code",
   "execution_count": 1,
   "metadata": {},
   "outputs": [
    {
     "name": "stderr",
     "output_type": "stream",
     "text": [
      "Using TensorFlow backend.\n"
     ]
    }
   ],
   "source": [
    "# 0. 사용할 패키지 불러오기\n",
    "import numpy as np\n",
    "from keras.models import Sequential\n",
    "from keras.layers import Dense, LSTM, Dropout\n",
    "from sklearn.preprocessing import MinMaxScaler\n",
    "import matplotlib.pyplot as plt\n",
    "%matplotlib inline"
   ]
  },
  {
   "cell_type": "code",
   "execution_count": 2,
   "metadata": {},
   "outputs": [],
   "source": [
    "def create_dataset(signal_data, look_back=1):  # 이전 수치를 통해 다음 수치를 예측, 1: 이전 수치 1개를 참고함.\n",
    "    dataX, dataY = [], []\n",
    "    for i in range(len(signal_data)-look_back):\n",
    "        dataX.append(signal_data[i:(i+look_back), 0])\n",
    "        dataY.append(signal_data[i + look_back, 0])\n",
    "    return np.array(dataX), np.array(dataY)"
   ]
  },
  {
   "cell_type": "code",
   "execution_count": 3,
   "metadata": {},
   "outputs": [
    {
     "name": "stdout",
     "output_type": "stream",
     "text": [
      "[[1]\n",
      " [2]\n",
      " [3]\n",
      " [4]]\n",
      "-----------------------\n",
      "[2 3 4 5]\n",
      "-----------------------\n",
      "[[[1]]\n",
      "\n",
      " [[2]]\n",
      "\n",
      " [[3]]\n",
      "\n",
      " [[4]]]\n",
      "-----------------------\n",
      "[1 2 3 4 5]\n",
      "-----------------------\n",
      "[1 2 3 4]\n",
      "-----------------------\n",
      "0\n",
      "1\n",
      "-----------------------\n",
      "[[ 1.  1.  1.]\n",
      " [ 1.  1.  1.]]\n",
      "[[ 0.  0.]\n",
      " [ 0.  0.]]\n",
      "[[ 1.  1.  1.  0.  0.]\n",
      " [ 1.  1.  1.  0.  0.]]\n"
     ]
    }
   ],
   "source": [
    "# 기초 기술\n",
    "look_back = 1\n",
    "train_1 = np.array([1, 2, 3, 4, 5])\n",
    "train_1 = train_1.reshape(5, 1)\n",
    "x_train_1, y_train_1 = create_dataset(train_1, look_back)\n",
    "print(x_train_1)\n",
    "print('-----------------------')\n",
    "print(y_train_1)\n",
    "print('-----------------------')\n",
    "train_1 = np.array([1, 2, 3, 4, 5])\n",
    "x_train = np.reshape(x_train_1, (x_train_1.shape[0], x_train_1.shape[1], 1))  # 3차원 4면 1행 1열로 변경\n",
    "print(x_train)\n",
    "print('-----------------------')\n",
    "train_1 = np.array([1, 2, 3, 4, 5])\n",
    "train_1 = train_1.reshape(5, 1)\n",
    "train_1 = np.squeeze(train_1)\n",
    "print(train_1)\n",
    "print('-----------------------')\n",
    "x_train = np.squeeze(x_train)\n",
    "print(x_train)\n",
    "print('-----------------------')\n",
    "for i in range(2):\n",
    "    print(i)\n",
    "print('-----------------------')    \n",
    "a1 = np.ones((2, 3))\n",
    "print(a1)\n",
    "a2 = np.zeros((2, 2))\n",
    "print(a2)\n",
    "a12 = np.hstack([a1, a2])\n",
    "print(a12)"
   ]
  },
  {
   "cell_type": "code",
   "execution_count": 4,
   "metadata": {},
   "outputs": [],
   "source": [
    "look_back = 40\n",
    "\n",
    "# 1. 데이터셋 생성하기\n",
    "signal_data = np.cos(np.arange(1600)*(20*np.pi/1000))[:,None]\n",
    "\n",
    "# 데이터 전처리, 0 ~ 1 사이의 값으로 전처리\n",
    "scaler = MinMaxScaler(feature_range=(0, 1))\n",
    "signal_data = scaler.fit_transform(signal_data)\n"
   ]
  },
  {
   "cell_type": "code",
   "execution_count": 5,
   "metadata": {},
   "outputs": [],
   "source": [
    "# 데이터 분리\n",
    "train = signal_data[0:800]\n",
    "val = signal_data[800:1200]\n",
    "test = signal_data[1200:]\n",
    "\n",
    "# 데이터셋 생성\n",
    "x_train, y_train = create_dataset(train, look_back)\n",
    "x_val, y_val = create_dataset(val, look_back)\n",
    "x_test, y_test = create_dataset(test, look_back)\n",
    "\n",
    "# 데이터셋 전처리\n",
    "x_train = np.reshape(x_train, (x_train.shape[0], x_train.shape[1], 1))\n",
    "x_val = np.reshape(x_val, (x_val.shape[0], x_val.shape[1], 1))\n",
    "x_test = np.reshape(x_test, (x_test.shape[0], x_test.shape[1], 1))"
   ]
  },
  {
   "cell_type": "code",
   "execution_count": 6,
   "metadata": {},
   "outputs": [
    {
     "name": "stdout",
     "output_type": "stream",
     "text": [
      "Train on 760 samples, validate on 360 samples\n",
      "Epoch 1/100\n",
      "760/760 [==============================] - 1s 2ms/step - loss: 0.1458 - val_loss: 0.0382\n",
      "Epoch 2/100\n",
      "760/760 [==============================] - 1s 812us/step - loss: 0.0415 - val_loss: 0.0215\n",
      "Epoch 3/100\n",
      "760/760 [==============================] - 1s 857us/step - loss: 0.0260 - val_loss: 0.0137\n",
      "Epoch 4/100\n",
      "760/760 [==============================] - 1s 863us/step - loss: 0.0206 - val_loss: 0.0069\n",
      "Epoch 5/100\n",
      "760/760 [==============================] - 1s 813us/step - loss: 0.0150 - val_loss: 0.0028\n",
      "Epoch 6/100\n",
      "760/760 [==============================] - 1s 821us/step - loss: 0.0094 - val_loss: 0.0019\n",
      "Epoch 7/100\n",
      "760/760 [==============================] - 1s 895us/step - loss: 0.0093 - val_loss: 9.2169e-04\n",
      "Epoch 8/100\n",
      "760/760 [==============================] - 1s 919us/step - loss: 0.0086 - val_loss: 0.0011\n",
      "Epoch 9/100\n",
      "760/760 [==============================] - 1s 965us/step - loss: 0.0068 - val_loss: 9.7224e-04\n",
      "Epoch 10/100\n",
      "760/760 [==============================] - 1s 896us/step - loss: 0.0070 - val_loss: 0.0010\n",
      "Epoch 11/100\n",
      "760/760 [==============================] - 1s 881us/step - loss: 0.0067 - val_loss: 0.0012\n",
      "Epoch 12/100\n",
      "760/760 [==============================] - 1s 943us/step - loss: 0.0068 - val_loss: 0.0011\n",
      "Epoch 13/100\n",
      "760/760 [==============================] - 1s 951us/step - loss: 0.0066 - val_loss: 6.3151e-04\n",
      "Epoch 14/100\n",
      "760/760 [==============================] - 1s 1ms/step - loss: 0.0064 - val_loss: 4.6184e-04\n",
      "Epoch 15/100\n",
      "760/760 [==============================] - 1s 1ms/step - loss: 0.0069 - val_loss: 2.6411e-04\n",
      "Epoch 16/100\n",
      "760/760 [==============================] - 1s 930us/step - loss: 0.0061 - val_loss: 2.4210e-04\n",
      "Epoch 17/100\n",
      "760/760 [==============================] - 1s 876us/step - loss: 0.0058 - val_loss: 0.0013\n",
      "Epoch 18/100\n",
      "760/760 [==============================] - 1s 851us/step - loss: 0.0056 - val_loss: 7.1719e-04\n",
      "Epoch 19/100\n",
      "760/760 [==============================] - 1s 867us/step - loss: 0.0051 - val_loss: 4.7103e-04\n",
      "Epoch 20/100\n",
      "760/760 [==============================] - 1s 847us/step - loss: 0.0053 - val_loss: 1.8732e-04\n",
      "Epoch 21/100\n",
      "760/760 [==============================] - 1s 833us/step - loss: 0.0057 - val_loss: 2.2480e-04\n",
      "Epoch 22/100\n",
      "760/760 [==============================] - 1s 823us/step - loss: 0.0048 - val_loss: 4.2663e-04\n",
      "Epoch 23/100\n",
      "760/760 [==============================] - 1s 873us/step - loss: 0.0050 - val_loss: 2.8118e-04\n",
      "Epoch 24/100\n",
      "760/760 [==============================] - 1s 863us/step - loss: 0.0056 - val_loss: 1.6616e-04\n",
      "Epoch 25/100\n",
      "760/760 [==============================] - 1s 817us/step - loss: 0.0056 - val_loss: 2.1000e-04\n",
      "Epoch 26/100\n",
      "760/760 [==============================] - 1s 829us/step - loss: 0.0051 - val_loss: 1.2808e-04\n",
      "Epoch 27/100\n",
      "760/760 [==============================] - 1s 856us/step - loss: 0.0051 - val_loss: 2.9566e-04\n",
      "Epoch 28/100\n",
      "760/760 [==============================] - 1s 846us/step - loss: 0.0055 - val_loss: 5.3122e-04\n",
      "Epoch 29/100\n",
      "760/760 [==============================] - 1s 881us/step - loss: 0.0051 - val_loss: 1.5210e-04\n",
      "Epoch 30/100\n",
      "760/760 [==============================] - 1s 828us/step - loss: 0.0053 - val_loss: 3.4791e-04\n",
      "Epoch 31/100\n",
      "760/760 [==============================] - 1s 833us/step - loss: 0.0046 - val_loss: 4.0891e-04\n",
      "Epoch 32/100\n",
      "760/760 [==============================] - 1s 847us/step - loss: 0.0047 - val_loss: 4.3088e-04\n",
      "Epoch 33/100\n",
      "760/760 [==============================] - 1s 827us/step - loss: 0.0049 - val_loss: 1.2016e-04\n",
      "Epoch 34/100\n",
      "760/760 [==============================] - 1s 848us/step - loss: 0.0045 - val_loss: 1.9264e-04\n",
      "Epoch 35/100\n",
      "760/760 [==============================] - 1s 1ms/step - loss: 0.0042 - val_loss: 0.0012\n",
      "Epoch 36/100\n",
      "760/760 [==============================] - 1s 864us/step - loss: 0.0043 - val_loss: 3.8969e-04\n",
      "Epoch 37/100\n",
      "760/760 [==============================] - 1s 856us/step - loss: 0.0049 - val_loss: 7.9675e-04\n",
      "Epoch 38/100\n",
      "760/760 [==============================] - 1s 790us/step - loss: 0.0040 - val_loss: 1.5758e-04\n",
      "Epoch 39/100\n",
      "760/760 [==============================] - 1s 829us/step - loss: 0.0043 - val_loss: 1.3170e-04\n",
      "Epoch 40/100\n",
      "760/760 [==============================] - 1s 796us/step - loss: 0.0045 - val_loss: 3.7703e-04\n",
      "Epoch 41/100\n",
      "760/760 [==============================] - 1s 738us/step - loss: 0.0046 - val_loss: 1.7264e-04\n",
      "Epoch 42/100\n",
      "760/760 [==============================] - 1s 806us/step - loss: 0.0042 - val_loss: 8.6580e-05\n",
      "Epoch 43/100\n",
      "760/760 [==============================] - 1s 821us/step - loss: 0.0040 - val_loss: 3.6583e-04\n",
      "Epoch 44/100\n",
      "760/760 [==============================] - 1s 804us/step - loss: 0.0037 - val_loss: 1.5111e-04\n",
      "Epoch 45/100\n",
      "760/760 [==============================] - 1s 815us/step - loss: 0.0040 - val_loss: 1.0134e-04\n",
      "Epoch 46/100\n",
      "760/760 [==============================] - 1s 797us/step - loss: 0.0039 - val_loss: 1.3386e-04\n",
      "Epoch 47/100\n",
      "760/760 [==============================] - 1s 751us/step - loss: 0.0038 - val_loss: 1.2065e-04\n",
      "Epoch 48/100\n",
      "760/760 [==============================] - 1s 794us/step - loss: 0.0039 - val_loss: 2.2690e-04\n",
      "Epoch 49/100\n",
      "760/760 [==============================] - 1s 751us/step - loss: 0.0041 - val_loss: 1.1138e-04\n",
      "Epoch 50/100\n",
      "760/760 [==============================] - 1s 827us/step - loss: 0.0041 - val_loss: 9.8523e-05\n",
      "Epoch 51/100\n",
      "760/760 [==============================] - 1s 793us/step - loss: 0.0043 - val_loss: 1.9148e-04\n",
      "Epoch 52/100\n",
      "760/760 [==============================] - 1s 778us/step - loss: 0.0033 - val_loss: 1.8657e-04\n",
      "Epoch 53/100\n",
      "760/760 [==============================] - 1s 803us/step - loss: 0.0037 - val_loss: 2.6748e-04\n",
      "Epoch 54/100\n",
      "760/760 [==============================] - 1s 822us/step - loss: 0.0034 - val_loss: 2.4215e-04\n",
      "Epoch 55/100\n",
      "760/760 [==============================] - 1s 747us/step - loss: 0.0034 - val_loss: 6.7126e-05\n",
      "Epoch 56/100\n",
      "760/760 [==============================] - 1s 884us/step - loss: 0.0033 - val_loss: 1.8695e-04\n",
      "Epoch 57/100\n",
      "760/760 [==============================] - 1s 1ms/step - loss: 0.0037 - val_loss: 2.1342e-04\n",
      "Epoch 58/100\n",
      "760/760 [==============================] - 1s 915us/step - loss: 0.0034 - val_loss: 2.2484e-04\n",
      "Epoch 59/100\n",
      "760/760 [==============================] - 1s 1ms/step - loss: 0.0037 - val_loss: 3.7848e-04\n",
      "Epoch 60/100\n",
      "760/760 [==============================] - 1s 836us/step - loss: 0.0038 - val_loss: 1.9025e-04\n",
      "Epoch 61/100\n",
      "760/760 [==============================] - 1s 966us/step - loss: 0.0032 - val_loss: 1.5866e-04\n",
      "Epoch 62/100\n",
      "760/760 [==============================] - 1s 901us/step - loss: 0.0035 - val_loss: 3.2207e-04\n",
      "Epoch 63/100\n",
      "760/760 [==============================] - 1s 987us/step - loss: 0.0033 - val_loss: 2.1129e-04\n",
      "Epoch 64/100\n",
      "760/760 [==============================] - 1s 867us/step - loss: 0.0035 - val_loss: 2.1591e-04\n",
      "Epoch 65/100\n",
      "760/760 [==============================] - 1s 812us/step - loss: 0.0040 - val_loss: 2.1785e-04\n",
      "Epoch 66/100\n",
      "760/760 [==============================] - 1s 946us/step - loss: 0.0034 - val_loss: 5.1924e-04\n",
      "Epoch 67/100\n",
      "760/760 [==============================] - 1s 950us/step - loss: 0.0038 - val_loss: 9.9534e-05\n",
      "Epoch 68/100\n",
      "760/760 [==============================] - 1s 885us/step - loss: 0.0034 - val_loss: 1.9483e-04\n",
      "Epoch 69/100\n",
      "760/760 [==============================] - 1s 878us/step - loss: 0.0032 - val_loss: 2.0790e-04\n",
      "Epoch 70/100\n",
      "760/760 [==============================] - 1s 887us/step - loss: 0.0032 - val_loss: 1.1156e-04\n",
      "Epoch 71/100\n",
      "760/760 [==============================] - 1s 880us/step - loss: 0.0033 - val_loss: 7.0033e-04\n",
      "Epoch 72/100\n",
      "760/760 [==============================] - 1s 916us/step - loss: 0.0030 - val_loss: 1.3405e-04\n",
      "Epoch 73/100\n",
      "760/760 [==============================] - 1s 957us/step - loss: 0.0032 - val_loss: 1.2455e-04\n",
      "Epoch 74/100\n",
      "760/760 [==============================] - 1s 937us/step - loss: 0.0032 - val_loss: 4.4929e-04\n",
      "Epoch 75/100\n",
      "760/760 [==============================] - 1s 939us/step - loss: 0.0032 - val_loss: 1.0896e-04\n",
      "Epoch 76/100\n",
      "760/760 [==============================] - 1s 1ms/step - loss: 0.0030 - val_loss: 7.2090e-05\n",
      "Epoch 77/100\n"
     ]
    },
    {
     "name": "stdout",
     "output_type": "stream",
     "text": [
      "760/760 [==============================] - 1s 1ms/step - loss: 0.0035 - val_loss: 1.1024e-04\n",
      "Epoch 78/100\n",
      "760/760 [==============================] - 1s 905us/step - loss: 0.0029 - val_loss: 3.4180e-04\n",
      "Epoch 79/100\n",
      "760/760 [==============================] - 1s 891us/step - loss: 0.0029 - val_loss: 1.6452e-04\n",
      "Epoch 80/100\n",
      "760/760 [==============================] - 1s 902us/step - loss: 0.0025 - val_loss: 7.2234e-05\n",
      "Epoch 81/100\n",
      "760/760 [==============================] - 1s 947us/step - loss: 0.0030 - val_loss: 4.4204e-05\n",
      "Epoch 82/100\n",
      "760/760 [==============================] - 1s 928us/step - loss: 0.0027 - val_loss: 7.6222e-04\n",
      "Epoch 83/100\n",
      "760/760 [==============================] - 1s 949us/step - loss: 0.0031 - val_loss: 1.7190e-04\n",
      "Epoch 84/100\n",
      "760/760 [==============================] - 1s 822us/step - loss: 0.0027 - val_loss: 8.3355e-05\n",
      "Epoch 85/100\n",
      "760/760 [==============================] - 1s 879us/step - loss: 0.0028 - val_loss: 3.1876e-05\n",
      "Epoch 86/100\n",
      "760/760 [==============================] - 1s 889us/step - loss: 0.0027 - val_loss: 8.5352e-04\n",
      "Epoch 87/100\n",
      "760/760 [==============================] - 1s 840us/step - loss: 0.0031 - val_loss: 2.5678e-05\n",
      "Epoch 88/100\n",
      "760/760 [==============================] - 1s 932us/step - loss: 0.0029 - val_loss: 2.8285e-04\n",
      "Epoch 89/100\n",
      "760/760 [==============================] - 1s 874us/step - loss: 0.0031 - val_loss: 4.2087e-05\n",
      "Epoch 90/100\n",
      "760/760 [==============================] - 1s 816us/step - loss: 0.0026 - val_loss: 1.5423e-04\n",
      "Epoch 91/100\n",
      "760/760 [==============================] - 1s 839us/step - loss: 0.0026 - val_loss: 3.9497e-05\n",
      "Epoch 92/100\n",
      "760/760 [==============================] - 1s 889us/step - loss: 0.0023 - val_loss: 7.9162e-05\n",
      "Epoch 93/100\n",
      "760/760 [==============================] - 1s 847us/step - loss: 0.0023 - val_loss: 4.0461e-04\n",
      "Epoch 94/100\n",
      "760/760 [==============================] - 1s 854us/step - loss: 0.0026 - val_loss: 7.4945e-05\n",
      "Epoch 95/100\n",
      "760/760 [==============================] - 1s 861us/step - loss: 0.0025 - val_loss: 1.1539e-04\n",
      "Epoch 96/100\n",
      "760/760 [==============================] - 1s 918us/step - loss: 0.0025 - val_loss: 1.8105e-04\n",
      "Epoch 97/100\n",
      "760/760 [==============================] - 1s 888us/step - loss: 0.0022 - val_loss: 1.4284e-04\n",
      "Epoch 98/100\n",
      "760/760 [==============================] - 1s 896us/step - loss: 0.0025 - val_loss: 7.7890e-05\n",
      "Epoch 99/100\n",
      "760/760 [==============================] - 1s 883us/step - loss: 0.0024 - val_loss: 1.0449e-04\n",
      "Epoch 100/100\n",
      "760/760 [==============================] - 1s 863us/step - loss: 0.0024 - val_loss: 1.3623e-04\n"
     ]
    }
   ],
   "source": [
    "# 2. 모델 구성하기\n",
    "model = Sequential()\n",
    "model.add(LSTM(32, input_shape=(None, 1)))\n",
    "model.add(Dropout(0.3))\n",
    "model.add(Dense(1))\n",
    "\n",
    "# 3. 모델 학습과정 설정하기\n",
    "model.compile(loss='mean_squared_error', optimizer='adam')\n",
    "\n",
    "# 4. 모델 학습시키기\n",
    "hist = model.fit(x_train, y_train, epochs=100, batch_size=32, validation_data=(x_val, y_val))\n"
   ]
  },
  {
   "cell_type": "code",
   "execution_count": 7,
   "metadata": {},
   "outputs": [
    {
     "data": {
      "image/png": "[encoded data removed]",
      "text/plain": [
       "<Figure size 432x288 with 1 Axes>"
      ]
     },
     "metadata": {
      "needs_background": "light"
     },
     "output_type": "display_data"
    }
   ],
   "source": [
    "# 5. 학습과정 살펴보기\n",
    "plt.plot(hist.history['loss'])\n",
    "plt.plot(hist.history['val_loss'])\n",
    "plt.ylim(0.0, 0.15)\n",
    "plt.ylabel('loss')\n",
    "plt.xlabel('epoch')\n",
    "plt.legend(['train', 'val'], loc='upper left')\n",
    "plt.show()"
   ]
  },
  {
   "cell_type": "code",
   "execution_count": 8,
   "metadata": {},
   "outputs": [
    {
     "name": "stdout",
     "output_type": "stream",
     "text": [
      "Train Score:  0.000136776483468\n",
      "Validataion Score:  0.000136234703112\n",
      "Test Score:  0.000136234703112\n"
     ]
    }
   ],
   "source": [
    "# 6. 모델 평가하기\n",
    "trainScore = model.evaluate(x_train, y_train, verbose=0)\n",
    "model.reset_states()\n",
    "print('Train Score: ', trainScore)\n",
    "valScore = model.evaluate(x_val, y_val, verbose=0)\n",
    "model.reset_states()\n",
    "print('Validataion Score: ', valScore)\n",
    "testScore = model.evaluate(x_test, y_test, verbose=0)\n",
    "model.reset_states()\n",
    "print('Test Score: ', testScore)"
   ]
  },
  {
   "cell_type": "code",
   "execution_count": 9,
   "metadata": {},
   "outputs": [
    {
     "data": {
      "image/png": "[encoded data removed]",
      "text/plain": [
       "<Figure size 864x360 with 1 Axes>"
      ]
     },
     "metadata": {
      "needs_background": "light"
     },
     "output_type": "display_data"
    }
   ],
   "source": [
    "# 7. 모델 사용하기\n",
    "look_ahead = 250\n",
    "xhat = x_test[0]\n",
    "predictions = np.zeros((look_ahead,1))\n",
    "for i in range(look_ahead):\n",
    "    prediction = model.predict(np.array([xhat]), batch_size=1)\n",
    "    predictions[i] = prediction\n",
    "    xhat = np.vstack([xhat[1:],prediction])\n",
    "    \n",
    "plt.figure(figsize=(12,5))\n",
    "plt.plot(np.arange(look_ahead),predictions,'r',label=\"prediction\")\n",
    "plt.plot(np.arange(look_ahead),y_test[:look_ahead],label=\"test function\")\n",
    "plt.legend()\n",
    "plt.show()"
   ]
  },
  {
   "cell_type": "code",
   "execution_count": null,
   "metadata": {
    "collapsed": true
   },
   "outputs": [],
   "source": []
  },
  {
   "cell_type": "code",
   "execution_count": null,
   "metadata": {
    "collapsed": true
   },
   "outputs": [],
   "source": []
  },
  {
   "cell_type": "code",
   "execution_count": null,
   "metadata": {
    "collapsed": true
   },
   "outputs": [],
   "source": []
  },
  {
   "cell_type": "code",
   "execution_count": null,
   "metadata": {
    "collapsed": true
   },
   "outputs": [],
   "source": []
  }
 ],
 "metadata": {
  "kernelspec": {
   "display_name": "machine",
   "language": "python",
   "name": "machine"
  },
  "language_info": {
   "codemirror_mode": {
    "name": "ipython",
    "version": 3
   },
   "file_extension": ".py",
   "mimetype": "text/x-python",
   "name": "python",
   "nbconvert_exporter": "python",
   "pygments_lexer": "ipython3",
   "version": "3.6.8"
  }
 },
 "nbformat": 4,
 "nbformat_minor": 2
}
