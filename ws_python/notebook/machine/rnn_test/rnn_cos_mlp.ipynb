{
 "cells": [
  {
   "cell_type": "code",
   "execution_count": 1,
   "metadata": {},
   "outputs": [
    {
     "name": "stderr",
     "output_type": "stream",
     "text": [
      "Using TensorFlow backend.\n"
     ]
    }
   ],
   "source": [
    "# 0. 사용할 패키지 불러오기\n",
    "import numpy as np\n",
    "from keras.models import Sequential\n",
    "from keras.layers import Dense, LSTM, Dropout\n",
    "from sklearn.preprocessing import MinMaxScaler\n",
    "import matplotlib.pyplot as plt\n",
    "%matplotlib inline"
   ]
  },
  {
   "cell_type": "code",
   "execution_count": 2,
   "metadata": {},
   "outputs": [],
   "source": [
    "# 이전 수치를 통해 다음 수치를 예측, 1: 이전 수치 1개를 참고함.\n",
    "def create_dataset(signal_data, look_back=1):  \n",
    "    dataX, dataY = [], []\n",
    "    for i in range(len(signal_data)-look_back):\n",
    "        dataX.append(signal_data[i:(i+look_back), 0])\n",
    "        dataY.append(signal_data[i + look_back, 0])\n",
    "    return np.array(dataX), np.array(dataY)"
   ]
  },
  {
   "cell_type": "code",
   "execution_count": 3,
   "metadata": {},
   "outputs": [
    {
     "name": "stdout",
     "output_type": "stream",
     "text": [
      "[[1]\n",
      " [2]\n",
      " [3]\n",
      " [4]]\n",
      "-----------------------\n",
      "[2 3 4 5]\n",
      "-----------------------\n"
     ]
    }
   ],
   "source": [
    "# 기초 기술\n",
    "look_back = 1\n",
    "train_1 = np.array([1, 2, 3, 4, 5])\n",
    "train_1 = train_1.reshape(5, 1)\n",
    "x_train_1, y_train_1 = create_dataset(train_1, look_back)\n",
    "print(x_train_1)\n",
    "print('-----------------------')\n",
    "print(y_train_1)\n",
    "print('-----------------------')"
   ]
  },
  {
   "cell_type": "code",
   "execution_count": 4,
   "metadata": {},
   "outputs": [
    {
     "name": "stdout",
     "output_type": "stream",
     "text": [
      "[[[1]]\n",
      "\n",
      " [[2]]\n",
      "\n",
      " [[3]]\n",
      "\n",
      " [[4]]]\n",
      "-----------------------\n"
     ]
    }
   ],
   "source": [
    "# 3차원 4면 1행 1열로 변경\n",
    "train_1 = np.array([1, 2, 3, 4, 5])\n",
    "x_train = np.reshape(x_train_1, (x_train_1.shape[0], x_train_1.shape[1], 1)) \n",
    "print(x_train)\n",
    "print('-----------------------')"
   ]
  },
  {
   "cell_type": "code",
   "execution_count": 5,
   "metadata": {},
   "outputs": [
    {
     "name": "stdout",
     "output_type": "stream",
     "text": [
      "[[1]\n",
      " [2]\n",
      " [3]\n",
      " [4]\n",
      " [5]]\n",
      "-----------------------\n",
      "[1 2 3 4 5]\n",
      "-----------------------\n"
     ]
    }
   ],
   "source": [
    "train_1 = np.array([1, 2, 3, 4, 5])\n",
    "train_1 = train_1.reshape(5, 1)\n",
    "print(train_1)\n",
    "print('-----------------------')\n",
    "train_1 = np.squeeze(train_1) # 1차원을 제거함.\n",
    "print(train_1)\n",
    "print('-----------------------')"
   ]
  },
  {
   "cell_type": "code",
   "execution_count": 6,
   "metadata": {},
   "outputs": [
    {
     "name": "stdout",
     "output_type": "stream",
     "text": [
      "[1 2 3 4]\n",
      "-----------------------\n",
      "0\n",
      "1\n",
      "-----------------------\n",
      "[[ 1.  1.  1.]\n",
      " [ 1.  1.  1.]]\n",
      "[[ 0.  0.]\n",
      " [ 0.  0.]]\n",
      "[[ 1.  1.  1.  0.  0.]\n",
      " [ 1.  1.  1.  0.  0.]]\n"
     ]
    }
   ],
   "source": [
    "x_train = np.squeeze(x_train)\n",
    "print(x_train)\n",
    "print('-----------------------')\n",
    "for i in range(2):\n",
    "    print(i)\n",
    "print('-----------------------')    \n",
    "a1 = np.ones((2, 3))\n",
    "print(a1)\n",
    "a2 = np.zeros((2, 2))\n",
    "print(a2)\n",
    "a12 = np.hstack([a1, a2])\n",
    "print(a12)"
   ]
  },
  {
   "cell_type": "code",
   "execution_count": 7,
   "metadata": {},
   "outputs": [],
   "source": [
    "look_back = 40\n",
    "\n",
    "# 1. 데이터셋 생성하기\n",
    "signal_data = np.cos(np.arange(1600)*(20*np.pi/1000))[:,None]\n",
    "\n",
    "# 데이터 전처리, 0 ~ 1 사이의 값으로 전처리\n",
    "scaler = MinMaxScaler(feature_range=(0, 1))\n",
    "signal_data = scaler.fit_transform(signal_data)\n"
   ]
  },
  {
   "cell_type": "code",
   "execution_count": 8,
   "metadata": {},
   "outputs": [
    {
     "name": "stdout",
     "output_type": "stream",
     "text": [
      "(760, 40, 1)\n",
      "(360, 40, 1)\n",
      "(360, 40, 1)\n",
      "--------------------\n",
      "(760, 40)\n",
      "(360, 40)\n",
      "(360, 40)\n"
     ]
    }
   ],
   "source": [
    "# 데이터 분리\n",
    "train = signal_data[0:800]\n",
    "val = signal_data[800:1200]\n",
    "test = signal_data[1200:]\n",
    "\n",
    "# 데이터셋 생성\n",
    "x_train, y_train = create_dataset(train, look_back)\n",
    "x_val, y_val = create_dataset(val, look_back)\n",
    "x_test, y_test = create_dataset(test, look_back)\n",
    "\n",
    "# 데이터셋 전처리, 3차원 800면 1행 1열로 변경\n",
    "x_train = np.reshape(x_train, (x_train.shape[0], x_train.shape[1], 1)) \n",
    "x_val = np.reshape(x_val, (x_val.shape[0], x_val.shape[1], 1))\n",
    "x_test = np.reshape(x_test, (x_test.shape[0], x_test.shape[1], 1))\n",
    "\n",
    "print(x_train.shape)\n",
    "print(x_val.shape)\n",
    "print(x_test.shape)\n",
    "print('--------------------')\n",
    "x_train = np.squeeze(x_train)  # 차원 축소, 1차원을 제거함.\n",
    "x_val = np.squeeze(x_val)\n",
    "x_test = np.squeeze(x_test)\n",
    "print(x_train.shape)\n",
    "print(x_val.shape)\n",
    "print(x_test.shape)"
   ]
  },
  {
   "cell_type": "code",
   "execution_count": 9,
   "metadata": {},
   "outputs": [
    {
     "name": "stdout",
     "output_type": "stream",
     "text": [
      "Train on 760 samples, validate on 360 samples\n",
      "Epoch 1/100\n",
      "760/760 [==============================] - 1s 774us/step - loss: 0.1162 - val_loss: 0.0218\n",
      "Epoch 2/100\n",
      "760/760 [==============================] - 0s 64us/step - loss: 0.0569 - val_loss: 0.0498\n",
      "Epoch 3/100\n",
      "760/760 [==============================] - 0s 59us/step - loss: 0.0399 - val_loss: 0.0280\n",
      "Epoch 4/100\n",
      "760/760 [==============================] - 0s 61us/step - loss: 0.0378 - val_loss: 0.0152\n",
      "Epoch 5/100\n",
      "760/760 [==============================] - 0s 67us/step - loss: 0.0373 - val_loss: 0.0246\n",
      "Epoch 6/100\n",
      "760/760 [==============================] - 0s 59us/step - loss: 0.0315 - val_loss: 0.0201\n",
      "Epoch 7/100\n",
      "760/760 [==============================] - 0s 67us/step - loss: 0.0290 - val_loss: 0.0137\n",
      "Epoch 8/100\n",
      "760/760 [==============================] - 0s 74us/step - loss: 0.0285 - val_loss: 0.0169\n",
      "Epoch 9/100\n",
      "760/760 [==============================] - 0s 71us/step - loss: 0.0258 - val_loss: 0.0254\n",
      "Epoch 10/100\n",
      "760/760 [==============================] - 0s 67us/step - loss: 0.0226 - val_loss: 0.0162\n",
      "Epoch 11/100\n",
      "760/760 [==============================] - 0s 59us/step - loss: 0.0245 - val_loss: 0.0206\n",
      "Epoch 12/100\n",
      "760/760 [==============================] - 0s 59us/step - loss: 0.0245 - val_loss: 0.0246\n",
      "Epoch 13/100\n",
      "760/760 [==============================] - 0s 66us/step - loss: 0.0233 - val_loss: 0.0206\n",
      "Epoch 14/100\n",
      "760/760 [==============================] - 0s 61us/step - loss: 0.0199 - val_loss: 0.0178\n",
      "Epoch 15/100\n",
      "760/760 [==============================] - 0s 59us/step - loss: 0.0225 - val_loss: 0.0183\n",
      "Epoch 16/100\n",
      "760/760 [==============================] - 0s 61us/step - loss: 0.0222 - val_loss: 0.0220\n",
      "Epoch 17/100\n",
      "760/760 [==============================] - 0s 61us/step - loss: 0.0205 - val_loss: 0.0215\n",
      "Epoch 18/100\n",
      "760/760 [==============================] - 0s 59us/step - loss: 0.0191 - val_loss: 0.0219\n",
      "Epoch 19/100\n",
      "760/760 [==============================] - 0s 76us/step - loss: 0.0208 - val_loss: 0.0236\n",
      "Epoch 20/100\n",
      "760/760 [==============================] - 0s 66us/step - loss: 0.0194 - val_loss: 0.0191\n",
      "Epoch 21/100\n",
      "760/760 [==============================] - 0s 67us/step - loss: 0.0185 - val_loss: 0.0176\n",
      "Epoch 22/100\n",
      "760/760 [==============================] - 0s 66us/step - loss: 0.0178 - val_loss: 0.0197\n",
      "Epoch 23/100\n",
      "760/760 [==============================] - 0s 59us/step - loss: 0.0210 - val_loss: 0.0193\n",
      "Epoch 24/100\n",
      "760/760 [==============================] - 0s 66us/step - loss: 0.0171 - val_loss: 0.0205\n",
      "Epoch 25/100\n",
      "760/760 [==============================] - 0s 62us/step - loss: 0.0192 - val_loss: 0.0194\n",
      "Epoch 26/100\n",
      "760/760 [==============================] - 0s 59us/step - loss: 0.0181 - val_loss: 0.0238\n",
      "Epoch 27/100\n",
      "760/760 [==============================] - 0s 61us/step - loss: 0.0175 - val_loss: 0.0200\n",
      "Epoch 28/100\n",
      "760/760 [==============================] - 0s 63us/step - loss: 0.0155 - val_loss: 0.0213\n",
      "Epoch 29/100\n",
      "760/760 [==============================] - 0s 64us/step - loss: 0.0185 - val_loss: 0.0237\n",
      "Epoch 30/100\n",
      "760/760 [==============================] - 0s 70us/step - loss: 0.0156 - val_loss: 0.0227\n",
      "Epoch 31/100\n",
      "760/760 [==============================] - 0s 74us/step - loss: 0.0158 - val_loss: 0.0191\n",
      "Epoch 32/100\n",
      "760/760 [==============================] - 0s 63us/step - loss: 0.0157 - val_loss: 0.0203\n",
      "Epoch 33/100\n",
      "760/760 [==============================] - 0s 66us/step - loss: 0.0159 - val_loss: 0.0236\n",
      "Epoch 34/100\n",
      "760/760 [==============================] - 0s 62us/step - loss: 0.0144 - val_loss: 0.0215\n",
      "Epoch 35/100\n",
      "760/760 [==============================] - 0s 62us/step - loss: 0.0166 - val_loss: 0.0204\n",
      "Epoch 36/100\n",
      "760/760 [==============================] - 0s 80us/step - loss: 0.0168 - val_loss: 0.0236\n",
      "Epoch 37/100\n",
      "760/760 [==============================] - 0s 71us/step - loss: 0.0166 - val_loss: 0.0247\n",
      "Epoch 38/100\n",
      "760/760 [==============================] - 0s 55us/step - loss: 0.0161 - val_loss: 0.0162\n",
      "Epoch 39/100\n",
      "760/760 [==============================] - 0s 58us/step - loss: 0.0147 - val_loss: 0.0200\n",
      "Epoch 40/100\n",
      "760/760 [==============================] - 0s 57us/step - loss: 0.0170 - val_loss: 0.0215\n",
      "Epoch 41/100\n",
      "760/760 [==============================] - 0s 55us/step - loss: 0.0168 - val_loss: 0.0209\n",
      "Epoch 42/100\n",
      "760/760 [==============================] - 0s 66us/step - loss: 0.0154 - val_loss: 0.0205\n",
      "Epoch 43/100\n",
      "760/760 [==============================] - 0s 58us/step - loss: 0.0145 - val_loss: 0.0223\n",
      "Epoch 44/100\n",
      "760/760 [==============================] - 0s 58us/step - loss: 0.0157 - val_loss: 0.0172\n",
      "Epoch 45/100\n",
      "760/760 [==============================] - 0s 61us/step - loss: 0.0146 - val_loss: 0.0193\n",
      "Epoch 46/100\n",
      "760/760 [==============================] - 0s 59us/step - loss: 0.0161 - val_loss: 0.0173\n",
      "Epoch 47/100\n",
      "760/760 [==============================] - 0s 58us/step - loss: 0.0160 - val_loss: 0.0201\n",
      "Epoch 48/100\n",
      "760/760 [==============================] - 0s 57us/step - loss: 0.0140 - val_loss: 0.0197\n",
      "Epoch 49/100\n",
      "760/760 [==============================] - 0s 62us/step - loss: 0.0155 - val_loss: 0.0222\n",
      "Epoch 50/100\n",
      "760/760 [==============================] - 0s 58us/step - loss: 0.0138 - val_loss: 0.0158\n",
      "Epoch 51/100\n",
      "760/760 [==============================] - 0s 57us/step - loss: 0.0149 - val_loss: 0.0190\n",
      "Epoch 52/100\n",
      "760/760 [==============================] - 0s 58us/step - loss: 0.0131 - val_loss: 0.0189\n",
      "Epoch 53/100\n",
      "760/760 [==============================] - 0s 63us/step - loss: 0.0146 - val_loss: 0.0186\n",
      "Epoch 54/100\n",
      "760/760 [==============================] - 0s 61us/step - loss: 0.0136 - val_loss: 0.0191\n",
      "Epoch 55/100\n",
      "760/760 [==============================] - 0s 59us/step - loss: 0.0144 - val_loss: 0.0205\n",
      "Epoch 56/100\n",
      "760/760 [==============================] - 0s 61us/step - loss: 0.0145 - val_loss: 0.0186\n",
      "Epoch 57/100\n",
      "760/760 [==============================] - 0s 62us/step - loss: 0.0137 - val_loss: 0.0221\n",
      "Epoch 58/100\n",
      "760/760 [==============================] - 0s 62us/step - loss: 0.0135 - val_loss: 0.0194\n",
      "Epoch 59/100\n",
      "760/760 [==============================] - ETA: 0s - loss: 0.009 - 0s 58us/step - loss: 0.0127 - val_loss: 0.0172\n",
      "Epoch 60/100\n",
      "760/760 [==============================] - 0s 64us/step - loss: 0.0150 - val_loss: 0.0185\n",
      "Epoch 61/100\n",
      "760/760 [==============================] - 0s 66us/step - loss: 0.0123 - val_loss: 0.0188\n",
      "Epoch 62/100\n",
      "760/760 [==============================] - 0s 74us/step - loss: 0.0124 - val_loss: 0.0193\n",
      "Epoch 63/100\n",
      "760/760 [==============================] - 0s 63us/step - loss: 0.0130 - val_loss: 0.0192\n",
      "Epoch 64/100\n",
      "760/760 [==============================] - 0s 59us/step - loss: 0.0128 - val_loss: 0.0190\n",
      "Epoch 65/100\n",
      "760/760 [==============================] - 0s 62us/step - loss: 0.0127 - val_loss: 0.0172\n",
      "Epoch 66/100\n",
      "760/760 [==============================] - 0s 61us/step - loss: 0.0106 - val_loss: 0.0195\n",
      "Epoch 67/100\n",
      "760/760 [==============================] - 0s 61us/step - loss: 0.0130 - val_loss: 0.0182\n",
      "Epoch 68/100\n",
      "760/760 [==============================] - 0s 61us/step - loss: 0.0133 - val_loss: 0.0186\n",
      "Epoch 69/100\n",
      "760/760 [==============================] - 0s 61us/step - loss: 0.0150 - val_loss: 0.0155\n",
      "Epoch 70/100\n",
      "760/760 [==============================] - 0s 62us/step - loss: 0.0133 - val_loss: 0.0198\n",
      "Epoch 71/100\n",
      "760/760 [==============================] - 0s 62us/step - loss: 0.0117 - val_loss: 0.0194\n",
      "Epoch 72/100\n",
      "760/760 [==============================] - 0s 62us/step - loss: 0.0128 - val_loss: 0.0174\n",
      "Epoch 73/100\n",
      "760/760 [==============================] - 0s 61us/step - loss: 0.0111 - val_loss: 0.0173\n",
      "Epoch 74/100\n",
      "760/760 [==============================] - 0s 63us/step - loss: 0.0139 - val_loss: 0.0200\n",
      "Epoch 75/100\n",
      "760/760 [==============================] - 0s 59us/step - loss: 0.0111 - val_loss: 0.0193\n",
      "Epoch 76/100\n",
      "760/760 [==============================] - 0s 58us/step - loss: 0.0135 - val_loss: 0.0191\n",
      "Epoch 77/100\n",
      "760/760 [==============================] - 0s 57us/step - loss: 0.0129 - val_loss: 0.0158\n",
      "Epoch 78/100\n",
      "760/760 [==============================] - 0s 62us/step - loss: 0.0125 - val_loss: 0.0160\n",
      "Epoch 79/100\n",
      "760/760 [==============================] - 0s 62us/step - loss: 0.0124 - val_loss: 0.0160\n"
     ]
    },
    {
     "name": "stdout",
     "output_type": "stream",
     "text": [
      "Epoch 80/100\n",
      "760/760 [==============================] - 0s 62us/step - loss: 0.0130 - val_loss: 0.0162\n",
      "Epoch 81/100\n",
      "760/760 [==============================] - 0s 59us/step - loss: 0.0120 - val_loss: 0.0185\n",
      "Epoch 82/100\n",
      "760/760 [==============================] - 0s 67us/step - loss: 0.0113 - val_loss: 0.0182\n",
      "Epoch 83/100\n",
      "760/760 [==============================] - 0s 75us/step - loss: 0.0113 - val_loss: 0.0176\n",
      "Epoch 84/100\n",
      "760/760 [==============================] - 0s 78us/step - loss: 0.0118 - val_loss: 0.0166\n",
      "Epoch 85/100\n",
      "760/760 [==============================] - 0s 78us/step - loss: 0.0130 - val_loss: 0.0157\n",
      "Epoch 86/100\n",
      "760/760 [==============================] - 0s 78us/step - loss: 0.0123 - val_loss: 0.0189\n",
      "Epoch 87/100\n",
      "760/760 [==============================] - 0s 62us/step - loss: 0.0127 - val_loss: 0.0169\n",
      "Epoch 88/100\n",
      "760/760 [==============================] - 0s 58us/step - loss: 0.0115 - val_loss: 0.0170\n",
      "Epoch 89/100\n",
      "760/760 [==============================] - 0s 59us/step - loss: 0.0119 - val_loss: 0.0165\n",
      "Epoch 90/100\n",
      "760/760 [==============================] - 0s 59us/step - loss: 0.0111 - val_loss: 0.0208\n",
      "Epoch 91/100\n",
      "760/760 [==============================] - 0s 59us/step - loss: 0.0107 - val_loss: 0.0179\n",
      "Epoch 92/100\n",
      "760/760 [==============================] - 0s 71us/step - loss: 0.0112 - val_loss: 0.0175\n",
      "Epoch 93/100\n",
      "760/760 [==============================] - 0s 59us/step - loss: 0.0096 - val_loss: 0.0171\n",
      "Epoch 94/100\n",
      "760/760 [==============================] - 0s 57us/step - loss: 0.0120 - val_loss: 0.0141\n",
      "Epoch 95/100\n",
      "760/760 [==============================] - 0s 57us/step - loss: 0.0126 - val_loss: 0.0181\n",
      "Epoch 96/100\n",
      "760/760 [==============================] - 0s 57us/step - loss: 0.0125 - val_loss: 0.0180\n",
      "Epoch 97/100\n",
      "760/760 [==============================] - 0s 58us/step - loss: 0.0110 - val_loss: 0.0184\n",
      "Epoch 98/100\n",
      "760/760 [==============================] - 0s 58us/step - loss: 0.0120 - val_loss: 0.0165\n",
      "Epoch 99/100\n",
      "760/760 [==============================] - 0s 58us/step - loss: 0.0112 - val_loss: 0.0143\n",
      "Epoch 100/100\n",
      "760/760 [==============================] - 0s 58us/step - loss: 0.0117 - val_loss: 0.0168\n"
     ]
    }
   ],
   "source": [
    "# 2. 모델 구성하기\n",
    "model = Sequential()\n",
    "model.add(Dense(32,input_dim=40,activation=\"relu\"))\n",
    "model.add(Dropout(0.3))\n",
    "for i in range(2):\n",
    "    model.add(Dense(32,activation=\"relu\"))\n",
    "    model.add(Dropout(0.3))\n",
    "model.add(Dense(1))\n",
    "\n",
    "# 3. 모델 학습과정 설정하기\n",
    "model.compile(loss='mean_squared_error', optimizer='adagrad')\n",
    "\n",
    "# 4. 모델 학습시키기\n",
    "hist = model.fit(x_train, y_train, epochs=100, batch_size=32, validation_data=(x_val, y_val))\n"
   ]
  },
  {
   "cell_type": "code",
   "execution_count": 10,
   "metadata": {},
   "outputs": [
    {
     "data": {
      "image/png": "[encoded data removed]",
      "text/plain": [
       "<Figure size 432x288 with 1 Axes>"
      ]
     },
     "metadata": {
      "needs_background": "light"
     },
     "output_type": "display_data"
    }
   ],
   "source": [
    "\n",
    "# 5. 학습과정 살펴보기\n",
    "plt.plot(hist.history['loss'])\n",
    "plt.plot(hist.history['val_loss'])\n",
    "plt.ylim(0.0, 0.15)\n",
    "plt.ylabel('loss')\n",
    "plt.xlabel('epoch')\n",
    "plt.legend(['train', 'val'], loc='upper left')\n",
    "plt.show()"
   ]
  },
  {
   "cell_type": "code",
   "execution_count": 11,
   "metadata": {},
   "outputs": [
    {
     "name": "stdout",
     "output_type": "stream",
     "text": [
      "Train Score:  0.0171441955982\n",
      "Validataion Score:  0.0168355283431\n",
      "Test Score:  0.0168355283431\n"
     ]
    }
   ],
   "source": [
    "# 6. 모델 평가하기\n",
    "trainScore = model.evaluate(x_train, y_train, verbose=0) # verbose=0: 처리과정 출력안함.\n",
    "print('Train Score: ', trainScore)\n",
    "valScore = model.evaluate(x_val, y_val, verbose=0)\n",
    "print('Validataion Score: ', valScore)\n",
    "testScore = model.evaluate(x_test, y_test, verbose=0)\n",
    "print('Test Score: ', testScore)"
   ]
  },
  {
   "cell_type": "code",
   "execution_count": 12,
   "metadata": {},
   "outputs": [
    {
     "data": {
      "image/png": "[encoded data removed]",
      "text/plain": [
       "<Figure size 864x360 with 1 Axes>"
      ]
     },
     "metadata": {
      "needs_background": "light"
     },
     "output_type": "display_data"
    }
   ],
   "source": [
    "# 7. 모델 사용하기\n",
    "look_ahead = 250  # 250개 예측\n",
    "xhat = x_test[0, None]\n",
    "predictions = np.zeros((look_ahead,1))\n",
    "# print(predictions[0:10])\n",
    "for i in range(look_ahead): # 0 ~ 249\n",
    "    prediction = model.predict(xhat, batch_size=32)  # 예측\n",
    "    predictions[i] = prediction  # 예측 결과 저장\n",
    "    xhat = np.hstack([xhat[:,1:],prediction])  # 두 개 이상의 배열을 옆으로 연결하여 열의 수가 더 많은 배열을 만든다.\n",
    "    \n",
    "plt.figure(figsize=(12,5))\n",
    "plt.plot(np.arange(look_ahead),predictions,'r',label=\"prediction\")\n",
    "plt.plot(np.arange(look_ahead),y_test[:look_ahead],label=\"test function\")\n",
    "plt.legend()\n",
    "plt.show()"
   ]
  },
  {
   "cell_type": "code",
   "execution_count": null,
   "metadata": {
    "collapsed": true
   },
   "outputs": [],
   "source": []
  },
  {
   "cell_type": "code",
   "execution_count": null,
   "metadata": {
    "collapsed": true
   },
   "outputs": [],
   "source": []
  },
  {
   "cell_type": "code",
   "execution_count": null,
   "metadata": {
    "collapsed": true
   },
   "outputs": [],
   "source": []
  },
  {
   "cell_type": "code",
   "execution_count": null,
   "metadata": {
    "collapsed": true
   },
   "outputs": [],
   "source": []
  }
 ],
 "metadata": {
  "kernelspec": {
   "display_name": "machine",
   "language": "python",
   "name": "machine"
  },
  "language_info": {
   "codemirror_mode": {
    "name": "ipython",
    "version": 3
   },
   "file_extension": ".py",
   "mimetype": "text/x-python",
   "name": "python",
   "nbconvert_exporter": "python",
   "pygments_lexer": "ipython3",
   "version": "3.6.8"
  }
 },
 "nbformat": 4,
 "nbformat_minor": 2
}
