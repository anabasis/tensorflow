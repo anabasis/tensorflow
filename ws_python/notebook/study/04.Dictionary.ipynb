{
 "cells": [
  {
   "cell_type": "code",
   "execution_count": 2,
   "metadata": {},
   "outputs": [
    {
     "name": "stdout",
     "output_type": "stream",
     "text": [
      "90\n"
     ]
    }
   ],
   "source": [
    "scores = {\"철수\": 90, \"민수\": 85, \"영희\": 80}\n",
    "v = scores[\"민수\"]   # 특정 요소 읽기\n",
    "scores[\"민수\"] = 88  # 쓰기\n",
    "print(scores[\"철수\"])"
   ]
  },
  {
   "cell_type": "code",
   "execution_count": 3,
   "metadata": {},
   "outputs": [
    {
     "name": "stdout",
     "output_type": "stream",
     "text": [
      "35\n",
      "90\n"
     ]
    }
   ],
   "source": [
    "# 1. Tuple List로부터 dict 생성\n",
    "persons = [('김기수', 30), ('홍대길', 35), ('강찬수', 25)]\n",
    "mydict = dict(persons)\n",
    " \n",
    "age = mydict[\"홍대길\"]\n",
    "print(age)   # 35\n",
    " \n",
    "# 2. Key=Value 파라미터로부터 dict 생성\n",
    "scores = dict(a=80, b=90, c=85)\n",
    "print(scores['b'])  #90"
   ]
  },
  {
   "cell_type": "code",
   "execution_count": 4,
   "metadata": {},
   "outputs": [
    {
     "name": "stdout",
     "output_type": "stream",
     "text": [
      "{'철수': 90, '민수': 88, '길동': 95}\n"
     ]
    }
   ],
   "source": [
    "scores = {\"철수\": 90, \"민수\": 85, \"영희\": 80}\n",
    "scores[\"민수\"] = 88   # 수정\n",
    "scores[\"길동\"] = 95   # 추가\n",
    "del scores[\"영희\"]\n",
    "print(scores)\n",
    "# 출력 {'철수': 90, '길동': 95, '민수': 88}"
   ]
  },
  {
   "cell_type": "code",
   "execution_count": 5,
   "metadata": {},
   "outputs": [
    {
     "name": "stdout",
     "output_type": "stream",
     "text": [
      "철수 : 90\n",
      "민수 : 85\n",
      "영희 : 80\n"
     ]
    }
   ],
   "source": [
    "scores = {\"철수\": 90, \"민수\": 85, \"영희\": 80}\n",
    " \n",
    "for key in scores:\n",
    "    val = scores[key]\n",
    "    print(\"%s : %d\" % (key, val))"
   ]
  },
  {
   "cell_type": "code",
   "execution_count": 6,
   "metadata": {},
   "outputs": [
    {
     "name": "stdout",
     "output_type": "stream",
     "text": [
      "철수\n",
      "민수\n",
      "영희\n",
      "90\n",
      "85\n",
      "80\n"
     ]
    }
   ],
   "source": [
    "scores = {\"철수\": 90, \"민수\": 85, \"영희\": 80}\n",
    " \n",
    "# keys\n",
    "keys = scores.keys()\n",
    "for k in keys:\n",
    "    print(k)\n",
    " \n",
    "# values\n",
    "values = scores.values()\n",
    "for v in values:\n",
    "    print(v)"
   ]
  },
  {
   "cell_type": "code",
   "execution_count": 7,
   "metadata": {},
   "outputs": [
    {
     "name": "stdout",
     "output_type": "stream",
     "text": [
      "dict_items([('철수', 90), ('민수', 85), ('영희', 80)])\n"
     ]
    }
   ],
   "source": [
    "scores = {\"철수\": 90, \"민수\": 85, \"영희\": 80}\n",
    " \n",
    "items = scores.items()\n",
    "print(items)\n",
    "# 출력: dict_items([('민수', 85), ('영희', 80), ('철수', 90)])\n",
    " \n",
    "# dict_items를 리스트로 변환할 때\n",
    "itemsList = list(items)"
   ]
  },
  {
   "cell_type": "code",
   "execution_count": 8,
   "metadata": {},
   "outputs": [
    {
     "ename": "KeyError",
     "evalue": "'길동'",
     "output_type": "error",
     "traceback": [
      "\u001b[1;31m---------------------------------------------------------------------------\u001b[0m",
      "\u001b[1;31mKeyError\u001b[0m                                  Traceback (most recent call last)",
      "\u001b[1;32m<ipython-input-8-226aad4436cc>\u001b[0m in \u001b[0;36m<module>\u001b[1;34m\u001b[0m\n\u001b[0;32m      2\u001b[0m \u001b[0mv\u001b[0m \u001b[1;33m=\u001b[0m \u001b[0mscores\u001b[0m\u001b[1;33m.\u001b[0m\u001b[0mget\u001b[0m\u001b[1;33m(\u001b[0m\u001b[1;34m\"민수\"\u001b[0m\u001b[1;33m)\u001b[0m  \u001b[1;31m# 85\u001b[0m\u001b[1;33m\u001b[0m\u001b[1;33m\u001b[0m\u001b[0m\n\u001b[0;32m      3\u001b[0m \u001b[0mv\u001b[0m \u001b[1;33m=\u001b[0m \u001b[0mscores\u001b[0m\u001b[1;33m.\u001b[0m\u001b[0mget\u001b[0m\u001b[1;33m(\u001b[0m\u001b[1;34m\"길동\"\u001b[0m\u001b[1;33m)\u001b[0m  \u001b[1;31m# None\u001b[0m\u001b[1;33m\u001b[0m\u001b[1;33m\u001b[0m\u001b[0m\n\u001b[1;32m----> 4\u001b[1;33m \u001b[0mv\u001b[0m \u001b[1;33m=\u001b[0m \u001b[0mscores\u001b[0m\u001b[1;33m[\u001b[0m\u001b[1;34m\"길동\"\u001b[0m\u001b[1;33m]\u001b[0m      \u001b[1;31m# 에러 발생\u001b[0m\u001b[1;33m\u001b[0m\u001b[1;33m\u001b[0m\u001b[0m\n\u001b[0m\u001b[0;32m      5\u001b[0m \u001b[1;33m\u001b[0m\u001b[0m\n\u001b[0;32m      6\u001b[0m \u001b[1;31m# 멤버쉽연산자 in 사용\u001b[0m\u001b[1;33m\u001b[0m\u001b[1;33m\u001b[0m\u001b[1;33m\u001b[0m\u001b[0m\n",
      "\u001b[1;31mKeyError\u001b[0m: '길동'"
     ]
    }
   ],
   "source": [
    "scores = {\"철수\": 90, \"민수\": 85, \"영희\": 80}\n",
    "v = scores.get(\"민수\")  # 85\n",
    "v = scores.get(\"길동\")  # None\n",
    "v = scores[\"길동\"]      # 에러 발생\n",
    " \n",
    "# 멤버쉽연산자 in 사용\n",
    "if \"길동\" in scores:\n",
    "    print(scores[\"길동\"])\n",
    " \n",
    "scores.clear()  # 모두 삭제\n",
    "print(scores)"
   ]
  },
  {
   "cell_type": "code",
   "execution_count": 14,
   "metadata": {},
   "outputs": [
    {
     "name": "stdout",
     "output_type": "stream",
     "text": [
      "{'김기수': 30, '홍대길': 33, '강찬수': 26, '테스트': 29}\n"
     ]
    }
   ],
   "source": [
    "persons = [('김기수', 30), ('홍대길', 35), ('강찬수', 25)]\n",
    "mydict = dict(persons)\n",
    "mydict.update({'홍대길':33,'강찬수':26,'테스트':29})\n",
    "print(mydict)"
   ]
  },
  {
   "cell_type": "code",
   "execution_count": null,
   "metadata": {},
   "outputs": [],
   "source": []
  }
 ],
 "metadata": {
  "kernelspec": {
   "display_name": "machine",
   "language": "python",
   "name": "machine"
  },
  "language_info": {
   "codemirror_mode": {
    "name": "ipython",
    "version": 3
   },
   "file_extension": ".py",
   "mimetype": "text/x-python",
   "name": "python",
   "nbconvert_exporter": "python",
   "pygments_lexer": "ipython3",
   "version": "3.6.9"
  }
 },
 "nbformat": 4,
 "nbformat_minor": 2
}
