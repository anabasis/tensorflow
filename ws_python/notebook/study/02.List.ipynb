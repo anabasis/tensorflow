{
 "cells": [
  {
   "cell_type": "code",
   "execution_count": 1,
   "metadata": {},
   "outputs": [],
   "source": [
    "a = []     # 빈 리스트\n",
    "a = [\"AB\", 10, False]"
   ]
  },
  {
   "cell_type": "code",
   "execution_count": 2,
   "metadata": {},
   "outputs": [],
   "source": [
    "a = [\"AB\", 10, False]\n",
    "x = a[1]        # a의 두번째 요소 읽기\n",
    "a[1] = \"Test\"   # a의 두번째 요소 변경\n",
    "y = a[-1]       # False"
   ]
  },
  {
   "cell_type": "code",
   "execution_count": 3,
   "metadata": {},
   "outputs": [],
   "source": [
    "a = [1, 3, 5, 7, 10]\n",
    "x = a[1:3]     # [3, 5]\n",
    "x = a[:2]      # [1, 3]\n",
    "x = a[3:]      # [7, 10]"
   ]
  },
  {
   "cell_type": "code",
   "execution_count": 4,
   "metadata": {},
   "outputs": [
    {
     "name": "stdout",
     "output_type": "stream",
     "text": [
      "['AB', 11, 21.5]\n"
     ]
    }
   ],
   "source": [
    "a = [\"AB\", 10, False]\n",
    "a.append(21.5)  # 추가\n",
    "a[1] = 11       # 변경\n",
    "del a[2]        # 삭제\n",
    "print(a)        # ['AB', 11, 21.5]"
   ]
  },
  {
   "cell_type": "code",
   "execution_count": 5,
   "metadata": {},
   "outputs": [
    {
     "name": "stdout",
     "output_type": "stream",
     "text": [
      "[1, 2, 3, 4, 5]\n",
      "[1, 2, 1, 2, 1, 2]\n"
     ]
    }
   ],
   "source": [
    "# 병합\n",
    "a = [1, 2]\n",
    "b = [3, 4, 5]\n",
    "c = a + b\n",
    "print(c)   # [1, 2, 3, 4, 5]\n",
    " \n",
    "# 반복\n",
    "d = a * 3\n",
    "print(d)   # [1, 2, 1, 2, 1, 2]"
   ]
  },
  {
   "cell_type": "code",
   "execution_count": 6,
   "metadata": {},
   "outputs": [
    {
     "name": "stdout",
     "output_type": "stream",
     "text": [
      "3 2\n"
     ]
    }
   ],
   "source": [
    "mylist = \"This is a book That is a pencil\".split()\n",
    "i = mylist.index('book')  # i = 3\n",
    "n = mylist.count('is')    # n = 2\n",
    "print(i, n)"
   ]
  },
  {
   "cell_type": "code",
   "execution_count": 8,
   "metadata": {},
   "outputs": [
    {
     "name": "stdout",
     "output_type": "stream",
     "text": [
      "[0, 9, 36, 81]\n"
     ]
    }
   ],
   "source": [
    "list = [n ** 2 for n in range(10) if n % 3 == 0]\n",
    "print(list)\n",
    "# 출력: [0, 9, 36, 81]"
   ]
  },
  {
   "cell_type": "code",
   "execution_count": 9,
   "metadata": {},
   "outputs": [
    {
     "name": "stdout",
     "output_type": "stream",
     "text": [
      "(1, 2, 3, 4, 5)\n",
      "(1, 2, 1, 2, 1, 2)\n"
     ]
    }
   ],
   "source": [
    "# 병합\n",
    "a = (1, 2)\n",
    "b = (3, 4, 5)\n",
    "c = a + b\n",
    "print(c)   # (1, 2, 3, 4, 5)\n",
    " \n",
    "# 반복\n",
    "d = a * 3  # 혹은 \"d = 3 * a\" 도 동일\n",
    "print(d)   # (1, 2, 1, 2, 1, 2)"
   ]
  },
  {
   "cell_type": "code",
   "execution_count": 10,
   "metadata": {},
   "outputs": [
    {
     "name": "stdout",
     "output_type": "stream",
     "text": [
      "('John', 'Kim')\n",
      "Kim , John\n"
     ]
    }
   ],
   "source": [
    "name = (\"John\", \"Kim\")\n",
    "print(name)\n",
    "# 출력: ('John', 'Kim')\n",
    " \n",
    "firstname, lastname = (\"John\", \"Kim\")\n",
    "print(lastname, \",\", firstname)\n",
    "# 출력: Kim, John"
   ]
  },
  {
   "cell_type": "code",
   "execution_count": null,
   "metadata": {},
   "outputs": [],
   "source": []
  }
 ],
 "metadata": {
  "kernelspec": {
   "display_name": "machine",
   "language": "python",
   "name": "machine"
  },
  "language_info": {
   "codemirror_mode": {
    "name": "ipython",
    "version": 3
   },
   "file_extension": ".py",
   "mimetype": "text/x-python",
   "name": "python",
   "nbconvert_exporter": "python",
   "pygments_lexer": "ipython3",
   "version": "3.6.9"
  }
 },
 "nbformat": 4,
 "nbformat_minor": 2
}
