{
 "cells": [
  {
   "cell_type": "code",
   "execution_count": 1,
   "metadata": {},
   "outputs": [],
   "source": [
    "a = []     # 빈 리스트\n",
    "a = [\"AB\", 10, False]"
   ]
  },
  {
   "cell_type": "code",
   "execution_count": 2,
   "metadata": {},
   "outputs": [],
   "source": [
    "a = [\"AB\", 10, False]\n",
    "x = a[1]        # a의 두번째 요소 읽기\n",
    "a[1] = \"Test\"   # a의 두번째 요소 변경\n",
    "y = a[-1]       # False"
   ]
  },
  {
   "cell_type": "code",
   "execution_count": 3,
   "metadata": {},
   "outputs": [],
   "source": [
    "a = [1, 3, 5, 7, 10]\n",
    "x = a[1:3]     # [3, 5]\n",
    "x = a[:2]      # [1, 3]\n",
    "x = a[3:]      # [7, 10]"
   ]
  },
  {
   "cell_type": "code",
   "execution_count": 4,
   "metadata": {},
   "outputs": [
    {
     "name": "stdout",
     "output_type": "stream",
     "text": [
      "['AB', 11, 21.5]\n"
     ]
    }
   ],
   "source": [
    "a = [\"AB\", 10, False]\n",
    "a.append(21.5)  # 추가\n",
    "a[1] = 11       # 변경\n",
    "del a[2]        # 삭제\n",
    "print(a)        # ['AB', 11, 21.5]"
   ]
  },
  {
   "cell_type": "code",
   "execution_count": 5,
   "metadata": {},
   "outputs": [
    {
     "name": "stdout",
     "output_type": "stream",
     "text": [
      "[1, 2, 3, 4, 5]\n",
      "[1, 2, 1, 2, 1, 2]\n"
     ]
    }
   ],
   "source": [
    "# 병합\n",
    "a = [1, 2]\n",
    "b = [3, 4, 5]\n",
    "c = a + b\n",
    "print(c)   # [1, 2, 3, 4, 5]\n",
    " \n",
    "# 반복\n",
    "d = a * 3\n",
    "print(d)   # [1, 2, 1, 2, 1, 2]"
   ]
  },
  {
   "cell_type": "code",
   "execution_count": 6,
   "metadata": {},
   "outputs": [
    {
     "name": "stdout",
     "output_type": "stream",
     "text": [
      "3 2\n"
     ]
    }
   ],
   "source": [
    "mylist = \"This is a book That is a pencil\".split()\n",
    "i = mylist.index('book')  # i = 3\n",
    "n = mylist.count('is')    # n = 2\n",
    "print(i, n)"
   ]
  },
  {
   "cell_type": "code",
   "execution_count": 8,
   "metadata": {},
   "outputs": [
    {
     "name": "stdout",
     "output_type": "stream",
     "text": [
      "[0, 9, 36, 81]\n"
     ]
    }
   ],
   "source": [
    "list = [n ** 2 for n in range(10) if n % 3 == 0]\n",
    "print(list)\n",
    "# 출력: [0, 9, 36, 81]"
   ]
  },
  {
   "cell_type": "code",
   "execution_count": 9,
   "metadata": {},
   "outputs": [
    {
     "name": "stdout",
     "output_type": "stream",
     "text": [
      "(1, 2, 3, 4, 5)\n",
      "(1, 2, 1, 2, 1, 2)\n"
     ]
    }
   ],
   "source": [
    "# 병합\n",
    "a = (1, 2)\n",
    "b = (3, 4, 5)\n",
    "c = a + b\n",
    "print(c)   # (1, 2, 3, 4, 5)\n",
    " \n",
    "# 반복\n",
    "d = a * 3  # 혹은 \"d = 3 * a\" 도 동일\n",
    "print(d)   # (1, 2, 1, 2, 1, 2)"
   ]
  },
  {
   "cell_type": "code",
   "execution_count": 1,
   "metadata": {},
   "outputs": [
    {
     "name": "stdout",
     "output_type": "stream",
     "text": [
      "('John', 'Kim')\n",
      "Kim , John\n"
     ]
    }
   ],
   "source": [
    "name = (\"John\", \"Kim\")\n",
    "print(name)\n",
    "# 출력: ('John', 'Kim')\n",
    " \n",
    "firstname, lastname = (\"John\", \"Kim\")\n",
    "print(lastname, \",\", firstname)\n",
    "# 출력: Kim, John"
   ]
  },
  {
   "cell_type": "markdown",
   "metadata": {},
   "source": [
    "# 정리"
   ]
  },
  {
   "cell_type": "code",
   "execution_count": null,
   "metadata": {},
   "outputs": [],
   "source": [
    "a = []\n",
    "a = [\"AB\", 10, False]\n",
    "\n",
    "x = a[1]        # a의 두번째 요소 읽기\n",
    "a[1] = \"Test\"   # a의 두번째 요소 변경\n",
    "y = a[-1]       # False\n",
    "\n",
    "a = [1, 3, 5, 7, 10]\n",
    "x = a[1:3]     # 범위 [3, 5]\n",
    "x = a[:2]      # 범위 [1, 3]\n",
    "x = a[3:]      # 범위 [7, 10]\n",
    "\n",
    "a = [\"AB\", 10, False]\n",
    "a.append(21.5)  # 추가 [\"AB\", 10, False, 21.5]\n",
    "a[1] = 11       # 변경 [\"AB\", 11, False, 21.5]\n",
    "del a[2]        # 삭제 ['AB', 11, 21.5]\n",
    "\n",
    "a = [1, 2]\n",
    "b = [3, 4, 5]\n",
    "c = a + b # 병합 [1, 2, 3, 4, 5]\n",
    "d = a * 3 # 반복3회 [1, 2, 1, 2, 1, 2]\n",
    "\n",
    "mylist = \"This is a book That is a pencil\".split()\n",
    "i = mylist.index('book')  # i = 3\n",
    "n = mylist.count('is')    # n = 2\n",
    "\n",
    "list = [ n ** 2 for n in range(10) if n % 3 == 0 ] # 출력: [0, 9, 36, 81]\n",
    "\n",
    "a = [[10, 20], [30, 40], [50, 60]] # 결과 [[10, 20], [30, 40], [50, 60]]\n",
    "a = a[0][0]  # 10 : 세로 인덱스 0, 가로 인덱스 0인 요소 출력\n",
    "a[1][1]  # 40 : 세로 인덱스 1, 가로 인덱스 1인 요소 출력\n",
    "a[0][1] = 1000 # [[10, 20], [1000, 40], [50, 60]] 세로 인덱스 0, 가로 인덱스 1인 요소에 값 할당\n",
    "\n",
    "a = [[10, 20],\n",
    "     [500, 600, 700],\n",
    "     [9],\n",
    "     [30, 40],\n",
    "     [8],\n",
    "     [800, 900, 1000]]\n",
    "\n",
    "\n",
    "Matrix = [ [0]*5 for i in range(5)] # 모든 원소가 0인 5x5리스트 생성\n",
    "print Matrix[0][0] # 출력 1\n",
    "print Matrix[4][0] # 출력 5\n",
    "\n",
    "mylist = [ [1,2,3], [4,5,6], [7,8,9] ]\n",
    "new_list = [[],[],[]]\n",
    "\n",
    "for i in range(3):\n",
    "    for j in range(3):\n",
    "        new_list[i].append(mylist[j][i])\n",
    "        \n",
    "mylist = [ [1,2,3], [4,5,6], [7,8,9] ]\n",
    "new_list = list(map(list, zip(*mylist)))        \n",
    "\n",
    "mylist = [ 1 , 2 , 3 ]\n",
    "new_list = [ 40, 50, 60 ]\n",
    "for i in zip(mylist, new_list):\n",
    "    print (i)\n",
    "(1, 40)\n",
    "(2, 50)\n",
    "(3, 60)\n",
    "\n",
    "w, h = 8, 5. \n",
    "Matrix = [[ 0 for x in range(w) ] for y in range(h)]"
   ]
  }
 ],
 "metadata": {
  "kernelspec": {
   "display_name": "machine",
   "language": "python",
   "name": "machine"
  },
  "language_info": {
   "codemirror_mode": {
    "name": "ipython",
    "version": 3
   },
   "file_extension": ".py",
   "mimetype": "text/x-python",
   "name": "python",
   "nbconvert_exporter": "python",
   "pygments_lexer": "ipython3",
   "version": "3.6.9"
  }
 },
 "nbformat": 4,
 "nbformat_minor": 2
}
