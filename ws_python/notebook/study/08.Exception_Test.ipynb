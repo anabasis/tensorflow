{
 "cells": [
  {
   "cell_type": "markdown",
   "metadata": {},
   "source": [
    "# Exception"
   ]
  },
  {
   "cell_type": "markdown",
   "metadata": {},
   "source": [
    "```python\n",
    "try:\n",
    "  문장1\n",
    "  문장2\n",
    "except:\n",
    "  예외처리\n",
    "finally:\n",
    "  마지막에 항상 수행\n",
    "```"
   ]
  },
  {
   "cell_type": "code",
   "execution_count": 1,
   "metadata": {},
   "outputs": [
    {
     "name": "stdout",
     "output_type": "stream",
     "text": [
      "에러없음\n",
      "6\n",
      "인덱스에러\n",
      "None\n"
     ]
    }
   ],
   "source": [
    "def calc(values):\n",
    "    sum = None\n",
    "    # try...except...else\n",
    "    try:\n",
    "       sum = values[0] + values[1] + values[2]\n",
    "    except IndexError as err:\n",
    "        print('인덱스에러')\n",
    "    except Exception as err:\n",
    "        print(str(err))\n",
    "    else:\n",
    "        print('에러없음')\n",
    "    finally:\n",
    "        print(sum)\n",
    " \n",
    "# 테스트\n",
    "calc([1, 2, 3, 6]) # 출력: 에러없음 6\n",
    "calc([1, 2])       # 출력: 인덱스에러 None"
   ]
  },
  {
   "cell_type": "code",
   "execution_count": 9,
   "metadata": {},
   "outputs": [
    {
     "name": "stdout",
     "output_type": "stream",
     "text": [
      "오류발생\n"
     ]
    }
   ],
   "source": [
    "def calc(values):\n",
    "    sum = None\n",
    "    try:\n",
    "       sum = values[0] + values[1] + values[2]\n",
    "    except (IndexError, ValueError):\n",
    "        print('오류발생')\n",
    " \n",
    "# 테스트\n",
    "calc([1, 2]) # 출력: 오류발생"
   ]
  },
  {
   "cell_type": "markdown",
   "metadata": {},
   "source": [
    "```python\n",
    "# pass 를 사용한 예\n",
    "try:\n",
    "   check()\n",
    "except FileExistsError:\n",
    "    pass\n",
    " \n",
    "# raise 를 사용한 예\n",
    "if total < 0:\n",
    "    raise Exception('Total Error')\n",
    "```"
   ]
  },
  {
   "cell_type": "code",
   "execution_count": 12,
   "metadata": {},
   "outputs": [
    {
     "name": "stdout",
     "output_type": "stream",
     "text": [
      "파일에러\n"
     ]
    }
   ],
   "source": [
    "try:\n",
    "   fp = open(\"test.txt\", \"r\")\n",
    "   try:\n",
    "      lines = fp.readlines()\n",
    "      print(lines)\n",
    "   finally:\n",
    "      fp.close()\n",
    "except IOError:\n",
    "   print('파일에러')"
   ]
  },
  {
   "cell_type": "code",
   "execution_count": 13,
   "metadata": {},
   "outputs": [
    {
     "ename": "FileNotFoundError",
     "evalue": "[Errno 2] No such file or directory: 'test.txt'",
     "output_type": "error",
     "traceback": [
      "\u001b[1;31m---------------------------------------------------------------------------\u001b[0m",
      "\u001b[1;31mFileNotFoundError\u001b[0m                         Traceback (most recent call last)",
      "\u001b[1;32m<ipython-input-13-e7db5c858451>\u001b[0m in \u001b[0;36m<module>\u001b[1;34m\u001b[0m\n\u001b[1;32m----> 1\u001b[1;33m \u001b[1;32mwith\u001b[0m \u001b[0mopen\u001b[0m\u001b[1;33m(\u001b[0m\u001b[1;34m'test.txt'\u001b[0m\u001b[1;33m,\u001b[0m \u001b[1;34m'r'\u001b[0m\u001b[1;33m)\u001b[0m \u001b[1;32mas\u001b[0m \u001b[0mfp\u001b[0m\u001b[1;33m:\u001b[0m\u001b[1;33m\u001b[0m\u001b[1;33m\u001b[0m\u001b[0m\n\u001b[0m\u001b[0;32m      2\u001b[0m     \u001b[0mlines\u001b[0m \u001b[1;33m=\u001b[0m \u001b[0mfp\u001b[0m\u001b[1;33m.\u001b[0m\u001b[0mreadlines\u001b[0m\u001b[1;33m(\u001b[0m\u001b[1;33m)\u001b[0m\u001b[1;33m\u001b[0m\u001b[1;33m\u001b[0m\u001b[0m\n\u001b[0;32m      3\u001b[0m     \u001b[0mprint\u001b[0m\u001b[1;33m(\u001b[0m\u001b[0mlines\u001b[0m\u001b[1;33m)\u001b[0m\u001b[1;33m\u001b[0m\u001b[1;33m\u001b[0m\u001b[0m\n",
      "\u001b[1;31mFileNotFoundError\u001b[0m: [Errno 2] No such file or directory: 'test.txt'"
     ]
    }
   ],
   "source": [
    "with open('test.txt', 'r') as fp:\n",
    "    lines = fp.readlines()\n",
    "    print(lines)"
   ]
  },
  {
   "cell_type": "markdown",
   "metadata": {},
   "source": [
    "# UniTest"
   ]
  },
  {
   "cell_type": "code",
   "execution_count": 19,
   "metadata": {},
   "outputs": [
    {
     "name": "stderr",
     "output_type": "stream",
     "text": [
      "E\n",
      "======================================================================\n",
      "ERROR: C:\\Users\\soldesk\\AppData\\Roaming\\jupyter\\runtime\\kernel-3c85b9d3-383f-44da-be24-b5b6fe5c6681 (unittest.loader._FailedTest)\n",
      "----------------------------------------------------------------------\n",
      "AttributeError: module '__main__' has no attribute 'C:\\Users\\soldesk\\AppData\\Roaming\\jupyter\\runtime\\kernel-3c85b9d3-383f-44da-be24-b5b6fe5c6681'\n",
      "\n",
      "----------------------------------------------------------------------\n",
      "Ran 1 test in 0.000s\n",
      "\n",
      "FAILED (errors=1)\n"
     ]
    },
    {
     "ename": "SystemExit",
     "evalue": "True",
     "output_type": "error",
     "traceback": [
      "An exception has occurred, use %tb to see the full traceback.\n",
      "\u001b[1;31mSystemExit\u001b[0m\u001b[1;31m:\u001b[0m True\n"
     ]
    },
    {
     "name": "stderr",
     "output_type": "stream",
     "text": [
      "C:\\ProgramData\\Anaconda3\\envs\\machine\\lib\\site-packages\\IPython\\core\\interactiveshell.py:3334: UserWarning: To exit: use 'exit', 'quit', or Ctrl-D.\n",
      "  warn(\"To exit: use 'exit', 'quit', or Ctrl-D.\", stacklevel=1)\n"
     ]
    }
   ],
   "source": [
    "# tests.py\n",
    "import unittest\n",
    "import myCalc\n",
    " \n",
    "class MyCalcTest(unittest.TestCase):\n",
    " \n",
    "    def test_add(self):\n",
    "        c = myCalc.add(20, 10)\n",
    "        self.assertEqual(c, 30)\n",
    " \n",
    "    def test_substract(self):\n",
    "        c = myCalc.substract(20, 10)\n",
    "        self.assertEqual(c, 10)\n",
    " \n",
    "if __name__ == '__main__':\n",
    "    unittest.main()"
   ]
  },
  {
   "cell_type": "code",
   "execution_count": 20,
   "metadata": {},
   "outputs": [
    {
     "name": "stderr",
     "output_type": "stream",
     "text": [
      "E\n",
      "======================================================================\n",
      "ERROR: C:\\Users\\soldesk\\AppData\\Roaming\\jupyter\\runtime\\kernel-3c85b9d3-383f-44da-be24-b5b6fe5c6681 (unittest.loader._FailedTest)\n",
      "----------------------------------------------------------------------\n",
      "AttributeError: module '__main__' has no attribute 'C:\\Users\\soldesk\\AppData\\Roaming\\jupyter\\runtime\\kernel-3c85b9d3-383f-44da-be24-b5b6fe5c6681'\n",
      "\n",
      "----------------------------------------------------------------------\n",
      "Ran 1 test in 0.001s\n",
      "\n",
      "FAILED (errors=1)\n"
     ]
    },
    {
     "ename": "SystemExit",
     "evalue": "True",
     "output_type": "error",
     "traceback": [
      "An exception has occurred, use %tb to see the full traceback.\n",
      "\u001b[1;31mSystemExit\u001b[0m\u001b[1;31m:\u001b[0m True\n"
     ]
    },
    {
     "name": "stderr",
     "output_type": "stream",
     "text": [
      "C:\\ProgramData\\Anaconda3\\envs\\machine\\lib\\site-packages\\IPython\\core\\interactiveshell.py:3334: UserWarning: To exit: use 'exit', 'quit', or Ctrl-D.\n",
      "  warn(\"To exit: use 'exit', 'quit', or Ctrl-D.\", stacklevel=1)\n"
     ]
    }
   ],
   "source": [
    "import unittest\n",
    "import os\n",
    "import myUtil\n",
    " \n",
    "class MyUtilTest(unittest.TestCase):\n",
    "    testfile = 'test.txt'\n",
    " \n",
    "    # Fixture\n",
    "    def setUp(self):\n",
    "        f = open(MyUtilTest.testfile, 'w')\n",
    "        f.write('1234567890')\n",
    "        f.close()\n",
    " \n",
    "    def tearDown(self):\n",
    "        try:\n",
    "            os.remove(MyUtilTest.testfile)\n",
    "        except:\n",
    "            pass\n",
    " \n",
    "    def test_filelen(self):\n",
    "        leng = myUtil.filelen(MyUtilTest.testfile)\n",
    "        self.assertEqual(leng, 10)\n",
    " \n",
    "    def test_count_in_file(self):\n",
    "        cnt = myUtil.count_in_file(MyUtilTest.testfile, '0')\n",
    "        self.assertEqual(cnt, 1)\n",
    " \n",
    "if __name__ == '__main__':\n",
    "    unittest.main()"
   ]
  },
  {
   "cell_type": "code",
   "execution_count": null,
   "metadata": {},
   "outputs": [],
   "source": []
  }
 ],
 "metadata": {
  "kernelspec": {
   "display_name": "machine",
   "language": "python",
   "name": "machine"
  },
  "language_info": {
   "codemirror_mode": {
    "name": "ipython",
    "version": 3
   },
   "file_extension": ".py",
   "mimetype": "text/x-python",
   "name": "python",
   "nbconvert_exporter": "python",
   "pygments_lexer": "ipython3",
   "version": "3.6.9"
  }
 },
 "nbformat": 4,
 "nbformat_minor": 2
}
