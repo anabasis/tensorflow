{
 "cells": [
  {
   "cell_type": "code",
   "execution_count": 3,
   "metadata": {},
   "outputs": [],
   "source": [
    "# http://pythonstudy.xyz/python/article/21-%EC%9C%A0%EB%8B%9B-%ED%85%8C%EC%8A%A4%ED%8A%B8\n",
    "# 파이썬 소켓 연결 사용법(https://soooprmx.com/archives/8737)"
   ]
  },
  {
   "cell_type": "code",
   "execution_count": 4,
   "metadata": {},
   "outputs": [
    {
     "name": "stdout",
     "output_type": "stream",
     "text": [
      "가나다\n",
      "가나다\n"
     ]
    }
   ],
   "source": [
    "s = '가나다'\n",
    "print(s)\n",
    "s = \"가나다\"\n",
    "print(s)"
   ]
  },
  {
   "cell_type": "code",
   "execution_count": 5,
   "metadata": {},
   "outputs": [
    {
     "name": "stdout",
     "output_type": "stream",
     "text": [
      "아리랑\n",
      "아리랑\n",
      "아라리요\n",
      "\n"
     ]
    }
   ],
   "source": [
    "s = '''아리랑\n",
    "아리랑\n",
    "아라리요\n",
    "'''\n",
    "print(s)"
   ]
  },
  {
   "cell_type": "code",
   "execution_count": 6,
   "metadata": {},
   "outputs": [
    {
     "name": "stdout",
     "output_type": "stream",
     "text": [
      "아리랑\n",
      "아리랑\n",
      "아라리요\n"
     ]
    }
   ],
   "source": [
    "s = '아리랑\\n아리랑\\n아라리요'\n",
    "print(s)"
   ]
  },
  {
   "cell_type": "code",
   "execution_count": 7,
   "metadata": {},
   "outputs": [
    {
     "name": "stdout",
     "output_type": "stream",
     "text": [
      "이름: 김유신 나이: 65\n",
      "X = 3.142, Y =       3.14\n"
     ]
    }
   ],
   "source": [
    "p = \"이름: %s 나이: %d\" % (\"김유신\", 65)\n",
    "print(p)\n",
    "# 출력: 이름: 김유신 나이: 65\n",
    " \n",
    "p = \"X = %0.3f, Y = %10.2f\" % (3.141592, 3.141592)\n",
    "print(p)\n",
    "# 출력: X = 3.142, Y =       3.14"
   ]
  },
  {
   "cell_type": "code",
   "execution_count": 8,
   "metadata": {},
   "outputs": [],
   "source": [
    "# Conversion Specifier\t의미\n",
    "# %s\t문자열 (파이썬 객체를 str()을 사용하여 변환)\n",
    "# %r\t문자열 (파이썬 객체를 repr()을 사용하여 변환)\n",
    "# %c\t문자(char)\n",
    "# %d 또는 %i\t정수 (int)\n",
    "# %f 또는 %F\t부동소수 (float) (%f 소문자 / %F 대문자)\n",
    "# %e 또는 %E\t지수형 부동소수 (소문자 / 대문자)\n",
    "# %g 또는 %G\t일반형: 값에 따라 %e 혹은 %f 사용 (소문자 / 대문자)\n",
    "# %o 또는 %O\t8진수 (소문자 / 대문자)\n",
    "# %x 또는 %X\t16진수 (소문자 / 대문자)\n",
    "# %%\t% 퍼센트 리터럴"
   ]
  },
  {
   "cell_type": "code",
   "execution_count": 9,
   "metadata": {},
   "outputs": [
    {
     "name": "stdout",
     "output_type": "stream",
     "text": [
      "<class 'str'>\n",
      "<class 'str'>\n"
     ]
    }
   ],
   "source": [
    "s = \"ABC\"\n",
    "print(type(s))      # class 'str'\n",
    "v = s[1]     # B\n",
    "print(type(s[1]))   # class 'str'"
   ]
  },
  {
   "cell_type": "code",
   "execution_count": 10,
   "metadata": {},
   "outputs": [
    {
     "name": "stdout",
     "output_type": "stream",
     "text": [
      "C:\\Temp\\test.csv\n"
     ]
    }
   ],
   "source": [
    "# 문자열을 표현할 때, r'문자열' 과 같이 사용하면, 이는 Escape Sequence를 표현하지 않고 Raw String을 직접 사용한다는 것을 의미한다. 예를 들어, 윈도우즈에서 파일경로를 간략히 표현하기 위해 아래와 같이 Raw String 표현을 사용할 수 있다.\n",
    "path = r'C:\\Temp\\test.csv'\n",
    "print(path)"
   ]
  },
  {
   "cell_type": "code",
   "execution_count": 11,
   "metadata": {},
   "outputs": [
    {
     "name": "stdout",
     "output_type": "stream",
     "text": [
      "가나,다라,마바\n",
      "가나다라마바\n"
     ]
    }
   ],
   "source": [
    "s = ','.join(['가나','다라','마바'])\n",
    "print(s)\n",
    "# 출력: 가나,다라,마바\n",
    " \n",
    "s = ''.join(['가나','다라','마바'])\n",
    "print(s)\n",
    "# 출력 : 가나다라마바"
   ]
  },
  {
   "cell_type": "code",
   "execution_count": 12,
   "metadata": {},
   "outputs": [
    {
     "name": "stdout",
     "output_type": "stream",
     "text": [
      "['가나', '다라', '마바']\n"
     ]
    }
   ],
   "source": [
    "items = '가나,다라,마바'.split(',')\n",
    "print(items)\n",
    "# 출력 : ['가나', '다라', '마바']"
   ]
  },
  {
   "cell_type": "code",
   "execution_count": 13,
   "metadata": {},
   "outputs": [
    {
     "name": "stdout",
     "output_type": "stream",
     "text": [
      "Seattle\n"
     ]
    }
   ],
   "source": [
    "departure, _, arrival = \"Seattle-Seoul\".partition('-')\n",
    "print(departure)\n",
    "# 출력 : Seattle"
   ]
  },
  {
   "cell_type": "code",
   "execution_count": 14,
   "metadata": {},
   "outputs": [
    {
     "name": "stdout",
     "output_type": "stream",
     "text": [
      "Name: 강정수, Age: 30\n",
      "Name: 강정수, Age: 30\n",
      "width: 10, height: 20\n"
     ]
    }
   ],
   "source": [
    "# 위치를 기준으로 한 포맷팅\n",
    "s = \"Name: {0}, Age: {1}\".format(\"강정수\", 30)\n",
    "print(s)  #출력: Name: 강정수, Age: 30\n",
    " \n",
    "# 필드명을 기준으로 한 포맷팅\n",
    "s = \"Name: {name}, Age: {age}\".format(name=\"강정수\", age=30)\n",
    "print(s) #출력: Name: 강정수, Age: 30\n",
    " \n",
    "# object의 인덱스 혹은 키를 사용하여 포맷팅\n",
    "area = (10, 20)\n",
    "s = \"width: {x[0]}, height: {x[1]}\".format(x = area)\n",
    "print(s) #출력: width: 10, height: 20"
   ]
  },
  {
   "cell_type": "code",
   "execution_count": 15,
   "metadata": {},
   "outputs": [
    {
     "name": "stdout",
     "output_type": "stream",
     "text": [
      "b'Hello'\n",
      "Hello\n"
     ]
    }
   ],
   "source": [
    "s = \"Hello\"\n",
    "b = s.encode()\n",
    "print(b)    # b'Hello'\n",
    "s2 = b.decode()  \n",
    "print(s2)   # 'Hello'\n",
    " \n",
    "# 특정 인코딩 방식을 지정한 경우\n",
    "x = \"안녕\".encode(\"UTF-8\")\n",
    "y= x.decode(\"UTF-8\")"
   ]
  },
  {
   "cell_type": "code",
   "execution_count": null,
   "metadata": {},
   "outputs": [],
   "source": []
  },
  {
   "cell_type": "code",
   "execution_count": null,
   "metadata": {},
   "outputs": [],
   "source": []
  }
 ],
 "metadata": {
  "kernelspec": {
   "display_name": "machine",
   "language": "python",
   "name": "machine"
  },
  "language_info": {
   "codemirror_mode": {
    "name": "ipython",
    "version": 3
   },
   "file_extension": ".py",
   "mimetype": "text/x-python",
   "name": "python",
   "nbconvert_exporter": "python",
   "pygments_lexer": "ipython3",
   "version": "3.6.9"
  }
 },
 "nbformat": 4,
 "nbformat_minor": 2
}
