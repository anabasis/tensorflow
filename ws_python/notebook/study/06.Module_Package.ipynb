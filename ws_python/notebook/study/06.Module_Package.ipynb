{
 "cells": [
  {
   "cell_type": "markdown",
   "metadata": {},
   "source": [
    "# Module"
   ]
  },
  {
   "cell_type": "code",
   "execution_count": 33,
   "metadata": {},
   "outputs": [],
   "source": [
    "import math\n",
    "n = math.factorial(5)"
   ]
  },
  {
   "cell_type": "code",
   "execution_count": 34,
   "metadata": {},
   "outputs": [],
   "source": [
    "# factorial 함수만 import\n",
    "from math import factorial  \n",
    " \n",
    "n = factorial(5) / factorial(3) "
   ]
  },
  {
   "cell_type": "code",
   "execution_count": 35,
   "metadata": {},
   "outputs": [],
   "source": [
    "# 여러 함수를 import\n",
    "from math import (factorial,acos)\n",
    "n = factorial(3) + acos(1)\n",
    " \n",
    "# 모든 함수를 import\n",
    "from math import *\n",
    "n = sqrt(5) + fabs(-12.5) "
   ]
  },
  {
   "cell_type": "code",
   "execution_count": 36,
   "metadata": {},
   "outputs": [],
   "source": [
    "# factorial() 함수를 f()로 사용 가능\n",
    "from math import factorial as f\n",
    "n = f(5) / f(3)"
   ]
  },
  {
   "cell_type": "code",
   "execution_count": 37,
   "metadata": {},
   "outputs": [],
   "source": [
    "# mylib.py\n",
    "def add(a, b):\n",
    "    return a + b\n",
    " \n",
    "def substract(a, b):\n",
    "    return a - b"
   ]
  },
  {
   "cell_type": "code",
   "execution_count": 38,
   "metadata": {},
   "outputs": [],
   "source": [
    "# exec.py\n",
    "from mylib import *\n",
    " \n",
    "i = add(10,20)\n",
    "i = substract(20,5)"
   ]
  },
  {
   "cell_type": "markdown",
   "metadata": {},
   "source": [
    "# Package\n",
    "\n",
    "1. 현재 디렉토리\n",
    "2. 환경변수 PYTHONPATH에 지정된 경로\n",
    "3. Python이 설치된 경로 및 그 밑의 라이브러리 경로"
   ]
  },
  {
   "cell_type": "code",
   "execution_count": 49,
   "metadata": {},
   "outputs": [
    {
     "name": "stdout",
     "output_type": "stream",
     "text": [
      " %s $ %d 1 50\n"
     ]
    }
   ],
   "source": [
    "# 모듈 import \n",
    "# import 패키지.모듈\n",
    "import models.account.bill\n",
    "models.account.bill.charge(1, 50)"
   ]
  },
  {
   "cell_type": "code",
   "execution_count": 50,
   "metadata": {},
   "outputs": [
    {
     "name": "stdout",
     "output_type": "stream",
     "text": [
      " %s $ %d 1 50\n",
      " %s $ %d 1 50\n"
     ]
    }
   ],
   "source": [
    "# 모듈안의 모든 함수 import\n",
    "# from 패키지명 import 모듈명\n",
    "from models.account import bill\n",
    "bill.charge(1, 50)\n",
    " \n",
    "# 특정 함수만 import\n",
    "# from 패키지명.모듈명 import 함수명\n",
    "from models.account.bill import charge\n",
    "charge(1, 50)"
   ]
  },
  {
   "cell_type": "code",
   "execution_count": 47,
   "metadata": {},
   "outputs": [
    {
     "data": {
      "text/plain": [
       "['C:\\\\ProgramData\\\\Anaconda3\\\\envs\\\\machine\\\\python36.zip',\n",
       " 'C:\\\\ProgramData\\\\Anaconda3\\\\envs\\\\machine\\\\DLLs',\n",
       " 'C:\\\\ProgramData\\\\Anaconda3\\\\envs\\\\machine\\\\lib',\n",
       " 'C:\\\\ProgramData\\\\Anaconda3\\\\envs\\\\machine',\n",
       " '',\n",
       " 'C:\\\\ProgramData\\\\Anaconda3\\\\envs\\\\machine\\\\lib\\\\site-packages',\n",
       " 'C:\\\\ProgramData\\\\Anaconda3\\\\envs\\\\machine\\\\lib\\\\site-packages\\\\win32',\n",
       " 'C:\\\\ProgramData\\\\Anaconda3\\\\envs\\\\machine\\\\lib\\\\site-packages\\\\win32\\\\lib',\n",
       " 'C:\\\\ProgramData\\\\Anaconda3\\\\envs\\\\machine\\\\lib\\\\site-packages\\\\Pythonwin',\n",
       " 'C:\\\\ProgramData\\\\Anaconda3\\\\envs\\\\machine\\\\lib\\\\site-packages\\\\IPython\\\\extensions',\n",
       " 'C:\\\\Users\\\\soldesk\\\\.ipython']"
      ]
     },
     "execution_count": 47,
     "metadata": {},
     "output_type": "execute_result"
    }
   ],
   "source": [
    "import sys\n",
    "sys.path"
   ]
  },
  {
   "cell_type": "code",
   "execution_count": null,
   "metadata": {},
   "outputs": [],
   "source": []
  }
 ],
 "metadata": {
  "kernelspec": {
   "display_name": "machine",
   "language": "python",
   "name": "machine"
  },
  "language_info": {
   "codemirror_mode": {
    "name": "ipython",
    "version": 3
   },
   "file_extension": ".py",
   "mimetype": "text/x-python",
   "name": "python",
   "nbconvert_exporter": "python",
   "pygments_lexer": "ipython3",
   "version": "3.6.9"
  }
 },
 "nbformat": 4,
 "nbformat_minor": 2
}
