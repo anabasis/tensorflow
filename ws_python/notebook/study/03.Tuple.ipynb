{
 "cells": [
  {
   "cell_type": "code",
   "execution_count": 1,
   "metadata": {},
   "outputs": [
    {
     "name": "stdout",
     "output_type": "stream",
     "text": [
      "('AB', 10, False)\n"
     ]
    }
   ],
   "source": [
    "t = (\"AB\", 10, False)\n",
    "print(t)"
   ]
  },
  {
   "cell_type": "code",
   "execution_count": 2,
   "metadata": {},
   "outputs": [
    {
     "name": "stdout",
     "output_type": "stream",
     "text": [
      "123\n",
      "(123,)\n"
     ]
    }
   ],
   "source": [
    "t1 = (123)\n",
    "print(t1)  # int 타입\n",
    " \n",
    "t2 = (123,)\n",
    "print(t2)  # tuple 타입"
   ]
  },
  {
   "cell_type": "code",
   "execution_count": 3,
   "metadata": {},
   "outputs": [],
   "source": [
    "t = (1, 5, 10)\n",
    " \n",
    "# 인덱스\n",
    "second = t[1]      # 5\n",
    "last = t[-1]       # 10\n",
    " \n",
    "# 슬라이스\n",
    "s = t[1:2]         # (5)\n",
    "s = t[1:]          # (5, 10)"
   ]
  },
  {
   "cell_type": "markdown",
   "metadata": {},
   "source": [
    "# 정리"
   ]
  },
  {
   "cell_type": "code",
   "execution_count": null,
   "metadata": {},
   "outputs": [],
   "source": []
  }
 ],
 "metadata": {
  "kernelspec": {
   "display_name": "machine",
   "language": "python",
   "name": "machine"
  },
  "language_info": {
   "codemirror_mode": {
    "name": "ipython",
    "version": 3
   },
   "file_extension": ".py",
   "mimetype": "text/x-python",
   "name": "python",
   "nbconvert_exporter": "python",
   "pygments_lexer": "ipython3",
   "version": "3.6.9"
  }
 },
 "nbformat": 4,
 "nbformat_minor": 2
}
