{
 "cells": [
  {
   "cell_type": "markdown",
   "metadata": {},
   "source": [
    "- 파이썬(오리지날 파이썬 구현인 CPython)은 전역 인터프리터 락킹(Global Interpreter Lock) 때문에 특정 시점에 하나의 파이썬 코드만을 실행\n",
    "- 파이썬은 실제 다중 CPU 환경에서 동시에 여러 파이썬 코드를 병렬로 실행할 수 없음\n",
    "- 인터리빙(Interleaving) 방식으로 코드를 분할하여 실행\n",
    "- 다중 CPU 에서 병렬 실행을 위해서는 다중 프로세스를 이용하는 multiprocessing 모듈을 사용"
   ]
  },
  {
   "cell_type": "markdown",
   "metadata": {},
   "source": [
    "# threading 모듈"
   ]
  },
  {
   "cell_type": "markdown",
   "metadata": {},
   "source": [
    "```python\n",
    "import threading\n",
    " \n",
    "def sum(low, high):\n",
    "    total = 0\n",
    "    for i in range(low, high):\n",
    "        total += i\n",
    "    print(\"Subthread\", total)\n",
    " \n",
    "t = threading.Thread(target=sum, args=(1, 100000))\n",
    "t.start()\n",
    " \n",
    "print(\"Main Thread\")\n",
    "```"
   ]
  },
  {
   "cell_type": "markdown",
   "metadata": {},
   "source": [
    "```bash\n",
    "(실행결과)\n",
    "$ python thrd.py\n",
    "Main Thread\n",
    "Subthread 4999950000\n",
    "```"
   ]
  },
  {
   "cell_type": "markdown",
   "metadata": {},
   "source": [
    "```python\n",
    "# 예제(A)\n",
    "import threading, requests, time\n",
    " \n",
    "def getHtml(url):\n",
    "    resp = requests.get(url)\n",
    "    time.sleep(1)\n",
    "    print(url, len(resp.text), ' chars')\n",
    " \n",
    "t1 = threading.Thread(target=getHtml, args=('http://google.com',))\n",
    "t1.start()\n",
    " \n",
    "print(\"### End ###\")\n",
    "```"
   ]
  },
  {
   "cell_type": "markdown",
   "metadata": {},
   "source": [
    "```python\n",
    "# 예제(B)\n",
    "import threading, requests, time\n",
    " \n",
    "class HtmlGetter (threading.Thread):\n",
    "    def __init__(self, url):\n",
    "        threading.Thread.__init__(self) \n",
    "        self.url = url\n",
    " \n",
    "    def run(self):\n",
    "        resp = requests.get(self.url)\n",
    "        time.sleep(1)\n",
    "        print(self.url, len(resp.text), ' chars')\n",
    " \n",
    "t = HtmlGetter('http://google.com')\n",
    "t.start()\n",
    " \n",
    "print(\"### End ###\")\n",
    "```"
   ]
  },
  {
   "cell_type": "markdown",
   "metadata": {},
   "source": [
    "# 대몬 Thread"
   ]
  },
  {
   "cell_type": "markdown",
   "metadata": {},
   "source": [
    "```python\n",
    "import threading, requests, time\n",
    " \n",
    "def getHtml(url):\n",
    "    resp = requests.get(url)\n",
    "    time.sleep(1)\n",
    "    print(url, len(resp.text), ' chars')\n",
    " \n",
    "# 데몬 쓰레드\n",
    "t1 = threading.Thread(target=getHtml, args=('http://google.com',))\n",
    "t1.daemon = True ##  데몬 Thread\n",
    "t1.start()\n",
    " \n",
    "print(\"### End ###\")\n",
    "```"
   ]
  },
  {
   "cell_type": "code",
   "execution_count": null,
   "metadata": {},
   "outputs": [],
   "source": []
  }
 ],
 "metadata": {
  "kernelspec": {
   "display_name": "machine",
   "language": "python",
   "name": "machine"
  },
  "language_info": {
   "codemirror_mode": {
    "name": "ipython",
    "version": 3
   },
   "file_extension": ".py",
   "mimetype": "text/x-python",
   "name": "python",
   "nbconvert_exporter": "python",
   "pygments_lexer": "ipython3",
   "version": "3.6.9"
  }
 },
 "nbformat": 4,
 "nbformat_minor": 2
}
