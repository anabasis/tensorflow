{
 "cells": [
  {
   "cell_type": "code",
   "execution_count": 1,
   "metadata": {},
   "outputs": [
    {
     "name": "stdout",
     "output_type": "stream",
     "text": [
      "{1, 3, 5}\n",
      "{'A', 'B'}\n"
     ]
    }
   ],
   "source": [
    "# set 정의\n",
    "myset = { 1, 1, 3, 5, 5 }\n",
    "print(myset)    # 출력: {1, 3, 5}\n",
    " \n",
    "# 리스트를 set으로 변환\n",
    "mylist = [\"A\", \"A\", \"B\", \"B\", \"B\"]\n",
    "s = set(mylist)\n",
    "print(s)        # 출력: {'A', 'B'}"
   ]
  },
  {
   "cell_type": "code",
   "execution_count": 2,
   "metadata": {},
   "outputs": [
    {
     "name": "stdout",
     "output_type": "stream",
     "text": [
      "{1, 3, 5, 7}\n",
      "{1, 2, 3, 4, 5, 7, 10}\n",
      "{2, 3, 4, 5, 7, 10}\n",
      "set()\n"
     ]
    }
   ],
   "source": [
    "myset = {1, 3, 5}\n",
    " \n",
    "# 하나만 추가\n",
    "myset.add(7)\n",
    "print(myset)\n",
    " \n",
    "# 여러 개 추가\n",
    "myset.update({4,2,10})\n",
    "print(myset)\n",
    " \n",
    "# 하나만 삭제\n",
    "myset.remove(1)\n",
    "print(myset)\n",
    " \n",
    "# 모두 삭제\n",
    "myset.clear()\n",
    "print(myset)"
   ]
  },
  {
   "cell_type": "code",
   "execution_count": 3,
   "metadata": {},
   "outputs": [
    {
     "name": "stdout",
     "output_type": "stream",
     "text": [
      "{1, 5}\n",
      "{1, 2, 3, 5}\n",
      "{3}\n"
     ]
    }
   ],
   "source": [
    "a = {1, 3, 5}\n",
    "b = {1, 2, 5}\n",
    " \n",
    "# 교집합\n",
    "i = a & b\n",
    "# i = a.intersection(b)\n",
    "print(i)\n",
    " \n",
    "# 합집합\n",
    "u = a | b\n",
    "# u = a.union(b)\n",
    "print(u)\n",
    " \n",
    "# 차집합\n",
    "d = a - b\n",
    "# d = a.difference(b)\n",
    "print(d)"
   ]
  },
  {
   "cell_type": "code",
   "execution_count": null,
   "metadata": {},
   "outputs": [],
   "source": []
  }
 ],
 "metadata": {
  "kernelspec": {
   "display_name": "machine",
   "language": "python",
   "name": "machine"
  },
  "language_info": {
   "codemirror_mode": {
    "name": "ipython",
    "version": 3
   },
   "file_extension": ".py",
   "mimetype": "text/x-python",
   "name": "python",
   "nbconvert_exporter": "python",
   "pygments_lexer": "ipython3",
   "version": "3.6.9"
  }
 },
 "nbformat": 4,
 "nbformat_minor": 2
}
