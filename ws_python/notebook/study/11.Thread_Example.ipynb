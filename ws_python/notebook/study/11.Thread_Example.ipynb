{
 "cells": [
  {
   "cell_type": "code",
   "execution_count": 1,
   "metadata": {},
   "outputs": [
    {
     "name": "stdout",
     "output_type": "stream",
     "text": [
      "Main ThreadSubthread\n",
      " 4999950000\n"
     ]
    }
   ],
   "source": [
    "import threading\n",
    "\n",
    "def sum(low, high):\n",
    "    total = 0\n",
    "    for i in range(low, high):\n",
    "        total += i\n",
    "    print(\"Subthread\", total)\n",
    "\n",
    "t = threading.Thread(target=sum, args=(1, 100000))\n",
    "t.start()\n",
    "\n",
    "print(\"Main Thread\")"
   ]
  },
  {
   "cell_type": "code",
   "execution_count": 4,
   "metadata": {},
   "outputs": [
    {
     "name": "stdout",
     "output_type": "stream",
     "text": [
      "### End ###\n",
      "http://google.com 12574  chars\n"
     ]
    }
   ],
   "source": [
    "# 예제(A)\n",
    "import threading, requests, time\n",
    "\n",
    "def getHtml(url):\n",
    "    resp = requests.get(url)\n",
    "    time.sleep(1)\n",
    "    print(url, len(resp.text), ' chars')\n",
    "\n",
    "t1 = threading.Thread(target=getHtml, args=('http://google.com',))\n",
    "t1.start()\n",
    "\n",
    "print(\"### End ###\")"
   ]
  },
  {
   "cell_type": "code",
   "execution_count": 5,
   "metadata": {},
   "outputs": [
    {
     "name": "stdout",
     "output_type": "stream",
     "text": [
      "### End ###\n",
      "http://google.com 12636  chars\n"
     ]
    }
   ],
   "source": [
    "# 예제(B)\n",
    "import threading, requests, time\n",
    "\n",
    "class HtmlGetter (threading.Thread):\n",
    "    def __init__(self, url):\n",
    "        threading.Thread.__init__(self) \n",
    "        self.url = url\n",
    "\n",
    "    def run(self):\n",
    "        resp = requests.get(self.url)\n",
    "        time.sleep(1)\n",
    "        print(self.url, len(resp.text), ' chars')\n",
    "\n",
    "t = HtmlGetter('http://google.com')\n",
    "t.start()\n",
    "\n",
    "print(\"### End ###\")"
   ]
  },
  {
   "cell_type": "code",
   "execution_count": 6,
   "metadata": {},
   "outputs": [
    {
     "name": "stdout",
     "output_type": "stream",
     "text": [
      "### End ###\n",
      "http://google.com 12593  chars\n"
     ]
    }
   ],
   "source": [
    "import threading, requests, time\n",
    "\n",
    "def getHtml(url):\n",
    "    resp = requests.get(url)\n",
    "    time.sleep(1)\n",
    "    print(url, len(resp.text), ' chars')\n",
    "\n",
    "# 데몬 쓰레드\n",
    "t1 = threading.Thread(target=getHtml, args=('http://google.com',))\n",
    "t1.daemon = True ##  데몬 Thread\n",
    "t1.start()\n",
    "\n",
    "print(\"### End ###\")"
   ]
  },
  {
   "cell_type": "code",
   "execution_count": null,
   "metadata": {},
   "outputs": [],
   "source": []
  }
 ],
 "metadata": {
  "kernelspec": {
   "display_name": "machine",
   "language": "python",
   "name": "machine"
  },
  "language_info": {
   "codemirror_mode": {
    "name": "ipython",
    "version": 3
   },
   "file_extension": ".py",
   "mimetype": "text/x-python",
   "name": "python",
   "nbconvert_exporter": "python",
   "pygments_lexer": "ipython3",
   "version": "3.6.9"
  }
 },
 "nbformat": 4,
 "nbformat_minor": 2
}
