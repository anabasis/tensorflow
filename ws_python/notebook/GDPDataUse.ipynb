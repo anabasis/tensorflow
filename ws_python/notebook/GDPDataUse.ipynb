{
 "cells": [
  {
   "cell_type": "code",
   "execution_count": 6,
   "metadata": {},
   "outputs": [
    {
     "name": "stdout",
     "output_type": "stream",
     "text": [
      "객체가 메모리에 생성되었습니다.\n",
      "객체가 메모리에서 소멸되었습니다.\n",
      "한국\n",
      "28738\n"
     ]
    }
   ],
   "source": [
    "# import GDPData  # ERROR\n",
    "import oop1.GDPData\n",
    "\n",
    "# gdp = oop1.GDPData() # ERROR\n",
    "gdp = oop1.GDPData.GDPData()\n",
    "print(gdp.getNation('KOR'))\n",
    "print(gdp.getGDP('KOR'))"
   ]
  },
  {
   "cell_type": "code",
   "execution_count": 1,
   "metadata": {},
   "outputs": [
    {
     "name": "stdout",
     "output_type": "stream",
     "text": [
      "객체가 메모리에 생성되었습니다.\n",
      "한국\n",
      "28738\n"
     ]
    }
   ],
   "source": [
    "from oop1 import GDPData\n",
    "\n",
    "gdp = GDPData.GDPData()\n",
    "print(gdp.getNation('KOR'))\n",
    "print(gdp.getGDP('KOR'))"
   ]
  },
  {
   "cell_type": "code",
   "execution_count": 1,
   "metadata": {},
   "outputs": [
    {
     "name": "stdout",
     "output_type": "stream",
     "text": [
      "객체가 메모리에 생성되었습니다.\n",
      "한국\n",
      "28738\n"
     ]
    }
   ],
   "source": [
    "from oop1.GDPData import *\n",
    "\n",
    "gdp = GDPData()\n",
    "print(gdp.getNation('KOR'))\n",
    "print(gdp.getGDP('KOR'))"
   ]
  },
  {
   "cell_type": "code",
   "execution_count": 1,
   "metadata": {},
   "outputs": [
    {
     "name": "stdout",
     "output_type": "stream",
     "text": [
      "객체가 메모리에 생성되었습니다.\n",
      "한국\n",
      "28738\n"
     ]
    }
   ],
   "source": [
    "from oop1.GDPData import GDPData\n",
    "\n",
    "gdp = GDPData()\n",
    "print(gdp.getNation('KOR'))\n",
    "print(gdp.getGDP('KOR'))"
   ]
  },
  {
   "cell_type": "code",
   "execution_count": null,
   "metadata": {},
   "outputs": [],
   "source": []
  },
  {
   "cell_type": "code",
   "execution_count": null,
   "metadata": {},
   "outputs": [],
   "source": []
  },
  {
   "cell_type": "code",
   "execution_count": null,
   "metadata": {},
   "outputs": [],
   "source": []
  },
  {
   "cell_type": "code",
   "execution_count": null,
   "metadata": {},
   "outputs": [],
   "source": []
  },
  {
   "cell_type": "code",
   "execution_count": null,
   "metadata": {},
   "outputs": [],
   "source": []
  },
  {
   "cell_type": "code",
   "execution_count": null,
   "metadata": {},
   "outputs": [],
   "source": []
  }
 ],
 "metadata": {
  "kernelspec": {
   "display_name": "machine",
   "language": "python",
   "name": "machine"
  },
  "language_info": {
   "codemirror_mode": {
    "name": "ipython",
    "version": 3
   },
   "file_extension": ".py",
   "mimetype": "text/x-python",
   "name": "python",
   "nbconvert_exporter": "python",
   "pygments_lexer": "ipython3",
   "version": "3.6.9"
  }
 },
 "nbformat": 4,
 "nbformat_minor": 2
}
