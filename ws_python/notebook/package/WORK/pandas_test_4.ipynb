{
 "cells": [
  {
   "cell_type": "code",
   "execution_count": 1,
   "metadata": {},
   "outputs": [],
   "source": [
    "import pandas as pd\n",
    "import numpy as np"
   ]
  },
  {
   "cell_type": "code",
   "execution_count": 3,
   "metadata": {},
   "outputs": [
    {
     "name": "stdout",
     "output_type": "stream",
     "text": [
      "<class 'pandas.core.series.Series'>\n",
      "0    1\n",
      "1    3\n",
      "2    5\n",
      "3    7\n",
      "4    9\n",
      "dtype: int64\n"
     ]
    }
   ],
   "source": [
    "s1 = pd.Series([1, 3, 5, 7, 9])  # index: 0 ~\n",
    "print(type(s1))\n",
    "print(s1)"
   ]
  },
  {
   "cell_type": "code",
   "execution_count": 4,
   "metadata": {},
   "outputs": [
    {
     "name": "stdout",
     "output_type": "stream",
     "text": [
      "<class 'pandas.core.series.Series'>\n",
      "0    1.0\n",
      "1    3.0\n",
      "2    NaN\n",
      "3    7.0\n",
      "4    9.0\n",
      "dtype: float64\n"
     ]
    }
   ],
   "source": [
    "s1 = pd.Series([1, 3, np.nan, 7, 9])  # index: 0 ~, NaN: Not a Number\n",
    "print(type(s1))\n",
    "print(s1)"
   ]
  },
  {
   "cell_type": "code",
   "execution_count": 5,
   "metadata": {},
   "outputs": [
    {
     "name": "stdout",
     "output_type": "stream",
     "text": [
      "<class 'pandas.core.frame.DataFrame'>\n",
      "   0  1\n",
      "0  1  2\n",
      "1  3  4\n"
     ]
    }
   ],
   "source": [
    "df = pd.DataFrame([[1,2], [3,4]])\n",
    "print(type(df))\n",
    "print(df)"
   ]
  },
  {
   "cell_type": "code",
   "execution_count": 6,
   "metadata": {},
   "outputs": [
    {
     "name": "stdout",
     "output_type": "stream",
     "text": [
      "   A  B\n",
      "0  1  2\n",
      "1  3  4\n"
     ]
    }
   ],
   "source": [
    "df = pd.DataFrame([[1,2], [3,4]], columns=['A', 'B'])\n",
    "print(df)"
   ]
  },
  {
   "cell_type": "code",
   "execution_count": 8,
   "metadata": {},
   "outputs": [
    {
     "name": "stdout",
     "output_type": "stream",
     "text": [
      "        kor       eng       mat    python        ai\n",
      "0  0.122340  0.691775 -0.752831 -1.276355 -0.556030\n",
      "1 -0.526815  2.010978  0.604867 -0.517547  0.681491\n",
      "2 -0.266828 -0.153755 -2.138974  0.415537 -0.081533\n",
      "3 -1.226895  0.784067 -0.363596  1.308072 -1.320944\n",
      "4 -1.294543 -0.912646 -0.676923 -0.355940  0.292494\n",
      "5 -1.429186  0.316319  0.375657  0.685391  1.908796\n",
      "6  0.051361 -0.426267 -1.419369 -0.104066  2.372401\n",
      "7 -0.647662 -0.216084 -0.261994 -0.008252  1.176991\n",
      "8  0.750698  0.234734  0.606209 -0.594699  0.339049\n",
      "9 -0.338698 -0.255602  0.095731 -3.030241  0.614710\n"
     ]
    }
   ],
   "source": [
    "# randn: 표준 정규 분포 난수 발생, 평균:0, 표준 편차 1\n",
    "df = pd.DataFrame(np.random.randn(10, 5), columns=['kor', 'eng', 'mat', 'python', 'ai'])\n",
    "print(df)"
   ]
  },
  {
   "cell_type": "code",
   "execution_count": 9,
   "metadata": {},
   "outputs": [
    {
     "name": "stdout",
     "output_type": "stream",
     "text": [
      "        kor       eng       mat    python        ai\n",
      "3 -1.226895  0.784067 -0.363596  1.308072 -1.320944\n",
      "4 -1.294543 -0.912646 -0.676923 -0.355940  0.292494\n",
      "5 -1.429186  0.316319  0.375657  0.685391  1.908796\n"
     ]
    }
   ],
   "source": [
    "df2 = df[(df.index >= 3) & (df.index <= 5)]\n",
    "print(df2)"
   ]
  },
  {
   "cell_type": "code",
   "execution_count": 10,
   "metadata": {},
   "outputs": [
    {
     "name": "stdout",
     "output_type": "stream",
     "text": [
      "        kor       eng       mat    python        ai\n",
      "0  0.122340  0.691775 -0.752831 -1.276355 -0.556030\n",
      "1 -0.526815  2.010978  0.604867 -0.517547  0.681491\n",
      "2 -0.266828 -0.153755 -2.138974  0.415537 -0.081533\n",
      "3 -1.226895  0.784067 -0.363596  1.308072 -1.320944\n",
      "4 -1.294543 -0.912646 -0.676923 -0.355940  0.292494\n"
     ]
    }
   ],
   "source": [
    "print(df.head()) # 5 건"
   ]
  },
  {
   "cell_type": "code",
   "execution_count": 11,
   "metadata": {},
   "outputs": [
    {
     "name": "stdout",
     "output_type": "stream",
     "text": [
      "        kor       eng       mat    python        ai\n",
      "5 -1.429186  0.316319  0.375657  0.685391  1.908796\n",
      "6  0.051361 -0.426267 -1.419369 -0.104066  2.372401\n",
      "7 -0.647662 -0.216084 -0.261994 -0.008252  1.176991\n",
      "8  0.750698  0.234734  0.606209 -0.594699  0.339049\n",
      "9 -0.338698 -0.255602  0.095731 -3.030241  0.614710\n"
     ]
    }
   ],
   "source": [
    "print(df.tail())  # 5 건"
   ]
  },
  {
   "cell_type": "code",
   "execution_count": 12,
   "metadata": {},
   "outputs": [
    {
     "name": "stdout",
     "output_type": "stream",
     "text": [
      "Index(['kor', 'eng', 'mat', 'python', 'ai'], dtype='object')\n"
     ]
    }
   ],
   "source": [
    "print(df.columns)"
   ]
  },
  {
   "cell_type": "code",
   "execution_count": 13,
   "metadata": {},
   "outputs": [
    {
     "name": "stdout",
     "output_type": "stream",
     "text": [
      "RangeIndex(start=0, stop=10, step=1)\n"
     ]
    }
   ],
   "source": [
    "print(df.index) # 0 ~ 9"
   ]
  },
  {
   "cell_type": "code",
   "execution_count": 14,
   "metadata": {},
   "outputs": [
    {
     "name": "stdout",
     "output_type": "stream",
     "text": [
      "             kor        eng        mat     python         ai\n",
      "count  10.000000  10.000000  10.000000  10.000000  10.000000\n",
      "mean   -0.480623   0.207352  -0.393122  -0.347810   0.542743\n",
      "std     0.697437   0.817370   0.891555   1.188572   1.096202\n",
      "min    -1.429186  -0.912646  -2.138974  -3.030241  -1.320944\n",
      "25%    -1.082087  -0.245723  -0.733854  -0.575411   0.011974\n",
      "50%    -0.432757   0.040489  -0.312795  -0.230003   0.476880\n",
      "75%    -0.028186   0.597911   0.305676   0.309590   1.053116\n",
      "max     0.750698   2.010978   0.606209   1.308072   2.372401\n"
     ]
    }
   ],
   "source": [
    "print(df.describe()) # 기술 통계"
   ]
  },
  {
   "cell_type": "code",
   "execution_count": 15,
   "metadata": {},
   "outputs": [
    {
     "name": "stdout",
     "output_type": "stream",
     "text": [
      "   A  B\n",
      "0  1  2\n",
      "1  3  4\n",
      "\n",
      "0    1\n",
      "1    3\n",
      "Name: A, dtype: int64\n"
     ]
    }
   ],
   "source": [
    "df = pd.DataFrame([[1, 2], [3, 4]], columns=['A', 'B'])\n",
    "print(df)\n",
    "print()\n",
    "print(df['A']) # 대소문자 주의"
   ]
  },
  {
   "cell_type": "code",
   "execution_count": 17,
   "metadata": {},
   "outputs": [
    {
     "name": "stdout",
     "output_type": "stream",
     "text": [
      "   A  B\n",
      "0  1  2\n",
      "1  3  4\n"
     ]
    }
   ],
   "source": [
    "# print(df['A', 'B'])  # ERROR\n",
    "print(df[['A', 'B']])  # list 형태로 전달"
   ]
  },
  {
   "cell_type": "code",
   "execution_count": 20,
   "metadata": {},
   "outputs": [
    {
     "name": "stdout",
     "output_type": "stream",
     "text": [
      "   A  B\n",
      "0  1  2\n"
     ]
    }
   ],
   "source": [
    "# print(df[0]) # ERROR\n",
    "print(df[0:1]) # 0"
   ]
  },
  {
   "cell_type": "code",
   "execution_count": 21,
   "metadata": {},
   "outputs": [
    {
     "name": "stdout",
     "output_type": "stream",
     "text": [
      "   A  B\n",
      "1  3  4\n"
     ]
    }
   ],
   "source": [
    "print(df[1:2]) # 1"
   ]
  },
  {
   "cell_type": "code",
   "execution_count": 22,
   "metadata": {},
   "outputs": [
    {
     "name": "stdout",
     "output_type": "stream",
     "text": [
      "     A    B\n",
      "0  NaN  NaN\n",
      "1  3.0  4.0\n"
     ]
    }
   ],
   "source": [
    "df2 = df[df > 2] # 값이 2보다 큰 값만 필터링\n",
    "print(df2)"
   ]
  },
  {
   "cell_type": "code",
   "execution_count": 23,
   "metadata": {},
   "outputs": [
    {
     "name": "stdout",
     "output_type": "stream",
     "text": [
      "     A    B\n",
      "0  NaN  NaN\n",
      "1  6.0  8.0\n"
     ]
    }
   ],
   "source": [
    "df3 = df2 * 2 #NaN 값은 연산이 안됨.\n",
    "print(df3)"
   ]
  },
  {
   "cell_type": "code",
   "execution_count": 24,
   "metadata": {},
   "outputs": [
    {
     "name": "stdout",
     "output_type": "stream",
     "text": [
      "     A    B\n",
      "0  NaN  NaN\n",
      "1  3.0  4.0\n",
      "     A    B\n",
      "1  3.0  4.0\n"
     ]
    }
   ],
   "source": [
    "df3 = df2.dropna()  # 컬럼중에 NaN가 등장하면 행 전체를 삭제\n",
    "print(df2)\n",
    "print(df3)"
   ]
  },
  {
   "cell_type": "code",
   "execution_count": 25,
   "metadata": {},
   "outputs": [
    {
     "name": "stdout",
     "output_type": "stream",
     "text": [
      "     A    B\n",
      "0  0.0  0.0\n",
      "1  3.0  4.0\n",
      "<class 'pandas.core.frame.DataFrame'>\n"
     ]
    }
   ],
   "source": [
    "df3 = df2.fillna(0)  # NaN -> 0\n",
    "print(df3)\n",
    "print(type(df3))"
   ]
  },
  {
   "cell_type": "code",
   "execution_count": 26,
   "metadata": {},
   "outputs": [
    {
     "name": "stdout",
     "output_type": "stream",
     "text": [
      "     A    B\n",
      "0  0.0  0.0\n",
      "1  6.0  8.0\n"
     ]
    }
   ],
   "source": [
    "df3 = df3 * 2\n",
    "print(df3)"
   ]
  },
  {
   "cell_type": "code",
   "execution_count": 38,
   "metadata": {},
   "outputs": [
    {
     "name": "stdout",
     "output_type": "stream",
     "text": [
      "A    3.0\n",
      "B    4.0\n",
      "dtype: float64\n"
     ]
    }
   ],
   "source": [
    "print(df3.mean())  # 열단위 평균을 구하여 행방향 평균 출력"
   ]
  },
  {
   "cell_type": "code",
   "execution_count": 28,
   "metadata": {},
   "outputs": [
    {
     "name": "stdout",
     "output_type": "stream",
     "text": [
      "0    0.0\n",
      "1    7.0\n",
      "dtype: float64\n"
     ]
    }
   ],
   "source": [
    "print(df3.mean(1))  # 0: 열단위, 1: 행단위 평균을 구하여 행방향 평균 출력"
   ]
  },
  {
   "cell_type": "code",
   "execution_count": 29,
   "metadata": {},
   "outputs": [
    {
     "name": "stdout",
     "output_type": "stream",
     "text": [
      "     A    B    C\n",
      "0  0.0  0.0  0.0\n",
      "1  6.0  8.0  7.0\n"
     ]
    }
   ],
   "source": [
    "# 새로운 변수의 추가\n",
    "df3['C'] = (df3['A'] + df3['B']) / 2\n",
    "print(df3)"
   ]
  },
  {
   "cell_type": "code",
   "execution_count": 30,
   "metadata": {},
   "outputs": [],
   "source": [
    "df3['C'] = 1"
   ]
  },
  {
   "cell_type": "code",
   "execution_count": 31,
   "metadata": {},
   "outputs": [
    {
     "name": "stdout",
     "output_type": "stream",
     "text": [
      "     A    B  C\n",
      "0  0.0  0.0  1\n",
      "1  6.0  8.0  1\n"
     ]
    }
   ],
   "source": [
    "print(df3)"
   ]
  },
  {
   "cell_type": "code",
   "execution_count": 32,
   "metadata": {},
   "outputs": [
    {
     "name": "stdout",
     "output_type": "stream",
     "text": [
      "     A    B  C  D\n",
      "0  0.0  0.0  1  5\n",
      "1  6.0  8.0  1  6\n"
     ]
    }
   ],
   "source": [
    "df3['D'] = [5, 6]\n",
    "print(df3)"
   ]
  },
  {
   "cell_type": "code",
   "execution_count": 33,
   "metadata": {},
   "outputs": [
    {
     "name": "stdout",
     "output_type": "stream",
     "text": [
      "   A  B  C   E\n",
      "0  2  4  6  20\n"
     ]
    }
   ],
   "source": [
    "df4 = pd.DataFrame([[2, 4, 6, 20]], columns=['A', 'B', 'C', 'E'])\n",
    "print(df4)"
   ]
  },
  {
   "cell_type": "code",
   "execution_count": 34,
   "metadata": {},
   "outputs": [
    {
     "name": "stderr",
     "output_type": "stream",
     "text": [
      "C:\\ProgramData\\Anaconda3\\envs\\machine\\lib\\site-packages\\ipykernel_launcher.py:1: FutureWarning: Sorting because non-concatenation axis is not aligned. A future version\n",
      "of pandas will change to not sort by default.\n",
      "\n",
      "To accept the future behavior, pass 'sort=False'.\n",
      "\n",
      "To retain the current behavior and silence the warning, pass 'sort=True'.\n",
      "\n",
      "  \"\"\"Entry point for launching an IPython kernel.\n"
     ]
    }
   ],
   "source": [
    "df5 = pd.concat([df3, df4]) # 병합"
   ]
  },
  {
   "cell_type": "code",
   "execution_count": 46,
   "metadata": {},
   "outputs": [
    {
     "name": "stdout",
     "output_type": "stream",
     "text": [
      "     A    B  C    D     E\n",
      "0  0.0  0.0  1  5.0   NaN\n",
      "1  6.0  8.0  1  6.0   NaN\n",
      "0  2.0  4.0  6  NaN  20.0\n"
     ]
    }
   ],
   "source": [
    "print(df5)"
   ]
  },
  {
   "cell_type": "code",
   "execution_count": 35,
   "metadata": {},
   "outputs": [
    {
     "name": "stdout",
     "output_type": "stream",
     "text": [
      "     A    B  C    D     E\n",
      "0  0.0  0.0  1  5.0   NaN\n",
      "1  6.0  8.0  1  6.0   NaN\n",
      "2  2.0  4.0  6  NaN  20.0\n"
     ]
    }
   ],
   "source": [
    "df6 = df5.reset_index(drop=True) # index를 0부터 재설정\n",
    "print(df6)"
   ]
  },
  {
   "cell_type": "code",
   "execution_count": 36,
   "metadata": {},
   "outputs": [
    {
     "name": "stdout",
     "output_type": "stream",
     "text": [
      "     A    B  C    D   E\n",
      "0  0.0  0.0  1  5.0 NaN\n",
      "1  6.0  8.0  1  6.0 NaN\n"
     ]
    }
   ],
   "source": [
    "print(df6.drop(2))  # index가 2번인 행 삭제"
   ]
  },
  {
   "cell_type": "code",
   "execution_count": 38,
   "metadata": {},
   "outputs": [
    {
     "name": "stdout",
     "output_type": "stream",
     "text": [
      "     A    B  C    D     E\n",
      "0  0.0  0.0  1  5.0   NaN\n",
      "1  6.0  8.0  1  6.0   NaN\n",
      "2  2.0  4.0  6  NaN  20.0\n"
     ]
    }
   ],
   "source": [
    "print(df6)  # 위에서 drop후 할당을 안했음으로 변경 없음"
   ]
  },
  {
   "cell_type": "code",
   "execution_count": 39,
   "metadata": {},
   "outputs": [
    {
     "name": "stdout",
     "output_type": "stream",
     "text": [
      "     A    B  C    D   E\n",
      "0  0.0  0.0  1  5.0 NaN\n",
      "1  6.0  8.0  1  6.0 NaN\n"
     ]
    }
   ],
   "source": [
    "print(df6.drop(2, axis=0))  # 0: index가 2번인 행삭제"
   ]
  },
  {
   "cell_type": "code",
   "execution_count": 40,
   "metadata": {},
   "outputs": [
    {
     "name": "stdout",
     "output_type": "stream",
     "text": [
      "     A    B  C    D\n",
      "0  0.0  0.0  1  5.0\n",
      "1  6.0  8.0  1  6.0\n",
      "2  2.0  4.0  6  NaN\n"
     ]
    }
   ],
   "source": [
    "print(df6.drop('E', axis=1))  # 1: 'E' 열 삭제"
   ]
  },
  {
   "cell_type": "code",
   "execution_count": 41,
   "metadata": {},
   "outputs": [
    {
     "name": "stdout",
     "output_type": "stream",
     "text": [
      "   A  B\n",
      "0  1  2\n",
      "1  3  4\n"
     ]
    }
   ],
   "source": [
    "print(df)"
   ]
  },
  {
   "cell_type": "code",
   "execution_count": 42,
   "metadata": {},
   "outputs": [
    {
     "name": "stdout",
     "output_type": "stream",
     "text": [
      "     A  B\n",
      "0  100  2\n",
      "1    3  4\n"
     ]
    }
   ],
   "source": [
    "df.loc[0:0, 'A'] = 100 # loc: location 위치\n",
    "print(df)"
   ]
  },
  {
   "cell_type": "code",
   "execution_count": 43,
   "metadata": {},
   "outputs": [
    {
     "name": "stdout",
     "output_type": "stream",
     "text": [
      "     A  B\n",
      "0  100  2\n",
      "1  100  4\n"
     ]
    }
   ],
   "source": [
    "df.loc[0:1, 'A'] = 100 # loc: location 위치\n",
    "print(df)"
   ]
  },
  {
   "cell_type": "code",
   "execution_count": 44,
   "metadata": {},
   "outputs": [
    {
     "name": "stdout",
     "output_type": "stream",
     "text": [
      "   A  B\n",
      "0  1  2\n",
      "1  3  4\n"
     ]
    }
   ],
   "source": [
    "df = pd.DataFrame([[1, 2], [3, 4]], columns=['A', 'B'])\n",
    "print(df)"
   ]
  },
  {
   "cell_type": "code",
   "execution_count": 117,
   "metadata": {},
   "outputs": [],
   "source": [
    "df = pd.DataFrame([[1, 2], [3, 4]], columns=['A', 'B'])\n",
    "df2 = df  # 메모리 공유"
   ]
  },
  {
   "cell_type": "code",
   "execution_count": 118,
   "metadata": {},
   "outputs": [],
   "source": [
    "df.loc[0:0, 'A'] = 1000"
   ]
  },
  {
   "cell_type": "code",
   "execution_count": 122,
   "metadata": {},
   "outputs": [
    {
     "name": "stdout",
     "output_type": "stream",
     "text": [
      "      A  B\n",
      "0  1000  2\n",
      "1     3  4\n",
      "      A  B\n",
      "0  1000  2\n",
      "1     3  4\n"
     ]
    }
   ],
   "source": [
    "print(df)\n",
    "print(df2)"
   ]
  },
  {
   "cell_type": "code",
   "execution_count": 123,
   "metadata": {},
   "outputs": [],
   "source": [
    "df = pd.DataFrame([[1, 2], [3, 4]], columns=['A', 'B'])\n",
    "df2 = df.copy()  # 값 복사"
   ]
  },
  {
   "cell_type": "code",
   "execution_count": 124,
   "metadata": {},
   "outputs": [],
   "source": [
    "df.loc[0:0, 'A'] = 1000"
   ]
  },
  {
   "cell_type": "code",
   "execution_count": 126,
   "metadata": {},
   "outputs": [
    {
     "name": "stdout",
     "output_type": "stream",
     "text": [
      "      A  B\n",
      "0  1000  2\n",
      "1     3  4\n",
      "   A  B\n",
      "0  1  2\n",
      "1  3  4\n"
     ]
    }
   ],
   "source": [
    "print(df)\n",
    "print(df2)  # 변경되지 않음."
   ]
  },
  {
   "cell_type": "code",
   "execution_count": 128,
   "metadata": {},
   "outputs": [
    {
     "name": "stdout",
     "output_type": "stream",
     "text": [
      "DatetimeIndex(['2019-01-01', '2019-01-02', '2019-01-03', '2019-01-04',\n",
      "               '2019-01-05', '2019-01-06'],\n",
      "              dtype='datetime64[ns]', freq='D')\n"
     ]
    }
   ],
   "source": [
    "dates = pd.date_range('20190101', periods=6)  # 6일간 날짜 생성\n",
    "print(dates)"
   ]
  },
  {
   "cell_type": "code",
   "execution_count": 129,
   "metadata": {},
   "outputs": [
    {
     "data": {
      "text/html": [
       "<div>\n",
       "<style scoped>\n",
       "    .dataframe tbody tr th:only-of-type {\n",
       "        vertical-align: middle;\n",
       "    }\n",
       "\n",
       "    .dataframe tbody tr th {\n",
       "        vertical-align: top;\n",
       "    }\n",
       "\n",
       "    .dataframe thead th {\n",
       "        text-align: right;\n",
       "    }\n",
       "</style>\n",
       "<table border=\"1\" class=\"dataframe\">\n",
       "  <thead>\n",
       "    <tr style=\"text-align: right;\">\n",
       "      <th></th>\n",
       "      <th>A</th>\n",
       "      <th>B</th>\n",
       "      <th>C</th>\n",
       "      <th>D</th>\n",
       "    </tr>\n",
       "  </thead>\n",
       "  <tbody>\n",
       "    <tr>\n",
       "      <th>2019-01-01</th>\n",
       "      <td>0.559039</td>\n",
       "      <td>1.082269</td>\n",
       "      <td>-0.698327</td>\n",
       "      <td>0.136219</td>\n",
       "    </tr>\n",
       "    <tr>\n",
       "      <th>2019-01-02</th>\n",
       "      <td>0.196337</td>\n",
       "      <td>0.062266</td>\n",
       "      <td>0.115113</td>\n",
       "      <td>0.402560</td>\n",
       "    </tr>\n",
       "    <tr>\n",
       "      <th>2019-01-03</th>\n",
       "      <td>0.120106</td>\n",
       "      <td>-2.149956</td>\n",
       "      <td>1.794591</td>\n",
       "      <td>0.404337</td>\n",
       "    </tr>\n",
       "    <tr>\n",
       "      <th>2019-01-04</th>\n",
       "      <td>-0.923719</td>\n",
       "      <td>-0.203031</td>\n",
       "      <td>-0.242551</td>\n",
       "      <td>-0.508793</td>\n",
       "    </tr>\n",
       "    <tr>\n",
       "      <th>2019-01-05</th>\n",
       "      <td>1.381434</td>\n",
       "      <td>-0.068938</td>\n",
       "      <td>0.574161</td>\n",
       "      <td>1.044594</td>\n",
       "    </tr>\n",
       "    <tr>\n",
       "      <th>2019-01-06</th>\n",
       "      <td>-0.155838</td>\n",
       "      <td>-0.952899</td>\n",
       "      <td>-1.040878</td>\n",
       "      <td>0.874383</td>\n",
       "    </tr>\n",
       "  </tbody>\n",
       "</table>\n",
       "</div>"
      ],
      "text/plain": [
       "                   A         B         C         D\n",
       "2019-01-01  0.559039  1.082269 -0.698327  0.136219\n",
       "2019-01-02  0.196337  0.062266  0.115113  0.402560\n",
       "2019-01-03  0.120106 -2.149956  1.794591  0.404337\n",
       "2019-01-04 -0.923719 -0.203031 -0.242551 -0.508793\n",
       "2019-01-05  1.381434 -0.068938  0.574161  1.044594\n",
       "2019-01-06 -0.155838 -0.952899 -1.040878  0.874383"
      ]
     },
     "execution_count": 129,
     "metadata": {},
     "output_type": "execute_result"
    }
   ],
   "source": [
    "# 평균(기댓값)이 0이고 표준편차가 1인 가우시안 표준 정규 분포를 따르는 난수생성\n",
    "# index를 날짜로 지정\n",
    "df = pd.DataFrame(np.random.randn(6,4), index=dates, columns=['A','B','C','D'])\n",
    "df"
   ]
  },
  {
   "cell_type": "code",
   "execution_count": 73,
   "metadata": {},
   "outputs": [
    {
     "data": {
      "text/plain": [
       "DatetimeIndex(['2019-01-01', '2019-01-02', '2019-01-03', '2019-01-04',\n",
       "               '2019-01-05', '2019-01-06'],\n",
       "              dtype='datetime64[ns]', freq='D')"
      ]
     },
     "execution_count": 73,
     "metadata": {},
     "output_type": "execute_result"
    }
   ],
   "source": [
    "df.index"
   ]
  },
  {
   "cell_type": "code",
   "execution_count": 75,
   "metadata": {},
   "outputs": [
    {
     "name": "stdout",
     "output_type": "stream",
     "text": [
      "Index(['A', 'B', 'C', 'D'], dtype='object')\n"
     ]
    }
   ],
   "source": [
    "print(df.columns)"
   ]
  },
  {
   "cell_type": "code",
   "execution_count": 76,
   "metadata": {},
   "outputs": [
    {
     "data": {
      "text/plain": [
       "array([[-1.42896214,  0.98261843, -0.232847  ,  1.65232112],\n",
       "       [-0.07561557,  0.71170069, -0.68171638, -0.23382739],\n",
       "       [-0.55835108, -2.59809153, -0.34753235, -0.38016167],\n",
       "       [-0.77704899,  0.83107687, -0.60860578, -0.21948037],\n",
       "       [-0.20219318, -0.43334384, -0.51607286, -0.62543792],\n",
       "       [ 0.28428256,  0.57072397,  1.07012152,  0.71993279]])"
      ]
     },
     "execution_count": 76,
     "metadata": {},
     "output_type": "execute_result"
    }
   ],
   "source": [
    "df.values"
   ]
  },
  {
   "cell_type": "code",
   "execution_count": 77,
   "metadata": {},
   "outputs": [
    {
     "data": {
      "text/plain": [
       "numpy.ndarray"
      ]
     },
     "execution_count": 77,
     "metadata": {},
     "output_type": "execute_result"
    }
   ],
   "source": [
    "type(df.values)"
   ]
  },
  {
   "cell_type": "code",
   "execution_count": 78,
   "metadata": {},
   "outputs": [
    {
     "name": "stdout",
     "output_type": "stream",
     "text": [
      "<class 'pandas.core.frame.DataFrame'>\n",
      "DatetimeIndex: 6 entries, 2019-01-01 to 2019-01-06\n",
      "Freq: D\n",
      "Data columns (total 4 columns):\n",
      "A    6 non-null float64\n",
      "B    6 non-null float64\n",
      "C    6 non-null float64\n",
      "D    6 non-null float64\n",
      "dtypes: float64(4)\n",
      "memory usage: 240.0 bytes\n"
     ]
    }
   ],
   "source": [
    "df.info()"
   ]
  },
  {
   "cell_type": "code",
   "execution_count": 79,
   "metadata": {},
   "outputs": [
    {
     "data": {
      "text/html": [
       "<div>\n",
       "<style scoped>\n",
       "    .dataframe tbody tr th:only-of-type {\n",
       "        vertical-align: middle;\n",
       "    }\n",
       "\n",
       "    .dataframe tbody tr th {\n",
       "        vertical-align: top;\n",
       "    }\n",
       "\n",
       "    .dataframe thead th {\n",
       "        text-align: right;\n",
       "    }\n",
       "</style>\n",
       "<table border=\"1\" class=\"dataframe\">\n",
       "  <thead>\n",
       "    <tr style=\"text-align: right;\">\n",
       "      <th></th>\n",
       "      <th>A</th>\n",
       "      <th>B</th>\n",
       "      <th>C</th>\n",
       "      <th>D</th>\n",
       "    </tr>\n",
       "  </thead>\n",
       "  <tbody>\n",
       "    <tr>\n",
       "      <th>count</th>\n",
       "      <td>6.000000</td>\n",
       "      <td>6.000000</td>\n",
       "      <td>6.000000</td>\n",
       "      <td>6.000000</td>\n",
       "    </tr>\n",
       "    <tr>\n",
       "      <th>mean</th>\n",
       "      <td>-0.459648</td>\n",
       "      <td>0.010781</td>\n",
       "      <td>-0.219442</td>\n",
       "      <td>0.152224</td>\n",
       "    </tr>\n",
       "    <tr>\n",
       "      <th>std</th>\n",
       "      <td>0.602869</td>\n",
       "      <td>1.373000</td>\n",
       "      <td>0.653100</td>\n",
       "      <td>0.865792</td>\n",
       "    </tr>\n",
       "    <tr>\n",
       "      <th>min</th>\n",
       "      <td>-1.428962</td>\n",
       "      <td>-2.598092</td>\n",
       "      <td>-0.681716</td>\n",
       "      <td>-0.625438</td>\n",
       "    </tr>\n",
       "    <tr>\n",
       "      <th>25%</th>\n",
       "      <td>-0.722375</td>\n",
       "      <td>-0.182327</td>\n",
       "      <td>-0.585473</td>\n",
       "      <td>-0.343578</td>\n",
       "    </tr>\n",
       "    <tr>\n",
       "      <th>50%</th>\n",
       "      <td>-0.380272</td>\n",
       "      <td>0.641212</td>\n",
       "      <td>-0.431803</td>\n",
       "      <td>-0.226654</td>\n",
       "    </tr>\n",
       "    <tr>\n",
       "      <th>75%</th>\n",
       "      <td>-0.107260</td>\n",
       "      <td>0.801233</td>\n",
       "      <td>-0.261518</td>\n",
       "      <td>0.485080</td>\n",
       "    </tr>\n",
       "    <tr>\n",
       "      <th>max</th>\n",
       "      <td>0.284283</td>\n",
       "      <td>0.982618</td>\n",
       "      <td>1.070122</td>\n",
       "      <td>1.652321</td>\n",
       "    </tr>\n",
       "  </tbody>\n",
       "</table>\n",
       "</div>"
      ],
      "text/plain": [
       "              A         B         C         D\n",
       "count  6.000000  6.000000  6.000000  6.000000\n",
       "mean  -0.459648  0.010781 -0.219442  0.152224\n",
       "std    0.602869  1.373000  0.653100  0.865792\n",
       "min   -1.428962 -2.598092 -0.681716 -0.625438\n",
       "25%   -0.722375 -0.182327 -0.585473 -0.343578\n",
       "50%   -0.380272  0.641212 -0.431803 -0.226654\n",
       "75%   -0.107260  0.801233 -0.261518  0.485080\n",
       "max    0.284283  0.982618  1.070122  1.652321"
      ]
     },
     "execution_count": 79,
     "metadata": {},
     "output_type": "execute_result"
    }
   ],
   "source": [
    "df.describe()"
   ]
  },
  {
   "cell_type": "code",
   "execution_count": 82,
   "metadata": {},
   "outputs": [
    {
     "data": {
      "text/html": [
       "<div>\n",
       "<style scoped>\n",
       "    .dataframe tbody tr th:only-of-type {\n",
       "        vertical-align: middle;\n",
       "    }\n",
       "\n",
       "    .dataframe tbody tr th {\n",
       "        vertical-align: top;\n",
       "    }\n",
       "\n",
       "    .dataframe thead th {\n",
       "        text-align: right;\n",
       "    }\n",
       "</style>\n",
       "<table border=\"1\" class=\"dataframe\">\n",
       "  <thead>\n",
       "    <tr style=\"text-align: right;\">\n",
       "      <th></th>\n",
       "      <th>A</th>\n",
       "      <th>B</th>\n",
       "      <th>C</th>\n",
       "      <th>D</th>\n",
       "    </tr>\n",
       "  </thead>\n",
       "  <tbody>\n",
       "    <tr>\n",
       "      <th>2019-01-01</th>\n",
       "      <td>-1.428962</td>\n",
       "      <td>0.982618</td>\n",
       "      <td>-0.232847</td>\n",
       "      <td>1.652321</td>\n",
       "    </tr>\n",
       "    <tr>\n",
       "      <th>2019-01-04</th>\n",
       "      <td>-0.777049</td>\n",
       "      <td>0.831077</td>\n",
       "      <td>-0.608606</td>\n",
       "      <td>-0.219480</td>\n",
       "    </tr>\n",
       "    <tr>\n",
       "      <th>2019-01-03</th>\n",
       "      <td>-0.558351</td>\n",
       "      <td>-2.598092</td>\n",
       "      <td>-0.347532</td>\n",
       "      <td>-0.380162</td>\n",
       "    </tr>\n",
       "    <tr>\n",
       "      <th>2019-01-05</th>\n",
       "      <td>-0.202193</td>\n",
       "      <td>-0.433344</td>\n",
       "      <td>-0.516073</td>\n",
       "      <td>-0.625438</td>\n",
       "    </tr>\n",
       "    <tr>\n",
       "      <th>2019-01-02</th>\n",
       "      <td>-0.075616</td>\n",
       "      <td>0.711701</td>\n",
       "      <td>-0.681716</td>\n",
       "      <td>-0.233827</td>\n",
       "    </tr>\n",
       "    <tr>\n",
       "      <th>2019-01-06</th>\n",
       "      <td>0.284283</td>\n",
       "      <td>0.570724</td>\n",
       "      <td>1.070122</td>\n",
       "      <td>0.719933</td>\n",
       "    </tr>\n",
       "  </tbody>\n",
       "</table>\n",
       "</div>"
      ],
      "text/plain": [
       "                   A         B         C         D\n",
       "2019-01-01 -1.428962  0.982618 -0.232847  1.652321\n",
       "2019-01-04 -0.777049  0.831077 -0.608606 -0.219480\n",
       "2019-01-03 -0.558351 -2.598092 -0.347532 -0.380162\n",
       "2019-01-05 -0.202193 -0.433344 -0.516073 -0.625438\n",
       "2019-01-02 -0.075616  0.711701 -0.681716 -0.233827\n",
       "2019-01-06  0.284283  0.570724  1.070122  0.719933"
      ]
     },
     "execution_count": 82,
     "metadata": {},
     "output_type": "execute_result"
    }
   ],
   "source": [
    "df.sort_values(by='A') # 오름차순"
   ]
  },
  {
   "cell_type": "code",
   "execution_count": 83,
   "metadata": {},
   "outputs": [
    {
     "data": {
      "text/html": [
       "<div>\n",
       "<style scoped>\n",
       "    .dataframe tbody tr th:only-of-type {\n",
       "        vertical-align: middle;\n",
       "    }\n",
       "\n",
       "    .dataframe tbody tr th {\n",
       "        vertical-align: top;\n",
       "    }\n",
       "\n",
       "    .dataframe thead th {\n",
       "        text-align: right;\n",
       "    }\n",
       "</style>\n",
       "<table border=\"1\" class=\"dataframe\">\n",
       "  <thead>\n",
       "    <tr style=\"text-align: right;\">\n",
       "      <th></th>\n",
       "      <th>A</th>\n",
       "      <th>B</th>\n",
       "      <th>C</th>\n",
       "      <th>D</th>\n",
       "    </tr>\n",
       "  </thead>\n",
       "  <tbody>\n",
       "    <tr>\n",
       "      <th>2019-01-06</th>\n",
       "      <td>0.284283</td>\n",
       "      <td>0.570724</td>\n",
       "      <td>1.070122</td>\n",
       "      <td>0.719933</td>\n",
       "    </tr>\n",
       "    <tr>\n",
       "      <th>2019-01-02</th>\n",
       "      <td>-0.075616</td>\n",
       "      <td>0.711701</td>\n",
       "      <td>-0.681716</td>\n",
       "      <td>-0.233827</td>\n",
       "    </tr>\n",
       "    <tr>\n",
       "      <th>2019-01-05</th>\n",
       "      <td>-0.202193</td>\n",
       "      <td>-0.433344</td>\n",
       "      <td>-0.516073</td>\n",
       "      <td>-0.625438</td>\n",
       "    </tr>\n",
       "    <tr>\n",
       "      <th>2019-01-03</th>\n",
       "      <td>-0.558351</td>\n",
       "      <td>-2.598092</td>\n",
       "      <td>-0.347532</td>\n",
       "      <td>-0.380162</td>\n",
       "    </tr>\n",
       "    <tr>\n",
       "      <th>2019-01-04</th>\n",
       "      <td>-0.777049</td>\n",
       "      <td>0.831077</td>\n",
       "      <td>-0.608606</td>\n",
       "      <td>-0.219480</td>\n",
       "    </tr>\n",
       "    <tr>\n",
       "      <th>2019-01-01</th>\n",
       "      <td>-1.428962</td>\n",
       "      <td>0.982618</td>\n",
       "      <td>-0.232847</td>\n",
       "      <td>1.652321</td>\n",
       "    </tr>\n",
       "  </tbody>\n",
       "</table>\n",
       "</div>"
      ],
      "text/plain": [
       "                   A         B         C         D\n",
       "2019-01-06  0.284283  0.570724  1.070122  0.719933\n",
       "2019-01-02 -0.075616  0.711701 -0.681716 -0.233827\n",
       "2019-01-05 -0.202193 -0.433344 -0.516073 -0.625438\n",
       "2019-01-03 -0.558351 -2.598092 -0.347532 -0.380162\n",
       "2019-01-04 -0.777049  0.831077 -0.608606 -0.219480\n",
       "2019-01-01 -1.428962  0.982618 -0.232847  1.652321"
      ]
     },
     "execution_count": 83,
     "metadata": {},
     "output_type": "execute_result"
    }
   ],
   "source": [
    "df.sort_values(by='A', ascending=False) # 내림 차순"
   ]
  },
  {
   "cell_type": "code",
   "execution_count": 86,
   "metadata": {},
   "outputs": [
    {
     "data": {
      "text/plain": [
       "2019-01-01   -1.428962\n",
       "2019-01-02   -0.075616\n",
       "2019-01-03   -0.558351\n",
       "2019-01-04   -0.777049\n",
       "2019-01-05   -0.202193\n",
       "2019-01-06    0.284283\n",
       "Freq: D, Name: A, dtype: float64"
      ]
     },
     "execution_count": 86,
     "metadata": {},
     "output_type": "execute_result"
    }
   ],
   "source": [
    "df['A']"
   ]
  },
  {
   "cell_type": "code",
   "execution_count": 88,
   "metadata": {},
   "outputs": [
    {
     "data": {
      "text/html": [
       "<div>\n",
       "<style scoped>\n",
       "    .dataframe tbody tr th:only-of-type {\n",
       "        vertical-align: middle;\n",
       "    }\n",
       "\n",
       "    .dataframe tbody tr th {\n",
       "        vertical-align: top;\n",
       "    }\n",
       "\n",
       "    .dataframe thead th {\n",
       "        text-align: right;\n",
       "    }\n",
       "</style>\n",
       "<table border=\"1\" class=\"dataframe\">\n",
       "  <thead>\n",
       "    <tr style=\"text-align: right;\">\n",
       "      <th></th>\n",
       "      <th>A</th>\n",
       "      <th>B</th>\n",
       "      <th>C</th>\n",
       "      <th>D</th>\n",
       "    </tr>\n",
       "  </thead>\n",
       "  <tbody>\n",
       "    <tr>\n",
       "      <th>2019-01-01</th>\n",
       "      <td>-1.428962</td>\n",
       "      <td>0.982618</td>\n",
       "      <td>-0.232847</td>\n",
       "      <td>1.652321</td>\n",
       "    </tr>\n",
       "    <tr>\n",
       "      <th>2019-01-02</th>\n",
       "      <td>-0.075616</td>\n",
       "      <td>0.711701</td>\n",
       "      <td>-0.681716</td>\n",
       "      <td>-0.233827</td>\n",
       "    </tr>\n",
       "    <tr>\n",
       "      <th>2019-01-03</th>\n",
       "      <td>-0.558351</td>\n",
       "      <td>-2.598092</td>\n",
       "      <td>-0.347532</td>\n",
       "      <td>-0.380162</td>\n",
       "    </tr>\n",
       "  </tbody>\n",
       "</table>\n",
       "</div>"
      ],
      "text/plain": [
       "                   A         B         C         D\n",
       "2019-01-01 -1.428962  0.982618 -0.232847  1.652321\n",
       "2019-01-02 -0.075616  0.711701 -0.681716 -0.233827\n",
       "2019-01-03 -0.558351 -2.598092 -0.347532 -0.380162"
      ]
     },
     "execution_count": 88,
     "metadata": {},
     "output_type": "execute_result"
    }
   ],
   "source": [
    "df[0:3] # 행범위 0 ~ 2가 해당"
   ]
  },
  {
   "cell_type": "code",
   "execution_count": 89,
   "metadata": {},
   "outputs": [
    {
     "data": {
      "text/html": [
       "<div>\n",
       "<style scoped>\n",
       "    .dataframe tbody tr th:only-of-type {\n",
       "        vertical-align: middle;\n",
       "    }\n",
       "\n",
       "    .dataframe tbody tr th {\n",
       "        vertical-align: top;\n",
       "    }\n",
       "\n",
       "    .dataframe thead th {\n",
       "        text-align: right;\n",
       "    }\n",
       "</style>\n",
       "<table border=\"1\" class=\"dataframe\">\n",
       "  <thead>\n",
       "    <tr style=\"text-align: right;\">\n",
       "      <th></th>\n",
       "      <th>A</th>\n",
       "      <th>B</th>\n",
       "      <th>C</th>\n",
       "      <th>D</th>\n",
       "    </tr>\n",
       "  </thead>\n",
       "  <tbody>\n",
       "    <tr>\n",
       "      <th>2019-01-01</th>\n",
       "      <td>-1.428962</td>\n",
       "      <td>0.982618</td>\n",
       "      <td>-0.232847</td>\n",
       "      <td>1.652321</td>\n",
       "    </tr>\n",
       "    <tr>\n",
       "      <th>2019-01-02</th>\n",
       "      <td>-0.075616</td>\n",
       "      <td>0.711701</td>\n",
       "      <td>-0.681716</td>\n",
       "      <td>-0.233827</td>\n",
       "    </tr>\n",
       "    <tr>\n",
       "      <th>2019-01-03</th>\n",
       "      <td>-0.558351</td>\n",
       "      <td>-2.598092</td>\n",
       "      <td>-0.347532</td>\n",
       "      <td>-0.380162</td>\n",
       "    </tr>\n",
       "  </tbody>\n",
       "</table>\n",
       "</div>"
      ],
      "text/plain": [
       "                   A         B         C         D\n",
       "2019-01-01 -1.428962  0.982618 -0.232847  1.652321\n",
       "2019-01-02 -0.075616  0.711701 -0.681716 -0.233827\n",
       "2019-01-03 -0.558351 -2.598092 -0.347532 -0.380162"
      ]
     },
     "execution_count": 89,
     "metadata": {},
     "output_type": "execute_result"
    }
   ],
   "source": [
    "df['20190101':'20190103']"
   ]
  },
  {
   "cell_type": "code",
   "execution_count": 90,
   "metadata": {},
   "outputs": [
    {
     "data": {
      "text/html": [
       "<div>\n",
       "<style scoped>\n",
       "    .dataframe tbody tr th:only-of-type {\n",
       "        vertical-align: middle;\n",
       "    }\n",
       "\n",
       "    .dataframe tbody tr th {\n",
       "        vertical-align: top;\n",
       "    }\n",
       "\n",
       "    .dataframe thead th {\n",
       "        text-align: right;\n",
       "    }\n",
       "</style>\n",
       "<table border=\"1\" class=\"dataframe\">\n",
       "  <thead>\n",
       "    <tr style=\"text-align: right;\">\n",
       "      <th></th>\n",
       "      <th>A</th>\n",
       "      <th>B</th>\n",
       "    </tr>\n",
       "  </thead>\n",
       "  <tbody>\n",
       "    <tr>\n",
       "      <th>2019-01-01</th>\n",
       "      <td>-1.428962</td>\n",
       "      <td>0.982618</td>\n",
       "    </tr>\n",
       "    <tr>\n",
       "      <th>2019-01-02</th>\n",
       "      <td>-0.075616</td>\n",
       "      <td>0.711701</td>\n",
       "    </tr>\n",
       "    <tr>\n",
       "      <th>2019-01-03</th>\n",
       "      <td>-0.558351</td>\n",
       "      <td>-2.598092</td>\n",
       "    </tr>\n",
       "    <tr>\n",
       "      <th>2019-01-04</th>\n",
       "      <td>-0.777049</td>\n",
       "      <td>0.831077</td>\n",
       "    </tr>\n",
       "    <tr>\n",
       "      <th>2019-01-05</th>\n",
       "      <td>-0.202193</td>\n",
       "      <td>-0.433344</td>\n",
       "    </tr>\n",
       "    <tr>\n",
       "      <th>2019-01-06</th>\n",
       "      <td>0.284283</td>\n",
       "      <td>0.570724</td>\n",
       "    </tr>\n",
       "  </tbody>\n",
       "</table>\n",
       "</div>"
      ],
      "text/plain": [
       "                   A         B\n",
       "2019-01-01 -1.428962  0.982618\n",
       "2019-01-02 -0.075616  0.711701\n",
       "2019-01-03 -0.558351 -2.598092\n",
       "2019-01-04 -0.777049  0.831077\n",
       "2019-01-05 -0.202193 -0.433344\n",
       "2019-01-06  0.284283  0.570724"
      ]
     },
     "execution_count": 90,
     "metadata": {},
     "output_type": "execute_result"
    }
   ],
   "source": [
    "df.loc[:, ['A', 'B']]  # loc: location"
   ]
  },
  {
   "cell_type": "code",
   "execution_count": 93,
   "metadata": {},
   "outputs": [
    {
     "data": {
      "text/html": [
       "<div>\n",
       "<style scoped>\n",
       "    .dataframe tbody tr th:only-of-type {\n",
       "        vertical-align: middle;\n",
       "    }\n",
       "\n",
       "    .dataframe tbody tr th {\n",
       "        vertical-align: top;\n",
       "    }\n",
       "\n",
       "    .dataframe thead th {\n",
       "        text-align: right;\n",
       "    }\n",
       "</style>\n",
       "<table border=\"1\" class=\"dataframe\">\n",
       "  <thead>\n",
       "    <tr style=\"text-align: right;\">\n",
       "      <th></th>\n",
       "      <th>A</th>\n",
       "      <th>B</th>\n",
       "    </tr>\n",
       "  </thead>\n",
       "  <tbody>\n",
       "    <tr>\n",
       "      <th>2019-01-01</th>\n",
       "      <td>-1.428962</td>\n",
       "      <td>0.982618</td>\n",
       "    </tr>\n",
       "    <tr>\n",
       "      <th>2019-01-02</th>\n",
       "      <td>-0.075616</td>\n",
       "      <td>0.711701</td>\n",
       "    </tr>\n",
       "    <tr>\n",
       "      <th>2019-01-03</th>\n",
       "      <td>-0.558351</td>\n",
       "      <td>-2.598092</td>\n",
       "    </tr>\n",
       "  </tbody>\n",
       "</table>\n",
       "</div>"
      ],
      "text/plain": [
       "                   A         B\n",
       "2019-01-01 -1.428962  0.982618\n",
       "2019-01-02 -0.075616  0.711701\n",
       "2019-01-03 -0.558351 -2.598092"
      ]
     },
     "execution_count": 93,
     "metadata": {},
     "output_type": "execute_result"
    }
   ],
   "source": [
    "df.loc['20190101':'20190103', ['A', 'B']]  "
   ]
  },
  {
   "cell_type": "code",
   "execution_count": 94,
   "metadata": {},
   "outputs": [
    {
     "data": {
      "text/plain": [
       "A   -1.428962\n",
       "B    0.982618\n",
       "Name: 2019-01-01 00:00:00, dtype: float64"
      ]
     },
     "execution_count": 94,
     "metadata": {},
     "output_type": "execute_result"
    }
   ],
   "source": [
    "df.loc['20190101', ['A', 'B']]  "
   ]
  },
  {
   "cell_type": "code",
   "execution_count": 98,
   "metadata": {},
   "outputs": [
    {
     "data": {
      "text/plain": [
       "A   -0.558351\n",
       "B   -2.598092\n",
       "C   -0.347532\n",
       "D   -0.380162\n",
       "Name: 2019-01-03 00:00:00, dtype: float64"
      ]
     },
     "execution_count": 98,
     "metadata": {},
     "output_type": "execute_result"
    }
   ],
   "source": [
    "df.iloc[2]  # 숫자를 이용한 위치 검색, 2는 세번째 관측치"
   ]
  },
  {
   "cell_type": "code",
   "execution_count": 103,
   "metadata": {},
   "outputs": [
    {
     "data": {
      "text/html": [
       "<div>\n",
       "<style scoped>\n",
       "    .dataframe tbody tr th:only-of-type {\n",
       "        vertical-align: middle;\n",
       "    }\n",
       "\n",
       "    .dataframe tbody tr th {\n",
       "        vertical-align: top;\n",
       "    }\n",
       "\n",
       "    .dataframe thead th {\n",
       "        text-align: right;\n",
       "    }\n",
       "</style>\n",
       "<table border=\"1\" class=\"dataframe\">\n",
       "  <thead>\n",
       "    <tr style=\"text-align: right;\">\n",
       "      <th></th>\n",
       "      <th>A</th>\n",
       "      <th>B</th>\n",
       "    </tr>\n",
       "  </thead>\n",
       "  <tbody>\n",
       "    <tr>\n",
       "      <th>2019-01-04</th>\n",
       "      <td>-0.777049</td>\n",
       "      <td>0.831077</td>\n",
       "    </tr>\n",
       "    <tr>\n",
       "      <th>2019-01-05</th>\n",
       "      <td>-0.202193</td>\n",
       "      <td>-0.433344</td>\n",
       "    </tr>\n",
       "  </tbody>\n",
       "</table>\n",
       "</div>"
      ],
      "text/plain": [
       "                   A         B\n",
       "2019-01-04 -0.777049  0.831077\n",
       "2019-01-05 -0.202193 -0.433344"
      ]
     },
     "execution_count": 103,
     "metadata": {},
     "output_type": "execute_result"
    }
   ],
   "source": [
    "# df[3:5, 0:2] # ERROR\n",
    "df.iloc[3:5, 0:2] # 행수 - 1, 열수 -1"
   ]
  },
  {
   "cell_type": "code",
   "execution_count": 104,
   "metadata": {},
   "outputs": [
    {
     "data": {
      "text/html": [
       "<div>\n",
       "<style scoped>\n",
       "    .dataframe tbody tr th:only-of-type {\n",
       "        vertical-align: middle;\n",
       "    }\n",
       "\n",
       "    .dataframe tbody tr th {\n",
       "        vertical-align: top;\n",
       "    }\n",
       "\n",
       "    .dataframe thead th {\n",
       "        text-align: right;\n",
       "    }\n",
       "</style>\n",
       "<table border=\"1\" class=\"dataframe\">\n",
       "  <thead>\n",
       "    <tr style=\"text-align: right;\">\n",
       "      <th></th>\n",
       "      <th>A</th>\n",
       "      <th>B</th>\n",
       "      <th>C</th>\n",
       "      <th>D</th>\n",
       "    </tr>\n",
       "  </thead>\n",
       "  <tbody>\n",
       "    <tr>\n",
       "      <th>2019-01-01</th>\n",
       "      <td>-1.428962</td>\n",
       "      <td>0.982618</td>\n",
       "      <td>-0.232847</td>\n",
       "      <td>1.652321</td>\n",
       "    </tr>\n",
       "    <tr>\n",
       "      <th>2019-01-02</th>\n",
       "      <td>-0.075616</td>\n",
       "      <td>0.711701</td>\n",
       "      <td>-0.681716</td>\n",
       "      <td>-0.233827</td>\n",
       "    </tr>\n",
       "    <tr>\n",
       "      <th>2019-01-03</th>\n",
       "      <td>-0.558351</td>\n",
       "      <td>-2.598092</td>\n",
       "      <td>-0.347532</td>\n",
       "      <td>-0.380162</td>\n",
       "    </tr>\n",
       "    <tr>\n",
       "      <th>2019-01-04</th>\n",
       "      <td>-0.777049</td>\n",
       "      <td>0.831077</td>\n",
       "      <td>-0.608606</td>\n",
       "      <td>-0.219480</td>\n",
       "    </tr>\n",
       "    <tr>\n",
       "      <th>2019-01-05</th>\n",
       "      <td>-0.202193</td>\n",
       "      <td>-0.433344</td>\n",
       "      <td>-0.516073</td>\n",
       "      <td>-0.625438</td>\n",
       "    </tr>\n",
       "    <tr>\n",
       "      <th>2019-01-06</th>\n",
       "      <td>0.284283</td>\n",
       "      <td>0.570724</td>\n",
       "      <td>1.070122</td>\n",
       "      <td>0.719933</td>\n",
       "    </tr>\n",
       "  </tbody>\n",
       "</table>\n",
       "</div>"
      ],
      "text/plain": [
       "                   A         B         C         D\n",
       "2019-01-01 -1.428962  0.982618 -0.232847  1.652321\n",
       "2019-01-02 -0.075616  0.711701 -0.681716 -0.233827\n",
       "2019-01-03 -0.558351 -2.598092 -0.347532 -0.380162\n",
       "2019-01-04 -0.777049  0.831077 -0.608606 -0.219480\n",
       "2019-01-05 -0.202193 -0.433344 -0.516073 -0.625438\n",
       "2019-01-06  0.284283  0.570724  1.070122  0.719933"
      ]
     },
     "execution_count": 104,
     "metadata": {},
     "output_type": "execute_result"
    }
   ],
   "source": [
    "df"
   ]
  },
  {
   "cell_type": "code",
   "execution_count": 107,
   "metadata": {},
   "outputs": [
    {
     "data": {
      "text/html": [
       "<div>\n",
       "<style scoped>\n",
       "    .dataframe tbody tr th:only-of-type {\n",
       "        vertical-align: middle;\n",
       "    }\n",
       "\n",
       "    .dataframe tbody tr th {\n",
       "        vertical-align: top;\n",
       "    }\n",
       "\n",
       "    .dataframe thead th {\n",
       "        text-align: right;\n",
       "    }\n",
       "</style>\n",
       "<table border=\"1\" class=\"dataframe\">\n",
       "  <thead>\n",
       "    <tr style=\"text-align: right;\">\n",
       "      <th></th>\n",
       "      <th>A</th>\n",
       "      <th>B</th>\n",
       "    </tr>\n",
       "  </thead>\n",
       "  <tbody>\n",
       "    <tr>\n",
       "      <th>2019-01-02</th>\n",
       "      <td>-0.075616</td>\n",
       "      <td>0.711701</td>\n",
       "    </tr>\n",
       "    <tr>\n",
       "      <th>2019-01-03</th>\n",
       "      <td>-0.558351</td>\n",
       "      <td>-2.598092</td>\n",
       "    </tr>\n",
       "    <tr>\n",
       "      <th>2019-01-04</th>\n",
       "      <td>-0.777049</td>\n",
       "      <td>0.831077</td>\n",
       "    </tr>\n",
       "  </tbody>\n",
       "</table>\n",
       "</div>"
      ],
      "text/plain": [
       "                   A         B\n",
       "2019-01-02 -0.075616  0.711701\n",
       "2019-01-03 -0.558351 -2.598092\n",
       "2019-01-04 -0.777049  0.831077"
      ]
     },
     "execution_count": 107,
     "metadata": {},
     "output_type": "execute_result"
    }
   ],
   "source": [
    "df.iloc[[1, 2, 3], [0, 1]] # index 1, 2, 3, 열은 0, 1, 선언된 index 그대로 쓰임"
   ]
  },
  {
   "cell_type": "code",
   "execution_count": 109,
   "metadata": {},
   "outputs": [
    {
     "data": {
      "text/html": [
       "<div>\n",
       "<style scoped>\n",
       "    .dataframe tbody tr th:only-of-type {\n",
       "        vertical-align: middle;\n",
       "    }\n",
       "\n",
       "    .dataframe tbody tr th {\n",
       "        vertical-align: top;\n",
       "    }\n",
       "\n",
       "    .dataframe thead th {\n",
       "        text-align: right;\n",
       "    }\n",
       "</style>\n",
       "<table border=\"1\" class=\"dataframe\">\n",
       "  <thead>\n",
       "    <tr style=\"text-align: right;\">\n",
       "      <th></th>\n",
       "      <th>A</th>\n",
       "      <th>B</th>\n",
       "      <th>C</th>\n",
       "      <th>D</th>\n",
       "    </tr>\n",
       "  </thead>\n",
       "  <tbody>\n",
       "    <tr>\n",
       "      <th>2019-01-02</th>\n",
       "      <td>-0.075616</td>\n",
       "      <td>0.711701</td>\n",
       "      <td>-0.681716</td>\n",
       "      <td>-0.233827</td>\n",
       "    </tr>\n",
       "    <tr>\n",
       "      <th>2019-01-03</th>\n",
       "      <td>-0.558351</td>\n",
       "      <td>-2.598092</td>\n",
       "      <td>-0.347532</td>\n",
       "      <td>-0.380162</td>\n",
       "    </tr>\n",
       "  </tbody>\n",
       "</table>\n",
       "</div>"
      ],
      "text/plain": [
       "                   A         B         C         D\n",
       "2019-01-02 -0.075616  0.711701 -0.681716 -0.233827\n",
       "2019-01-03 -0.558351 -2.598092 -0.347532 -0.380162"
      ]
     },
     "execution_count": 109,
     "metadata": {},
     "output_type": "execute_result"
    }
   ],
   "source": [
    "df.iloc[1:3, :] # index: 1 ~ 2, 모든 열"
   ]
  },
  {
   "cell_type": "code",
   "execution_count": 111,
   "metadata": {},
   "outputs": [
    {
     "data": {
      "text/html": [
       "<div>\n",
       "<style scoped>\n",
       "    .dataframe tbody tr th:only-of-type {\n",
       "        vertical-align: middle;\n",
       "    }\n",
       "\n",
       "    .dataframe tbody tr th {\n",
       "        vertical-align: top;\n",
       "    }\n",
       "\n",
       "    .dataframe thead th {\n",
       "        text-align: right;\n",
       "    }\n",
       "</style>\n",
       "<table border=\"1\" class=\"dataframe\">\n",
       "  <thead>\n",
       "    <tr style=\"text-align: right;\">\n",
       "      <th></th>\n",
       "      <th>B</th>\n",
       "      <th>C</th>\n",
       "    </tr>\n",
       "  </thead>\n",
       "  <tbody>\n",
       "    <tr>\n",
       "      <th>2019-01-01</th>\n",
       "      <td>0.982618</td>\n",
       "      <td>-0.232847</td>\n",
       "    </tr>\n",
       "    <tr>\n",
       "      <th>2019-01-02</th>\n",
       "      <td>0.711701</td>\n",
       "      <td>-0.681716</td>\n",
       "    </tr>\n",
       "    <tr>\n",
       "      <th>2019-01-03</th>\n",
       "      <td>-2.598092</td>\n",
       "      <td>-0.347532</td>\n",
       "    </tr>\n",
       "    <tr>\n",
       "      <th>2019-01-04</th>\n",
       "      <td>0.831077</td>\n",
       "      <td>-0.608606</td>\n",
       "    </tr>\n",
       "    <tr>\n",
       "      <th>2019-01-05</th>\n",
       "      <td>-0.433344</td>\n",
       "      <td>-0.516073</td>\n",
       "    </tr>\n",
       "    <tr>\n",
       "      <th>2019-01-06</th>\n",
       "      <td>0.570724</td>\n",
       "      <td>1.070122</td>\n",
       "    </tr>\n",
       "  </tbody>\n",
       "</table>\n",
       "</div>"
      ],
      "text/plain": [
       "                   B         C\n",
       "2019-01-01  0.982618 -0.232847\n",
       "2019-01-02  0.711701 -0.681716\n",
       "2019-01-03 -2.598092 -0.347532\n",
       "2019-01-04  0.831077 -0.608606\n",
       "2019-01-05 -0.433344 -0.516073\n",
       "2019-01-06  0.570724  1.070122"
      ]
     },
     "execution_count": 111,
     "metadata": {},
     "output_type": "execute_result"
    }
   ],
   "source": [
    "df.iloc[:, 1:3] # 모든 index, 1 ~ 2 열"
   ]
  },
  {
   "cell_type": "code",
   "execution_count": 113,
   "metadata": {},
   "outputs": [
    {
     "data": {
      "text/html": [
       "<div>\n",
       "<style scoped>\n",
       "    .dataframe tbody tr th:only-of-type {\n",
       "        vertical-align: middle;\n",
       "    }\n",
       "\n",
       "    .dataframe tbody tr th {\n",
       "        vertical-align: top;\n",
       "    }\n",
       "\n",
       "    .dataframe thead th {\n",
       "        text-align: right;\n",
       "    }\n",
       "</style>\n",
       "<table border=\"1\" class=\"dataframe\">\n",
       "  <thead>\n",
       "    <tr style=\"text-align: right;\">\n",
       "      <th></th>\n",
       "      <th>A</th>\n",
       "      <th>B</th>\n",
       "      <th>C</th>\n",
       "      <th>D</th>\n",
       "    </tr>\n",
       "  </thead>\n",
       "  <tbody>\n",
       "    <tr>\n",
       "      <th>2019-01-01</th>\n",
       "      <td>-1.428962</td>\n",
       "      <td>0.982618</td>\n",
       "      <td>-0.232847</td>\n",
       "      <td>1.652321</td>\n",
       "    </tr>\n",
       "    <tr>\n",
       "      <th>2019-01-02</th>\n",
       "      <td>-0.075616</td>\n",
       "      <td>0.711701</td>\n",
       "      <td>-0.681716</td>\n",
       "      <td>-0.233827</td>\n",
       "    </tr>\n",
       "    <tr>\n",
       "      <th>2019-01-03</th>\n",
       "      <td>-0.558351</td>\n",
       "      <td>-2.598092</td>\n",
       "      <td>-0.347532</td>\n",
       "      <td>-0.380162</td>\n",
       "    </tr>\n",
       "    <tr>\n",
       "      <th>2019-01-04</th>\n",
       "      <td>-0.777049</td>\n",
       "      <td>0.831077</td>\n",
       "      <td>-0.608606</td>\n",
       "      <td>-0.219480</td>\n",
       "    </tr>\n",
       "    <tr>\n",
       "      <th>2019-01-05</th>\n",
       "      <td>-0.202193</td>\n",
       "      <td>-0.433344</td>\n",
       "      <td>-0.516073</td>\n",
       "      <td>-0.625438</td>\n",
       "    </tr>\n",
       "    <tr>\n",
       "      <th>2019-01-06</th>\n",
       "      <td>0.284283</td>\n",
       "      <td>0.570724</td>\n",
       "      <td>1.070122</td>\n",
       "      <td>0.719933</td>\n",
       "    </tr>\n",
       "  </tbody>\n",
       "</table>\n",
       "</div>"
      ],
      "text/plain": [
       "                   A         B         C         D\n",
       "2019-01-01 -1.428962  0.982618 -0.232847  1.652321\n",
       "2019-01-02 -0.075616  0.711701 -0.681716 -0.233827\n",
       "2019-01-03 -0.558351 -2.598092 -0.347532 -0.380162\n",
       "2019-01-04 -0.777049  0.831077 -0.608606 -0.219480\n",
       "2019-01-05 -0.202193 -0.433344 -0.516073 -0.625438\n",
       "2019-01-06  0.284283  0.570724  1.070122  0.719933"
      ]
     },
     "execution_count": 113,
     "metadata": {},
     "output_type": "execute_result"
    }
   ],
   "source": [
    "df"
   ]
  },
  {
   "cell_type": "code",
   "execution_count": 114,
   "metadata": {},
   "outputs": [
    {
     "data": {
      "text/html": [
       "<div>\n",
       "<style scoped>\n",
       "    .dataframe tbody tr th:only-of-type {\n",
       "        vertical-align: middle;\n",
       "    }\n",
       "\n",
       "    .dataframe tbody tr th {\n",
       "        vertical-align: top;\n",
       "    }\n",
       "\n",
       "    .dataframe thead th {\n",
       "        text-align: right;\n",
       "    }\n",
       "</style>\n",
       "<table border=\"1\" class=\"dataframe\">\n",
       "  <thead>\n",
       "    <tr style=\"text-align: right;\">\n",
       "      <th></th>\n",
       "      <th>A</th>\n",
       "      <th>B</th>\n",
       "      <th>C</th>\n",
       "      <th>D</th>\n",
       "    </tr>\n",
       "  </thead>\n",
       "  <tbody>\n",
       "    <tr>\n",
       "      <th>2019-01-06</th>\n",
       "      <td>0.284283</td>\n",
       "      <td>0.570724</td>\n",
       "      <td>1.070122</td>\n",
       "      <td>0.719933</td>\n",
       "    </tr>\n",
       "  </tbody>\n",
       "</table>\n",
       "</div>"
      ],
      "text/plain": [
       "                   A         B         C         D\n",
       "2019-01-06  0.284283  0.570724  1.070122  0.719933"
      ]
     },
     "execution_count": 114,
     "metadata": {},
     "output_type": "execute_result"
    }
   ],
   "source": [
    "df[df.A > 0] # 모든 행중에 A열의 값이 0보다 큰 관측치 출력"
   ]
  },
  {
   "cell_type": "code",
   "execution_count": 116,
   "metadata": {},
   "outputs": [
    {
     "data": {
      "text/html": [
       "<div>\n",
       "<style scoped>\n",
       "    .dataframe tbody tr th:only-of-type {\n",
       "        vertical-align: middle;\n",
       "    }\n",
       "\n",
       "    .dataframe tbody tr th {\n",
       "        vertical-align: top;\n",
       "    }\n",
       "\n",
       "    .dataframe thead th {\n",
       "        text-align: right;\n",
       "    }\n",
       "</style>\n",
       "<table border=\"1\" class=\"dataframe\">\n",
       "  <thead>\n",
       "    <tr style=\"text-align: right;\">\n",
       "      <th></th>\n",
       "      <th>A</th>\n",
       "      <th>B</th>\n",
       "      <th>C</th>\n",
       "      <th>D</th>\n",
       "    </tr>\n",
       "  </thead>\n",
       "  <tbody>\n",
       "    <tr>\n",
       "      <th>2019-01-01</th>\n",
       "      <td>NaN</td>\n",
       "      <td>0.982618</td>\n",
       "      <td>NaN</td>\n",
       "      <td>1.652321</td>\n",
       "    </tr>\n",
       "    <tr>\n",
       "      <th>2019-01-02</th>\n",
       "      <td>NaN</td>\n",
       "      <td>0.711701</td>\n",
       "      <td>NaN</td>\n",
       "      <td>NaN</td>\n",
       "    </tr>\n",
       "    <tr>\n",
       "      <th>2019-01-03</th>\n",
       "      <td>NaN</td>\n",
       "      <td>NaN</td>\n",
       "      <td>NaN</td>\n",
       "      <td>NaN</td>\n",
       "    </tr>\n",
       "    <tr>\n",
       "      <th>2019-01-04</th>\n",
       "      <td>NaN</td>\n",
       "      <td>0.831077</td>\n",
       "      <td>NaN</td>\n",
       "      <td>NaN</td>\n",
       "    </tr>\n",
       "    <tr>\n",
       "      <th>2019-01-05</th>\n",
       "      <td>NaN</td>\n",
       "      <td>NaN</td>\n",
       "      <td>NaN</td>\n",
       "      <td>NaN</td>\n",
       "    </tr>\n",
       "    <tr>\n",
       "      <th>2019-01-06</th>\n",
       "      <td>0.284283</td>\n",
       "      <td>0.570724</td>\n",
       "      <td>1.070122</td>\n",
       "      <td>0.719933</td>\n",
       "    </tr>\n",
       "  </tbody>\n",
       "</table>\n",
       "</div>"
      ],
      "text/plain": [
       "                   A         B         C         D\n",
       "2019-01-01       NaN  0.982618       NaN  1.652321\n",
       "2019-01-02       NaN  0.711701       NaN       NaN\n",
       "2019-01-03       NaN       NaN       NaN       NaN\n",
       "2019-01-04       NaN  0.831077       NaN       NaN\n",
       "2019-01-05       NaN       NaN       NaN       NaN\n",
       "2019-01-06  0.284283  0.570724  1.070122  0.719933"
      ]
     },
     "execution_count": 116,
     "metadata": {},
     "output_type": "execute_result"
    }
   ],
   "source": [
    "df[df > 0]  # 모든 데이터 대상"
   ]
  },
  {
   "cell_type": "code",
   "execution_count": 130,
   "metadata": {},
   "outputs": [
    {
     "data": {
      "text/html": [
       "<div>\n",
       "<style scoped>\n",
       "    .dataframe tbody tr th:only-of-type {\n",
       "        vertical-align: middle;\n",
       "    }\n",
       "\n",
       "    .dataframe tbody tr th {\n",
       "        vertical-align: top;\n",
       "    }\n",
       "\n",
       "    .dataframe thead th {\n",
       "        text-align: right;\n",
       "    }\n",
       "</style>\n",
       "<table border=\"1\" class=\"dataframe\">\n",
       "  <thead>\n",
       "    <tr style=\"text-align: right;\">\n",
       "      <th></th>\n",
       "      <th>A</th>\n",
       "      <th>B</th>\n",
       "      <th>C</th>\n",
       "      <th>D</th>\n",
       "      <th>E</th>\n",
       "    </tr>\n",
       "  </thead>\n",
       "  <tbody>\n",
       "    <tr>\n",
       "      <th>2019-01-01</th>\n",
       "      <td>0.559039</td>\n",
       "      <td>1.082269</td>\n",
       "      <td>-0.698327</td>\n",
       "      <td>0.136219</td>\n",
       "      <td>one</td>\n",
       "    </tr>\n",
       "    <tr>\n",
       "      <th>2019-01-02</th>\n",
       "      <td>0.196337</td>\n",
       "      <td>0.062266</td>\n",
       "      <td>0.115113</td>\n",
       "      <td>0.402560</td>\n",
       "      <td>one</td>\n",
       "    </tr>\n",
       "    <tr>\n",
       "      <th>2019-01-03</th>\n",
       "      <td>0.120106</td>\n",
       "      <td>-2.149956</td>\n",
       "      <td>1.794591</td>\n",
       "      <td>0.404337</td>\n",
       "      <td>two</td>\n",
       "    </tr>\n",
       "    <tr>\n",
       "      <th>2019-01-04</th>\n",
       "      <td>-0.923719</td>\n",
       "      <td>-0.203031</td>\n",
       "      <td>-0.242551</td>\n",
       "      <td>-0.508793</td>\n",
       "      <td>three</td>\n",
       "    </tr>\n",
       "    <tr>\n",
       "      <th>2019-01-05</th>\n",
       "      <td>1.381434</td>\n",
       "      <td>-0.068938</td>\n",
       "      <td>0.574161</td>\n",
       "      <td>1.044594</td>\n",
       "      <td>four</td>\n",
       "    </tr>\n",
       "    <tr>\n",
       "      <th>2019-01-06</th>\n",
       "      <td>-0.155838</td>\n",
       "      <td>-0.952899</td>\n",
       "      <td>-1.040878</td>\n",
       "      <td>0.874383</td>\n",
       "      <td>three</td>\n",
       "    </tr>\n",
       "  </tbody>\n",
       "</table>\n",
       "</div>"
      ],
      "text/plain": [
       "                   A         B         C         D      E\n",
       "2019-01-01  0.559039  1.082269 -0.698327  0.136219    one\n",
       "2019-01-02  0.196337  0.062266  0.115113  0.402560    one\n",
       "2019-01-03  0.120106 -2.149956  1.794591  0.404337    two\n",
       "2019-01-04 -0.923719 -0.203031 -0.242551 -0.508793  three\n",
       "2019-01-05  1.381434 -0.068938  0.574161  1.044594   four\n",
       "2019-01-06 -0.155838 -0.952899 -1.040878  0.874383  three"
      ]
     },
     "execution_count": 130,
     "metadata": {},
     "output_type": "execute_result"
    }
   ],
   "source": [
    "df2 = df.copy()\n",
    "df2['E'] = ['one', 'one','two','three','four','three'] # 새로운 컬럼의 추가 \n",
    "df2"
   ]
  },
  {
   "cell_type": "code",
   "execution_count": 131,
   "metadata": {},
   "outputs": [
    {
     "data": {
      "text/plain": [
       "2019-01-01    False\n",
       "2019-01-02    False\n",
       "2019-01-03     True\n",
       "2019-01-04    False\n",
       "2019-01-05     True\n",
       "2019-01-06    False\n",
       "Freq: D, Name: E, dtype: bool"
      ]
     },
     "execution_count": 131,
     "metadata": {},
     "output_type": "execute_result"
    }
   ],
   "source": [
    "df2['E'].isin(['two','four']) # E 변수에서 two, four 값을 찾아 True를 출력  "
   ]
  },
  {
   "cell_type": "code",
   "execution_count": 132,
   "metadata": {},
   "outputs": [
    {
     "data": {
      "text/html": [
       "<div>\n",
       "<style scoped>\n",
       "    .dataframe tbody tr th:only-of-type {\n",
       "        vertical-align: middle;\n",
       "    }\n",
       "\n",
       "    .dataframe tbody tr th {\n",
       "        vertical-align: top;\n",
       "    }\n",
       "\n",
       "    .dataframe thead th {\n",
       "        text-align: right;\n",
       "    }\n",
       "</style>\n",
       "<table border=\"1\" class=\"dataframe\">\n",
       "  <thead>\n",
       "    <tr style=\"text-align: right;\">\n",
       "      <th></th>\n",
       "      <th>A</th>\n",
       "      <th>B</th>\n",
       "      <th>C</th>\n",
       "      <th>D</th>\n",
       "      <th>E</th>\n",
       "    </tr>\n",
       "  </thead>\n",
       "  <tbody>\n",
       "    <tr>\n",
       "      <th>2019-01-03</th>\n",
       "      <td>0.120106</td>\n",
       "      <td>-2.149956</td>\n",
       "      <td>1.794591</td>\n",
       "      <td>0.404337</td>\n",
       "      <td>two</td>\n",
       "    </tr>\n",
       "    <tr>\n",
       "      <th>2019-01-05</th>\n",
       "      <td>1.381434</td>\n",
       "      <td>-0.068938</td>\n",
       "      <td>0.574161</td>\n",
       "      <td>1.044594</td>\n",
       "      <td>four</td>\n",
       "    </tr>\n",
       "  </tbody>\n",
       "</table>\n",
       "</div>"
      ],
      "text/plain": [
       "                   A         B         C         D     E\n",
       "2019-01-03  0.120106 -2.149956  1.794591  0.404337   two\n",
       "2019-01-05  1.381434 -0.068938  0.574161  1.044594  four"
      ]
     },
     "execution_count": 132,
     "metadata": {},
     "output_type": "execute_result"
    }
   ],
   "source": [
    "df2[df2['E'].isin(['two','four'])] # true인 행 출력 "
   ]
  },
  {
   "cell_type": "code",
   "execution_count": 134,
   "metadata": {},
   "outputs": [
    {
     "data": {
      "text/html": [
       "<div>\n",
       "<style scoped>\n",
       "    .dataframe tbody tr th:only-of-type {\n",
       "        vertical-align: middle;\n",
       "    }\n",
       "\n",
       "    .dataframe tbody tr th {\n",
       "        vertical-align: top;\n",
       "    }\n",
       "\n",
       "    .dataframe thead th {\n",
       "        text-align: right;\n",
       "    }\n",
       "</style>\n",
       "<table border=\"1\" class=\"dataframe\">\n",
       "  <thead>\n",
       "    <tr style=\"text-align: right;\">\n",
       "      <th></th>\n",
       "      <th>A</th>\n",
       "      <th>B</th>\n",
       "      <th>C</th>\n",
       "      <th>D</th>\n",
       "    </tr>\n",
       "  </thead>\n",
       "  <tbody>\n",
       "    <tr>\n",
       "      <th>2019-01-01</th>\n",
       "      <td>0.559039</td>\n",
       "      <td>1.082269</td>\n",
       "      <td>-0.698327</td>\n",
       "      <td>0.136219</td>\n",
       "    </tr>\n",
       "    <tr>\n",
       "      <th>2019-01-02</th>\n",
       "      <td>0.755376</td>\n",
       "      <td>1.144535</td>\n",
       "      <td>-0.583214</td>\n",
       "      <td>0.538779</td>\n",
       "    </tr>\n",
       "    <tr>\n",
       "      <th>2019-01-03</th>\n",
       "      <td>0.875483</td>\n",
       "      <td>-1.005421</td>\n",
       "      <td>1.211378</td>\n",
       "      <td>0.943115</td>\n",
       "    </tr>\n",
       "    <tr>\n",
       "      <th>2019-01-04</th>\n",
       "      <td>-0.048236</td>\n",
       "      <td>-1.208452</td>\n",
       "      <td>0.968826</td>\n",
       "      <td>0.434322</td>\n",
       "    </tr>\n",
       "    <tr>\n",
       "      <th>2019-01-05</th>\n",
       "      <td>1.333198</td>\n",
       "      <td>-1.277390</td>\n",
       "      <td>1.542988</td>\n",
       "      <td>1.478916</td>\n",
       "    </tr>\n",
       "    <tr>\n",
       "      <th>2019-01-06</th>\n",
       "      <td>1.177360</td>\n",
       "      <td>-2.230290</td>\n",
       "      <td>0.502110</td>\n",
       "      <td>2.353299</td>\n",
       "    </tr>\n",
       "  </tbody>\n",
       "</table>\n",
       "</div>"
      ],
      "text/plain": [
       "                   A         B         C         D\n",
       "2019-01-01  0.559039  1.082269 -0.698327  0.136219\n",
       "2019-01-02  0.755376  1.144535 -0.583214  0.538779\n",
       "2019-01-03  0.875483 -1.005421  1.211378  0.943115\n",
       "2019-01-04 -0.048236 -1.208452  0.968826  0.434322\n",
       "2019-01-05  1.333198 -1.277390  1.542988  1.478916\n",
       "2019-01-06  1.177360 -2.230290  0.502110  2.353299"
      ]
     },
     "execution_count": 134,
     "metadata": {},
     "output_type": "execute_result"
    }
   ],
   "source": [
    "df.apply(np.cumsum) # 누적합, 2행 = 1행 + 2행, 3행 = 2행 + 3행"
   ]
  },
  {
   "cell_type": "code",
   "execution_count": null,
   "metadata": {},
   "outputs": [],
   "source": []
  },
  {
   "cell_type": "code",
   "execution_count": null,
   "metadata": {},
   "outputs": [],
   "source": []
  },
  {
   "cell_type": "code",
   "execution_count": null,
   "metadata": {},
   "outputs": [],
   "source": []
  },
  {
   "cell_type": "code",
   "execution_count": null,
   "metadata": {},
   "outputs": [],
   "source": []
  },
  {
   "cell_type": "code",
   "execution_count": null,
   "metadata": {},
   "outputs": [],
   "source": []
  }
 ],
 "metadata": {
  "kernelspec": {
   "display_name": "machine",
   "language": "python",
   "name": "machine"
  },
  "language_info": {
   "codemirror_mode": {
    "name": "ipython",
    "version": 3
   },
   "file_extension": ".py",
   "mimetype": "text/x-python",
   "name": "python",
   "nbconvert_exporter": "python",
   "pygments_lexer": "ipython3",
   "version": "3.6.9"
  }
 },
 "nbformat": 4,
 "nbformat_minor": 2
}
