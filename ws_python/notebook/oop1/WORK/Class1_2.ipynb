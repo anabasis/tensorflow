{
 "cells": [
  {
   "cell_type": "code",
   "execution_count": 1,
   "metadata": {},
   "outputs": [],
   "source": [
    "class Class1:\n",
    "    year = 0\n",
    "    product = ''\n",
    "    price = 0\n",
    "    dc = 0;\n",
    "    service = False"
   ]
  },
  {
   "cell_type": "code",
   "execution_count": 3,
   "metadata": {},
   "outputs": [
    {
     "name": "stdout",
     "output_type": "stream",
     "text": [
      "2017\n",
      "SSD512\n",
      "200000\n",
      "3.5\n",
      "False\n"
     ]
    }
   ],
   "source": [
    "if __name__ == '__main__':    \n",
    "    Class1.year = 2017  # static 적인 방법, 클래스명으로 접근\n",
    "    Class1.product = 'SSD512'\n",
    "    Class1.price = 200000\n",
    "    Class1.dc = 3.5\n",
    "    Class1.service = False\n",
    " \n",
    "    print(Class1.year)\n",
    "    print(Class1.product)\n",
    "    print(Class1.price)\n",
    "    print(Class1.dc)\n",
    "    print(Class1.service)  \n"
   ]
  },
  {
   "cell_type": "code",
   "execution_count": 4,
   "metadata": {},
   "outputs": [
    {
     "name": "stdout",
     "output_type": "stream",
     "text": [
      "2017\n",
      "2017\n"
     ]
    }
   ],
   "source": [
    "    product1 = Class1() # 객체 생성, 새로운 메모리 할당, new 없음\n",
    "    print(product1.year) # year 변수 공유\n",
    "    \n",
    "    product2 = Class1()\n",
    "    print(product2.year) # year 변수 공유"
   ]
  },
  {
   "cell_type": "code",
   "execution_count": 15,
   "metadata": {},
   "outputs": [],
   "source": [
    "class Product:\n",
    "    def setData(self):    # self: 함수와 객체 연결, self == this, self 생략시 에러\n",
    "        print(type(self))\n",
    " \n",
    "    def setData2(self, year, product):\n",
    "        self.year = year  # instance 변수, field, property, attribute, 멤버 변수, 속성...\n",
    "        self.product = product\n",
    "        self.price = 0\n",
    "        self.dc = 0\n",
    "    def printData(self):\n",
    "        print('----------------------')\n",
    "        print(\"생산 년도:\", self.year)\n",
    "        print(\"제품명:\", self.product)\n",
    "        print(\"가격:\", self.price)\n",
    "        print(\"할인 가격:\", self.dc)"
   ]
  },
  {
   "cell_type": "code",
   "execution_count": 16,
   "metadata": {},
   "outputs": [
    {
     "name": "stdout",
     "output_type": "stream",
     "text": [
      "<class '__main__.Product'>\n"
     ]
    }
   ],
   "source": [
    "product1 = Product()  # 객체명 = 클래스명\n",
    "product2 = Product()  # 객체명 = 클래스명\n",
    "    \n",
    "product1.setData()      #<class '__main__.Product'>  \n"
   ]
  },
  {
   "cell_type": "code",
   "execution_count": 18,
   "metadata": {},
   "outputs": [
    {
     "name": "stdout",
     "output_type": "stream",
     "text": [
      "2019 GTX 1060\n",
      "2020 RTX 2080\n",
      "----------------------\n",
      "생산 년도: 2019\n",
      "제품명: GTX 1060\n",
      "가격: 0\n",
      "할인 가격: 0\n",
      "----------------------\n",
      "생산 년도: 2020\n",
      "제품명: RTX 2080\n",
      "가격: 0\n",
      "할인 가격: 0\n"
     ]
    }
   ],
   "source": [
    "    product1.setData2(2019, 'GTX 1060')\n",
    "    product2.setData2(2020, 'RTX 2080')\n",
    "    \n",
    "    print(product1.year, product1.product)\n",
    "    print(product2.year, product2.product)\n",
    "\n",
    "    product1.printData() # self: product1 \n",
    "    product2.printData() # self: product2 "
   ]
  },
  {
   "cell_type": "code",
   "execution_count": 19,
   "metadata": {},
   "outputs": [],
   "source": [
    "class GDP:\n",
    "    def getNation(self, code):\n",
    "        str1 = \"미결정\"  # self가 선언되지 않았음으로 지역 변수, 함수안에서만 사용 가능한 변수\n",
    "        if code == \"KOR\":\n",
    "            str1 = \"한국\"\n",
    "        elif code == \"JAP\":\n",
    "            str1 = \"일본\"\n",
    "        elif code == \"CHA\":\n",
    "            str1 = \"중국\"\n",
    "\n",
    "        return str1\n",
    "\n",
    "    def getGDP(self, code):\n",
    "        gdp = 1000  # self가 선언되지 않았음으로 지역 변수\n",
    "        if code == \"KOR\":\n",
    "            gdp = 28738\n",
    "        elif code == \"JAP\":\n",
    "            gdp = 37539\n",
    "        elif code == \"CHA\":\n",
    "            gdp = 6747\n",
    "\n",
    "        return gdp"
   ]
  },
  {
   "cell_type": "code",
   "execution_count": 20,
   "metadata": {},
   "outputs": [
    {
     "name": "stdout",
     "output_type": "stream",
     "text": [
      "한국\n",
      "28738\n"
     ]
    }
   ],
   "source": [
    "# 한국\n",
    "# 28738\n",
    "gdp = GDP()  # gdp 객체 생성\n",
    "print(gdp.getNation(\"KOR\"))\n",
    "print(gdp.getGDP(\"KOR\"))"
   ]
  },
  {
   "cell_type": "code",
   "execution_count": 21,
   "metadata": {},
   "outputs": [
    {
     "name": "stdout",
     "output_type": "stream",
     "text": [
      "러시아 월드컵\n",
      "모스크바\n"
     ]
    }
   ],
   "source": [
    "gdp.wc = '러시아 월드컵' # 객체 생성후 field 추가 가능\n",
    "gdp.city='모스크바'\n",
    "print(gdp.wc)\n",
    "print(gdp.city)"
   ]
  },
  {
   "cell_type": "code",
   "execution_count": 22,
   "metadata": {},
   "outputs": [],
   "source": [
    "class Nation:\n",
    "    def __init__(self, code='KOR'):  # 생성자\n",
    "        self.count = 0\n",
    "        self.code = code\n",
    "        print('객체가 메모리에 생성되었습니다.')\n",
    "\n",
    "    def __del__(self):  # 소멸자\n",
    "        print('객체가 메모리에서 소멸되었습니다.')\n",
    "\n",
    "    def getNation(self, code):\n",
    "        self.count = self.count + 1\n",
    "        str1 = \"\"  # 지역 변수\n",
    "        if code == \"KOR\":\n",
    "            str1 = \"한국\"\n",
    "        elif code == \"JAP\":\n",
    "            str1 = \"일본\"\n",
    "        elif code == \"CHA\":\n",
    "            str1 = \"중국\"\n",
    "\n",
    "        return str1\n"
   ]
  },
  {
   "cell_type": "code",
   "execution_count": 23,
   "metadata": {},
   "outputs": [
    {
     "name": "stdout",
     "output_type": "stream",
     "text": [
      "객체가 메모리에 생성되었습니다.\n",
      "count: 0\n",
      "code: KOR\n",
      "nation: 한국\n",
      "객체가 메모리에서 소멸되었습니다.\n"
     ]
    }
   ],
   "source": [
    "nation = Nation()\n",
    "print('count:', nation.count)\n",
    "print('code:', nation.code)\n",
    "print('nation:', nation.getNation('KOR'))\n",
    "del nation # 변수 메모리 해제"
   ]
  },
  {
   "cell_type": "code",
   "execution_count": null,
   "metadata": {},
   "outputs": [],
   "source": []
  },
  {
   "cell_type": "code",
   "execution_count": null,
   "metadata": {},
   "outputs": [],
   "source": []
  },
  {
   "cell_type": "code",
   "execution_count": null,
   "metadata": {},
   "outputs": [],
   "source": []
  },
  {
   "cell_type": "code",
   "execution_count": null,
   "metadata": {},
   "outputs": [],
   "source": []
  }
 ],
 "metadata": {
  "kernelspec": {
   "display_name": "ai",
   "language": "python",
   "name": "ai"
  },
  "language_info": {
   "codemirror_mode": {
    "name": "ipython",
    "version": 3
   },
   "file_extension": ".py",
   "mimetype": "text/x-python",
   "name": "python",
   "nbconvert_exporter": "python",
   "pygments_lexer": "ipython3",
   "version": "3.6.8"
  }
 },
 "nbformat": 4,
 "nbformat_minor": 2
}
